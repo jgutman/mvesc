{
 "cells": [
  {
   "cell_type": "code",
   "execution_count": 1,
   "metadata": {
    "collapsed": true
   },
   "outputs": [],
   "source": [
    "import os, sys\n",
    "pathname = os.path.dirname(\"/home/jgutman/mvesc/Models_Results/\")\n",
    "full_pathname = os.path.abspath(pathname)\n",
    "split_pathname = full_pathname.split(sep=\"mvesc\")\n",
    "base_pathname = os.path.join(split_pathname[0], \"mvesc\")\n",
    "parentdir = os.path.join(base_pathname, \"ETL\")\n",
    "sys.path.insert(0,parentdir)"
   ]
  },
  {
   "cell_type": "code",
   "execution_count": 2,
   "metadata": {
    "collapsed": false
   },
   "outputs": [],
   "source": [
    "from mvesc_utility_functions import *"
   ]
  },
  {
   "cell_type": "code",
   "execution_count": 3,
   "metadata": {
    "collapsed": true
   },
   "outputs": [],
   "source": [
    "query = \"\"\"select * from model.outcome\"\"\""
   ]
  },
  {
   "cell_type": "code",
   "execution_count": 79,
   "metadata": {
    "collapsed": false
   },
   "outputs": [
    {
     "name": "stdout",
     "output_type": "stream",
     "text": [
      "11777\n"
     ]
    }
   ],
   "source": [
    "with postgres_pgconnection_generator() as connection:\n",
    "        with connection.cursor() as cursor:\n",
    "            cursor.execute(query)\n",
    "            results = cursor.fetchall()\n",
    "            print(len(results))\n",
    "        connection.commit()"
   ]
  },
  {
   "cell_type": "code",
   "execution_count": 80,
   "metadata": {
    "collapsed": false
   },
   "outputs": [],
   "source": [
    "modelOptions = {'modelClassSelected' : 'logit',\n",
    "    'model_performance_estimate_scheme' : 'temporal_cohort',\n",
    "    'parameter_cross_validation_scheme' : 'leave_cohort_out',\n",
    "    'n_folds' : 10,\n",
    "    'file_save_name' : 'gender_ethnicity_logit.pkl',\n",
    "    'randomSeed' : 2187,\n",
    "    'user_description' : \"\"\"initial skeleton pipeline test\"\"\",\n",
    "    'cohort_grade_level_begin' : 'cohort_9th',\n",
    "    'cohorts_held_out' : [2012],\n",
    "    # features_included is a dictionary where key is table name and\n",
    "    # value is a list of column names from that table\n",
    "    'features_included' : {'demographics': ['ethnicity', 'gender']},\n",
    "    'outcome_name' : 'not_on_time' #'is_dropout'\n",
    "    }"
   ]
  },
  {
   "cell_type": "code",
   "execution_count": 6,
   "metadata": {
    "collapsed": true
   },
   "outputs": [],
   "source": [
    "import numpy as np\n",
    "np.random.seed(modelOptions['randomSeed'])"
   ]
  },
  {
   "cell_type": "code",
   "execution_count": 91,
   "metadata": {
    "collapsed": false
   },
   "outputs": [],
   "source": [
    "with postgres_pgconnection_generator() as connection:\n",
    "    outcomes_with_student_lookup = read_table_to_df(connection, table_name = 'outcome',\n",
    "        schema = 'model', nrows = -1, columns = ['student_lookup',\n",
    "        modelOptions['outcome_name'], modelOptions['cohort_grade_level_begin']])\n",
    "    # drop students without student_lookup, outcome, or cohort identifier\n",
    "    # can use subset = [colnames] to drop based on NAs in certain columns only\n",
    "    outcomes_with_student_lookup.dropna(inplace=True)\n",
    "    joint_label_features = outcomes_with_student_lookup.copy()\n",
    "    \n",
    "    for table, column_names in modelOptions['features_included'].items():\n",
    "        features = read_table_to_df(connection, table_name = table,\n",
    "            schema = 'model', nrows = -1, columns=(['student_lookup'] + column_names))\n",
    "        \n",
    "        # join to only keep features that have labeled outcomes\n",
    "        joint_label_features = pd.merge(joint_label_features, features,\n",
    "            how = 'left', on = 'student_lookup')\n",
    "\n",
    "joint_label_features.set_index('student_lookup', inplace=True)\n",
    "joint_label_features = df2num(joint_label_features)"
   ]
  },
  {
   "cell_type": "code",
   "execution_count": 94,
   "metadata": {
    "collapsed": false
   },
   "outputs": [
    {
     "data": {
      "text/plain": [
       "student_lookup\n",
       "57296.0     2006\n",
       "58652.0     2006\n",
       "57294.0     2006\n",
       "69065.0     2006\n",
       "63909.0     2006\n",
       "57292.0     2006\n",
       "57290.0     2006\n",
       "57288.0     2006\n",
       "57285.0     2006\n",
       "57284.0     2006\n",
       "57282.0     2006\n",
       "41726.0     2006\n",
       "57279.0     2006\n",
       "57278.0     2006\n",
       "57277.0     2006\n",
       "57276.0     2006\n",
       "57275.0     2006\n",
       "57274.0     2006\n",
       "57273.0     2006\n",
       "57271.0     2006\n",
       "57270.0     2006\n",
       "57268.0     2006\n",
       "57266.0     2006\n",
       "57265.0     2006\n",
       "57264.0     2006\n",
       "57259.0     2006\n",
       "58523.0     2006\n",
       "36739.0     2006\n",
       "57255.0     2006\n",
       "57254.0     2006\n",
       "            ... \n",
       "70804.0     2012\n",
       "19548.0     2012\n",
       "699419.0    2012\n",
       "19308.0     2012\n",
       "19154.0     2012\n",
       "19150.0     2012\n",
       "19149.0     2012\n",
       "19123.0     2012\n",
       "19061.0     2012\n",
       "19055.0     2012\n",
       "700797.0    2012\n",
       "19044.0     2012\n",
       "19040.0     2012\n",
       "19039.0     2012\n",
       "19038.0     2012\n",
       "19037.0     2012\n",
       "19036.0     2012\n",
       "19035.0     2012\n",
       "19034.0     2012\n",
       "700539.0    2012\n",
       "19033.0     2012\n",
       "700311.0    2012\n",
       "19032.0     2012\n",
       "19028.0     2012\n",
       "19027.0     2012\n",
       "19026.0     2012\n",
       "19025.0     2012\n",
       "18590.0     2012\n",
       "18545.0     2012\n",
       "17827.0     2012\n",
       "Name: cohort_9th, dtype: int64"
      ]
     },
     "execution_count": 94,
     "metadata": {},
     "output_type": "execute_result"
    }
   ],
   "source": [
    "joint_label_features.cohort_9th"
   ]
  },
  {
   "cell_type": "code",
   "execution_count": 75,
   "metadata": {
    "collapsed": true
   },
   "outputs": [],
   "source": [
    "def df2num(rawdf):\n",
    "    \"\"\" Convert data frame with numeric variables and strings to numeric dataframe\n",
    "\n",
    "    :param pd.dataframe rawdf: raw data frame\n",
    "    :returns pd.dataframe df: a data frame with strings converted to dummies, other columns unchanged\n",
    "    :rtype: pd.dataframe\n",
    "    Rules:\n",
    "    - 1. numeric columns unchanged;\n",
    "    - 2. strings converted to dummeis;\n",
    "    - 3. the most frequent string is taken as reference\n",
    "    - 4. new column name is: \"ColumnName_Category\"\n",
    "    (e.g., column 'gender' with 80 'M' and 79 'F'; the dummy column left is 'gender_F')\n",
    "\n",
    "    \"\"\"\n",
    "    numeric_df = rawdf.select_dtypes(include=[np.number])\n",
    "    str_columns = [col for col in rawdf.columns if col not in numeric_df.columns]\n",
    "    dummy_col_df = pd.get_dummies(rawdf[str_columns], dummy_na=True)\n",
    "    numeric_df = numeric_df.join(dummy_col_df)\n",
    "    most_frequent_values = rawdf[str_columns].mode().loc[0].to_dict()\n",
    "    reference_cols = [\"{}_{}\".format(key, value) for key, value in most_frequent_values.items()]\n",
    "    numeric_df.drop(reference_cols, axis=1, inplace=True)\n",
    "    return numeric_df"
   ]
  },
  {
   "cell_type": "code",
   "execution_count": 93,
   "metadata": {
    "collapsed": true
   },
   "outputs": [],
   "source": [
    "from sklearn.cross_validation import LeaveOneLabelOut"
   ]
  },
  {
   "cell_type": "code",
   "execution_count": 97,
   "metadata": {
    "collapsed": false
   },
   "outputs": [
    {
     "data": {
      "text/plain": [
       "7"
      ]
     },
     "execution_count": 97,
     "metadata": {},
     "output_type": "execute_result"
    }
   ],
   "source": [
    "cohort_kfolds = LeaveOneLabelOut(joint_label_features[modelOptions['cohort_grade_level_begin']])\n",
    "len(cohort_kfolds)"
   ]
  },
  {
   "cell_type": "code",
   "execution_count": null,
   "metadata": {
    "collapsed": true
   },
   "outputs": [],
   "source": []
  }
 ],
 "metadata": {
  "kernelspec": {
   "display_name": "Python 3",
   "language": "python",
   "name": "python3"
  },
  "language_info": {
   "codemirror_mode": {
    "name": "ipython",
    "version": 3
   },
   "file_extension": ".py",
   "mimetype": "text/x-python",
   "name": "python",
   "nbconvert_exporter": "python",
   "pygments_lexer": "ipython3",
   "version": "3.4.3"
  }
 },
 "nbformat": 4,
 "nbformat_minor": 0
}
