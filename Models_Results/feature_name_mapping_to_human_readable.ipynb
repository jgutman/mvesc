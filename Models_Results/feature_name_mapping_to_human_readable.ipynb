{
 "cells": [
  {
   "cell_type": "code",
   "execution_count": 60,
   "metadata": {
    "collapsed": false
   },
   "outputs": [
    {
     "name": "stdout",
     "output_type": "stream",
     "text": [
      "The autotime extension is already loaded. To reload it, use:\n",
      "  %reload_ext autotime\n",
      "time: 10.3 ms\n"
     ]
    }
   ],
   "source": [
    "import os, sys, json\n",
    "\n",
    "parentdir = os.path.abspath('/home/xcheng/mvesc/ETL')\n",
    "sys.path.insert(0,parentdir)\n",
    "from mvesc_utility_functions import *\n",
    "import numpy as np\n",
    "import pandas as pd\n",
    "import matplotlib.pyplot as plt\n",
    "import matplotlib\n",
    "from IPython.display import Image\n",
    "from IPython.display import display\n",
    "from numpy import random\n",
    "import pickle\n",
    "from estimate_prediction_model import *\n",
    "from write_to_database import write_scores_to_db\n",
    "from optparse import OptionParser\n",
    "import re\n",
    "from make_predictions_for_unlabeled_students import * \n",
    "import sqlalchemy\n",
    "%load_ext autotime\n",
    "%matplotlib inline"
   ]
  },
  {
   "cell_type": "code",
   "execution_count": 78,
   "metadata": {
    "collapsed": false
   },
   "outputs": [
    {
     "name": "stdout",
     "output_type": "stream",
     "text": [
      "Json file 'feature_name_mapping_to_human_readable.json' saved to current directory.\n",
      "time: 361 ms\n"
     ]
    }
   ],
   "source": [
    "def main():\n",
    "    json_filename = 'feature_name_mapping_to_human_readable.json'\n",
    "    with postgres_pgconnection_generator() as conn:\n",
    "        with conn.cursor() as cursor:\n",
    "            sql_all_table_names = \"\"\"\n",
    "            SELECT table_name FROM information_schema.tables \n",
    "            WHERE table_schema='model';\n",
    "            \"\"\"\n",
    "            #table_names = pd.read_sql_query(sql_all_table_names, conn)\n",
    "            # copied feature table names to the list below\n",
    "            table_names = ['demographics', 'snapshots', 'absence', 'mobility', 'grades', 'oaa_normalized', 'intervention']\n",
    "            sql_colnames = \"\"\"\n",
    "            select table_name, column_name, udt_name from information_schema.columns \n",
    "            where table_schema='model' and table_name in ({tables})\n",
    "            \"\"\".format(tables = \"\\'\" + \"\\', \\'\".join(table_names) + \"\\'\")\n",
    "            tables_columns_dtypes = pd.read_sql_query(sql_colnames, conn)\n",
    "\n",
    "    colnames_grade = set(filter(lambda x: '_gr_' in x, tables_columns_dtypes.column_name))\n",
    "    colnames_others = set(filter(lambda x: not ('_gr_' in x), tables_columns_dtypes.column_name))\n",
    "    all_tokens = []\n",
    "    for nm in colnames_grade:\n",
    "        all_tokens = all_tokens + nm.split('_')\n",
    "    all_tokens = set(all_tokens)\n",
    "    token_mapping = {\n",
    "     'avg': 'average',\n",
    "     'change':'changes',\n",
    "     'consec':'consecutive',\n",
    "     'ed':'education',\n",
    "     'extracurr': 'extracurricular',\n",
    "     'instruc':'instruction',\n",
    "     'intracurr':'intracurricular', \n",
    "     'inv':'intervention',\n",
    "     'iss':'in school suspension',\n",
    "     'n':'number of', \n",
    "     'num':'number of',\n",
    "     'oss':'out of school suspension',\n",
    "    'percent':'percentage',\n",
    "     'pf':'pass_or_fail',\n",
    "     'pl':'performance level',\n",
    "     'titlei':'titleI',\n",
    "     'to':'',\n",
    "     'withdraw':'withdrawal',\n",
    "     'wkd':'on weekday'}\n",
    "    wkd_mapping = {'weekday 1':'Monday',\n",
    "                   'weekday 2':'Tuesday',\n",
    "                   'weekday 3':'Wednesday',\n",
    "                   'weekday 4':'Thursday',\n",
    "                   'weekday 5':'Friday',\n",
    "                  }\n",
    "    mapping = {}\n",
    "    # names make sense themselves\n",
    "    for nm in colnames_others:\n",
    "        mapping[nm] = nm\n",
    "    for nm in colnames_grade:\n",
    "        tokens = nm.split('_')\n",
    "        new_nm = ''\n",
    "        for t in tokens:\n",
    "            if t=='gr':\n",
    "                if 'to' in tokens:\n",
    "                    new_nm = new_nm + 'upto grade'\n",
    "                else:\n",
    "                    new_nm = new_nm + 'in grade '\n",
    "            elif t in token_mapping:\n",
    "                new_nm = new_nm + token_mapping[t] + ' '\n",
    "            else:\n",
    "                new_nm = new_nm + t + ' '\n",
    "        mapping[nm] = new_nm\n",
    "\n",
    "    # clean up double space and weekdays\n",
    "    for key in mapping:\n",
    "        mapping[key] = mapping[key].replace('  ', ' ')\n",
    "        if 'weekday' in mapping[key]:\n",
    "            ind = mapping[key].find('weekday')\n",
    "            wkdn = mapping[key][ind:ind+9]\n",
    "            mapping[key] = mapping[key].replace(wkdn, wkd_mapping[wkdn])\n",
    "    with open(json_filename, 'w') as f:\n",
    "        json.dump(mapping, f, ensure_ascii=True, sort_keys=True, indent=4)\n",
    "        \n",
    "    print('Json file \\'{0}\\' saved to current directory.'.format(json_filename))\n",
    "main()"
   ]
  },
  {
   "cell_type": "code",
   "execution_count": 75,
   "metadata": {
    "collapsed": false
   },
   "outputs": [
    {
     "data": {
      "text/plain": [
       "'absence on Wednesday in grade 10 '"
      ]
     },
     "execution_count": 75,
     "metadata": {},
     "output_type": "execute_result"
    },
    {
     "name": "stdout",
     "output_type": "stream",
     "text": [
      "time: 4.88 ms\n"
     ]
    }
   ],
   "source": [
    "wkd_mapping = {'weekday 1':'Monday',\n",
    "                   'weekday 2':'Tuesday',\n",
    "                   'weekday 3':'Wednesday',\n",
    "                   'weekday 4':'Thursday',\n",
    "                   'weekday 5':'Friday',\n",
    "                  }\n",
    "ind = mapping['absence_wkd_3_gr_10'].find('weekday')\n",
    "wkdn = mapping['absence_wkd_3_gr_10'][ind:ind+9]\n",
    "mapping['absence_wkd_3_gr_10'].replace(wkdn, wkd_mapping[wkdn])"
   ]
  },
  {
   "cell_type": "code",
   "execution_count": 46,
   "metadata": {
    "collapsed": false
   },
   "outputs": [
    {
     "data": {
      "text/plain": [
       "{'1',\n",
       " '10',\n",
       " '11',\n",
       " '12',\n",
       " '2',\n",
       " '3',\n",
       " '4',\n",
       " '5',\n",
       " '504',\n",
       " '6',\n",
       " '7',\n",
       " '8',\n",
       " '9',\n",
       " 'absence',\n",
       " 'absent',\n",
       " 'academic',\n",
       " 'address',\n",
       " 'addresses',\n",
       " 'art',\n",
       " 'atheletics',\n",
       " 'avg',\n",
       " 'change',\n",
       " 'cities',\n",
       " 'city',\n",
       " 'classes',\n",
       " 'consec',\n",
       " 'days',\n",
       " 'disability',\n",
       " 'disadvantagement',\n",
       " 'discipline',\n",
       " 'district',\n",
       " 'districts',\n",
       " 'ed',\n",
       " 'english',\n",
       " 'excused',\n",
       " 'extracurr',\n",
       " 'future',\n",
       " 'gifted',\n",
       " 'gpa',\n",
       " 'gr',\n",
       " 'health',\n",
       " 'humanities',\n",
       " 'in',\n",
       " 'incidents',\n",
       " 'instruc',\n",
       " 'interventions',\n",
       " 'intracurr',\n",
       " 'inv',\n",
       " 'iss',\n",
       " 'language',\n",
       " 'limited',\n",
       " 'math',\n",
       " 'medical',\n",
       " 'mid',\n",
       " 'n',\n",
       " 'normalized',\n",
       " 'num',\n",
       " 'oss',\n",
       " 'passed',\n",
       " 'percent',\n",
       " 'percentile',\n",
       " 'pf',\n",
       " 'pl',\n",
       " 'placement',\n",
       " 'plan',\n",
       " 'post',\n",
       " 'prep',\n",
       " 'present',\n",
       " 'program',\n",
       " 'read',\n",
       " 'records',\n",
       " 'school',\n",
       " 'science',\n",
       " 'secondary',\n",
       " 'section',\n",
       " 'socstudies',\n",
       " 'spec',\n",
       " 'special',\n",
       " 'status',\n",
       " 'stem',\n",
       " 'street',\n",
       " 'tardy',\n",
       " 'titlei',\n",
       " 'to',\n",
       " 'transition',\n",
       " 'unexcused',\n",
       " 'vocational',\n",
       " 'withdraw',\n",
       " 'wkd',\n",
       " 'year'}"
      ]
     },
     "execution_count": 46,
     "metadata": {},
     "output_type": "execute_result"
    },
    {
     "name": "stdout",
     "output_type": "stream",
     "text": [
      "time: 3.28 ms\n"
     ]
    }
   ],
   "source": [
    "all_tokens"
   ]
  },
  {
   "cell_type": "code",
   "execution_count": 35,
   "metadata": {
    "collapsed": false
   },
   "outputs": [
    {
     "data": {
      "text/plain": [
       "(794, 3)"
      ]
     },
     "execution_count": 35,
     "metadata": {},
     "output_type": "execute_result"
    },
    {
     "name": "stdout",
     "output_type": "stream",
     "text": [
      "time: 2.76 ms\n"
     ]
    }
   ],
   "source": [
    "{\n",
    " 'avg': 'average',\n",
    " 'consec':'consecutive',\n",
    " 'ed':'education',\n",
    " 'extracurr': 'extracurricular',\n",
    " 'gr':'grade',\n",
    " 'instruc':'instruction'\n",
    " 'intracurr':'intracurricular', \n",
    " 'inv':'intervention',\n",
    " 'iss':'in school suspension',\n",
    " 'n',\n",
    " 'num':'number',\n",
    " 'oss':'out of school suspension',\n",
    " 'pf':'pass_or_fail',\n",
    " 'pl':'performance level',\n",
    " 'titlei',\n",
    " 'wkd':'weekday'}"
   ]
  },
  {
   "cell_type": "code",
   "execution_count": 34,
   "metadata": {
    "collapsed": false
   },
   "outputs": [
    {
     "data": {
      "text/plain": [
       "794"
      ]
     },
     "execution_count": 34,
     "metadata": {},
     "output_type": "execute_result"
    },
    {
     "name": "stdout",
     "output_type": "stream",
     "text": [
      "time: 9.53 ms\n"
     ]
    }
   ],
   "source": [
    "len(list(filter(lambda x: (x in colnames_grade) or (x in colnames_others) , tables_columns_dtypes.column_name)))"
   ]
  }
 ],
 "metadata": {
  "kernelspec": {
   "display_name": "Python 3",
   "language": "python",
   "name": "python3"
  },
  "language_info": {
   "codemirror_mode": {
    "name": "ipython",
    "version": 3
   },
   "file_extension": ".py",
   "mimetype": "text/x-python",
   "name": "python",
   "nbconvert_exporter": "python",
   "pygments_lexer": "ipython3",
   "version": "3.4.3"
  }
 },
 "nbformat": 4,
 "nbformat_minor": 0
}
