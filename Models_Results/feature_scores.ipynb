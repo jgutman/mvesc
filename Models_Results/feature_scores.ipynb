{
 "cells": [
  {
   "cell_type": "code",
   "execution_count": 1,
   "metadata": {
    "collapsed": true
   },
   "outputs": [],
   "source": [
    "import os, sys\n",
    "sys.path.insert(0, '/home/jtorrenc/mvesc/ETL')\n",
    "sys.path.insert(0, '/home/jtorrenc/mvesc/ModelsResults')\n",
    "\n",
    "from mvesc_utility_functions import *\n",
    "from estimate_prediction_model import *\n",
    "import numpy as np\n",
    "import pandas as pd\n",
    "import random\n",
    "from functools import partial\n",
    "import itertools\n",
    "import pickle\n",
    "from sklearn.metrics import precision_score, recall_score\n",
    "import matplotlib.pyplot as plt\n",
    "%matplotlib inline"
   ]
  },
  {
   "cell_type": "code",
   "execution_count": 20,
   "metadata": {
    "collapsed": false
   },
   "outputs": [
    {
     "data": {
      "text/plain": [
       "dict_keys(['estimator', 'parameter_grid', 'train_set_soft_preds', 'val_y', 'test_y', 'cross_validation_scores', 'train_set_preds', 'features', 'train_y', 'model_options', 'val_set_preds', 'test_set_soft_preds', 'train_set_balance', 'model_name', 'val_set_soft_preds', 'file_name', 'time', 'test_set_preds'])"
      ]
     },
     "execution_count": 20,
     "metadata": {},
     "output_type": "execute_result"
    }
   ],
   "source": [
    "with open('/mnt/data/mvesc/Models_Results/pkls/08_12_2016_grade_7_param_set_18_logit_ht_19297_logit.pkl', \"rb\" ) as f:\n",
    "    d = pickle.load(f)\n",
    "model_options = d['model_options']\n",
    "d.keys()\n"
   ]
  },
  {
   "cell_type": "code",
   "execution_count": 111,
   "metadata": {
    "collapsed": true
   },
   "outputs": [],
   "source": [
    "model = d['estimator']"
   ]
  },
  {
   "cell_type": "code",
   "execution_count": 115,
   "metadata": {
    "collapsed": false
   },
   "outputs": [
    {
     "data": {
      "text/plain": [
       "array([-1.5158848])"
      ]
     },
     "execution_count": 115,
     "metadata": {},
     "output_type": "execute_result"
    }
   ],
   "source": [
    "model.intercept_"
   ]
  },
  {
   "cell_type": "code",
   "execution_count": 3,
   "metadata": {
    "collapsed": true
   },
   "outputs": [],
   "source": [
    "outcome_plus_features = build_outcomes_plus_features(model_options)\n",
    "outcome_plus_features.dropna(subset=[model_options['outcome_name'],\n",
    "        model_options['cohort_grade_level_begin']], inplace=True)"
   ]
  },
  {
   "cell_type": "code",
   "execution_count": 4,
   "metadata": {
    "collapsed": false
   },
   "outputs": [],
   "source": [
    "train = outcome_plus_features[outcome_plus_features.index.isin(d['train_y'].index)]\n",
    "test = outcome_plus_features[outcome_plus_features.index.isin(d['test_y'].index)]\n",
    "val = outcome_plus_features[outcome_plus_features.index.isin(d['val_y'].index)]"
   ]
  },
  {
   "cell_type": "code",
   "execution_count": 5,
   "metadata": {
    "collapsed": false
   },
   "outputs": [],
   "source": [
    "train_X = train.drop([model_options['outcome_name'],\n",
    "                      model_options['cohort_grade_level_begin']],axis=1)\n",
    "test_X = test.drop([model_options['outcome_name'],\n",
    "                    model_options['cohort_grade_level_begin']],axis=1)\n",
    "val_X = val.drop([model_options['outcome_name'],\n",
    "                  model_options['cohort_grade_level_begin']],axis=1)\n",
    "train_y = train[model_options['outcome_name']]\n",
    "test_y = test[model_options['outcome_name']]\n",
    "val_y = val[model_options['outcome_name']]"
   ]
  },
  {
   "cell_type": "code",
   "execution_count": 6,
   "metadata": {
    "collapsed": false
   },
   "outputs": [],
   "source": [
    "train_X, val_X, test_X = impute_missing_values(train_X, val_X, test_X,\\\n",
    "    model_options['missing_impute_strategy'])\n",
    "assert (all(train_X.columns == test_X.columns)),\\\n",
    "    \"train and test have different columns\""
   ]
  },
  {
   "cell_type": "code",
   "execution_count": 7,
   "metadata": {
    "collapsed": true
   },
   "outputs": [],
   "source": [
    "train_X, val_X, test_X = scale_features(train_X, val_X, test_X,\n",
    "    model_options['feature_scaling'])\n",
    "assert (all(train_X.columns == test_X.columns)),\\\n",
    "    \"train and test have different columns\"\n"
   ]
  },
  {
   "cell_type": "code",
   "execution_count": 35,
   "metadata": {
    "collapsed": false
   },
   "outputs": [
    {
     "data": {
      "text/html": [
       "<div>\n",
       "<table border=\"1\" class=\"dataframe\">\n",
       "  <thead>\n",
       "    <tr style=\"text-align: right;\">\n",
       "      <th></th>\n",
       "      <th>binary</th>\n",
       "    </tr>\n",
       "  </thead>\n",
       "  <tbody>\n",
       "    <tr>\n",
       "      <th>ethnicity_A</th>\n",
       "      <td>True</td>\n",
       "    </tr>\n",
       "    <tr>\n",
       "      <th>ethnicity_B</th>\n",
       "      <td>True</td>\n",
       "    </tr>\n",
       "    <tr>\n",
       "      <th>ethnicity_H</th>\n",
       "      <td>True</td>\n",
       "    </tr>\n",
       "    <tr>\n",
       "      <th>ethnicity_I</th>\n",
       "      <td>True</td>\n",
       "    </tr>\n",
       "    <tr>\n",
       "      <th>ethnicity_M</th>\n",
       "      <td>True</td>\n",
       "    </tr>\n",
       "    <tr>\n",
       "      <th>ethnicity_nan</th>\n",
       "      <td>True</td>\n",
       "    </tr>\n",
       "    <tr>\n",
       "      <th>gender_F</th>\n",
       "      <td>True</td>\n",
       "    </tr>\n",
       "    <tr>\n",
       "      <th>disability_gr_6_autism</th>\n",
       "      <td>True</td>\n",
       "    </tr>\n",
       "    <tr>\n",
       "      <th>disability_gr_6_cognitive disability</th>\n",
       "      <td>True</td>\n",
       "    </tr>\n",
       "    <tr>\n",
       "      <th>disability_gr_6_deafness</th>\n",
       "      <td>True</td>\n",
       "    </tr>\n",
       "    <tr>\n",
       "      <th>disability_gr_6_emotional disturbance</th>\n",
       "      <td>True</td>\n",
       "    </tr>\n",
       "    <tr>\n",
       "      <th>disability_gr_6_learning disability</th>\n",
       "      <td>True</td>\n",
       "    </tr>\n",
       "    <tr>\n",
       "      <th>disability_gr_6_multiple</th>\n",
       "      <td>True</td>\n",
       "    </tr>\n",
       "    <tr>\n",
       "      <th>disability_gr_6_other major</th>\n",
       "      <td>True</td>\n",
       "    </tr>\n",
       "    <tr>\n",
       "      <th>disability_gr_6_other minor</th>\n",
       "      <td>True</td>\n",
       "    </tr>\n",
       "    <tr>\n",
       "      <th>disability_gr_6_speech and language impairment</th>\n",
       "      <td>True</td>\n",
       "    </tr>\n",
       "    <tr>\n",
       "      <th>disability_gr_6_traumatic brain injury</th>\n",
       "      <td>True</td>\n",
       "    </tr>\n",
       "    <tr>\n",
       "      <th>disability_gr_6_visual impairment</th>\n",
       "      <td>True</td>\n",
       "    </tr>\n",
       "    <tr>\n",
       "      <th>status_gr_6_deleted</th>\n",
       "      <td>True</td>\n",
       "    </tr>\n",
       "    <tr>\n",
       "      <th>status_gr_6_esc</th>\n",
       "      <td>True</td>\n",
       "    </tr>\n",
       "    <tr>\n",
       "      <th>status_gr_6_excel</th>\n",
       "      <td>True</td>\n",
       "    </tr>\n",
       "    <tr>\n",
       "      <th>status_gr_6_foster</th>\n",
       "      <td>True</td>\n",
       "    </tr>\n",
       "    <tr>\n",
       "      <th>status_gr_6_inactive</th>\n",
       "      <td>True</td>\n",
       "    </tr>\n",
       "    <tr>\n",
       "      <th>status_gr_6_open_enrollment</th>\n",
       "      <td>True</td>\n",
       "    </tr>\n",
       "    <tr>\n",
       "      <th>status_gr_6_nan</th>\n",
       "      <td>True</td>\n",
       "    </tr>\n",
       "    <tr>\n",
       "      <th>district_gr_6_Coshocton</th>\n",
       "      <td>True</td>\n",
       "    </tr>\n",
       "    <tr>\n",
       "      <th>district_gr_6_Franklin</th>\n",
       "      <td>True</td>\n",
       "    </tr>\n",
       "    <tr>\n",
       "      <th>district_gr_6_Maysville</th>\n",
       "      <td>True</td>\n",
       "    </tr>\n",
       "    <tr>\n",
       "      <th>district_gr_6_Ridgewood</th>\n",
       "      <td>True</td>\n",
       "    </tr>\n",
       "    <tr>\n",
       "      <th>district_gr_6_Riverview</th>\n",
       "      <td>True</td>\n",
       "    </tr>\n",
       "    <tr>\n",
       "      <th>...</th>\n",
       "      <td>...</td>\n",
       "    </tr>\n",
       "    <tr>\n",
       "      <th>special_ed_gr_6_100</th>\n",
       "      <td>True</td>\n",
       "    </tr>\n",
       "    <tr>\n",
       "      <th>special_ed_gr_6_50</th>\n",
       "      <td>True</td>\n",
       "    </tr>\n",
       "    <tr>\n",
       "      <th>read_normalized_gr_6_isnull</th>\n",
       "      <td>True</td>\n",
       "    </tr>\n",
       "    <tr>\n",
       "      <th>gpa_district_gr_6_isnull</th>\n",
       "      <td>True</td>\n",
       "    </tr>\n",
       "    <tr>\n",
       "      <th>read_normalized_gr_3_isnull</th>\n",
       "      <td>True</td>\n",
       "    </tr>\n",
       "    <tr>\n",
       "      <th>math_normalized_gr_3_isnull</th>\n",
       "      <td>True</td>\n",
       "    </tr>\n",
       "    <tr>\n",
       "      <th>math_normalized_gr_4_isnull</th>\n",
       "      <td>True</td>\n",
       "    </tr>\n",
       "    <tr>\n",
       "      <th>gpa_gr_6_isnull</th>\n",
       "      <td>True</td>\n",
       "    </tr>\n",
       "    <tr>\n",
       "      <th>socstudies_normalized_gr_5_isnull</th>\n",
       "      <td>True</td>\n",
       "    </tr>\n",
       "    <tr>\n",
       "      <th>read_normalized_gr_5_isnull</th>\n",
       "      <td>True</td>\n",
       "    </tr>\n",
       "    <tr>\n",
       "      <th>math_normalized_gr_6_isnull</th>\n",
       "      <td>True</td>\n",
       "    </tr>\n",
       "    <tr>\n",
       "      <th>math_normalized_gr_5_isnull</th>\n",
       "      <td>True</td>\n",
       "    </tr>\n",
       "    <tr>\n",
       "      <th>science_normalized_gr_5_isnull</th>\n",
       "      <td>True</td>\n",
       "    </tr>\n",
       "    <tr>\n",
       "      <th>read_normalized_gr_4_isnull</th>\n",
       "      <td>True</td>\n",
       "    </tr>\n",
       "    <tr>\n",
       "      <th>read_normalized_gr_6</th>\n",
       "      <td>False</td>\n",
       "    </tr>\n",
       "    <tr>\n",
       "      <th>read_normalized_gr_3</th>\n",
       "      <td>False</td>\n",
       "    </tr>\n",
       "    <tr>\n",
       "      <th>iss_gr_6</th>\n",
       "      <td>False</td>\n",
       "    </tr>\n",
       "    <tr>\n",
       "      <th>oss_gr_6</th>\n",
       "      <td>False</td>\n",
       "    </tr>\n",
       "    <tr>\n",
       "      <th>math_normalized_gr_3</th>\n",
       "      <td>False</td>\n",
       "    </tr>\n",
       "    <tr>\n",
       "      <th>gpa_gr_6</th>\n",
       "      <td>False</td>\n",
       "    </tr>\n",
       "    <tr>\n",
       "      <th>read_normalized_gr_5</th>\n",
       "      <td>False</td>\n",
       "    </tr>\n",
       "    <tr>\n",
       "      <th>math_normalized_gr_6</th>\n",
       "      <td>False</td>\n",
       "    </tr>\n",
       "    <tr>\n",
       "      <th>discipline_incidents_gr_6</th>\n",
       "      <td>False</td>\n",
       "    </tr>\n",
       "    <tr>\n",
       "      <th>math_normalized_gr_5</th>\n",
       "      <td>False</td>\n",
       "    </tr>\n",
       "    <tr>\n",
       "      <th>science_normalized_gr_5</th>\n",
       "      <td>False</td>\n",
       "    </tr>\n",
       "    <tr>\n",
       "      <th>absence_gr_6</th>\n",
       "      <td>False</td>\n",
       "    </tr>\n",
       "    <tr>\n",
       "      <th>gpa_district_gr_6</th>\n",
       "      <td>False</td>\n",
       "    </tr>\n",
       "    <tr>\n",
       "      <th>math_normalized_gr_4</th>\n",
       "      <td>False</td>\n",
       "    </tr>\n",
       "    <tr>\n",
       "      <th>socstudies_normalized_gr_5</th>\n",
       "      <td>False</td>\n",
       "    </tr>\n",
       "    <tr>\n",
       "      <th>read_normalized_gr_4</th>\n",
       "      <td>False</td>\n",
       "    </tr>\n",
       "  </tbody>\n",
       "</table>\n",
       "<p>63 rows × 1 columns</p>\n",
       "</div>"
      ],
      "text/plain": [
       "                                               binary\n",
       "ethnicity_A                                      True\n",
       "ethnicity_B                                      True\n",
       "ethnicity_H                                      True\n",
       "ethnicity_I                                      True\n",
       "ethnicity_M                                      True\n",
       "ethnicity_nan                                    True\n",
       "gender_F                                         True\n",
       "disability_gr_6_autism                           True\n",
       "disability_gr_6_cognitive disability             True\n",
       "disability_gr_6_deafness                         True\n",
       "disability_gr_6_emotional disturbance            True\n",
       "disability_gr_6_learning disability              True\n",
       "disability_gr_6_multiple                         True\n",
       "disability_gr_6_other major                      True\n",
       "disability_gr_6_other minor                      True\n",
       "disability_gr_6_speech and language impairment   True\n",
       "disability_gr_6_traumatic brain injury           True\n",
       "disability_gr_6_visual impairment                True\n",
       "status_gr_6_deleted                              True\n",
       "status_gr_6_esc                                  True\n",
       "status_gr_6_excel                                True\n",
       "status_gr_6_foster                               True\n",
       "status_gr_6_inactive                             True\n",
       "status_gr_6_open_enrollment                      True\n",
       "status_gr_6_nan                                  True\n",
       "district_gr_6_Coshocton                          True\n",
       "district_gr_6_Franklin                           True\n",
       "district_gr_6_Maysville                          True\n",
       "district_gr_6_Ridgewood                          True\n",
       "district_gr_6_Riverview                          True\n",
       "...                                               ...\n",
       "special_ed_gr_6_100                              True\n",
       "special_ed_gr_6_50                               True\n",
       "read_normalized_gr_6_isnull                      True\n",
       "gpa_district_gr_6_isnull                         True\n",
       "read_normalized_gr_3_isnull                      True\n",
       "math_normalized_gr_3_isnull                      True\n",
       "math_normalized_gr_4_isnull                      True\n",
       "gpa_gr_6_isnull                                  True\n",
       "socstudies_normalized_gr_5_isnull                True\n",
       "read_normalized_gr_5_isnull                      True\n",
       "math_normalized_gr_6_isnull                      True\n",
       "math_normalized_gr_5_isnull                      True\n",
       "science_normalized_gr_5_isnull                   True\n",
       "read_normalized_gr_4_isnull                      True\n",
       "read_normalized_gr_6                            False\n",
       "read_normalized_gr_3                            False\n",
       "iss_gr_6                                        False\n",
       "oss_gr_6                                        False\n",
       "math_normalized_gr_3                            False\n",
       "gpa_gr_6                                        False\n",
       "read_normalized_gr_5                            False\n",
       "math_normalized_gr_6                            False\n",
       "discipline_incidents_gr_6                       False\n",
       "math_normalized_gr_5                            False\n",
       "science_normalized_gr_5                         False\n",
       "absence_gr_6                                    False\n",
       "gpa_district_gr_6                               False\n",
       "math_normalized_gr_4                            False\n",
       "socstudies_normalized_gr_5                      False\n",
       "read_normalized_gr_4                            False\n",
       "\n",
       "[63 rows x 1 columns]"
      ]
     },
     "execution_count": 35,
     "metadata": {},
     "output_type": "execute_result"
    }
   ],
   "source": [
    "binary_features = pd.DataFrame(~train_X.apply(lambda x: len(x.unique()),axis=0).gt(2), columns = ['binary'])\n",
    "binary_features"
   ]
  },
  {
   "cell_type": "code",
   "execution_count": 102,
   "metadata": {
    "collapsed": false
   },
   "outputs": [],
   "source": [
    "with postgres_pgconnection_generator() as connection:\n",
    "    with connection.cursor() as cursor:\n",
    "        cursor.execute(\"\"\"select feature,importance from model.feature_scores\n",
    "                                where filename = '08_12_2016_grade_7_param_set_18_logit_ht_19297'; \"\"\")\n",
    "        temp = cursor.fetchall()\n",
    "scores = pd.DataFrame(temp, columns = ['feature','importance'])"
   ]
  },
  {
   "cell_type": "code",
   "execution_count": 103,
   "metadata": {
    "collapsed": false
   },
   "outputs": [],
   "source": [
    "scores.set_index('feature', inplace=True)"
   ]
  },
  {
   "cell_type": "code",
   "execution_count": 104,
   "metadata": {
    "collapsed": false
   },
   "outputs": [
    {
     "data": {
      "text/html": [
       "<div>\n",
       "<table border=\"1\" class=\"dataframe\">\n",
       "  <thead>\n",
       "    <tr style=\"text-align: right;\">\n",
       "      <th></th>\n",
       "      <th>importance</th>\n",
       "    </tr>\n",
       "    <tr>\n",
       "      <th>feature</th>\n",
       "      <th></th>\n",
       "    </tr>\n",
       "  </thead>\n",
       "  <tbody>\n",
       "    <tr>\n",
       "      <th>status_gr_6_esc</th>\n",
       "      <td>7.729361</td>\n",
       "    </tr>\n",
       "    <tr>\n",
       "      <th>ethnicity_A</th>\n",
       "      <td>-5.125085</td>\n",
       "    </tr>\n",
       "    <tr>\n",
       "      <th>read_normalized_gr_4_isnull</th>\n",
       "      <td>-5.077234</td>\n",
       "    </tr>\n",
       "    <tr>\n",
       "      <th>disability_gr_6_multiple</th>\n",
       "      <td>-4.980336</td>\n",
       "    </tr>\n",
       "    <tr>\n",
       "      <th>math_normalized_gr_4_isnull</th>\n",
       "      <td>4.831779</td>\n",
       "    </tr>\n",
       "  </tbody>\n",
       "</table>\n",
       "</div>"
      ],
      "text/plain": [
       "                             importance\n",
       "feature                                \n",
       "status_gr_6_esc                7.729361\n",
       "ethnicity_A                   -5.125085\n",
       "read_normalized_gr_4_isnull   -5.077234\n",
       "disability_gr_6_multiple      -4.980336\n",
       "math_normalized_gr_4_isnull    4.831779"
      ]
     },
     "execution_count": 104,
     "metadata": {},
     "output_type": "execute_result"
    }
   ],
   "source": [
    "scores.head()"
   ]
  },
  {
   "cell_type": "code",
   "execution_count": 105,
   "metadata": {
    "collapsed": false
   },
   "outputs": [],
   "source": [
    "scores = scores.join(binary_features)"
   ]
  },
  {
   "cell_type": "code",
   "execution_count": 106,
   "metadata": {
    "collapsed": false
   },
   "outputs": [
    {
     "data": {
      "text/html": [
       "<div>\n",
       "<table border=\"1\" class=\"dataframe\">\n",
       "  <thead>\n",
       "    <tr style=\"text-align: right;\">\n",
       "      <th></th>\n",
       "      <th>importance</th>\n",
       "      <th>binary</th>\n",
       "    </tr>\n",
       "    <tr>\n",
       "      <th>feature</th>\n",
       "      <th></th>\n",
       "      <th></th>\n",
       "    </tr>\n",
       "  </thead>\n",
       "  <tbody>\n",
       "    <tr>\n",
       "      <th>status_gr_6_esc</th>\n",
       "      <td>7.729361</td>\n",
       "      <td>True</td>\n",
       "    </tr>\n",
       "    <tr>\n",
       "      <th>ethnicity_A</th>\n",
       "      <td>-5.125085</td>\n",
       "      <td>True</td>\n",
       "    </tr>\n",
       "    <tr>\n",
       "      <th>read_normalized_gr_4_isnull</th>\n",
       "      <td>-5.077234</td>\n",
       "      <td>True</td>\n",
       "    </tr>\n",
       "    <tr>\n",
       "      <th>disability_gr_6_multiple</th>\n",
       "      <td>-4.980336</td>\n",
       "      <td>True</td>\n",
       "    </tr>\n",
       "    <tr>\n",
       "      <th>math_normalized_gr_4_isnull</th>\n",
       "      <td>4.831779</td>\n",
       "      <td>True</td>\n",
       "    </tr>\n",
       "  </tbody>\n",
       "</table>\n",
       "</div>"
      ],
      "text/plain": [
       "                             importance binary\n",
       "feature                                       \n",
       "status_gr_6_esc                7.729361   True\n",
       "ethnicity_A                   -5.125085   True\n",
       "read_normalized_gr_4_isnull   -5.077234   True\n",
       "disability_gr_6_multiple      -4.980336   True\n",
       "math_normalized_gr_4_isnull    4.831779   True"
      ]
     },
     "execution_count": 106,
     "metadata": {},
     "output_type": "execute_result"
    }
   ],
   "source": [
    "scores.head()"
   ]
  },
  {
   "cell_type": "code",
   "execution_count": 97,
   "metadata": {
    "collapsed": false
   },
   "outputs": [
    {
     "data": {
      "image/png": "[encoded data removed]",
      "text/plain": [
       "<matplotlib.figure.Figure at 0x7f6c4c6574e0>"
      ]
     },
     "metadata": {},
     "output_type": "display_data"
    },
    {
     "data": {
      "image/png": "[encoded data removed]",
      "text/plain": [
       "<matplotlib.figure.Figure at 0x7f6c4c6570f0>"
      ]
     },
     "metadata": {},
     "output_type": "display_data"
    },
    {
     "data": {
      "image/png": "[encoded data removed]",
      "text/plain": [
       "<matplotlib.figure.Figure at 0x7f6c4cacb2b0>"
      ]
     },
     "metadata": {},
     "output_type": "display_data"
    },
    {
     "data": {
      "image/png": "[encoded data removed]",
      "text/plain": [
       "<matplotlib.figure.Figure at 0x7f6c4cc51ef0>"
      ]
     },
     "metadata": {},
     "output_type": "display_data"
    },
    {
     "data": {
      "image/png": "[encoded data removed]",
      "text/plain": [
       "<matplotlib.figure.Figure at 0x7f6c4ce6fda0>"
      ]
     },
     "metadata": {},
     "output_type": "display_data"
    },
    {
     "data": {
      "image/png": "[encoded data removed]",
      "text/plain": [
       "<matplotlib.figure.Figure at 0x7f6c4c91c0f0>"
      ]
     },
     "metadata": {},
     "output_type": "display_data"
    },
    {
     "data": {
      "image/png": "[encoded data removed]",
      "text/plain": [
       "<matplotlib.figure.Figure at 0x7f6c4cb55dd8>"
      ]
     },
     "metadata": {},
     "output_type": "display_data"
    },
    {
     "data": {
      "image/png": "[encoded data removed]",
      "text/plain": [
       "<matplotlib.figure.Figure at 0x7f6c4ccb8b00>"
      ]
     },
     "metadata": {},
     "output_type": "display_data"
    },
    {
     "data": {
      "image/png": "[encoded data removed]",
      "text/plain": [
       "<matplotlib.figure.Figure at 0x7f6c4ce23828>"
      ]
     },
     "metadata": {},
     "output_type": "display_data"
    },
    {
     "data": {
      "image/png": "[encoded data removed]",
      "text/plain": [
       "<matplotlib.figure.Figure at 0x7f6c4cbbfac8>"
      ]
     },
     "metadata": {},
     "output_type": "display_data"
    },
    {
     "data": {
      "image/png": "[encoded data removed]",
      "text/plain": [
       "<matplotlib.figure.Figure at 0x7f6c4cafa278>"
      ]
     },
     "metadata": {},
     "output_type": "display_data"
    },
    {
     "data": {
      "image/png": "[encoded data removed]",
      "text/plain": [
       "<matplotlib.figure.Figure at 0x7f6c4c9ff940>"
      ]
     },
     "metadata": {},
     "output_type": "display_data"
    },
    {
     "data": {
      "image/png": "[encoded data removed]",
      "text/plain": [
       "<matplotlib.figure.Figure at 0x7f6c4d003e10>"
      ]
     },
     "metadata": {},
     "output_type": "display_data"
    },
    {
     "data": {
      "image/png": "[encoded data removed]",
      "text/plain": [
       "<matplotlib.figure.Figure at 0x7f6c48473cf8>"
      ]
     },
     "metadata": {},
     "output_type": "display_data"
    },
    {
     "data": {
      "image/png": "[encoded data removed]",
      "text/plain": [
       "<matplotlib.figure.Figure at 0x7f6c4847c400>"
      ]
     },
     "metadata": {},
     "output_type": "display_data"
    },
    {
     "data": {
      "image/png": "[encoded data removed]",
      "text/plain": [
       "<matplotlib.figure.Figure at 0x7f6c48456dd8>"
      ]
     },
     "metadata": {},
     "output_type": "display_data"
    }
   ],
   "source": [
    "for c in train_X.columns[train_X.columns.isin(scores[~scores['binary']].index)]:\n",
    "    plt.figure()\n",
    "    train_X[c].hist()\n",
    "    plt.title(c)"
   ]
  },
  {
   "cell_type": "code",
   "execution_count": 110,
   "metadata": {
    "collapsed": false
   },
   "outputs": [
    {
     "ename": "SyntaxError",
     "evalue": "can't assign to function call (<ipython-input-110-3a16eb1e69da>, line 2)",
     "output_type": "error",
     "traceback": [
      "\u001b[1;36m  File \u001b[1;32m\"<ipython-input-110-3a16eb1e69da>\"\u001b[1;36m, line \u001b[1;32m2\u001b[0m\n\u001b[1;33m    scores_weighted[['importance']].loc(~scores_weighted['binary']) = scores[~scores['binary']][['importance']]*5\u001b[0m\n\u001b[1;37m                                                                                                                 ^\u001b[0m\n\u001b[1;31mSyntaxError\u001b[0m\u001b[1;31m:\u001b[0m can't assign to function call\n"
     ]
    }
   ],
   "source": [
    "scores_weighted = scores\n",
    "scores_weighted[~scores_weighted['binary']] = scores[~scores['binary']][['importance']]*5"
   ]
  },
  {
   "cell_type": "code",
   "execution_count": 99,
   "metadata": {
    "collapsed": false
   },
   "outputs": [
    {
     "data": {
      "text/html": [
       "<div>\n",
       "<table border=\"1\" class=\"dataframe\">\n",
       "  <thead>\n",
       "    <tr style=\"text-align: right;\">\n",
       "      <th></th>\n",
       "      <th>importance</th>\n",
       "      <th>binary</th>\n",
       "    </tr>\n",
       "    <tr>\n",
       "      <th>feature</th>\n",
       "      <th></th>\n",
       "      <th></th>\n",
       "    </tr>\n",
       "  </thead>\n",
       "  <tbody>\n",
       "    <tr>\n",
       "      <th>ethnicity_A</th>\n",
       "      <td>-5.125085</td>\n",
       "      <td>1.0</td>\n",
       "    </tr>\n",
       "    <tr>\n",
       "      <th>read_normalized_gr_4_isnull</th>\n",
       "      <td>-5.077234</td>\n",
       "      <td>1.0</td>\n",
       "    </tr>\n",
       "    <tr>\n",
       "      <th>disability_gr_6_multiple</th>\n",
       "      <td>-4.980336</td>\n",
       "      <td>1.0</td>\n",
       "    </tr>\n",
       "    <tr>\n",
       "      <th>disability_gr_6_other major</th>\n",
       "      <td>-4.717634</td>\n",
       "      <td>1.0</td>\n",
       "    </tr>\n",
       "    <tr>\n",
       "      <th>ethnicity_I</th>\n",
       "      <td>-4.642865</td>\n",
       "      <td>1.0</td>\n",
       "    </tr>\n",
       "    <tr>\n",
       "      <th>disability_gr_6_deafness</th>\n",
       "      <td>-4.389572</td>\n",
       "      <td>1.0</td>\n",
       "    </tr>\n",
       "    <tr>\n",
       "      <th>status_gr_6_deleted</th>\n",
       "      <td>-4.311458</td>\n",
       "      <td>1.0</td>\n",
       "    </tr>\n",
       "    <tr>\n",
       "      <th>status_gr_6_excel</th>\n",
       "      <td>-3.618818</td>\n",
       "      <td>1.0</td>\n",
       "    </tr>\n",
       "    <tr>\n",
       "      <th>math_normalized_gr_6</th>\n",
       "      <td>-1.879860</td>\n",
       "      <td>NaN</td>\n",
       "    </tr>\n",
       "    <tr>\n",
       "      <th>read_normalized_gr_6_isnull</th>\n",
       "      <td>-1.109998</td>\n",
       "      <td>1.0</td>\n",
       "    </tr>\n",
       "    <tr>\n",
       "      <th>read_normalized_gr_5_isnull</th>\n",
       "      <td>-0.980626</td>\n",
       "      <td>1.0</td>\n",
       "    </tr>\n",
       "    <tr>\n",
       "      <th>disability_gr_6_speech and language impairment</th>\n",
       "      <td>-0.783864</td>\n",
       "      <td>1.0</td>\n",
       "    </tr>\n",
       "    <tr>\n",
       "      <th>math_normalized_gr_5</th>\n",
       "      <td>-0.755849</td>\n",
       "      <td>NaN</td>\n",
       "    </tr>\n",
       "    <tr>\n",
       "      <th>read_normalized_gr_5</th>\n",
       "      <td>-0.622966</td>\n",
       "      <td>NaN</td>\n",
       "    </tr>\n",
       "    <tr>\n",
       "      <th>science_normalized_gr_5</th>\n",
       "      <td>-0.530582</td>\n",
       "      <td>NaN</td>\n",
       "    </tr>\n",
       "    <tr>\n",
       "      <th>special_ed_gr_6_100</th>\n",
       "      <td>-0.512227</td>\n",
       "      <td>1.0</td>\n",
       "    </tr>\n",
       "    <tr>\n",
       "      <th>district_gr_6_West Muskingum</th>\n",
       "      <td>-0.444946</td>\n",
       "      <td>1.0</td>\n",
       "    </tr>\n",
       "    <tr>\n",
       "      <th>socstudies_normalized_gr_5</th>\n",
       "      <td>-0.428305</td>\n",
       "      <td>NaN</td>\n",
       "    </tr>\n",
       "    <tr>\n",
       "      <th>disability_gr_6_learning disability</th>\n",
       "      <td>-0.424506</td>\n",
       "      <td>1.0</td>\n",
       "    </tr>\n",
       "    <tr>\n",
       "      <th>status_gr_6_open_enrollment</th>\n",
       "      <td>-0.390939</td>\n",
       "      <td>1.0</td>\n",
       "    </tr>\n",
       "    <tr>\n",
       "      <th>district_gr_6_Riverview</th>\n",
       "      <td>-0.361554</td>\n",
       "      <td>1.0</td>\n",
       "    </tr>\n",
       "    <tr>\n",
       "      <th>read_normalized_gr_4</th>\n",
       "      <td>-0.346908</td>\n",
       "      <td>NaN</td>\n",
       "    </tr>\n",
       "    <tr>\n",
       "      <th>read_normalized_gr_3</th>\n",
       "      <td>-0.274587</td>\n",
       "      <td>NaN</td>\n",
       "    </tr>\n",
       "    <tr>\n",
       "      <th>gpa_district_gr_6</th>\n",
       "      <td>-0.259549</td>\n",
       "      <td>NaN</td>\n",
       "    </tr>\n",
       "    <tr>\n",
       "      <th>district_gr_6_Franklin</th>\n",
       "      <td>-0.221636</td>\n",
       "      <td>1.0</td>\n",
       "    </tr>\n",
       "    <tr>\n",
       "      <th>gpa_gr_6</th>\n",
       "      <td>-0.208268</td>\n",
       "      <td>NaN</td>\n",
       "    </tr>\n",
       "    <tr>\n",
       "      <th>district_gr_6_Maysville</th>\n",
       "      <td>-0.204452</td>\n",
       "      <td>1.0</td>\n",
       "    </tr>\n",
       "    <tr>\n",
       "      <th>district_gr_6_TriValley</th>\n",
       "      <td>-0.183199</td>\n",
       "      <td>1.0</td>\n",
       "    </tr>\n",
       "    <tr>\n",
       "      <th>ethnicity_B</th>\n",
       "      <td>-0.167762</td>\n",
       "      <td>1.0</td>\n",
       "    </tr>\n",
       "    <tr>\n",
       "      <th>district_gr_6_Ridgewood</th>\n",
       "      <td>-0.144450</td>\n",
       "      <td>1.0</td>\n",
       "    </tr>\n",
       "    <tr>\n",
       "      <th>...</th>\n",
       "      <td>...</td>\n",
       "      <td>...</td>\n",
       "    </tr>\n",
       "    <tr>\n",
       "      <th>science_normalized_gr_5_isnull</th>\n",
       "      <td>0.020904</td>\n",
       "      <td>1.0</td>\n",
       "    </tr>\n",
       "    <tr>\n",
       "      <th>socstudies_normalized_gr_5_isnull</th>\n",
       "      <td>0.020904</td>\n",
       "      <td>1.0</td>\n",
       "    </tr>\n",
       "    <tr>\n",
       "      <th>disability_gr_6_emotional disturbance</th>\n",
       "      <td>0.048886</td>\n",
       "      <td>1.0</td>\n",
       "    </tr>\n",
       "    <tr>\n",
       "      <th>gpa_district_gr_6_isnull</th>\n",
       "      <td>0.054433</td>\n",
       "      <td>1.0</td>\n",
       "    </tr>\n",
       "    <tr>\n",
       "      <th>gpa_gr_6_isnull</th>\n",
       "      <td>0.054433</td>\n",
       "      <td>1.0</td>\n",
       "    </tr>\n",
       "    <tr>\n",
       "      <th>status_gr_6_nan</th>\n",
       "      <td>0.082921</td>\n",
       "      <td>1.0</td>\n",
       "    </tr>\n",
       "    <tr>\n",
       "      <th>disability_gr_6_other minor</th>\n",
       "      <td>0.092902</td>\n",
       "      <td>1.0</td>\n",
       "    </tr>\n",
       "    <tr>\n",
       "      <th>disability_gr_6_visual impairment</th>\n",
       "      <td>0.122855</td>\n",
       "      <td>1.0</td>\n",
       "    </tr>\n",
       "    <tr>\n",
       "      <th>gender_F</th>\n",
       "      <td>0.164189</td>\n",
       "      <td>1.0</td>\n",
       "    </tr>\n",
       "    <tr>\n",
       "      <th>math_normalized_gr_3</th>\n",
       "      <td>0.379783</td>\n",
       "      <td>NaN</td>\n",
       "    </tr>\n",
       "    <tr>\n",
       "      <th>read_normalized_gr_6</th>\n",
       "      <td>0.385838</td>\n",
       "      <td>NaN</td>\n",
       "    </tr>\n",
       "    <tr>\n",
       "      <th>math_normalized_gr_4</th>\n",
       "      <td>0.390133</td>\n",
       "      <td>NaN</td>\n",
       "    </tr>\n",
       "    <tr>\n",
       "      <th>disability_gr_6_cognitive disability</th>\n",
       "      <td>0.416793</td>\n",
       "      <td>1.0</td>\n",
       "    </tr>\n",
       "    <tr>\n",
       "      <th>ethnicity_M</th>\n",
       "      <td>0.435017</td>\n",
       "      <td>1.0</td>\n",
       "    </tr>\n",
       "    <tr>\n",
       "      <th>status_gr_6_inactive</th>\n",
       "      <td>0.473458</td>\n",
       "      <td>1.0</td>\n",
       "    </tr>\n",
       "    <tr>\n",
       "      <th>disadvantagement_gr_6_economic</th>\n",
       "      <td>0.570525</td>\n",
       "      <td>1.0</td>\n",
       "    </tr>\n",
       "    <tr>\n",
       "      <th>read_normalized_gr_3_isnull</th>\n",
       "      <td>0.685147</td>\n",
       "      <td>1.0</td>\n",
       "    </tr>\n",
       "    <tr>\n",
       "      <th>iss_gr_6</th>\n",
       "      <td>0.736885</td>\n",
       "      <td>NaN</td>\n",
       "    </tr>\n",
       "    <tr>\n",
       "      <th>ethnicity_nan</th>\n",
       "      <td>1.130914</td>\n",
       "      <td>1.0</td>\n",
       "    </tr>\n",
       "    <tr>\n",
       "      <th>math_normalized_gr_6_isnull</th>\n",
       "      <td>1.138056</td>\n",
       "      <td>1.0</td>\n",
       "    </tr>\n",
       "    <tr>\n",
       "      <th>absence_gr_6</th>\n",
       "      <td>1.198799</td>\n",
       "      <td>NaN</td>\n",
       "    </tr>\n",
       "    <tr>\n",
       "      <th>math_normalized_gr_5_isnull</th>\n",
       "      <td>1.325211</td>\n",
       "      <td>1.0</td>\n",
       "    </tr>\n",
       "    <tr>\n",
       "      <th>ethnicity_H</th>\n",
       "      <td>1.332448</td>\n",
       "      <td>1.0</td>\n",
       "    </tr>\n",
       "    <tr>\n",
       "      <th>disability_gr_6_autism</th>\n",
       "      <td>1.465445</td>\n",
       "      <td>1.0</td>\n",
       "    </tr>\n",
       "    <tr>\n",
       "      <th>status_gr_6_foster</th>\n",
       "      <td>1.523481</td>\n",
       "      <td>1.0</td>\n",
       "    </tr>\n",
       "    <tr>\n",
       "      <th>oss_gr_6</th>\n",
       "      <td>2.034680</td>\n",
       "      <td>NaN</td>\n",
       "    </tr>\n",
       "    <tr>\n",
       "      <th>disability_gr_6_traumatic brain injury</th>\n",
       "      <td>4.742509</td>\n",
       "      <td>1.0</td>\n",
       "    </tr>\n",
       "    <tr>\n",
       "      <th>special_ed_gr_6_50</th>\n",
       "      <td>4.760360</td>\n",
       "      <td>1.0</td>\n",
       "    </tr>\n",
       "    <tr>\n",
       "      <th>math_normalized_gr_4_isnull</th>\n",
       "      <td>4.831779</td>\n",
       "      <td>1.0</td>\n",
       "    </tr>\n",
       "    <tr>\n",
       "      <th>status_gr_6_esc</th>\n",
       "      <td>7.729361</td>\n",
       "      <td>1.0</td>\n",
       "    </tr>\n",
       "  </tbody>\n",
       "</table>\n",
       "<p>63 rows × 2 columns</p>\n",
       "</div>"
      ],
      "text/plain": [
       "                                                importance  binary\n",
       "feature                                                           \n",
       "ethnicity_A                                      -5.125085     1.0\n",
       "read_normalized_gr_4_isnull                      -5.077234     1.0\n",
       "disability_gr_6_multiple                         -4.980336     1.0\n",
       "disability_gr_6_other major                      -4.717634     1.0\n",
       "ethnicity_I                                      -4.642865     1.0\n",
       "disability_gr_6_deafness                         -4.389572     1.0\n",
       "status_gr_6_deleted                              -4.311458     1.0\n",
       "status_gr_6_excel                                -3.618818     1.0\n",
       "math_normalized_gr_6                             -1.879860     NaN\n",
       "read_normalized_gr_6_isnull                      -1.109998     1.0\n",
       "read_normalized_gr_5_isnull                      -0.980626     1.0\n",
       "disability_gr_6_speech and language impairment   -0.783864     1.0\n",
       "math_normalized_gr_5                             -0.755849     NaN\n",
       "read_normalized_gr_5                             -0.622966     NaN\n",
       "science_normalized_gr_5                          -0.530582     NaN\n",
       "special_ed_gr_6_100                              -0.512227     1.0\n",
       "district_gr_6_West Muskingum                     -0.444946     1.0\n",
       "socstudies_normalized_gr_5                       -0.428305     NaN\n",
       "disability_gr_6_learning disability              -0.424506     1.0\n",
       "status_gr_6_open_enrollment                      -0.390939     1.0\n",
       "district_gr_6_Riverview                          -0.361554     1.0\n",
       "read_normalized_gr_4                             -0.346908     NaN\n",
       "read_normalized_gr_3                             -0.274587     NaN\n",
       "gpa_district_gr_6                                -0.259549     NaN\n",
       "district_gr_6_Franklin                           -0.221636     1.0\n",
       "gpa_gr_6                                         -0.208268     NaN\n",
       "district_gr_6_Maysville                          -0.204452     1.0\n",
       "district_gr_6_TriValley                          -0.183199     1.0\n",
       "ethnicity_B                                      -0.167762     1.0\n",
       "district_gr_6_Ridgewood                          -0.144450     1.0\n",
       "...                                                    ...     ...\n",
       "science_normalized_gr_5_isnull                    0.020904     1.0\n",
       "socstudies_normalized_gr_5_isnull                 0.020904     1.0\n",
       "disability_gr_6_emotional disturbance             0.048886     1.0\n",
       "gpa_district_gr_6_isnull                          0.054433     1.0\n",
       "gpa_gr_6_isnull                                   0.054433     1.0\n",
       "status_gr_6_nan                                   0.082921     1.0\n",
       "disability_gr_6_other minor                       0.092902     1.0\n",
       "disability_gr_6_visual impairment                 0.122855     1.0\n",
       "gender_F                                          0.164189     1.0\n",
       "math_normalized_gr_3                              0.379783     NaN\n",
       "read_normalized_gr_6                              0.385838     NaN\n",
       "math_normalized_gr_4                              0.390133     NaN\n",
       "disability_gr_6_cognitive disability              0.416793     1.0\n",
       "ethnicity_M                                       0.435017     1.0\n",
       "status_gr_6_inactive                              0.473458     1.0\n",
       "disadvantagement_gr_6_economic                    0.570525     1.0\n",
       "read_normalized_gr_3_isnull                       0.685147     1.0\n",
       "iss_gr_6                                          0.736885     NaN\n",
       "ethnicity_nan                                     1.130914     1.0\n",
       "math_normalized_gr_6_isnull                       1.138056     1.0\n",
       "absence_gr_6                                      1.198799     NaN\n",
       "math_normalized_gr_5_isnull                       1.325211     1.0\n",
       "ethnicity_H                                       1.332448     1.0\n",
       "disability_gr_6_autism                            1.465445     1.0\n",
       "status_gr_6_foster                                1.523481     1.0\n",
       "oss_gr_6                                          2.034680     NaN\n",
       "disability_gr_6_traumatic brain injury            4.742509     1.0\n",
       "special_ed_gr_6_50                                4.760360     1.0\n",
       "math_normalized_gr_4_isnull                       4.831779     1.0\n",
       "status_gr_6_esc                                   7.729361     1.0\n",
       "\n",
       "[63 rows x 2 columns]"
      ]
     },
     "execution_count": 99,
     "metadata": {},
     "output_type": "execute_result"
    }
   ],
   "source": [
    "scores_weighted.sort_values('importance')"
   ]
  },
  {
   "cell_type": "code",
   "execution_count": 125,
   "metadata": {
    "collapsed": false
   },
   "outputs": [
    {
     "data": {
      "text/plain": [
       "<matplotlib.axes._subplots.AxesSubplot at 0x7f6c484646a0>"
      ]
     },
     "execution_count": 125,
     "metadata": {},
     "output_type": "execute_result"
    },
    {
     "data": {
      "image/png": "[encoded data removed]",
      "text/plain": [
       "<matplotlib.figure.Figure at 0x7f6c485a3e10>"
      ]
     },
     "metadata": {},
     "output_type": "display_data"
    }
   ],
   "source": [
    "scores[scores['binary']]['importance'].hist(bins=100)"
   ]
  },
  {
   "cell_type": "code",
   "execution_count": 131,
   "metadata": {
    "collapsed": false
   },
   "outputs": [
    {
     "data": {
      "text/plain": [
       "<matplotlib.axes._subplots.AxesSubplot at 0x7f6c4ce12be0>"
      ]
     },
     "execution_count": 131,
     "metadata": {},
     "output_type": "execute_result"
    },
    {
     "data": {
      "image/png": "[encoded data removed]",
      "text/plain": [
       "<matplotlib.figure.Figure at 0x7f6c4cc369b0>"
      ]
     },
     "metadata": {},
     "output_type": "display_data"
    }
   ],
   "source": [
    "(scores[~scores['binary']]['importance']).hist(bins=100)"
   ]
  },
  {
   "cell_type": "code",
   "execution_count": 130,
   "metadata": {
    "collapsed": false
   },
   "outputs": [
    {
     "data": {
      "text/html": [
       "<div>\n",
       "<table border=\"1\" class=\"dataframe\">\n",
       "  <thead>\n",
       "    <tr style=\"text-align: right;\">\n",
       "      <th></th>\n",
       "      <th>importance</th>\n",
       "      <th>binary</th>\n",
       "    </tr>\n",
       "    <tr>\n",
       "      <th>feature</th>\n",
       "      <th></th>\n",
       "      <th></th>\n",
       "    </tr>\n",
       "  </thead>\n",
       "  <tbody>\n",
       "    <tr>\n",
       "      <th>math_normalized_gr_6</th>\n",
       "      <td>-0.375972</td>\n",
       "      <td>False</td>\n",
       "    </tr>\n",
       "    <tr>\n",
       "      <th>math_normalized_gr_5</th>\n",
       "      <td>-0.151170</td>\n",
       "      <td>False</td>\n",
       "    </tr>\n",
       "    <tr>\n",
       "      <th>read_normalized_gr_5</th>\n",
       "      <td>-0.124593</td>\n",
       "      <td>False</td>\n",
       "    </tr>\n",
       "    <tr>\n",
       "      <th>science_normalized_gr_5</th>\n",
       "      <td>-0.106116</td>\n",
       "      <td>False</td>\n",
       "    </tr>\n",
       "    <tr>\n",
       "      <th>socstudies_normalized_gr_5</th>\n",
       "      <td>-0.085661</td>\n",
       "      <td>False</td>\n",
       "    </tr>\n",
       "    <tr>\n",
       "      <th>read_normalized_gr_4</th>\n",
       "      <td>-0.069382</td>\n",
       "      <td>False</td>\n",
       "    </tr>\n",
       "    <tr>\n",
       "      <th>read_normalized_gr_3</th>\n",
       "      <td>-0.054917</td>\n",
       "      <td>False</td>\n",
       "    </tr>\n",
       "    <tr>\n",
       "      <th>gpa_district_gr_6</th>\n",
       "      <td>-0.051910</td>\n",
       "      <td>False</td>\n",
       "    </tr>\n",
       "    <tr>\n",
       "      <th>gpa_gr_6</th>\n",
       "      <td>-0.041654</td>\n",
       "      <td>False</td>\n",
       "    </tr>\n",
       "    <tr>\n",
       "      <th>discipline_incidents_gr_6</th>\n",
       "      <td>-0.002632</td>\n",
       "      <td>False</td>\n",
       "    </tr>\n",
       "    <tr>\n",
       "      <th>math_normalized_gr_3</th>\n",
       "      <td>0.075957</td>\n",
       "      <td>False</td>\n",
       "    </tr>\n",
       "    <tr>\n",
       "      <th>read_normalized_gr_6</th>\n",
       "      <td>0.077168</td>\n",
       "      <td>False</td>\n",
       "    </tr>\n",
       "    <tr>\n",
       "      <th>math_normalized_gr_4</th>\n",
       "      <td>0.078027</td>\n",
       "      <td>False</td>\n",
       "    </tr>\n",
       "    <tr>\n",
       "      <th>iss_gr_6</th>\n",
       "      <td>0.147377</td>\n",
       "      <td>False</td>\n",
       "    </tr>\n",
       "    <tr>\n",
       "      <th>absence_gr_6</th>\n",
       "      <td>0.239760</td>\n",
       "      <td>False</td>\n",
       "    </tr>\n",
       "    <tr>\n",
       "      <th>oss_gr_6</th>\n",
       "      <td>0.406936</td>\n",
       "      <td>False</td>\n",
       "    </tr>\n",
       "  </tbody>\n",
       "</table>\n",
       "</div>"
      ],
      "text/plain": [
       "                            importance binary\n",
       "feature                                      \n",
       "math_normalized_gr_6         -0.375972  False\n",
       "math_normalized_gr_5         -0.151170  False\n",
       "read_normalized_gr_5         -0.124593  False\n",
       "science_normalized_gr_5      -0.106116  False\n",
       "socstudies_normalized_gr_5   -0.085661  False\n",
       "read_normalized_gr_4         -0.069382  False\n",
       "read_normalized_gr_3         -0.054917  False\n",
       "gpa_district_gr_6            -0.051910  False\n",
       "gpa_gr_6                     -0.041654  False\n",
       "discipline_incidents_gr_6    -0.002632  False\n",
       "math_normalized_gr_3          0.075957  False\n",
       "read_normalized_gr_6          0.077168  False\n",
       "math_normalized_gr_4          0.078027  False\n",
       "iss_gr_6                      0.147377  False\n",
       "absence_gr_6                  0.239760  False\n",
       "oss_gr_6                      0.406936  False"
      ]
     },
     "execution_count": 130,
     "metadata": {},
     "output_type": "execute_result"
    }
   ],
   "source": [
    "scores[~scores['binary']].sort_values('importance')"
   ]
  },
  {
   "cell_type": "code",
   "execution_count": 134,
   "metadata": {
    "collapsed": false
   },
   "outputs": [
    {
     "data": {
      "text/plain": [
       "feature\n",
       "status_gr_6_esc                                   7.729361\n",
       "ethnicity_A                                      -5.125085\n",
       "read_normalized_gr_4_isnull                      -5.077234\n",
       "disability_gr_6_multiple                         -4.980336\n",
       "math_normalized_gr_4_isnull                       4.831779\n",
       "special_ed_gr_6_50                                4.760360\n",
       "disability_gr_6_traumatic brain injury            4.742509\n",
       "disability_gr_6_other major                      -4.717634\n",
       "ethnicity_I                                      -4.642865\n",
       "disability_gr_6_deafness                         -4.389572\n",
       "status_gr_6_deleted                              -4.311458\n",
       "status_gr_6_excel                                -3.618818\n",
       "status_gr_6_foster                                1.523481\n",
       "disability_gr_6_autism                            1.465445\n",
       "ethnicity_H                                       1.332448\n",
       "math_normalized_gr_5_isnull                       1.325211\n",
       "math_normalized_gr_6_isnull                       1.138056\n",
       "ethnicity_nan                                     1.130914\n",
       "read_normalized_gr_6_isnull                      -1.109998\n",
       "read_normalized_gr_5_isnull                      -0.980626\n",
       "disability_gr_6_speech and language impairment   -0.783864\n",
       "read_normalized_gr_3_isnull                       0.685147\n",
       "disadvantagement_gr_6_economic                    0.570525\n",
       "special_ed_gr_6_100                              -0.512227\n",
       "status_gr_6_inactive                              0.473458\n",
       "district_gr_6_West Muskingum                     -0.444946\n",
       "ethnicity_M                                       0.435017\n",
       "disability_gr_6_learning disability              -0.424506\n",
       "disability_gr_6_cognitive disability              0.416793\n",
       "oss_gr_6                                          0.406936\n",
       "                                                    ...   \n",
       "absence_gr_6                                      0.239760\n",
       "district_gr_6_Franklin                           -0.221636\n",
       "district_gr_6_Maysville                          -0.204452\n",
       "district_gr_6_TriValley                          -0.183199\n",
       "ethnicity_B                                      -0.167762\n",
       "gender_F                                          0.164189\n",
       "math_normalized_gr_5                             -0.151170\n",
       "iss_gr_6                                          0.147377\n",
       "district_gr_6_Ridgewood                          -0.144450\n",
       "math_normalized_gr_3_isnull                      -0.138492\n",
       "read_normalized_gr_5                             -0.124593\n",
       "disability_gr_6_visual impairment                 0.122855\n",
       "science_normalized_gr_5                          -0.106116\n",
       "disability_gr_6_other minor                       0.092902\n",
       "socstudies_normalized_gr_5                       -0.085661\n",
       "status_gr_6_nan                                   0.082921\n",
       "math_normalized_gr_4                              0.078027\n",
       "read_normalized_gr_6                              0.077168\n",
       "math_normalized_gr_3                              0.075957\n",
       "read_normalized_gr_4                             -0.069382\n",
       "read_normalized_gr_3                             -0.054917\n",
       "gpa_district_gr_6_isnull                          0.054433\n",
       "gpa_gr_6_isnull                                   0.054433\n",
       "gpa_district_gr_6                                -0.051910\n",
       "disability_gr_6_emotional disturbance             0.048886\n",
       "gpa_gr_6                                         -0.041654\n",
       "district_gr_6_Coshocton                          -0.038571\n",
       "science_normalized_gr_5_isnull                    0.020904\n",
       "socstudies_normalized_gr_5_isnull                 0.020904\n",
       "discipline_incidents_gr_6                        -0.002632\n",
       "Name: importance, dtype: float64"
      ]
     },
     "execution_count": 134,
     "metadata": {},
     "output_type": "execute_result"
    }
   ],
   "source": [
    "scores['importance']"
   ]
  },
  {
   "cell_type": "code",
   "execution_count": 151,
   "metadata": {
    "collapsed": false
   },
   "outputs": [
    {
     "data": {
      "text/plain": [
       "<matplotlib.axes._subplots.AxesSubplot at 0x7f6c4157e6d8>"
      ]
     },
     "execution_count": 151,
     "metadata": {},
     "output_type": "execute_result"
    },
    {
     "data": {
      "image/png": "[encoded data removed]",
      "text/plain": [
       "<matplotlib.figure.Figure at 0x7f6c40d7f0b8>"
      ]
     },
     "metadata": {},
     "output_type": "display_data"
    }
   ],
   "source": [
    "(train_X[train_X.columns[~scores['binary']]]*scores['importance'][~scores['binary']]).mean(axis=0).hist()\n"
   ]
  },
  {
   "cell_type": "code",
   "execution_count": 153,
   "metadata": {
    "collapsed": false
   },
   "outputs": [
    {
     "data": {
      "text/plain": [
       "<matplotlib.axes._subplots.AxesSubplot at 0x7f6c40619438>"
      ]
     },
     "execution_count": 153,
     "metadata": {},
     "output_type": "execute_result"
    },
    {
     "data": {
      "image/png": "[encoded data removed]",
      "text/plain": [
       "<matplotlib.figure.Figure at 0x7f6c406233c8>"
      ]
     },
     "metadata": {},
     "output_type": "display_data"
    }
   ],
   "source": [
    "(train_X[train_X.columns[scores['binary']]]*scores['importance'][~scores['binary']]).mean(axis=0).hist()\n"
   ]
  },
  {
   "cell_type": "code",
   "execution_count": 161,
   "metadata": {
    "collapsed": false
   },
   "outputs": [
    {
     "data": {
      "text/html": [
       "<div>\n",
       "<table border=\"1\" class=\"dataframe\">\n",
       "  <thead>\n",
       "    <tr style=\"text-align: right;\">\n",
       "      <th></th>\n",
       "      <th>importance</th>\n",
       "    </tr>\n",
       "  </thead>\n",
       "  <tbody>\n",
       "    <tr>\n",
       "      <th>read_normalized_gr_4_isnull</th>\n",
       "      <td>-1.076345</td>\n",
       "    </tr>\n",
       "    <tr>\n",
       "      <th>special_ed_gr_6_100</th>\n",
       "      <td>-0.438882</td>\n",
       "    </tr>\n",
       "    <tr>\n",
       "      <th>read_normalized_gr_5_isnull</th>\n",
       "      <td>-0.143150</td>\n",
       "    </tr>\n",
       "    <tr>\n",
       "      <th>math_normalized_gr_3_isnull</th>\n",
       "      <td>-0.088916</td>\n",
       "    </tr>\n",
       "    <tr>\n",
       "      <th>read_normalized_gr_6_isnull</th>\n",
       "      <td>-0.068117</td>\n",
       "    </tr>\n",
       "    <tr>\n",
       "      <th>district_gr_6_Riverview</th>\n",
       "      <td>-0.054124</td>\n",
       "    </tr>\n",
       "    <tr>\n",
       "      <th>district_gr_6_West Muskingum</th>\n",
       "      <td>-0.047577</td>\n",
       "    </tr>\n",
       "    <tr>\n",
       "      <th>district_gr_6_TriValley</th>\n",
       "      <td>-0.037219</td>\n",
       "    </tr>\n",
       "    <tr>\n",
       "      <th>district_gr_6_Franklin</th>\n",
       "      <td>-0.034518</td>\n",
       "    </tr>\n",
       "    <tr>\n",
       "      <th>district_gr_6_Maysville</th>\n",
       "      <td>-0.029941</td>\n",
       "    </tr>\n",
       "    <tr>\n",
       "      <th>disability_gr_6_learning disability</th>\n",
       "      <td>-0.022301</td>\n",
       "    </tr>\n",
       "    <tr>\n",
       "      <th>status_gr_6_open_enrollment</th>\n",
       "      <td>-0.019265</td>\n",
       "    </tr>\n",
       "    <tr>\n",
       "      <th>ethnicity_A</th>\n",
       "      <td>-0.016679</td>\n",
       "    </tr>\n",
       "    <tr>\n",
       "      <th>district_gr_6_Ridgewood</th>\n",
       "      <td>-0.006313</td>\n",
       "    </tr>\n",
       "    <tr>\n",
       "      <th>ethnicity_I</th>\n",
       "      <td>-0.004317</td>\n",
       "    </tr>\n",
       "    <tr>\n",
       "      <th>status_gr_6_deleted</th>\n",
       "      <td>-0.004009</td>\n",
       "    </tr>\n",
       "    <tr>\n",
       "      <th>district_gr_6_Coshocton</th>\n",
       "      <td>-0.003622</td>\n",
       "    </tr>\n",
       "    <tr>\n",
       "      <th>disability_gr_6_speech and language impairment</th>\n",
       "      <td>-0.002915</td>\n",
       "    </tr>\n",
       "    <tr>\n",
       "      <th>read_normalized_gr_6</th>\n",
       "      <td>-0.002808</td>\n",
       "    </tr>\n",
       "    <tr>\n",
       "      <th>disability_gr_6_multiple</th>\n",
       "      <td>-0.002315</td>\n",
       "    </tr>\n",
       "    <tr>\n",
       "      <th>disability_gr_6_other major</th>\n",
       "      <td>-0.002193</td>\n",
       "    </tr>\n",
       "    <tr>\n",
       "      <th>disability_gr_6_deafness</th>\n",
       "      <td>-0.002041</td>\n",
       "    </tr>\n",
       "    <tr>\n",
       "      <th>status_gr_6_excel</th>\n",
       "      <td>-0.001682</td>\n",
       "    </tr>\n",
       "    <tr>\n",
       "      <th>discipline_incidents_gr_6</th>\n",
       "      <td>-0.001586</td>\n",
       "    </tr>\n",
       "    <tr>\n",
       "      <th>read_normalized_gr_3</th>\n",
       "      <td>-0.001306</td>\n",
       "    </tr>\n",
       "    <tr>\n",
       "      <th>ethnicity_B</th>\n",
       "      <td>-0.001092</td>\n",
       "    </tr>\n",
       "    <tr>\n",
       "      <th>math_normalized_gr_3</th>\n",
       "      <td>-0.000126</td>\n",
       "    </tr>\n",
       "    <tr>\n",
       "      <th>disability_gr_6_visual impairment</th>\n",
       "      <td>0.000114</td>\n",
       "    </tr>\n",
       "    <tr>\n",
       "      <th>disability_gr_6_emotional disturbance</th>\n",
       "      <td>0.000159</td>\n",
       "    </tr>\n",
       "    <tr>\n",
       "      <th>socstudies_normalized_gr_5</th>\n",
       "      <td>0.000292</td>\n",
       "    </tr>\n",
       "    <tr>\n",
       "      <th>...</th>\n",
       "      <td>...</td>\n",
       "    </tr>\n",
       "    <tr>\n",
       "      <th>disability_gr_6_traumatic brain injury</th>\n",
       "      <td>0.002205</td>\n",
       "    </tr>\n",
       "    <tr>\n",
       "      <th>special_ed_gr_6_50</th>\n",
       "      <td>0.002213</td>\n",
       "    </tr>\n",
       "    <tr>\n",
       "      <th>ethnicity_H</th>\n",
       "      <td>0.003097</td>\n",
       "    </tr>\n",
       "    <tr>\n",
       "      <th>disability_gr_6_autism</th>\n",
       "      <td>0.003406</td>\n",
       "    </tr>\n",
       "    <tr>\n",
       "      <th>disability_gr_6_cognitive disability</th>\n",
       "      <td>0.003682</td>\n",
       "    </tr>\n",
       "    <tr>\n",
       "      <th>math_normalized_gr_5</th>\n",
       "      <td>0.004563</td>\n",
       "    </tr>\n",
       "    <tr>\n",
       "      <th>read_normalized_gr_5</th>\n",
       "      <td>0.004896</td>\n",
       "    </tr>\n",
       "    <tr>\n",
       "      <th>status_gr_6_foster</th>\n",
       "      <td>0.004958</td>\n",
       "    </tr>\n",
       "    <tr>\n",
       "      <th>math_normalized_gr_4</th>\n",
       "      <td>0.005103</td>\n",
       "    </tr>\n",
       "    <tr>\n",
       "      <th>read_normalized_gr_4</th>\n",
       "      <td>0.006122</td>\n",
       "    </tr>\n",
       "    <tr>\n",
       "      <th>status_gr_6_nan</th>\n",
       "      <td>0.008327</td>\n",
       "    </tr>\n",
       "    <tr>\n",
       "      <th>iss_gr_6</th>\n",
       "      <td>0.008701</td>\n",
       "    </tr>\n",
       "    <tr>\n",
       "      <th>gpa_district_gr_6</th>\n",
       "      <td>0.009599</td>\n",
       "    </tr>\n",
       "    <tr>\n",
       "      <th>ethnicity_M</th>\n",
       "      <td>0.010719</td>\n",
       "    </tr>\n",
       "    <tr>\n",
       "      <th>status_gr_6_esc</th>\n",
       "      <td>0.010780</td>\n",
       "    </tr>\n",
       "    <tr>\n",
       "      <th>science_normalized_gr_5_isnull</th>\n",
       "      <td>0.012031</td>\n",
       "    </tr>\n",
       "    <tr>\n",
       "      <th>socstudies_normalized_gr_5_isnull</th>\n",
       "      <td>0.012031</td>\n",
       "    </tr>\n",
       "    <tr>\n",
       "      <th>math_normalized_gr_6</th>\n",
       "      <td>0.012363</td>\n",
       "    </tr>\n",
       "    <tr>\n",
       "      <th>status_gr_6_inactive</th>\n",
       "      <td>0.013647</td>\n",
       "    </tr>\n",
       "    <tr>\n",
       "      <th>gpa_gr_6</th>\n",
       "      <td>0.018176</td>\n",
       "    </tr>\n",
       "    <tr>\n",
       "      <th>oss_gr_6</th>\n",
       "      <td>0.023270</td>\n",
       "    </tr>\n",
       "    <tr>\n",
       "      <th>gpa_gr_6_isnull</th>\n",
       "      <td>0.025331</td>\n",
       "    </tr>\n",
       "    <tr>\n",
       "      <th>gpa_district_gr_6_isnull</th>\n",
       "      <td>0.025331</td>\n",
       "    </tr>\n",
       "    <tr>\n",
       "      <th>absence_gr_6</th>\n",
       "      <td>0.035007</td>\n",
       "    </tr>\n",
       "    <tr>\n",
       "      <th>math_normalized_gr_6_isnull</th>\n",
       "      <td>0.070368</td>\n",
       "    </tr>\n",
       "    <tr>\n",
       "      <th>gender_F</th>\n",
       "      <td>0.078698</td>\n",
       "    </tr>\n",
       "    <tr>\n",
       "      <th>disadvantagement_gr_6_economic</th>\n",
       "      <td>0.098933</td>\n",
       "    </tr>\n",
       "    <tr>\n",
       "      <th>read_normalized_gr_3_isnull</th>\n",
       "      <td>0.170729</td>\n",
       "    </tr>\n",
       "    <tr>\n",
       "      <th>math_normalized_gr_5_isnull</th>\n",
       "      <td>0.195917</td>\n",
       "    </tr>\n",
       "    <tr>\n",
       "      <th>math_normalized_gr_4_isnull</th>\n",
       "      <td>1.026557</td>\n",
       "    </tr>\n",
       "  </tbody>\n",
       "</table>\n",
       "<p>63 rows × 1 columns</p>\n",
       "</div>"
      ],
      "text/plain": [
       "                                                importance\n",
       "read_normalized_gr_4_isnull                      -1.076345\n",
       "special_ed_gr_6_100                              -0.438882\n",
       "read_normalized_gr_5_isnull                      -0.143150\n",
       "math_normalized_gr_3_isnull                      -0.088916\n",
       "read_normalized_gr_6_isnull                      -0.068117\n",
       "district_gr_6_Riverview                          -0.054124\n",
       "district_gr_6_West Muskingum                     -0.047577\n",
       "district_gr_6_TriValley                          -0.037219\n",
       "district_gr_6_Franklin                           -0.034518\n",
       "district_gr_6_Maysville                          -0.029941\n",
       "disability_gr_6_learning disability              -0.022301\n",
       "status_gr_6_open_enrollment                      -0.019265\n",
       "ethnicity_A                                      -0.016679\n",
       "district_gr_6_Ridgewood                          -0.006313\n",
       "ethnicity_I                                      -0.004317\n",
       "status_gr_6_deleted                              -0.004009\n",
       "district_gr_6_Coshocton                          -0.003622\n",
       "disability_gr_6_speech and language impairment   -0.002915\n",
       "read_normalized_gr_6                             -0.002808\n",
       "disability_gr_6_multiple                         -0.002315\n",
       "disability_gr_6_other major                      -0.002193\n",
       "disability_gr_6_deafness                         -0.002041\n",
       "status_gr_6_excel                                -0.001682\n",
       "discipline_incidents_gr_6                        -0.001586\n",
       "read_normalized_gr_3                             -0.001306\n",
       "ethnicity_B                                      -0.001092\n",
       "math_normalized_gr_3                             -0.000126\n",
       "disability_gr_6_visual impairment                 0.000114\n",
       "disability_gr_6_emotional disturbance             0.000159\n",
       "socstudies_normalized_gr_5                        0.000292\n",
       "...                                                    ...\n",
       "disability_gr_6_traumatic brain injury            0.002205\n",
       "special_ed_gr_6_50                                0.002213\n",
       "ethnicity_H                                       0.003097\n",
       "disability_gr_6_autism                            0.003406\n",
       "disability_gr_6_cognitive disability              0.003682\n",
       "math_normalized_gr_5                              0.004563\n",
       "read_normalized_gr_5                              0.004896\n",
       "status_gr_6_foster                                0.004958\n",
       "math_normalized_gr_4                              0.005103\n",
       "read_normalized_gr_4                              0.006122\n",
       "status_gr_6_nan                                   0.008327\n",
       "iss_gr_6                                          0.008701\n",
       "gpa_district_gr_6                                 0.009599\n",
       "ethnicity_M                                       0.010719\n",
       "status_gr_6_esc                                   0.010780\n",
       "science_normalized_gr_5_isnull                    0.012031\n",
       "socstudies_normalized_gr_5_isnull                 0.012031\n",
       "math_normalized_gr_6                              0.012363\n",
       "status_gr_6_inactive                              0.013647\n",
       "gpa_gr_6                                          0.018176\n",
       "oss_gr_6                                          0.023270\n",
       "gpa_gr_6_isnull                                   0.025331\n",
       "gpa_district_gr_6_isnull                          0.025331\n",
       "absence_gr_6                                      0.035007\n",
       "math_normalized_gr_6_isnull                       0.070368\n",
       "gender_F                                          0.078698\n",
       "disadvantagement_gr_6_economic                    0.098933\n",
       "read_normalized_gr_3_isnull                       0.170729\n",
       "math_normalized_gr_5_isnull                       0.195917\n",
       "math_normalized_gr_4_isnull                       1.026557\n",
       "\n",
       "[63 rows x 1 columns]"
      ]
     },
     "execution_count": 161,
     "metadata": {},
     "output_type": "execute_result"
    }
   ],
   "source": [
    "pd.DataFrame((train_X*scores['importance']).mean(axis=0), columns=['importance']).sort_values('importance')"
   ]
  },
  {
   "cell_type": "code",
   "execution_count": null,
   "metadata": {
    "collapsed": false
   },
   "outputs": [],
   "source": []
  },
  {
   "cell_type": "code",
   "execution_count": null,
   "metadata": {
    "collapsed": true
   },
   "outputs": [],
   "source": []
  }
 ],
 "metadata": {
  "kernelspec": {
   "display_name": "Python 3",
   "language": "python",
   "name": "python3"
  },
  "language_info": {
   "codemirror_mode": {
    "name": "ipython",
    "version": 3
   },
   "file_extension": ".py",
   "mimetype": "text/x-python",
   "name": "python",
   "nbconvert_exporter": "python",
   "pygments_lexer": "ipython3",
   "version": "3.4.3"
  }
 },
 "nbformat": 4,
 "nbformat_minor": 0
}
