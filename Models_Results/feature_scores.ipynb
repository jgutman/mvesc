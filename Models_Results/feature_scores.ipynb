{
 "cells": [
  {
   "cell_type": "code",
   "execution_count": 1,
   "metadata": {
    "collapsed": true
   },
   "outputs": [],
   "source": [
    "import os, sys\n",
    "sys.path.insert(0, '/home/jtorrenc/mvesc/ETL')\n",
    "sys.path.insert(0, '/home/jtorrenc/mvesc/ModelsResults')\n",
    "\n",
    "from mvesc_utility_functions import *\n",
    "from estimate_prediction_model import *\n",
    "import numpy as np\n",
    "import pandas as pd\n",
    "import random\n",
    "from functools import partial\n",
    "import itertools\n",
    "import pickle\n",
    "from sklearn.metrics import precision_score, recall_score\n",
    "import matplotlib.pyplot as plt\n",
    "%matplotlib inline"
   ]
  },
  {
   "cell_type": "code",
   "execution_count": 2,
   "metadata": {
    "collapsed": false
   },
   "outputs": [
    {
     "data": {
      "text/plain": [
       "dict_keys(['model_options', 'val_set_preds', 'val_set_soft_preds', 'model_name', 'cross_validation_scores', 'features', 'test_set_preds', 'test_set_soft_preds', 'train_set_balance', 'train_y', 'parameter_grid', 'estimator', 'train_set_soft_preds', 'file_name', 'val_y', 'test_y', 'train_set_preds', 'time'])"
      ]
     },
     "execution_count": 2,
     "metadata": {},
     "output_type": "execute_result"
    }
   ],
   "source": [
    "filename = '08_12_2016_grade_10_param_set_22_RF_ht_23591'\n",
    "#filename = '08_12_2016_grade_10_param_set_16_RF_ht_22199'\n",
    "\n",
    "with open('/mnt/data/mvesc/Models_Results/pkls/'+filename+'_RF.pkl', \"rb\" ) as f:\n",
    "    d = pickle.load(f)\n",
    "model_options = d['model_options']\n",
    "d.keys()\n"
   ]
  },
  {
   "cell_type": "code",
   "execution_count": 3,
   "metadata": {
    "collapsed": false
   },
   "outputs": [
    {
     "data": {
      "text/plain": [
       "[2007, 2008, 2009, 2010, 2011]"
      ]
     },
     "execution_count": 3,
     "metadata": {},
     "output_type": "execute_result"
    }
   ],
   "source": [
    "model_options['cohorts_training']"
   ]
  },
  {
   "cell_type": "code",
   "execution_count": 4,
   "metadata": {
    "collapsed": true
   },
   "outputs": [],
   "source": [
    "model = d['estimator']"
   ]
  },
  {
   "cell_type": "code",
   "execution_count": 5,
   "metadata": {
    "collapsed": false
   },
   "outputs": [
    {
     "data": {
      "text/plain": [
       "86"
      ]
     },
     "execution_count": 5,
     "metadata": {},
     "output_type": "execute_result"
    }
   ],
   "source": [
    "len(model.feature_importances_) "
   ]
  },
  {
   "cell_type": "code",
   "execution_count": 6,
   "metadata": {
    "collapsed": true
   },
   "outputs": [],
   "source": [
    "outcome_plus_features = build_outcomes_plus_features(model_options,None)\n",
    "outcome_plus_features.dropna(subset=[model_options['outcome_name'],\n",
    "        model_options['cohort_grade_level_begin']], inplace=True)"
   ]
  },
  {
   "cell_type": "code",
   "execution_count": 7,
   "metadata": {
    "collapsed": false
   },
   "outputs": [],
   "source": [
    "train, val, test = temporal_cohort_test_split(outcome_plus_features,\n",
    "            model_options['cohort_grade_level_begin'],\n",
    "            model_options['cohorts_test'],\n",
    "            model_options['cohorts_val'],\n",
    "            model_options['cohorts_training'])"
   ]
  },
  {
   "cell_type": "code",
   "execution_count": 8,
   "metadata": {
    "collapsed": false
   },
   "outputs": [],
   "source": [
    "train_X = train.drop([model_options['outcome_name'],\n",
    "                      model_options['cohort_grade_level_begin']],axis=1)\n",
    "test_X = test.drop([model_options['outcome_name'],\n",
    "                    model_options['cohort_grade_level_begin']],axis=1)\n",
    "val_X = val.drop([model_options['outcome_name'],\n",
    "                  model_options['cohort_grade_level_begin']],axis=1)\n",
    "train_y = train[model_options['outcome_name']]\n",
    "test_y = test[model_options['outcome_name']]\n",
    "val_y = val[model_options['outcome_name']]"
   ]
  },
  {
   "cell_type": "code",
   "execution_count": 9,
   "metadata": {
    "collapsed": false
   },
   "outputs": [],
   "source": [
    "train_X, val_X, test_X = impute_missing_values(train_X, val_X, test_X,\\\n",
    "    model_options['missing_impute_strategy'])\n",
    "assert (all(train_X.columns == test_X.columns)),\\\n",
    "    \"train and test have different columns\"\n"
   ]
  },
  {
   "cell_type": "code",
   "execution_count": 10,
   "metadata": {
    "collapsed": false
   },
   "outputs": [
    {
     "name": "stdout",
     "output_type": "stream",
     "text": [
      "85\n"
     ]
    }
   ],
   "source": [
    "train_X, val_X, test_X = scale_features(train_X, val_X, test_X,\n",
    "    model_options['feature_scaling'])\n",
    "assert (all(train_X.columns == test_X.columns)),\\\n",
    "    \"train and test have different columns\"\n",
    "print(len(train_X.columns)) "
   ]
  },
  {
   "cell_type": "code",
   "execution_count": 11,
   "metadata": {
    "collapsed": false
   },
   "outputs": [],
   "source": [
    "binary_features = pd.DataFrame(~train_X.apply(lambda x: len(x.unique()),axis=0).gt(2), columns = ['binary'])"
   ]
  },
  {
   "cell_type": "code",
   "execution_count": 12,
   "metadata": {
    "collapsed": false
   },
   "outputs": [
    {
     "data": {
      "text/plain": [
       "85"
      ]
     },
     "execution_count": 12,
     "metadata": {},
     "output_type": "execute_result"
    }
   ],
   "source": [
    "with postgres_pgconnection_generator() as connection:\n",
    "    with connection.cursor() as cursor:\n",
    "        cursor.execute(\"\"\"select feature,importance from model.feature_scores\n",
    "                                where filename = '{}'; \"\"\".format(filename))\n",
    "        temp = cursor.fetchall()\n",
    "scores = pd.DataFrame(temp, columns = ['feature','importance'])\n",
    "len(scores)"
   ]
  },
  {
   "cell_type": "code",
   "execution_count": 13,
   "metadata": {
    "collapsed": false
   },
   "outputs": [],
   "source": [
    "scores.set_index('feature', inplace=True)"
   ]
  },
  {
   "cell_type": "code",
   "execution_count": 14,
   "metadata": {
    "collapsed": false
   },
   "outputs": [
    {
     "name": "stdout",
     "output_type": "stream",
     "text": [
      "section_504_plan_gr_9_0\n"
     ]
    }
   ],
   "source": [
    "for a in train_X.columns:\n",
    "    if a not in scores.index:\n",
    "        least_important = a\n",
    "        print(a)\n",
    "# this is probably the least important feature, excluded from database by bug"
   ]
  },
  {
   "cell_type": "code",
   "execution_count": 15,
   "metadata": {
    "collapsed": false
   },
   "outputs": [
    {
     "name": "stdout",
     "output_type": "stream",
     "text": [
      "status_gr_9_full_college\n"
     ]
    }
   ],
   "source": [
    "for a in scores.index:\n",
    "    if a not in train_X.columns:\n",
    "        print(a)  "
   ]
  },
  {
   "cell_type": "code",
   "execution_count": 16,
   "metadata": {
    "collapsed": false
   },
   "outputs": [
    {
     "name": "stdout",
     "output_type": "stream",
     "text": [
      "85\n",
      "85\n",
      "86\n"
     ]
    }
   ],
   "source": [
    "print(len(train_X.columns)) # status_gr_9_full_college dropped \n",
    "print(len(scores)) # least important feature dropped\n",
    "print(model.n_features_) # all features"
   ]
  },
  {
   "cell_type": "code",
   "execution_count": 17,
   "metadata": {
    "collapsed": false
   },
   "outputs": [],
   "source": [
    "scores = scores.merge(binary_features, left_index=True, right_index=True)\n",
    "train_X.drop(least_important,axis=1,inplace=True)"
   ]
  },
  {
   "cell_type": "code",
   "execution_count": 18,
   "metadata": {
    "collapsed": false
   },
   "outputs": [
    {
     "name": "stdout",
     "output_type": "stream",
     "text": [
      "84\n",
      "84\n"
     ]
    }
   ],
   "source": [
    "print(len(scores.index)) # dropped status_gr_9_full_college and least important feature \n",
    "print(len(train_X.columns))"
   ]
  },
  {
   "cell_type": "code",
   "execution_count": 19,
   "metadata": {
    "collapsed": false
   },
   "outputs": [
    {
     "name": "stderr",
     "output_type": "stream",
     "text": [
      "/home/jgutman/env/lib/python3.4/site-packages/matplotlib/pyplot.py:516: RuntimeWarning: More than 20 figures have been opened. Figures created through the pyplot interface (`matplotlib.pyplot.figure`) are retained until explicitly closed and may consume too much memory. (To control this warning, see the rcParam `figure.max_open_warning`).\n",
      "  max_open_warning, RuntimeWarning)\n"
     ]
    },
    {
     "data": {
      "image/png": "[encoded data removed]",
      "text/plain": [
       "<matplotlib.figure.Figure at 0x7f73f077df28>"
      ]
     },
     "metadata": {},
     "output_type": "display_data"
    },
    {
     "data": {
      "image/png": "[encoded data removed]",
      "text/plain": [
       "<matplotlib.figure.Figure at 0x7f73f05a4550>"
      ]
     },
     "metadata": {},
     "output_type": "display_data"
    },
    {
     "data": {
      "image/png": "[encoded data removed]",
      "text/plain": [
       "<matplotlib.figure.Figure at 0x7f73f066db00>"
      ]
     },
     "metadata": {},
     "output_type": "display_data"
    },
    {
     "data": {
      "image/png": "[encoded data removed]",
      "text/plain": [
       "<matplotlib.figure.Figure at 0x7f73f05849b0>"
      ]
     },
     "metadata": {},
     "output_type": "display_data"
    },
    {
     "data": {
      "image/png": "[encoded data removed]",
      "text/plain": [
       "<matplotlib.figure.Figure at 0x7f73f0625cc0>"
      ]
     },
     "metadata": {},
     "output_type": "display_data"
    },
    {
     "data": {
      "image/png": "[encoded data removed]",
      "text/plain": [
       "<matplotlib.figure.Figure at 0x7f73f06d5a20>"
      ]
     },
     "metadata": {},
     "output_type": "display_data"
    },
    {
     "data": {
      "image/png": "[encoded data removed]",
      "text/plain": [
       "<matplotlib.figure.Figure at 0x7f73f0714940>"
      ]
     },
     "metadata": {},
     "output_type": "display_data"
    },
    {
     "data": {
      "image/png": "[encoded data removed]",
      "text/plain": [
       "<matplotlib.figure.Figure at 0x7f73efef39b0>"
      ]
     },
     "metadata": {},
     "output_type": "display_data"
    },
    {
     "data": {
      "image/png": "[encoded data removed]",
      "text/plain": [
       "<matplotlib.figure.Figure at 0x7f73eed33c88>"
      ]
     },
     "metadata": {},
     "output_type": "display_data"
    },
    {
     "data": {
      "image/png": "[encoded data removed]",
      "text/plain": [
       "<matplotlib.figure.Figure at 0x7f73eea9e588>"
      ]
     },
     "metadata": {},
     "output_type": "display_data"
    },
    {
     "data": {
      "image/png": "[encoded data removed]",
      "text/plain": [
       "<matplotlib.figure.Figure at 0x7f73efdd86a0>"
      ]
     },
     "metadata": {},
     "output_type": "display_data"
    },
    {
     "data": {
      "image/png": "[encoded data removed]",
      "text/plain": [
       "<matplotlib.figure.Figure at 0x7f73eef37828>"
      ]
     },
     "metadata": {},
     "output_type": "display_data"
    },
    {
     "data": {
      "image/png": "[encoded data removed]",
      "text/plain": [
       "<matplotlib.figure.Figure at 0x7f73eea96b70>"
      ]
     },
     "metadata": {},
     "output_type": "display_data"
    },
    {
     "data": {
      "image/png": "[encoded data removed]",
      "text/plain": [
       "<matplotlib.figure.Figure at 0x7f73eedb4f28>"
      ]
     },
     "metadata": {},
     "output_type": "display_data"
    },
    {
     "data": {
      "image/png": "[encoded data removed]",
      "text/plain": [
       "<matplotlib.figure.Figure at 0x7f73eefa3a90>"
      ]
     },
     "metadata": {},
     "output_type": "display_data"
    },
    {
     "data": {
      "image/png": "[encoded data removed]",
      "text/plain": [
       "<matplotlib.figure.Figure at 0x7f73eec62898>"
      ]
     },
     "metadata": {},
     "output_type": "display_data"
    },
    {
     "data": {
      "image/png": "[encoded data removed]",
      "text/plain": [
       "<matplotlib.figure.Figure at 0x7f73eeef9898>"
      ]
     },
     "metadata": {},
     "output_type": "display_data"
    },
    {
     "data": {
      "image/png": "[encoded data removed]",
      "text/plain": [
       "<matplotlib.figure.Figure at 0x7f73eee6b390>"
      ]
     },
     "metadata": {},
     "output_type": "display_data"
    },
    {
     "data": {
      "image/png": "[encoded data removed]",
      "text/plain": [
       "<matplotlib.figure.Figure at 0x7f73eef7bb70>"
      ]
     },
     "metadata": {},
     "output_type": "display_data"
    },
    {
     "data": {
      "image/png": "[encoded data removed]",
      "text/plain": [
       "<matplotlib.figure.Figure at 0x7f73efe55dd8>"
      ]
     },
     "metadata": {},
     "output_type": "display_data"
    },
    {
     "data": {
      "image/png": "[encoded data removed]",
      "text/plain": [
       "<matplotlib.figure.Figure at 0x7f73efd8b240>"
      ]
     },
     "metadata": {},
     "output_type": "display_data"
    },
    {
     "data": {
      "image/png": "[encoded data removed]",
      "text/plain": [
       "<matplotlib.figure.Figure at 0x7f73ef0698d0>"
      ]
     },
     "metadata": {},
     "output_type": "display_data"
    },
    {
     "data": {
      "image/png": "[encoded data removed]",
      "text/plain": [
       "<matplotlib.figure.Figure at 0x7f73ef0456a0>"
      ]
     },
     "metadata": {},
     "output_type": "display_data"
    },
    {
     "data": {
      "image/png": "[encoded data removed]",
      "text/plain": [
       "<matplotlib.figure.Figure at 0x7f73eee3ae10>"
      ]
     },
     "metadata": {},
     "output_type": "display_data"
    }
   ],
   "source": [
    "for c in train_X.columns[train_X.columns.isin(scores[~scores['binary']].index)]:\n",
    "    plt.figure()\n",
    "    train_X[c].hist()\n",
    "    plt.title(c)"
   ]
  },
  {
   "cell_type": "code",
   "execution_count": 20,
   "metadata": {
    "collapsed": false
   },
   "outputs": [],
   "source": [
    "scores_weighted = scores\n",
    "scores_weighted[~scores_weighted['binary']] = scores[~scores['binary']][['importance']]*5"
   ]
  },
  {
   "cell_type": "code",
   "execution_count": 21,
   "metadata": {
    "collapsed": false
   },
   "outputs": [
    {
     "data": {
      "text/html": [
       "<div>\n",
       "<table border=\"1\" class=\"dataframe\">\n",
       "  <thead>\n",
       "    <tr style=\"text-align: right;\">\n",
       "      <th></th>\n",
       "      <th>importance</th>\n",
       "      <th>binary</th>\n",
       "    </tr>\n",
       "  </thead>\n",
       "  <tbody>\n",
       "    <tr>\n",
       "      <th>gpa_gr_9</th>\n",
       "      <td>4.927894e-01</td>\n",
       "      <td>NaN</td>\n",
       "    </tr>\n",
       "    <tr>\n",
       "      <th>gpa_district_gr_9</th>\n",
       "      <td>4.535534e-01</td>\n",
       "      <td>NaN</td>\n",
       "    </tr>\n",
       "    <tr>\n",
       "      <th>math_normalized_gr_8</th>\n",
       "      <td>3.065383e-01</td>\n",
       "      <td>NaN</td>\n",
       "    </tr>\n",
       "    <tr>\n",
       "      <th>absence_gr_9</th>\n",
       "      <td>2.914977e-01</td>\n",
       "      <td>NaN</td>\n",
       "    </tr>\n",
       "    <tr>\n",
       "      <th>read_normalized_gr_8</th>\n",
       "      <td>2.881030e-01</td>\n",
       "      <td>NaN</td>\n",
       "    </tr>\n",
       "    <tr>\n",
       "      <th>math_normalized_gr_7</th>\n",
       "      <td>2.229650e-01</td>\n",
       "      <td>NaN</td>\n",
       "    </tr>\n",
       "    <tr>\n",
       "      <th>read_normalized_gr_7</th>\n",
       "      <td>2.043348e-01</td>\n",
       "      <td>NaN</td>\n",
       "    </tr>\n",
       "    <tr>\n",
       "      <th>math_normalized_gr_6</th>\n",
       "      <td>2.022955e-01</td>\n",
       "      <td>NaN</td>\n",
       "    </tr>\n",
       "    <tr>\n",
       "      <th>math_normalized_gr_4</th>\n",
       "      <td>1.897594e-01</td>\n",
       "      <td>NaN</td>\n",
       "    </tr>\n",
       "    <tr>\n",
       "      <th>science_normalized_gr_8</th>\n",
       "      <td>1.872084e-01</td>\n",
       "      <td>NaN</td>\n",
       "    </tr>\n",
       "    <tr>\n",
       "      <th>read_normalized_gr_6</th>\n",
       "      <td>1.779580e-01</td>\n",
       "      <td>NaN</td>\n",
       "    </tr>\n",
       "    <tr>\n",
       "      <th>discipline_incidents_gr_9</th>\n",
       "      <td>1.776112e-01</td>\n",
       "      <td>NaN</td>\n",
       "    </tr>\n",
       "    <tr>\n",
       "      <th>read_normalized_gr_4</th>\n",
       "      <td>1.755337e-01</td>\n",
       "      <td>NaN</td>\n",
       "    </tr>\n",
       "    <tr>\n",
       "      <th>oss_gr_9</th>\n",
       "      <td>1.375567e-01</td>\n",
       "      <td>NaN</td>\n",
       "    </tr>\n",
       "    <tr>\n",
       "      <th>read_normalized_gr_5</th>\n",
       "      <td>1.012060e-01</td>\n",
       "      <td>NaN</td>\n",
       "    </tr>\n",
       "    <tr>\n",
       "      <th>iss_gr_9</th>\n",
       "      <td>9.163365e-02</td>\n",
       "      <td>NaN</td>\n",
       "    </tr>\n",
       "    <tr>\n",
       "      <th>math_normalized_gr_5</th>\n",
       "      <td>7.590861e-02</td>\n",
       "      <td>NaN</td>\n",
       "    </tr>\n",
       "    <tr>\n",
       "      <th>absence_unexcused_gr_9</th>\n",
       "      <td>7.412297e-02</td>\n",
       "      <td>NaN</td>\n",
       "    </tr>\n",
       "    <tr>\n",
       "      <th>read_normalized_gr_3</th>\n",
       "      <td>6.269002e-02</td>\n",
       "      <td>NaN</td>\n",
       "    </tr>\n",
       "    <tr>\n",
       "      <th>tardy_gr_9</th>\n",
       "      <td>5.287705e-02</td>\n",
       "      <td>NaN</td>\n",
       "    </tr>\n",
       "    <tr>\n",
       "      <th>tardy_unexcused_gr_9</th>\n",
       "      <td>5.162719e-02</td>\n",
       "      <td>NaN</td>\n",
       "    </tr>\n",
       "    <tr>\n",
       "      <th>science_normalized_gr_5</th>\n",
       "      <td>5.044765e-02</td>\n",
       "      <td>NaN</td>\n",
       "    </tr>\n",
       "    <tr>\n",
       "      <th>socstudies_normalized_gr_5</th>\n",
       "      <td>4.310548e-02</td>\n",
       "      <td>NaN</td>\n",
       "    </tr>\n",
       "    <tr>\n",
       "      <th>math_normalized_gr_3</th>\n",
       "      <td>3.576428e-02</td>\n",
       "      <td>NaN</td>\n",
       "    </tr>\n",
       "    <tr>\n",
       "      <th>disadvantagement_gr_9_economic</th>\n",
       "      <td>1.314124e-02</td>\n",
       "      <td>1.0</td>\n",
       "    </tr>\n",
       "    <tr>\n",
       "      <th>status_gr_9_inactive</th>\n",
       "      <td>8.657718e-03</td>\n",
       "      <td>1.0</td>\n",
       "    </tr>\n",
       "    <tr>\n",
       "      <th>math_normalized_gr_7_isnull</th>\n",
       "      <td>5.876465e-03</td>\n",
       "      <td>1.0</td>\n",
       "    </tr>\n",
       "    <tr>\n",
       "      <th>gpa_district_gr_9_isnull</th>\n",
       "      <td>5.728690e-03</td>\n",
       "      <td>1.0</td>\n",
       "    </tr>\n",
       "    <tr>\n",
       "      <th>gender_F</th>\n",
       "      <td>5.651598e-03</td>\n",
       "      <td>1.0</td>\n",
       "    </tr>\n",
       "    <tr>\n",
       "      <th>math_normalized_gr_4_isnull</th>\n",
       "      <td>5.273094e-03</td>\n",
       "      <td>1.0</td>\n",
       "    </tr>\n",
       "    <tr>\n",
       "      <th>...</th>\n",
       "      <td>...</td>\n",
       "      <td>...</td>\n",
       "    </tr>\n",
       "    <tr>\n",
       "      <th>disability_gr_9_emotional disturbance</th>\n",
       "      <td>2.566121e-03</td>\n",
       "      <td>1.0</td>\n",
       "    </tr>\n",
       "    <tr>\n",
       "      <th>ethnicity_M</th>\n",
       "      <td>2.473037e-03</td>\n",
       "      <td>1.0</td>\n",
       "    </tr>\n",
       "    <tr>\n",
       "      <th>socstudies_normalized_gr_5_isnull</th>\n",
       "      <td>2.276134e-03</td>\n",
       "      <td>1.0</td>\n",
       "    </tr>\n",
       "    <tr>\n",
       "      <th>science_normalized_gr_5_isnull</th>\n",
       "      <td>2.081139e-03</td>\n",
       "      <td>1.0</td>\n",
       "    </tr>\n",
       "    <tr>\n",
       "      <th>disadvantagement_gr_9_both</th>\n",
       "      <td>1.632633e-03</td>\n",
       "      <td>1.0</td>\n",
       "    </tr>\n",
       "    <tr>\n",
       "      <th>district_gr_9_East Muskingum</th>\n",
       "      <td>1.539065e-03</td>\n",
       "      <td>1.0</td>\n",
       "    </tr>\n",
       "    <tr>\n",
       "      <th>section_504_plan_gr_9_Y</th>\n",
       "      <td>1.243439e-03</td>\n",
       "      <td>1.0</td>\n",
       "    </tr>\n",
       "    <tr>\n",
       "      <th>status_gr_9_excel</th>\n",
       "      <td>1.243139e-03</td>\n",
       "      <td>1.0</td>\n",
       "    </tr>\n",
       "    <tr>\n",
       "      <th>disability_gr_9_other minor</th>\n",
       "      <td>1.219326e-03</td>\n",
       "      <td>1.0</td>\n",
       "    </tr>\n",
       "    <tr>\n",
       "      <th>district_gr_9_Crooksville</th>\n",
       "      <td>1.186885e-03</td>\n",
       "      <td>1.0</td>\n",
       "    </tr>\n",
       "    <tr>\n",
       "      <th>district_gr_9_Zanesville</th>\n",
       "      <td>1.017383e-03</td>\n",
       "      <td>1.0</td>\n",
       "    </tr>\n",
       "    <tr>\n",
       "      <th>status_gr_9_esc</th>\n",
       "      <td>9.892983e-04</td>\n",
       "      <td>1.0</td>\n",
       "    </tr>\n",
       "    <tr>\n",
       "      <th>ethnicity_B</th>\n",
       "      <td>9.454850e-04</td>\n",
       "      <td>1.0</td>\n",
       "    </tr>\n",
       "    <tr>\n",
       "      <th>ethnicity_nan</th>\n",
       "      <td>7.568654e-04</td>\n",
       "      <td>1.0</td>\n",
       "    </tr>\n",
       "    <tr>\n",
       "      <th>disability_gr_9_multiple</th>\n",
       "      <td>5.837890e-04</td>\n",
       "      <td>1.0</td>\n",
       "    </tr>\n",
       "    <tr>\n",
       "      <th>disability_gr_9_autism</th>\n",
       "      <td>5.218101e-04</td>\n",
       "      <td>1.0</td>\n",
       "    </tr>\n",
       "    <tr>\n",
       "      <th>disability_gr_9_other major</th>\n",
       "      <td>4.613313e-04</td>\n",
       "      <td>1.0</td>\n",
       "    </tr>\n",
       "    <tr>\n",
       "      <th>ethnicity_H</th>\n",
       "      <td>3.821010e-04</td>\n",
       "      <td>1.0</td>\n",
       "    </tr>\n",
       "    <tr>\n",
       "      <th>disadvantagement_gr_9_academic</th>\n",
       "      <td>2.434704e-04</td>\n",
       "      <td>1.0</td>\n",
       "    </tr>\n",
       "    <tr>\n",
       "      <th>ethnicity_A</th>\n",
       "      <td>1.621201e-04</td>\n",
       "      <td>1.0</td>\n",
       "    </tr>\n",
       "    <tr>\n",
       "      <th>limited_english_gr_9_L</th>\n",
       "      <td>9.235545e-05</td>\n",
       "      <td>1.0</td>\n",
       "    </tr>\n",
       "    <tr>\n",
       "      <th>status_gr_9_deleted</th>\n",
       "      <td>4.585265e-05</td>\n",
       "      <td>1.0</td>\n",
       "    </tr>\n",
       "    <tr>\n",
       "      <th>disability_gr_9_visual impairment</th>\n",
       "      <td>2.734659e-05</td>\n",
       "      <td>1.0</td>\n",
       "    </tr>\n",
       "    <tr>\n",
       "      <th>district_gr_9_New Lexington City SD</th>\n",
       "      <td>2.201713e-05</td>\n",
       "      <td>1.0</td>\n",
       "    </tr>\n",
       "    <tr>\n",
       "      <th>status_gr_9_6</th>\n",
       "      <td>1.757271e-05</td>\n",
       "      <td>1.0</td>\n",
       "    </tr>\n",
       "    <tr>\n",
       "      <th>ethnicity_I</th>\n",
       "      <td>1.212209e-06</td>\n",
       "      <td>1.0</td>\n",
       "    </tr>\n",
       "    <tr>\n",
       "      <th>special_ed_gr_9_89</th>\n",
       "      <td>3.099821e-09</td>\n",
       "      <td>1.0</td>\n",
       "    </tr>\n",
       "    <tr>\n",
       "      <th>disability_gr_9_deafness</th>\n",
       "      <td>0.000000e+00</td>\n",
       "      <td>1.0</td>\n",
       "    </tr>\n",
       "    <tr>\n",
       "      <th>status_gr_9_three_way</th>\n",
       "      <td>0.000000e+00</td>\n",
       "      <td>1.0</td>\n",
       "    </tr>\n",
       "    <tr>\n",
       "      <th>disability_gr_9_traumatic brain injury</th>\n",
       "      <td>0.000000e+00</td>\n",
       "      <td>1.0</td>\n",
       "    </tr>\n",
       "  </tbody>\n",
       "</table>\n",
       "<p>84 rows × 2 columns</p>\n",
       "</div>"
      ],
      "text/plain": [
       "                                          importance  binary\n",
       "gpa_gr_9                                4.927894e-01     NaN\n",
       "gpa_district_gr_9                       4.535534e-01     NaN\n",
       "math_normalized_gr_8                    3.065383e-01     NaN\n",
       "absence_gr_9                            2.914977e-01     NaN\n",
       "read_normalized_gr_8                    2.881030e-01     NaN\n",
       "math_normalized_gr_7                    2.229650e-01     NaN\n",
       "read_normalized_gr_7                    2.043348e-01     NaN\n",
       "math_normalized_gr_6                    2.022955e-01     NaN\n",
       "math_normalized_gr_4                    1.897594e-01     NaN\n",
       "science_normalized_gr_8                 1.872084e-01     NaN\n",
       "read_normalized_gr_6                    1.779580e-01     NaN\n",
       "discipline_incidents_gr_9               1.776112e-01     NaN\n",
       "read_normalized_gr_4                    1.755337e-01     NaN\n",
       "oss_gr_9                                1.375567e-01     NaN\n",
       "read_normalized_gr_5                    1.012060e-01     NaN\n",
       "iss_gr_9                                9.163365e-02     NaN\n",
       "math_normalized_gr_5                    7.590861e-02     NaN\n",
       "absence_unexcused_gr_9                  7.412297e-02     NaN\n",
       "read_normalized_gr_3                    6.269002e-02     NaN\n",
       "tardy_gr_9                              5.287705e-02     NaN\n",
       "tardy_unexcused_gr_9                    5.162719e-02     NaN\n",
       "science_normalized_gr_5                 5.044765e-02     NaN\n",
       "socstudies_normalized_gr_5              4.310548e-02     NaN\n",
       "math_normalized_gr_3                    3.576428e-02     NaN\n",
       "disadvantagement_gr_9_economic          1.314124e-02     1.0\n",
       "status_gr_9_inactive                    8.657718e-03     1.0\n",
       "math_normalized_gr_7_isnull             5.876465e-03     1.0\n",
       "gpa_district_gr_9_isnull                5.728690e-03     1.0\n",
       "gender_F                                5.651598e-03     1.0\n",
       "math_normalized_gr_4_isnull             5.273094e-03     1.0\n",
       "...                                              ...     ...\n",
       "disability_gr_9_emotional disturbance   2.566121e-03     1.0\n",
       "ethnicity_M                             2.473037e-03     1.0\n",
       "socstudies_normalized_gr_5_isnull       2.276134e-03     1.0\n",
       "science_normalized_gr_5_isnull          2.081139e-03     1.0\n",
       "disadvantagement_gr_9_both              1.632633e-03     1.0\n",
       "district_gr_9_East Muskingum            1.539065e-03     1.0\n",
       "section_504_plan_gr_9_Y                 1.243439e-03     1.0\n",
       "status_gr_9_excel                       1.243139e-03     1.0\n",
       "disability_gr_9_other minor             1.219326e-03     1.0\n",
       "district_gr_9_Crooksville               1.186885e-03     1.0\n",
       "district_gr_9_Zanesville                1.017383e-03     1.0\n",
       "status_gr_9_esc                         9.892983e-04     1.0\n",
       "ethnicity_B                             9.454850e-04     1.0\n",
       "ethnicity_nan                           7.568654e-04     1.0\n",
       "disability_gr_9_multiple                5.837890e-04     1.0\n",
       "disability_gr_9_autism                  5.218101e-04     1.0\n",
       "disability_gr_9_other major             4.613313e-04     1.0\n",
       "ethnicity_H                             3.821010e-04     1.0\n",
       "disadvantagement_gr_9_academic          2.434704e-04     1.0\n",
       "ethnicity_A                             1.621201e-04     1.0\n",
       "limited_english_gr_9_L                  9.235545e-05     1.0\n",
       "status_gr_9_deleted                     4.585265e-05     1.0\n",
       "disability_gr_9_visual impairment       2.734659e-05     1.0\n",
       "district_gr_9_New Lexington City SD     2.201713e-05     1.0\n",
       "status_gr_9_6                           1.757271e-05     1.0\n",
       "ethnicity_I                             1.212209e-06     1.0\n",
       "special_ed_gr_9_89                      3.099821e-09     1.0\n",
       "disability_gr_9_deafness                0.000000e+00     1.0\n",
       "status_gr_9_three_way                   0.000000e+00     1.0\n",
       "disability_gr_9_traumatic brain injury  0.000000e+00     1.0\n",
       "\n",
       "[84 rows x 2 columns]"
      ]
     },
     "execution_count": 21,
     "metadata": {},
     "output_type": "execute_result"
    }
   ],
   "source": [
    "scores.sort_values('importance',ascending=False)"
   ]
  },
  {
   "cell_type": "code",
   "execution_count": 22,
   "metadata": {
    "collapsed": false
   },
   "outputs": [
    {
     "data": {
      "text/plain": [
       "<matplotlib.axes._subplots.AxesSubplot at 0x7f73f077dd68>"
      ]
     },
     "execution_count": 22,
     "metadata": {},
     "output_type": "execute_result"
    },
    {
     "data": {
      "image/png": "[encoded data removed]",
      "text/plain": [
       "<matplotlib.figure.Figure at 0x7f73ee6a1320>"
      ]
     },
     "metadata": {},
     "output_type": "display_data"
    }
   ],
   "source": [
    "scores[scores['binary']==1]['importance'].hist(bins=100)"
   ]
  },
  {
   "cell_type": "code",
   "execution_count": 23,
   "metadata": {
    "collapsed": false
   },
   "outputs": [
    {
     "data": {
      "text/plain": [
       "<matplotlib.axes._subplots.AxesSubplot at 0x7f73ee5e5240>"
      ]
     },
     "execution_count": 23,
     "metadata": {},
     "output_type": "execute_result"
    },
    {
     "data": {
      "image/png": "[encoded data removed]",
      "text/plain": [
       "<matplotlib.figure.Figure at 0x7f73ee62a240>"
      ]
     },
     "metadata": {},
     "output_type": "display_data"
    }
   ],
   "source": [
    "(scores[~(scores['binary']==1)]['importance']).hist(bins=100)"
   ]
  },
  {
   "cell_type": "code",
   "execution_count": 24,
   "metadata": {
    "collapsed": false
   },
   "outputs": [
    {
     "data": {
      "text/html": [
       "<div>\n",
       "<table border=\"1\" class=\"dataframe\">\n",
       "  <thead>\n",
       "    <tr style=\"text-align: right;\">\n",
       "      <th></th>\n",
       "      <th>importance</th>\n",
       "      <th>binary</th>\n",
       "    </tr>\n",
       "  </thead>\n",
       "  <tbody>\n",
       "    <tr>\n",
       "      <th>math_normalized_gr_3</th>\n",
       "      <td>0.035764</td>\n",
       "      <td>NaN</td>\n",
       "    </tr>\n",
       "    <tr>\n",
       "      <th>socstudies_normalized_gr_5</th>\n",
       "      <td>0.043105</td>\n",
       "      <td>NaN</td>\n",
       "    </tr>\n",
       "    <tr>\n",
       "      <th>science_normalized_gr_5</th>\n",
       "      <td>0.050448</td>\n",
       "      <td>NaN</td>\n",
       "    </tr>\n",
       "    <tr>\n",
       "      <th>tardy_unexcused_gr_9</th>\n",
       "      <td>0.051627</td>\n",
       "      <td>NaN</td>\n",
       "    </tr>\n",
       "    <tr>\n",
       "      <th>tardy_gr_9</th>\n",
       "      <td>0.052877</td>\n",
       "      <td>NaN</td>\n",
       "    </tr>\n",
       "    <tr>\n",
       "      <th>read_normalized_gr_3</th>\n",
       "      <td>0.062690</td>\n",
       "      <td>NaN</td>\n",
       "    </tr>\n",
       "    <tr>\n",
       "      <th>absence_unexcused_gr_9</th>\n",
       "      <td>0.074123</td>\n",
       "      <td>NaN</td>\n",
       "    </tr>\n",
       "    <tr>\n",
       "      <th>math_normalized_gr_5</th>\n",
       "      <td>0.075909</td>\n",
       "      <td>NaN</td>\n",
       "    </tr>\n",
       "    <tr>\n",
       "      <th>iss_gr_9</th>\n",
       "      <td>0.091634</td>\n",
       "      <td>NaN</td>\n",
       "    </tr>\n",
       "    <tr>\n",
       "      <th>read_normalized_gr_5</th>\n",
       "      <td>0.101206</td>\n",
       "      <td>NaN</td>\n",
       "    </tr>\n",
       "    <tr>\n",
       "      <th>oss_gr_9</th>\n",
       "      <td>0.137557</td>\n",
       "      <td>NaN</td>\n",
       "    </tr>\n",
       "    <tr>\n",
       "      <th>read_normalized_gr_4</th>\n",
       "      <td>0.175534</td>\n",
       "      <td>NaN</td>\n",
       "    </tr>\n",
       "    <tr>\n",
       "      <th>discipline_incidents_gr_9</th>\n",
       "      <td>0.177611</td>\n",
       "      <td>NaN</td>\n",
       "    </tr>\n",
       "    <tr>\n",
       "      <th>read_normalized_gr_6</th>\n",
       "      <td>0.177958</td>\n",
       "      <td>NaN</td>\n",
       "    </tr>\n",
       "    <tr>\n",
       "      <th>science_normalized_gr_8</th>\n",
       "      <td>0.187208</td>\n",
       "      <td>NaN</td>\n",
       "    </tr>\n",
       "    <tr>\n",
       "      <th>math_normalized_gr_4</th>\n",
       "      <td>0.189759</td>\n",
       "      <td>NaN</td>\n",
       "    </tr>\n",
       "    <tr>\n",
       "      <th>math_normalized_gr_6</th>\n",
       "      <td>0.202296</td>\n",
       "      <td>NaN</td>\n",
       "    </tr>\n",
       "    <tr>\n",
       "      <th>read_normalized_gr_7</th>\n",
       "      <td>0.204335</td>\n",
       "      <td>NaN</td>\n",
       "    </tr>\n",
       "    <tr>\n",
       "      <th>math_normalized_gr_7</th>\n",
       "      <td>0.222965</td>\n",
       "      <td>NaN</td>\n",
       "    </tr>\n",
       "    <tr>\n",
       "      <th>read_normalized_gr_8</th>\n",
       "      <td>0.288103</td>\n",
       "      <td>NaN</td>\n",
       "    </tr>\n",
       "    <tr>\n",
       "      <th>absence_gr_9</th>\n",
       "      <td>0.291498</td>\n",
       "      <td>NaN</td>\n",
       "    </tr>\n",
       "    <tr>\n",
       "      <th>math_normalized_gr_8</th>\n",
       "      <td>0.306538</td>\n",
       "      <td>NaN</td>\n",
       "    </tr>\n",
       "    <tr>\n",
       "      <th>gpa_district_gr_9</th>\n",
       "      <td>0.453553</td>\n",
       "      <td>NaN</td>\n",
       "    </tr>\n",
       "    <tr>\n",
       "      <th>gpa_gr_9</th>\n",
       "      <td>0.492789</td>\n",
       "      <td>NaN</td>\n",
       "    </tr>\n",
       "  </tbody>\n",
       "</table>\n",
       "</div>"
      ],
      "text/plain": [
       "                            importance  binary\n",
       "math_normalized_gr_3          0.035764     NaN\n",
       "socstudies_normalized_gr_5    0.043105     NaN\n",
       "science_normalized_gr_5       0.050448     NaN\n",
       "tardy_unexcused_gr_9          0.051627     NaN\n",
       "tardy_gr_9                    0.052877     NaN\n",
       "read_normalized_gr_3          0.062690     NaN\n",
       "absence_unexcused_gr_9        0.074123     NaN\n",
       "math_normalized_gr_5          0.075909     NaN\n",
       "iss_gr_9                      0.091634     NaN\n",
       "read_normalized_gr_5          0.101206     NaN\n",
       "oss_gr_9                      0.137557     NaN\n",
       "read_normalized_gr_4          0.175534     NaN\n",
       "discipline_incidents_gr_9     0.177611     NaN\n",
       "read_normalized_gr_6          0.177958     NaN\n",
       "science_normalized_gr_8       0.187208     NaN\n",
       "math_normalized_gr_4          0.189759     NaN\n",
       "math_normalized_gr_6          0.202296     NaN\n",
       "read_normalized_gr_7          0.204335     NaN\n",
       "math_normalized_gr_7          0.222965     NaN\n",
       "read_normalized_gr_8          0.288103     NaN\n",
       "absence_gr_9                  0.291498     NaN\n",
       "math_normalized_gr_8          0.306538     NaN\n",
       "gpa_district_gr_9             0.453553     NaN\n",
       "gpa_gr_9                      0.492789     NaN"
      ]
     },
     "execution_count": 24,
     "metadata": {},
     "output_type": "execute_result"
    }
   ],
   "source": [
    "scores[~(scores['binary']==1)].sort_values('importance')"
   ]
  },
  {
   "cell_type": "code",
   "execution_count": null,
   "metadata": {
    "collapsed": false
   },
   "outputs": [],
   "source": []
  },
  {
   "cell_type": "code",
   "execution_count": 25,
   "metadata": {
    "collapsed": false
   },
   "outputs": [
    {
     "data": {
      "text/plain": [
       "<matplotlib.axes._subplots.AxesSubplot at 0x7f73ecbdd320>"
      ]
     },
     "execution_count": 25,
     "metadata": {},
     "output_type": "execute_result"
    },
    {
     "data": {
      "image/png": "[encoded data removed]",
      "text/plain": [
       "<matplotlib.figure.Figure at 0x7f73ecc06ba8>"
      ]
     },
     "metadata": {},
     "output_type": "display_data"
    }
   ],
   "source": [
    "(train_X[train_X.columns[~(scores['binary']==1)]]*scores['importance'][~(scores['binary']==1)]).mean(axis=0).hist()\n"
   ]
  },
  {
   "cell_type": "code",
   "execution_count": 26,
   "metadata": {
    "collapsed": false
   },
   "outputs": [
    {
     "data": {
      "text/plain": [
       "<matplotlib.axes._subplots.AxesSubplot at 0x7f73ecc0bc88>"
      ]
     },
     "execution_count": 26,
     "metadata": {},
     "output_type": "execute_result"
    },
    {
     "data": {
      "image/png": "[encoded data removed]",
      "text/plain": [
       "<matplotlib.figure.Figure at 0x7f73ecc55f28>"
      ]
     },
     "metadata": {},
     "output_type": "display_data"
    }
   ],
   "source": [
    "(train_X[train_X.columns[(scores['binary']==1)]]*scores['importance'][(scores['binary']==1)]).mean(axis=0).hist()\n"
   ]
  },
  {
   "cell_type": "code",
   "execution_count": 27,
   "metadata": {
    "collapsed": false
   },
   "outputs": [
    {
     "data": {
      "text/html": [
       "<div>\n",
       "<table border=\"1\" class=\"dataframe\">\n",
       "  <thead>\n",
       "    <tr style=\"text-align: right;\">\n",
       "      <th></th>\n",
       "      <th>importance</th>\n",
       "    </tr>\n",
       "  </thead>\n",
       "  <tbody>\n",
       "    <tr>\n",
       "      <th>discipline_incidents_gr_9</th>\n",
       "      <td>1.960410e-01</td>\n",
       "    </tr>\n",
       "    <tr>\n",
       "      <th>absence_gr_9</th>\n",
       "      <td>5.289430e-02</td>\n",
       "    </tr>\n",
       "    <tr>\n",
       "      <th>absence_unexcused_gr_9</th>\n",
       "      <td>5.251364e-02</td>\n",
       "    </tr>\n",
       "    <tr>\n",
       "      <th>tardy_gr_9</th>\n",
       "      <td>1.655746e-02</td>\n",
       "    </tr>\n",
       "    <tr>\n",
       "      <th>tardy_unexcused_gr_9</th>\n",
       "      <td>1.541704e-02</td>\n",
       "    </tr>\n",
       "    <tr>\n",
       "      <th>oss_gr_9</th>\n",
       "      <td>1.058517e-02</td>\n",
       "    </tr>\n",
       "    <tr>\n",
       "      <th>iss_gr_9</th>\n",
       "      <td>1.051810e-02</td>\n",
       "    </tr>\n",
       "    <tr>\n",
       "      <th>math_normalized_gr_4</th>\n",
       "      <td>6.605690e-03</td>\n",
       "    </tr>\n",
       "    <tr>\n",
       "      <th>math_normalized_gr_7</th>\n",
       "      <td>5.452693e-03</td>\n",
       "    </tr>\n",
       "    <tr>\n",
       "      <th>disadvantagement_gr_9_economic</th>\n",
       "      <td>3.987020e-03</td>\n",
       "    </tr>\n",
       "    <tr>\n",
       "      <th>gender_F</th>\n",
       "      <td>2.728751e-03</td>\n",
       "    </tr>\n",
       "    <tr>\n",
       "      <th>math_normalized_gr_3_isnull</th>\n",
       "      <td>2.246685e-03</td>\n",
       "    </tr>\n",
       "    <tr>\n",
       "      <th>read_normalized_gr_3_isnull</th>\n",
       "      <td>2.056390e-03</td>\n",
       "    </tr>\n",
       "    <tr>\n",
       "      <th>socstudies_normalized_gr_5_isnull</th>\n",
       "      <td>1.841390e-03</td>\n",
       "    </tr>\n",
       "    <tr>\n",
       "      <th>math_normalized_gr_5_isnull</th>\n",
       "      <td>1.832145e-03</td>\n",
       "    </tr>\n",
       "    <tr>\n",
       "      <th>special_ed_gr_9_100</th>\n",
       "      <td>1.764104e-03</td>\n",
       "    </tr>\n",
       "    <tr>\n",
       "      <th>read_normalized_gr_5_isnull</th>\n",
       "      <td>1.723739e-03</td>\n",
       "    </tr>\n",
       "    <tr>\n",
       "      <th>science_normalized_gr_5_isnull</th>\n",
       "      <td>1.684022e-03</td>\n",
       "    </tr>\n",
       "    <tr>\n",
       "      <th>science_normalized_gr_8</th>\n",
       "      <td>1.600860e-03</td>\n",
       "    </tr>\n",
       "    <tr>\n",
       "      <th>section_504_plan_gr_9_nan</th>\n",
       "      <td>1.597449e-03</td>\n",
       "    </tr>\n",
       "    <tr>\n",
       "      <th>math_normalized_gr_4_isnull</th>\n",
       "      <td>1.321905e-03</td>\n",
       "    </tr>\n",
       "    <tr>\n",
       "      <th>read_normalized_gr_4_isnull</th>\n",
       "      <td>1.174322e-03</td>\n",
       "    </tr>\n",
       "    <tr>\n",
       "      <th>read_normalized_gr_7_isnull</th>\n",
       "      <td>1.111305e-03</td>\n",
       "    </tr>\n",
       "    <tr>\n",
       "      <th>science_normalized_gr_8_isnull</th>\n",
       "      <td>1.013414e-03</td>\n",
       "    </tr>\n",
       "    <tr>\n",
       "      <th>math_normalized_gr_7_isnull</th>\n",
       "      <td>8.234605e-04</td>\n",
       "    </tr>\n",
       "    <tr>\n",
       "      <th>read_normalized_gr_6_isnull</th>\n",
       "      <td>8.135970e-04</td>\n",
       "    </tr>\n",
       "    <tr>\n",
       "      <th>math_normalized_gr_6_isnull</th>\n",
       "      <td>7.464627e-04</td>\n",
       "    </tr>\n",
       "    <tr>\n",
       "      <th>district_gr_9_Riverview</th>\n",
       "      <td>7.372297e-04</td>\n",
       "    </tr>\n",
       "    <tr>\n",
       "      <th>read_normalized_gr_3</th>\n",
       "      <td>7.008867e-04</td>\n",
       "    </tr>\n",
       "    <tr>\n",
       "      <th>district_gr_9_Maysville</th>\n",
       "      <td>6.048450e-04</td>\n",
       "    </tr>\n",
       "    <tr>\n",
       "      <th>...</th>\n",
       "      <td>...</td>\n",
       "    </tr>\n",
       "    <tr>\n",
       "      <th>disability_gr_9_multiple</th>\n",
       "      <td>1.608234e-06</td>\n",
       "    </tr>\n",
       "    <tr>\n",
       "      <th>district_gr_9_Zanesville</th>\n",
       "      <td>1.121084e-06</td>\n",
       "    </tr>\n",
       "    <tr>\n",
       "      <th>status_gr_9_excel</th>\n",
       "      <td>9.132333e-07</td>\n",
       "    </tr>\n",
       "    <tr>\n",
       "      <th>ethnicity_H</th>\n",
       "      <td>8.420958e-07</td>\n",
       "    </tr>\n",
       "    <tr>\n",
       "      <th>disadvantagement_gr_9_academic</th>\n",
       "      <td>4.918594e-07</td>\n",
       "    </tr>\n",
       "    <tr>\n",
       "      <th>ethnicity_A</th>\n",
       "      <td>4.466118e-07</td>\n",
       "    </tr>\n",
       "    <tr>\n",
       "      <th>ethnicity_nan</th>\n",
       "      <td>4.170057e-07</td>\n",
       "    </tr>\n",
       "    <tr>\n",
       "      <th>disability_gr_9_other major</th>\n",
       "      <td>2.541770e-07</td>\n",
       "    </tr>\n",
       "    <tr>\n",
       "      <th>limited_english_gr_9_L</th>\n",
       "      <td>1.696152e-08</td>\n",
       "    </tr>\n",
       "    <tr>\n",
       "      <th>status_gr_9_deleted</th>\n",
       "      <td>1.684211e-08</td>\n",
       "    </tr>\n",
       "    <tr>\n",
       "      <th>disability_gr_9_visual impairment</th>\n",
       "      <td>1.506699e-08</td>\n",
       "    </tr>\n",
       "    <tr>\n",
       "      <th>district_gr_9_New Lexington City SD</th>\n",
       "      <td>4.043550e-09</td>\n",
       "    </tr>\n",
       "    <tr>\n",
       "      <th>status_gr_9_6</th>\n",
       "      <td>3.227312e-09</td>\n",
       "    </tr>\n",
       "    <tr>\n",
       "      <th>ethnicity_I</th>\n",
       "      <td>4.452559e-10</td>\n",
       "    </tr>\n",
       "    <tr>\n",
       "      <th>special_ed_gr_9_89</th>\n",
       "      <td>5.692968e-13</td>\n",
       "    </tr>\n",
       "    <tr>\n",
       "      <th>status_gr_9_three_way</th>\n",
       "      <td>0.000000e+00</td>\n",
       "    </tr>\n",
       "    <tr>\n",
       "      <th>disability_gr_9_deafness</th>\n",
       "      <td>0.000000e+00</td>\n",
       "    </tr>\n",
       "    <tr>\n",
       "      <th>disability_gr_9_traumatic brain injury</th>\n",
       "      <td>0.000000e+00</td>\n",
       "    </tr>\n",
       "    <tr>\n",
       "      <th>math_normalized_gr_3</th>\n",
       "      <td>-2.384045e-04</td>\n",
       "    </tr>\n",
       "    <tr>\n",
       "      <th>science_normalized_gr_5</th>\n",
       "      <td>-7.134238e-04</td>\n",
       "    </tr>\n",
       "    <tr>\n",
       "      <th>math_normalized_gr_5</th>\n",
       "      <td>-1.024421e-03</td>\n",
       "    </tr>\n",
       "    <tr>\n",
       "      <th>read_normalized_gr_5</th>\n",
       "      <td>-1.531634e-03</td>\n",
       "    </tr>\n",
       "    <tr>\n",
       "      <th>math_normalized_gr_8</th>\n",
       "      <td>-4.646120e-03</td>\n",
       "    </tr>\n",
       "    <tr>\n",
       "      <th>read_normalized_gr_6</th>\n",
       "      <td>-7.164558e-03</td>\n",
       "    </tr>\n",
       "    <tr>\n",
       "      <th>read_normalized_gr_4</th>\n",
       "      <td>-8.811950e-03</td>\n",
       "    </tr>\n",
       "    <tr>\n",
       "      <th>math_normalized_gr_6</th>\n",
       "      <td>-1.076905e-02</td>\n",
       "    </tr>\n",
       "    <tr>\n",
       "      <th>read_normalized_gr_7</th>\n",
       "      <td>-1.098298e-02</td>\n",
       "    </tr>\n",
       "    <tr>\n",
       "      <th>read_normalized_gr_8</th>\n",
       "      <td>-1.133752e-02</td>\n",
       "    </tr>\n",
       "    <tr>\n",
       "      <th>gpa_gr_9</th>\n",
       "      <td>-1.981117e-02</td>\n",
       "    </tr>\n",
       "    <tr>\n",
       "      <th>gpa_district_gr_9</th>\n",
       "      <td>-2.966512e-02</td>\n",
       "    </tr>\n",
       "  </tbody>\n",
       "</table>\n",
       "<p>84 rows × 1 columns</p>\n",
       "</div>"
      ],
      "text/plain": [
       "                                          importance\n",
       "discipline_incidents_gr_9               1.960410e-01\n",
       "absence_gr_9                            5.289430e-02\n",
       "absence_unexcused_gr_9                  5.251364e-02\n",
       "tardy_gr_9                              1.655746e-02\n",
       "tardy_unexcused_gr_9                    1.541704e-02\n",
       "oss_gr_9                                1.058517e-02\n",
       "iss_gr_9                                1.051810e-02\n",
       "math_normalized_gr_4                    6.605690e-03\n",
       "math_normalized_gr_7                    5.452693e-03\n",
       "disadvantagement_gr_9_economic          3.987020e-03\n",
       "gender_F                                2.728751e-03\n",
       "math_normalized_gr_3_isnull             2.246685e-03\n",
       "read_normalized_gr_3_isnull             2.056390e-03\n",
       "socstudies_normalized_gr_5_isnull       1.841390e-03\n",
       "math_normalized_gr_5_isnull             1.832145e-03\n",
       "special_ed_gr_9_100                     1.764104e-03\n",
       "read_normalized_gr_5_isnull             1.723739e-03\n",
       "science_normalized_gr_5_isnull          1.684022e-03\n",
       "science_normalized_gr_8                 1.600860e-03\n",
       "section_504_plan_gr_9_nan               1.597449e-03\n",
       "math_normalized_gr_4_isnull             1.321905e-03\n",
       "read_normalized_gr_4_isnull             1.174322e-03\n",
       "read_normalized_gr_7_isnull             1.111305e-03\n",
       "science_normalized_gr_8_isnull          1.013414e-03\n",
       "math_normalized_gr_7_isnull             8.234605e-04\n",
       "read_normalized_gr_6_isnull             8.135970e-04\n",
       "math_normalized_gr_6_isnull             7.464627e-04\n",
       "district_gr_9_Riverview                 7.372297e-04\n",
       "read_normalized_gr_3                    7.008867e-04\n",
       "district_gr_9_Maysville                 6.048450e-04\n",
       "...                                              ...\n",
       "disability_gr_9_multiple                1.608234e-06\n",
       "district_gr_9_Zanesville                1.121084e-06\n",
       "status_gr_9_excel                       9.132333e-07\n",
       "ethnicity_H                             8.420958e-07\n",
       "disadvantagement_gr_9_academic          4.918594e-07\n",
       "ethnicity_A                             4.466118e-07\n",
       "ethnicity_nan                           4.170057e-07\n",
       "disability_gr_9_other major             2.541770e-07\n",
       "limited_english_gr_9_L                  1.696152e-08\n",
       "status_gr_9_deleted                     1.684211e-08\n",
       "disability_gr_9_visual impairment       1.506699e-08\n",
       "district_gr_9_New Lexington City SD     4.043550e-09\n",
       "status_gr_9_6                           3.227312e-09\n",
       "ethnicity_I                             4.452559e-10\n",
       "special_ed_gr_9_89                      5.692968e-13\n",
       "status_gr_9_three_way                   0.000000e+00\n",
       "disability_gr_9_deafness                0.000000e+00\n",
       "disability_gr_9_traumatic brain injury  0.000000e+00\n",
       "math_normalized_gr_3                   -2.384045e-04\n",
       "science_normalized_gr_5                -7.134238e-04\n",
       "math_normalized_gr_5                   -1.024421e-03\n",
       "read_normalized_gr_5                   -1.531634e-03\n",
       "math_normalized_gr_8                   -4.646120e-03\n",
       "read_normalized_gr_6                   -7.164558e-03\n",
       "read_normalized_gr_4                   -8.811950e-03\n",
       "math_normalized_gr_6                   -1.076905e-02\n",
       "read_normalized_gr_7                   -1.098298e-02\n",
       "read_normalized_gr_8                   -1.133752e-02\n",
       "gpa_gr_9                               -1.981117e-02\n",
       "gpa_district_gr_9                      -2.966512e-02\n",
       "\n",
       "[84 rows x 1 columns]"
      ]
     },
     "execution_count": 27,
     "metadata": {},
     "output_type": "execute_result"
    }
   ],
   "source": [
    "pd.DataFrame((train_X*scores['importance']).mean(axis=0), columns=['importance']).sort_values('importance', ascending=False)"
   ]
  },
  {
   "cell_type": "code",
   "execution_count": 28,
   "metadata": {
    "collapsed": true
   },
   "outputs": [],
   "source": [
    "student = 42545"
   ]
  },
  {
   "cell_type": "code",
   "execution_count": 29,
   "metadata": {
    "collapsed": false
   },
   "outputs": [],
   "source": [
    "X = train_X.loc[student]"
   ]
  },
  {
   "cell_type": "code",
   "execution_count": 37,
   "metadata": {
    "collapsed": false
   },
   "outputs": [
    {
     "data": {
      "text/plain": [
       "gpa_district_gr_9                        -0.575723\n",
       "gpa_gr_9                                 -0.472642\n",
       "absence_gr_9                             -0.226720\n",
       "science_normalized_gr_5                   0.000000\n",
       "math_normalized_gr_6                      0.000000\n",
       "read_normalized_gr_5                      0.000000\n",
       "gpa_district_gr_9_isnull                  0.000000\n",
       "gpa_gr_9_isnull                           0.000000\n",
       "gender_F                                  0.000000\n",
       "status_gr_9_6                             0.000000\n",
       "ethnicity_M                               0.000000\n",
       "ethnicity_I                               0.000000\n",
       "ethnicity_H                               0.000000\n",
       "ethnicity_B                               0.000000\n",
       "ethnicity_A                               0.000000\n",
       "tardy_gr_9                                0.000000\n",
       "discipline_incidents_gr_9                 0.000000\n",
       "math_normalized_gr_7                      0.000000\n",
       "district_gr_9_Zanesville                  0.000000\n",
       "read_normalized_gr_8                      0.000000\n",
       "math_normalized_gr_4                      0.000000\n",
       "read_normalized_gr_4                      0.000000\n",
       "read_normalized_gr_6                      0.000000\n",
       "math_normalized_gr_3                      0.000000\n",
       "science_normalized_gr_8                   0.000000\n",
       "iss_gr_9                                  0.000000\n",
       "read_normalized_gr_3                      0.000000\n",
       "math_normalized_gr_8                      0.000000\n",
       "oss_gr_9                                  0.000000\n",
       "read_normalized_gr_7                      0.000000\n",
       "                                            ...   \n",
       "status_gr_9_excel                         0.000000\n",
       "status_gr_9_esc                           0.000000\n",
       "status_gr_9_deleted                       0.000000\n",
       "disability_gr_9_other major               0.000000\n",
       "district_gr_9_Riverview                   0.000000\n",
       "math_normalized_gr_5                      0.000000\n",
       "disability_gr_9_traumatic brain injury    0.000000\n",
       "disability_gr_9_other minor               0.000000\n",
       "district_gr_9_East Muskingum              0.000000\n",
       "disability_gr_9_visual impairment         0.000000\n",
       "district_gr_9_Coshocton                   0.000000\n",
       "district_gr_9_Maysville                   0.000000\n",
       "district_gr_9_New Lexington City SD       0.000000\n",
       "district_gr_9_Franklin                    0.000000\n",
       "district_gr_9_Crooksville                 0.001187\n",
       "science_normalized_gr_5_isnull            0.002081\n",
       "socstudies_normalized_gr_5_isnull         0.002276\n",
       "math_normalized_gr_3_isnull               0.002650\n",
       "math_normalized_gr_5_isnull               0.002813\n",
       "read_normalized_gr_3_isnull               0.002917\n",
       "read_normalized_gr_5_isnull               0.003449\n",
       "read_normalized_gr_7_isnull               0.004072\n",
       "math_normalized_gr_6_isnull               0.004287\n",
       "science_normalized_gr_8_isnull            0.004390\n",
       "read_normalized_gr_6_isnull               0.004653\n",
       "read_normalized_gr_4_isnull               0.004719\n",
       "read_normalized_gr_8_isnull               0.004912\n",
       "math_normalized_gr_8_isnull               0.004914\n",
       "math_normalized_gr_4_isnull               0.005273\n",
       "math_normalized_gr_7_isnull               0.005876\n",
       "dtype: float64"
      ]
     },
     "execution_count": 37,
     "metadata": {},
     "output_type": "execute_result"
    }
   ],
   "source": [
    "(scores['importance'].multiply(X,axis='index')).sort_values()"
   ]
  },
  {
   "cell_type": "code",
   "execution_count": null,
   "metadata": {
    "collapsed": true
   },
   "outputs": [],
   "source": []
  },
  {
   "cell_type": "code",
   "execution_count": null,
   "metadata": {
    "collapsed": true
   },
   "outputs": [],
   "source": []
  }
 ],
 "metadata": {
  "kernelspec": {
   "display_name": "Python 3",
   "language": "python",
   "name": "python3"
  },
  "language_info": {
   "codemirror_mode": {
    "name": "ipython",
    "version": 3
   },
   "file_extension": ".py",
   "mimetype": "text/x-python",
   "name": "python",
   "nbconvert_exporter": "python",
   "pygments_lexer": "ipython3",
   "version": "3.4.3"
  }
 },
 "nbformat": 4,
 "nbformat_minor": 0
}
