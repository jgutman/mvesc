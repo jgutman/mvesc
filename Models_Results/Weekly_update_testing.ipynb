{
 "cells": [
  {
   "cell_type": "code",
   "execution_count": 1,
   "metadata": {
    "collapsed": false
   },
   "outputs": [],
   "source": [
    "import os, sys\n",
    "parentdir = os.path.abspath('/home/xcheng/mvesc/ETL')\n",
    "sys.path.insert(0,parentdir)\n",
    "from mvesc_utility_functions import *\n",
    "pathname = os.path.dirname(sys.argv[0])\n",
    "full_pathname = os.path.abspath(pathname)\n",
    "split_pathname = full_pathname.split(sep=\"mvesc\")\n",
    "base_pathname = os.path.join(split_pathname[0], \"mvesc\")\n",
    "parentdir = os.path.join(base_pathname, \"ETL\")\n",
    "sys.path.insert(0, parentdir)\n",
    "from mvesc_utility_functions import *\n",
    "from save_reports import *\n",
    "from optparse import OptionParser\n",
    "\n",
    "# all model import statements\n",
    "from sklearn import svm # use svm.SVC kernel = 'linear' or 'rbf'\n",
    "from sklearn.tree import DecisionTreeClassifier\n",
    "from sklearn.ensemble import RandomForestClassifier, ExtraTreesClassifier, GradientBoostingClassifier, AdaBoostClassifier\n",
    "from sklearn.linear_model import LogisticRegression, Perceptron, SGDClassifier\n",
    "from sklearn.neighbors import KNeighborsClassifier\n",
    "from sklearn.naive_bayes import GaussianNB, MultinomialNB, BernoulliNB\n",
    "\n",
    "#from sklearn.grid_search import ParameterGrid\n",
    "from sklearn.grid_search import GridSearchCV\n",
    "from sklearn.cross_validation import *\n",
    "from sklearn.externals import joblib\n",
    "from sklearn.metrics import precision_recall_curve, roc_curve, confusion_matrix\n",
    "from sklearn.preprocessing import Imputer, StandardScaler, RobustScaler\n",
    "\n",
    "import yaml\n",
    "import numpy as np\n",
    "import pandas as pd\n",
    "\n",
    "from my_timer import Timer\n",
    "from custom_scorers import *"
   ]
  },
  {
   "cell_type": "code",
   "execution_count": 25,
   "metadata": {
    "collapsed": false
   },
   "outputs": [
    {
     "data": {
      "text/plain": [
       "['../Reports/deep_dive_KNN.md',\n",
       " '../Reports/test_xc_DT.md',\n",
       " '../Reports/test_xc_logit.md',\n",
       " '../Reports/deep_dive_SVM.md',\n",
       " '../Reports/test_reporting_SVM.md',\n",
       " '../Reports/deep_dive_1_year_logit.md',\n",
       " '../Reports/test_reporting_logit.md',\n",
       " '../Reports/deep_dive_1_year_DT.md',\n",
       " '../Reports/deep_dive_4_years_DT.md',\n",
       " '../Reports/deep_dive_4_years_logit.md',\n",
       " '../Reports/deep_dive_DT.md',\n",
       " '../Reports/deep_dive_SGD.md',\n",
       " '../Reports/deep_dive_logit.md',\n",
       " '../Reports/deep_dive_1_year_SVM.md',\n",
       " '../Reports/test_xc_SVM.md',\n",
       " '../Reports/test_gender_ethnicity_not_on_time_logit.md',\n",
       " '../Reports/test_reporting_DT.md',\n",
       " '../Reports/test_xc_RF.md',\n",
       " '../Reports/auto_expand_features_test_DT.md',\n",
       " '../Reports/README.md',\n",
       " '../Reports/test_gender_ethnicity_not_on_time_DT.md',\n",
       " '../Reports/auto_expand_features_test_logit.md']"
      ]
     },
     "execution_count": 25,
     "metadata": {},
     "output_type": "execute_result"
    }
   ],
   "source": [
    "files = os.listdir('../Reports/')\n",
    "md_files = list(filter(lambda x: x[-3:]=='.md', files))\n",
    "md_files = [\"../Reports/\" + x for x in md_files]\n",
    "md_files"
   ]
  },
  {
   "cell_type": "code",
   "execution_count": 27,
   "metadata": {
    "collapsed": false
   },
   "outputs": [],
   "source": [
    "files = os.listdir('../Reports/')\n",
    "md_files = list(filter(lambda x: x[-3:]=='.md', files))\n",
    "md_files = [\"../Reports/\" + x for x in md_files]\n",
    "for fn in md_files: \n",
    "    newfn = fn[:-3]+'_temp.md'\n",
    "    os.rename(fn, newfn)\n",
    "    with open(fn, \"wt\") as fout:\n",
    "        with open(newfn, \"rt\") as fin:\n",
    "            for line in fin:\n",
    "                fout.write(line.replace('![', '![./figs/'))"
   ]
  },
  {
   "cell_type": "code",
   "execution_count": 24,
   "metadata": {
    "collapsed": false
   },
   "outputs": [],
   "source": [
    "for fn in md_files:\n",
    "     os.rename(fn, fn.replace('_temp', ''))"
   ]
  },
  {
   "cell_type": "code",
   "execution_count": null,
   "metadata": {
    "collapsed": true
   },
   "outputs": [],
   "source": []
  }
 ],
 "metadata": {
  "kernelspec": {
   "display_name": "Python 3",
   "language": "python",
   "name": "python3"
  },
  "language_info": {
   "codemirror_mode": {
    "name": "ipython",
    "version": 3
   },
   "file_extension": ".py",
   "mimetype": "text/x-python",
   "name": "python",
   "nbconvert_exporter": "python",
   "pygments_lexer": "ipython3",
   "version": "3.4.3"
  }
 },
 "nbformat": 4,
 "nbformat_minor": 0
}
