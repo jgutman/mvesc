{
 "cells": [
  {
   "cell_type": "code",
   "execution_count": 1,
   "metadata": {
    "collapsed": true
   },
   "outputs": [],
   "source": [
    "import os\n",
    "import sys\n",
    "import numpy as np\n",
    "import pandas as pd\n",
    "sys.path.insert(0, '/home/jgutman/mvesc/ETL')"
   ]
  },
  {
   "cell_type": "code",
   "execution_count": null,
   "metadata": {
    "collapsed": true
   },
   "outputs": [],
   "source": [
    "from mvesc_utility_functions import *"
   ]
  },
  {
   "cell_type": "code",
   "execution_count": 17,
   "metadata": {
    "collapsed": false
   },
   "outputs": [],
   "source": [
    "with postgres_pgconnection_generator() as connection:\n",
    "    connection.autocommit = True\n",
    "    with connection.cursor() as cursor:\n",
    "        schemas = [\"'feature_scores'\", \"'predictions'\"]\n",
    "        schemas_str = \", \".join(schemas)\n",
    "        pull_tables_to_delete = \"\"\"select table_schema, table_name from information_schema.tables \n",
    "        where table_schema in ({}) limit 10000;\"\"\".format(schemas_str)\n",
    "        cursor.execute(pull_tables_to_delete)\n",
    "        tables_to_delete = cursor.fetchall()\n",
    "        for schema, table in tables_to_delete:\n",
    "            delete_table = \"\"\"drop table {}.\"{}\";\"\"\".format(schema, table)\n",
    "            cursor.execute(delete_table)\n",
    "        for schema in schemas:\n",
    "            delete_schema = \"drop schema if exists {};\".format(schema.strip(\"'\"))\n",
    "            cursor.execute(delete_schema)"
   ]
  },
  {
   "cell_type": "code",
   "execution_count": null,
   "metadata": {
    "collapsed": true
   },
   "outputs": [],
   "source": []
  },
  {
   "cell_type": "code",
   "execution_count": null,
   "metadata": {
    "collapsed": true
   },
   "outputs": [],
   "source": []
  }
 ],
 "metadata": {
  "kernelspec": {
   "display_name": "Python 3",
   "language": "python",
   "name": "python3"
  },
  "language_info": {
   "codemirror_mode": {
    "name": "ipython",
    "version": 3
   },
   "file_extension": ".py",
   "mimetype": "text/x-python",
   "name": "python",
   "nbconvert_exporter": "python",
   "pygments_lexer": "ipython3",
   "version": "3.4.3"
  }
 },
 "nbformat": 4,
 "nbformat_minor": 0
}
