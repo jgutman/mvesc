{
 "cells": [
  {
   "cell_type": "code",
   "execution_count": 1,
   "metadata": {
    "collapsed": true
   },
   "outputs": [],
   "source": [
    "prediction_grade_level = 10\n",
    "feature_grade_range = range(6, prediction_grade_level)"
   ]
  },
  {
   "cell_type": "code",
   "execution_count": 23,
   "metadata": {
    "collapsed": false
   },
   "outputs": [],
   "source": [
    "features_included = {\n",
    "  'demographics': ['ethnicity', 'gender'],\n",
    "  'grades': ['gpa*'],\n",
    "  'mobility': ['n_addresses_to*', 'n_cities_to*', 'n_districts_to*'],\n",
    "  'snapshots': ['disadvantagement*', 'disability*', 'district*', 'gifted*', \n",
    "                'iss*', 'oss*', 'limited_english*', 'special_ed*', 'status*', \n",
    "               'days_absent*', 'days_absent_unexcused*', 'discipline_incidents*']\n",
    "    }"
   ]
  },
  {
   "cell_type": "code",
   "execution_count": 24,
   "metadata": {
    "collapsed": false
   },
   "outputs": [],
   "source": [
    "def parse_features(features_included_raw, feature_grade_range):\n",
    "    features_included = dict()\n",
    "    for table, feature_list in features_included_raw.items():\n",
    "        feature_list_expanded = [feature.replace('*', '{}').format('_gr_' + str(i)) \n",
    "                                 for i in feature_grade_range for feature in feature_list]\n",
    "        feature_list_expanded = set(feature_list_expanded)\n",
    "        features_included[table] = feature_list_expanded\n",
    "    return features_included"
   ]
  },
  {
   "cell_type": "code",
   "execution_count": 25,
   "metadata": {
    "collapsed": true
   },
   "outputs": [],
   "source": [
    "features_included_expanded = parse_features(features_included, feature_grade_range)"
   ]
  },
  {
   "cell_type": "code",
   "execution_count": 26,
   "metadata": {
    "collapsed": false
   },
   "outputs": [
    {
     "data": {
      "text/plain": [
       "{'demographics': {'ethnicity', 'gender'},\n",
       " 'grades': {'gpa_gr_6', 'gpa_gr_7', 'gpa_gr_8', 'gpa_gr_9'},\n",
       " 'mobility': {'n_addresses_to_gr_6',\n",
       "  'n_addresses_to_gr_7',\n",
       "  'n_addresses_to_gr_8',\n",
       "  'n_addresses_to_gr_9',\n",
       "  'n_cities_to_gr_6',\n",
       "  'n_cities_to_gr_7',\n",
       "  'n_cities_to_gr_8',\n",
       "  'n_cities_to_gr_9',\n",
       "  'n_districts_to_gr_6',\n",
       "  'n_districts_to_gr_7',\n",
       "  'n_districts_to_gr_8',\n",
       "  'n_districts_to_gr_9'},\n",
       " 'snapshots': {'days_absent_gr_6',\n",
       "  'days_absent_gr_7',\n",
       "  'days_absent_gr_8',\n",
       "  'days_absent_gr_9',\n",
       "  'days_absent_unexcused_gr_6',\n",
       "  'days_absent_unexcused_gr_7',\n",
       "  'days_absent_unexcused_gr_8',\n",
       "  'days_absent_unexcused_gr_9',\n",
       "  'disability_gr_6',\n",
       "  'disability_gr_7',\n",
       "  'disability_gr_8',\n",
       "  'disability_gr_9',\n",
       "  'disadvantagement_gr_6',\n",
       "  'disadvantagement_gr_7',\n",
       "  'disadvantagement_gr_8',\n",
       "  'disadvantagement_gr_9',\n",
       "  'discipline_incidents_gr_6',\n",
       "  'discipline_incidents_gr_7',\n",
       "  'discipline_incidents_gr_8',\n",
       "  'discipline_incidents_gr_9',\n",
       "  'district_gr_6',\n",
       "  'district_gr_7',\n",
       "  'district_gr_8',\n",
       "  'district_gr_9',\n",
       "  'gifted_gr_6',\n",
       "  'gifted_gr_7',\n",
       "  'gifted_gr_8',\n",
       "  'gifted_gr_9',\n",
       "  'iss_gr_6',\n",
       "  'iss_gr_7',\n",
       "  'iss_gr_8',\n",
       "  'iss_gr_9',\n",
       "  'limited_english_gr_6',\n",
       "  'limited_english_gr_7',\n",
       "  'limited_english_gr_8',\n",
       "  'limited_english_gr_9',\n",
       "  'oss_gr_6',\n",
       "  'oss_gr_7',\n",
       "  'oss_gr_8',\n",
       "  'oss_gr_9',\n",
       "  'special_ed_gr_6',\n",
       "  'special_ed_gr_7',\n",
       "  'special_ed_gr_8',\n",
       "  'special_ed_gr_9',\n",
       "  'status_gr_6',\n",
       "  'status_gr_7',\n",
       "  'status_gr_8',\n",
       "  'status_gr_9'}}"
      ]
     },
     "execution_count": 26,
     "metadata": {},
     "output_type": "execute_result"
    }
   ],
   "source": [
    "features_included_expanded"
   ]
  },
  {
   "cell_type": "code",
   "execution_count": null,
   "metadata": {
    "collapsed": true
   },
   "outputs": [],
   "source": []
  }
 ],
 "metadata": {
  "kernelspec": {
   "display_name": "Python 3",
   "language": "python",
   "name": "python3"
  },
  "language_info": {
   "codemirror_mode": {
    "name": "ipython",
    "version": 3
   },
   "file_extension": ".py",
   "mimetype": "text/x-python",
   "name": "python",
   "nbconvert_exporter": "python",
   "pygments_lexer": "ipython3",
   "version": "3.4.3"
  }
 },
 "nbformat": 4,
 "nbformat_minor": 0
}
