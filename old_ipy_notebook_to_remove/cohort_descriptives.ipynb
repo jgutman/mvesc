{
 "cells": [
  {
   "cell_type": "code",
   "execution_count": 1,
   "metadata": {
    "collapsed": true
   },
   "outputs": [],
   "source": [
    "import os\n",
    "from os.path import isfile, join, abspath, basename\n",
    "from optparse import OptionParser\n",
    "import sys\n",
    "import numpy as np\n",
    "import pandas as pd\n",
    "from sqlalchemy import create_engine\n",
    "import sqlalchemy\n",
    "import json\n",
    "\n",
    "# functions to read and dump csv to sql server\n",
    "def postgresql_engine_generator_mvesc(pass_file=\"/mnt/data/mvesc/pgpass\"):\n",
    "    \"\"\" Create postgres engine from credential-file\n",
    "    Note: you can only run it on the mvesc-AWS-server\n",
    "    :param str pass_file: file with the credential information\n",
    "    :return sqlalchemy.engine object engine: object created create_engine() in sqlalchemy\n",
    "    :rtype sqlalchemy.engine\n",
    "    \"\"\"\n",
    "    with open(pass_file, 'r') as f:\n",
    "        passinfo = f.read()\n",
    "    passinfo = passinfo.strip().split(':')\n",
    "    host_address = passinfo[0]\n",
    "    port = passinfo[1]\n",
    "    user_name = passinfo[2]\n",
    "    name_of_database = passinfo[3]\n",
    "    user_password = passinfo[4]\n",
    "    sql_eng_str = \"postgresql://\"+user_name+\":\"+user_password+\"@\"+host_address+'/'+name_of_database\n",
    "    engine = create_engine(sql_eng_str)\n",
    "    return engine"
   ]
  },
  {
   "cell_type": "code",
   "execution_count": 2,
   "metadata": {
    "collapsed": true
   },
   "outputs": [],
   "source": [
    "engine = postgresql_engine_generator_mvesc()\n",
    "\n"
   ]
  },
  {
   "cell_type": "code",
   "execution_count": null,
   "metadata": {
    "collapsed": true
   },
   "outputs": [],
   "source": []
  }
 ],
 "metadata": {
  "kernelspec": {
   "display_name": "Python 3",
   "language": "python",
   "name": "python3"
  },
  "language_info": {
   "codemirror_mode": {
    "name": "ipython",
    "version": 3
   },
   "file_extension": ".py",
   "mimetype": "text/x-python",
   "name": "python",
   "nbconvert_exporter": "python",
   "pygments_lexer": "ipython3",
   "version": "3.4.3"
  }
 },
 "nbformat": 4,
 "nbformat_minor": 0
}
