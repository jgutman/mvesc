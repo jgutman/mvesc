{
 "cells": [
  {
   "cell_type": "code",
   "execution_count": 1,
   "metadata": {
    "collapsed": true
   },
   "outputs": [],
   "source": [
    "import re\n",
    "import yaml\n",
    "import os\n",
    "import sys"
   ]
  },
  {
   "cell_type": "code",
   "execution_count": 2,
   "metadata": {
    "collapsed": true
   },
   "outputs": [],
   "source": [
    "sys.path.insert(0, '/home/jgutman/mvesc/ETL')\n",
    "sys.path.insert(0, '/home/jgutman/mvesc/Models_Results')"
   ]
  },
  {
   "cell_type": "code",
   "execution_count": 3,
   "metadata": {
    "collapsed": true
   },
   "outputs": [],
   "source": [
    "from my_timer import Timer\n",
    "from mvesc_utility_functions import *"
   ]
  },
  {
   "cell_type": "code",
   "execution_count": 4,
   "metadata": {
    "collapsed": true
   },
   "outputs": [],
   "source": [
    "def parse_addresses(addresses, shortened):\n",
    "    addresses = [address.title() if address else None\n",
    "        for address in addresses]\n",
    "    addresses = [re.sub('[.,]', '', address) if address else None\n",
    "        for address in addresses]\n",
    "    addresses = [re.sub(r'\\s+', ' ', address) if address else None\n",
    "        for address in addresses]\n",
    "    pattern = re.compile('|'.join(shortened.keys()))\n",
    "    addresses = [pattern.sub(lambda x: shortened[x.group()], address)\n",
    "        if address else None\n",
    "        for address in addresses]\n",
    "    return addresses"
   ]
  },
  {
   "cell_type": "code",
   "execution_count": 5,
   "metadata": {
    "collapsed": false
   },
   "outputs": [],
   "source": [
    "with open('/home/jgutman/mvesc/ETL/clean_addresses.yaml', 'r') as f:\n",
    "    shortened = yaml.load(f)"
   ]
  },
  {
   "cell_type": "code",
   "execution_count": 44,
   "metadata": {
    "collapsed": false
   },
   "outputs": [
    {
     "name": "stdout",
     "output_type": "stream",
     "text": [
      "parse_address: 2.6 seconds elapsed\n",
      "15233\n",
      "243948\n",
      "replace_address: 1.3e+01 seconds elapsed\n"
     ]
    }
   ],
   "source": [
    "with postgres_pgconnection_generator() as connection:\n",
    "    with connection.cursor() as cursor:\n",
    "        query_start_over = \"\"\"drop table if exists all_snapshots;\n",
    "            drop table if exists snapshots_updated;\n",
    "            create table all_snapshots as \n",
    "            select * from clean.all_snapshots\"\"\"\n",
    "        query_create_street_index = \"\"\"create index old_streets on all_snapshots (street)\"\"\"\n",
    "        cursor.execute(query_start_over)\n",
    "        cursor.execute(query_create_street_index)\n",
    "        query_get_addresses = \"\"\"select street from all_snapshots\"\"\"\n",
    "        cursor.execute(query_get_addresses)\n",
    "        addresses = [i[0] for i in cursor.fetchall()]\n",
    "        \n",
    "        with Timer('parse_address') as t:\n",
    "            standardized_addresses = parse_addresses(addresses, shortened)\n",
    "            assert(len(standardized_addresses)==len(addresses))\n",
    "            assert([i for i,j in enumerate(addresses) if not j] ==\n",
    "                [i for i,j in enumerate(standardized_addresses) if not j])\n",
    "            \n",
    "        map_addresses = {k: v for k, v in zip(addresses, standardized_addresses) if k!=v}\n",
    "        rows = [{'old_address': k, 'new_address': v} for k,v in map_addresses.items()]\n",
    "        \n",
    "        with Timer('replace_address') as t:\n",
    "            cursor.execute(\"\"\"alter table all_snapshots\n",
    "                        add column street_clean_bare varchar(80)\"\"\")\n",
    "            print(len(map_addresses.keys()))\n",
    "            cursor.executemany(\"\"\"update all_snapshots\n",
    "                set street_clean_bare=%(new_address)s\n",
    "                where street=%(old_address)s\n",
    "                \"\"\", rows)\n",
    "            cursor.execute(\"\"\"create table snapshots_updated as\n",
    "                select *, coalesce(street_clean_bare, street) street_clean\n",
    "                from all_snapshots;\n",
    "                alter table snapshots_updated\n",
    "                drop column street_clean_bare\"\"\")\n",
    "            cursor.execute(\"\"\"select street_clean from snapshots_updated \n",
    "                           where street_clean is not null\"\"\")\n",
    "            results = cursor.fetchall()\n",
    "            print(len(results))\n",
    "        connection.commit()"
   ]
  },
  {
   "cell_type": "code",
   "execution_count": null,
   "metadata": {
    "collapsed": true
   },
   "outputs": [],
   "source": []
  }
 ],
 "metadata": {
  "kernelspec": {
   "display_name": "Python 3",
   "language": "python",
   "name": "python3"
  },
  "language_info": {
   "codemirror_mode": {
    "name": "ipython",
    "version": 3
   },
   "file_extension": ".py",
   "mimetype": "text/x-python",
   "name": "python",
   "nbconvert_exporter": "python",
   "pygments_lexer": "ipython3",
   "version": "3.4.3"
  }
 },
 "nbformat": 4,
 "nbformat_minor": 0
}
