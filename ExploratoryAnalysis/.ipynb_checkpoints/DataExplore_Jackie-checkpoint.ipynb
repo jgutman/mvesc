{
 "cells": [
  {
   "cell_type": "code",
   "execution_count": 2,
   "metadata": {
    "collapsed": false
   },
   "outputs": [
    {
     "data": {
      "text/plain": [
       "'0.18.1'"
      ]
     },
     "execution_count": 2,
     "metadata": {},
     "output_type": "execute_result"
    }
   ],
   "source": [
    "import pandas\n",
    "pandas.__version__"
   ]
  },
  {
   "cell_type": "code",
   "execution_count": 3,
   "metadata": {
    "collapsed": true
   },
   "outputs": [],
   "source": [
    "import pandas as pd\n",
    "import psycopg2 as pg\n",
    "pass_file = \"/mnt/data/mvesc/PartnerData/default_profile\"\n",
    "f = open(pass_file, 'r')\n",
    "with open(pass_file, 'r') as f:\n",
    "   passinfo = f.readlines()\n",
    "f.close()"
   ]
  },
  {
   "cell_type": "code",
   "execution_count": 4,
   "metadata": {
    "collapsed": false
   },
   "outputs": [],
   "source": [
    "database_credentials = [line.strip().split(\"=\")[1] for line in passinfo]\n",
    "#database_credentials # don't print this out in Jupyter notebook for world to see!"
   ]
  },
  {
   "cell_type": "code",
   "execution_count": 5,
   "metadata": {
    "collapsed": true
   },
   "outputs": [],
   "source": [
    "host_address = database_credentials[0]\n",
    "user_name = database_credentials[1]\n",
    "name_of_database = database_credentials[2]\n",
    "user_password = database_credentials[3]\n",
    "conn = pg.connect(host=host_address, database=name_of_database, user=user_name, password=user_password)"
   ]
  },
  {
   "cell_type": "code",
   "execution_count": 6,
   "metadata": {
    "collapsed": false
   },
   "outputs": [],
   "source": [
    "def read_table_to_df(table_name, connection):\n",
    "    \"\"\" Takes a table name as input and returns postgres table as pandas data frame.\n",
    "    \n",
    "    :param string table_name: Name of table to read in\n",
    "    :param psycopg2.connection connection: POSTGRESQL connection object for Python\n",
    "    :return: a Pandas dataframe object containing the desired table\n",
    "    :rtype: Pandas.dataframe\n",
    "    \"\"\"\n",
    "    sql_query = \"SELECT * FROM \\\"\" + table_name + \"\\\";\"\n",
    "    data = pd.read_sql(sql_query, connection)\n",
    "    return data"
   ]
  },
  {
   "cell_type": "code",
   "execution_count": 7,
   "metadata": {
    "collapsed": false
   },
   "outputs": [
    {
     "data": {
      "text/plain": [
       "['AllDistricts1112',\n",
       " 'AllDistricts1213',\n",
       " 'AllDistricts1314',\n",
       " 'AllDistricts1415']"
      ]
     },
     "execution_count": 7,
     "metadata": {},
     "output_type": "execute_result"
    }
   ],
   "source": [
    "ALL_DISTRICTS_TABLES = [\"AllDistricts\" + str(num) + str(num+1) for num in range(11,15)]\n",
    "ALL_DISTRICTS_TABLES"
   ]
  },
  {
   "cell_type": "code",
   "execution_count": 8,
   "metadata": {
    "collapsed": true
   },
   "outputs": [],
   "source": [
    "ALL_DISTRICTS_TABLES.append(\"CurrentStudents\")"
   ]
  },
  {
   "cell_type": "code",
   "execution_count": 9,
   "metadata": {
    "collapsed": false
   },
   "outputs": [],
   "source": [
    "all_districts_data = [read_table_to_df(table_name, conn) for table_name in ALL_DISTRICTS_TABLES]"
   ]
  },
  {
   "cell_type": "code",
   "execution_count": 11,
   "metadata": {
    "collapsed": false
   },
   "outputs": [
    {
     "data": {
      "text/plain": [
       "['AllDistricts1112: (33623, 29)',\n",
       " 'AllDistricts1213: (34090, 29)',\n",
       " 'AllDistricts1314: (33164, 29)',\n",
       " 'AllDistricts1415: (34101, 29)',\n",
       " 'CurrentStudents: (34327, 28)']"
      ]
     },
     "execution_count": 11,
     "metadata": {},
     "output_type": "execute_result"
    }
   ],
   "source": [
    "zipped_all_districts = zip(ALL_DISTRICTS_TABLES, all_districts_data)\n",
    "[\"%s: %s\" % (k,v.shape) for (k,v) in zipped_all_districts]"
   ]
  },
  {
   "cell_type": "code",
   "execution_count": 59,
   "metadata": {
    "collapsed": false
   },
   "outputs": [],
   "source": [
    "all_grads = read_table_to_df(\"AllGradsTotal\", conn)\n",
    "current_mobility = read_table_to_df(\"CurrentMobility\", conn)\n",
    "current_absence_discipline = read_table_to_df(\"CurrentAbsenceDiscipline\", conn)"
   ]
  },
  {
   "cell_type": "code",
   "execution_count": 15,
   "metadata": {
    "collapsed": false
   },
   "outputs": [
    {
     "name": "stdout",
     "output_type": "stream",
     "text": [
      "(9198, 85)\n",
      "Index(['StudentLookup', 'RECORD_FOUND_Y_N', 'HIGH_SCHOOL_GRAD_DATE', 'College',\n",
      "       'SWD', 'Disadvantaged', 'Att12th', 'Att11th', 'Att10th', 'Att9th',\n",
      "       'IncPrev', 'OSSPrev', 'ISSPrev', 'IncPrev2', 'OSSPrev2', 'ISSPrev2',\n",
      "       'Third_Read_PL', 'Third_Read_SS', 'Third_Math_PL', 'Third_Math_SS',\n",
      "       'Fourth_Read_PL', 'Fourth_Read_SS', 'Fourth_Math_PL', 'Fourth_Math_SS',\n",
      "       'Fourth_Write_PL', 'Fourth_Write_SS', 'Fourth_Ctz_PL', 'Fourth_Ctz_SS',\n",
      "       'Fourth_Science_PL', 'Fourth_Science_SS', 'Fifth_Read_PL',\n",
      "       'Fifth_Read_SS', 'Fifth_Math_PL', 'Fifth_Math_SS',\n",
      "       'Fifth_SocStudies_PL', 'Fifth_SocStudies_SS', 'Fifth_Science_PL',\n",
      "       'Fifth_Science_SS', 'Sixth_Read_PL', 'Sixth_Read_SS', 'Sixth_Math_PL',\n",
      "       'Sixth_Math_SS', 'Sixth_Write_PL', 'Sixth_Write_SS', 'Sixth_Ctz_PL',\n",
      "       'Sixth_Ctz_SS', 'Sixth_Science_PL', 'Sixth_Science_SS',\n",
      "       'Seventh_Read_PL', 'Seventh_Read_SS', 'Seventh_Math_PL',\n",
      "       'Seventh_Math_SS', 'Seventh_Write_PL', 'Seventh_Write_SS',\n",
      "       'Eighth_Read_PL', 'Eighth_Read_SS', 'Eighth_Math_PL', 'Eighth_Math_SS',\n",
      "       'Eighth_Science_PL', 'Eighth_Science_SS', 'Eighth_SocStudies_PL',\n",
      "       'Eighth_SocStudies_SS', 'OGT_Read_PL', 'OGT_Read_SS', 'OGT_Math_PL',\n",
      "       'OGT_Math_SS', 'OGT_Write_PL', 'OGT_Write_SS', 'OGT_Science_PL',\n",
      "       'OGT_Science_SS', 'OGT_SocStudies_PL', 'OGT_SocStudies_SS',\n",
      "       'Tests_Taken', 'Count_Below_Proficient', 'Percent_Pass',\n",
      "       'Percent_Pass_Read', 'Percent_Pass_Math', 'JVS', 'Graduated_College',\n",
      "       'ACT_Composite', 'ACT_English', 'ACT_Math', 'ACT_Reading',\n",
      "       'ACT_Science', 'DistrictCode'],\n",
      "      dtype='object')\n"
     ]
    }
   ],
   "source": [
    "print(all_grads.shape)\n",
    "print(all_grads.columns)"
   ]
  },
  {
   "cell_type": "code",
   "execution_count": 60,
   "metadata": {
    "collapsed": false
   },
   "outputs": [
    {
     "name": "stdout",
     "output_type": "stream",
     "text": [
      "(850, 14)\n",
      "Index(['StudentLookup', 'CURRENT_GRADE', 'HANDICAP', 'HANDICAP_DESC',\n",
      "       'DISADVANTAGEMENT', 'DISADVANTAGEMENT_DESC', 'DATE_OF_BIRTH',\n",
      "       'STUDENT_STATUS', 'STUDENT_STATUS_DESC', 'GENDER', 'RACIAL_ETHNIC_DESC',\n",
      "       'ADMISSION_DATE', 'District', 'School'],\n",
      "      dtype='object')\n"
     ]
    }
   ],
   "source": [
    "print(current_mobility.shape)\n",
    "print(current_mobility.columns)"
   ]
  },
  {
   "cell_type": "code",
   "execution_count": 61,
   "metadata": {
    "collapsed": false
   },
   "outputs": [
    {
     "name": "stdout",
     "output_type": "stream",
     "text": [
      "(34259, 8)\n",
      "Index(['StudentLookup', 'Absent', 'Lates', 'AttPCt', 'Incidents', 'OSS', 'ISS',\n",
      "       'Expul'],\n",
      "      dtype='object')\n"
     ]
    }
   ],
   "source": [
    "print(current_absence_discipline.shape)\n",
    "print(current_absence_discipline.columns)"
   ]
  },
  {
   "cell_type": "code",
   "execution_count": 52,
   "metadata": {
    "collapsed": false
   },
   "outputs": [
    {
     "name": "stdout",
     "output_type": "stream",
     "text": [
      "['D13', 'D15', 'D5', 'D7', 'D8']\n",
      "['D1', 'D10', 'D12', 'D13', 'D14', 'D15', 'D16', 'D17', 'D3', 'D4', 'D5', 'D6', 'D7', 'D8']\n",
      "20110114 to 20150630\n",
      "20110516 to 20150701\n"
     ]
    }
   ],
   "source": [
    "# There are two very similar looking codes for economic/academic disadvantage: \n",
    "# \"1 - Economic disadvantagement\" and \"Economic Disadvantagement\"\n",
    "# Let's just check if the coding scheme has changed over time or varies district to district\n",
    "\n",
    "def get_unique_stripped_sorted_values(sort_column, coding, \n",
    "                                      code_column = \"Disadvantaged\", data = all_grads):\n",
    "    \"\"\"Subsets a dataframe by rows containing particular value in the code column, and then strips and \n",
    "       sorts all unique values in sort column of the matching rows. Returns these unique sorted values \n",
    "       in a list.\n",
    "       \n",
    "    :param string sort_column: Name of the column to find unique values of (for matching rows)\n",
    "    :param string coding: Value of the code to subset the data by\n",
    "    :param string code_column: Column to find the code to subset the data by\n",
    "    :param Pandas.dataframe data: input dataframe\n",
    "    :return: a list containing unique values in specified column for the matching rows\n",
    "    :rtype: list[dtype of sort_column] \n",
    "    \"\"\"\n",
    "    unique_values_for_code = data[sort_column][data[code_column] == coding].unique()\n",
    "    unique_values_for_code_stripped = [d.strip() for d in unique_values_for_code]\n",
    "    unique_values_for_code_stripped.sort()\n",
    "    return(unique_values_for_code_stripped)\n",
    "\n",
    "districts_codetype1 = get_unique_stripped_sorted_values(sort_column = \"DistrictCode\", \n",
    "                                                        coding = \"1 - Economic disadvantagement\")\n",
    "districts_codetype2 = get_unique_stripped_sorted_values(sort_column = \"DistrictCode\", \n",
    "                                                        coding = \"Economic Disadvantagement\")\n",
    "print(districts_codetype1)\n",
    "print(districts_codetype2)\n",
    "\n",
    "grad_date_codetype1 = get_unique_stripped_sorted_values(sort_column = \"HIGH_SCHOOL_GRAD_DATE\",\n",
    "                                                        coding = \"1 - Economic disadvantagement\")\n",
    "grad_date_codetype2 = get_unique_stripped_sorted_values(sort_column = \"HIGH_SCHOOL_GRAD_DATE\",\n",
    "                                                        coding = \"Economic Disadvantagement\")\n",
    "\n",
    "print(\"%s to %s\" % (grad_date_codetype1[0], grad_date_codetype1[-1]))\n",
    "print(\"%s to %s\" % (grad_date_codetype2[0], grad_date_codetype2[-1]))"
   ]
  },
  {
   "cell_type": "code",
   "execution_count": null,
   "metadata": {
    "collapsed": true
   },
   "outputs": [],
   "source": [
    "# all_grads.Disadvantaged.replace(to_replace=\"1 - Economic disadvantagement\", \n",
    "#                                value=\"Economic Disadvantagement\", inplace=True)\n",
    "# all_grads.Disadvantaged.replace(to_replace=\"2 - Academic disadvantagement\", \n",
    "#                                value=\"Academic Disadvantagement\", inplace=True)"
   ]
  },
  {
   "cell_type": "code",
   "execution_count": 29,
   "metadata": {
    "collapsed": false
   },
   "outputs": [],
   "source": [
    "all_grads_valuecounts = {colname: all_grads[colname].value_counts(dropna=False) for colname in all_grads.columns}"
   ]
  },
  {
   "cell_type": "markdown",
   "metadata": {},
   "source": [
    "How many students are not disadvantaged? Economic ? Academic ? It isn't clear why there are two coding types for each, or why there are so few academic disadvantaged students in the data -- but this is grads only."
   ]
  },
  {
   "cell_type": "code",
   "execution_count": 32,
   "metadata": {
    "collapsed": false
   },
   "outputs": [
    {
     "data": {
      "text/plain": [
       "                                          5488\n",
       "Economic Disadvantagement                 3208\n",
       "1 - Economic disadvantagement              475\n",
       "Academic Disadvantagement                   19\n",
       "Economic and Academic Disadvantagement       7\n",
       "2 - Academic disadvantagement                1\n",
       "Name: Disadvantaged, dtype: int64"
      ]
     },
     "execution_count": 32,
     "metadata": {},
     "output_type": "execute_result"
    }
   ],
   "source": [
    "all_grads_valuecounts[\"Disadvantaged\"].groupby()"
   ]
  },
  {
   "cell_type": "code",
   "execution_count": 58,
   "metadata": {
    "collapsed": false
   },
   "outputs": [
    {
     "data": {
      "text/html": [
       "<div>\n",
       "<table border=\"1\" class=\"dataframe\">\n",
       "  <thead>\n",
       "    <tr style=\"text-align: right;\">\n",
       "      <th></th>\n",
       "      <th></th>\n",
       "      <th>Disadvantaged</th>\n",
       "    </tr>\n",
       "    <tr>\n",
       "      <th>DistrictCode</th>\n",
       "      <th>Disadvantaged</th>\n",
       "      <th></th>\n",
       "    </tr>\n",
       "  </thead>\n",
       "  <tbody>\n",
       "    <tr>\n",
       "      <th rowspan=\"3\" valign=\"top\">D1</th>\n",
       "      <th>Economic Disadvantagement</th>\n",
       "      <td>138</td>\n",
       "    </tr>\n",
       "    <tr>\n",
       "      <th></th>\n",
       "      <td>127</td>\n",
       "    </tr>\n",
       "    <tr>\n",
       "      <th>Academic Disadvantagement</th>\n",
       "      <td>5</td>\n",
       "    </tr>\n",
       "    <tr>\n",
       "      <th rowspan=\"2\" valign=\"top\">D10</th>\n",
       "      <th>Economic Disadvantagement</th>\n",
       "      <td>189</td>\n",
       "    </tr>\n",
       "    <tr>\n",
       "      <th></th>\n",
       "      <td>132</td>\n",
       "    </tr>\n",
       "    <tr>\n",
       "      <th rowspan=\"2\" valign=\"top\">D12</th>\n",
       "      <th>Economic Disadvantagement</th>\n",
       "      <td>265</td>\n",
       "    </tr>\n",
       "    <tr>\n",
       "      <th></th>\n",
       "      <td>251</td>\n",
       "    </tr>\n",
       "    <tr>\n",
       "      <th rowspan=\"3\" valign=\"top\">D13</th>\n",
       "      <th></th>\n",
       "      <td>390</td>\n",
       "    </tr>\n",
       "    <tr>\n",
       "      <th>Economic Disadvantagement</th>\n",
       "      <td>354</td>\n",
       "    </tr>\n",
       "    <tr>\n",
       "      <th>1 - Economic disadvantagement</th>\n",
       "      <td>1</td>\n",
       "    </tr>\n",
       "    <tr>\n",
       "      <th rowspan=\"4\" valign=\"top\">D14</th>\n",
       "      <th></th>\n",
       "      <td>811</td>\n",
       "    </tr>\n",
       "    <tr>\n",
       "      <th>Economic Disadvantagement</th>\n",
       "      <td>312</td>\n",
       "    </tr>\n",
       "    <tr>\n",
       "      <th>Academic Disadvantagement</th>\n",
       "      <td>3</td>\n",
       "    </tr>\n",
       "    <tr>\n",
       "      <th>Economic and Academic Disadvantagement</th>\n",
       "      <td>2</td>\n",
       "    </tr>\n",
       "    <tr>\n",
       "      <th rowspan=\"3\" valign=\"top\">D15</th>\n",
       "      <th></th>\n",
       "      <td>495</td>\n",
       "    </tr>\n",
       "    <tr>\n",
       "      <th>Economic Disadvantagement</th>\n",
       "      <td>447</td>\n",
       "    </tr>\n",
       "    <tr>\n",
       "      <th>1 - Economic disadvantagement</th>\n",
       "      <td>102</td>\n",
       "    </tr>\n",
       "    <tr>\n",
       "      <th rowspan=\"3\" valign=\"top\">D16</th>\n",
       "      <th></th>\n",
       "      <td>549</td>\n",
       "    </tr>\n",
       "    <tr>\n",
       "      <th>Economic Disadvantagement</th>\n",
       "      <td>236</td>\n",
       "    </tr>\n",
       "    <tr>\n",
       "      <th>Academic Disadvantagement</th>\n",
       "      <td>7</td>\n",
       "    </tr>\n",
       "    <tr>\n",
       "      <th rowspan=\"2\" valign=\"top\">D17</th>\n",
       "      <th></th>\n",
       "      <td>388</td>\n",
       "    </tr>\n",
       "    <tr>\n",
       "      <th>Economic Disadvantagement</th>\n",
       "      <td>196</td>\n",
       "    </tr>\n",
       "    <tr>\n",
       "      <th rowspan=\"2\" valign=\"top\">D3</th>\n",
       "      <th></th>\n",
       "      <td>246</td>\n",
       "    </tr>\n",
       "    <tr>\n",
       "      <th>Economic Disadvantagement</th>\n",
       "      <td>202</td>\n",
       "    </tr>\n",
       "    <tr>\n",
       "      <th rowspan=\"4\" valign=\"top\">D4</th>\n",
       "      <th></th>\n",
       "      <td>269</td>\n",
       "    </tr>\n",
       "    <tr>\n",
       "      <th>Economic Disadvantagement</th>\n",
       "      <td>192</td>\n",
       "    </tr>\n",
       "    <tr>\n",
       "      <th>Economic and Academic Disadvantagement</th>\n",
       "      <td>3</td>\n",
       "    </tr>\n",
       "    <tr>\n",
       "      <th>Academic Disadvantagement</th>\n",
       "      <td>1</td>\n",
       "    </tr>\n",
       "    <tr>\n",
       "      <th rowspan=\"3\" valign=\"top\">D5</th>\n",
       "      <th></th>\n",
       "      <td>542</td>\n",
       "    </tr>\n",
       "    <tr>\n",
       "      <th>1 - Economic disadvantagement</th>\n",
       "      <td>279</td>\n",
       "    </tr>\n",
       "    <tr>\n",
       "      <th>Economic Disadvantagement</th>\n",
       "      <td>8</td>\n",
       "    </tr>\n",
       "    <tr>\n",
       "      <th rowspan=\"2\" valign=\"top\">D6</th>\n",
       "      <th></th>\n",
       "      <td>438</td>\n",
       "    </tr>\n",
       "    <tr>\n",
       "      <th>Economic Disadvantagement</th>\n",
       "      <td>311</td>\n",
       "    </tr>\n",
       "    <tr>\n",
       "      <th rowspan=\"6\" valign=\"top\">D7</th>\n",
       "      <th></th>\n",
       "      <td>585</td>\n",
       "    </tr>\n",
       "    <tr>\n",
       "      <th>Economic Disadvantagement</th>\n",
       "      <td>145</td>\n",
       "    </tr>\n",
       "    <tr>\n",
       "      <th>1 - Economic disadvantagement</th>\n",
       "      <td>38</td>\n",
       "    </tr>\n",
       "    <tr>\n",
       "      <th>Academic Disadvantagement</th>\n",
       "      <td>3</td>\n",
       "    </tr>\n",
       "    <tr>\n",
       "      <th>Economic and Academic Disadvantagement</th>\n",
       "      <td>2</td>\n",
       "    </tr>\n",
       "    <tr>\n",
       "      <th>2 - Academic disadvantagement</th>\n",
       "      <td>1</td>\n",
       "    </tr>\n",
       "    <tr>\n",
       "      <th rowspan=\"3\" valign=\"top\">D8</th>\n",
       "      <th></th>\n",
       "      <td>265</td>\n",
       "    </tr>\n",
       "    <tr>\n",
       "      <th>Economic Disadvantagement</th>\n",
       "      <td>213</td>\n",
       "    </tr>\n",
       "    <tr>\n",
       "      <th>1 - Economic disadvantagement</th>\n",
       "      <td>55</td>\n",
       "    </tr>\n",
       "  </tbody>\n",
       "</table>\n",
       "</div>"
      ],
      "text/plain": [
       "                                                     Disadvantaged\n",
       "DistrictCode Disadvantaged                                        \n",
       "D1           Economic Disadvantagement                         138\n",
       "                                                               127\n",
       "             Academic Disadvantagement                           5\n",
       "D10          Economic Disadvantagement                         189\n",
       "                                                               132\n",
       "D12          Economic Disadvantagement                         265\n",
       "                                                               251\n",
       "D13                                                            390\n",
       "             Economic Disadvantagement                         354\n",
       "             1 - Economic disadvantagement                       1\n",
       "D14                                                            811\n",
       "             Economic Disadvantagement                         312\n",
       "             Academic Disadvantagement                           3\n",
       "             Economic and Academic Disadvantagement              2\n",
       "D15                                                            495\n",
       "             Economic Disadvantagement                         447\n",
       "             1 - Economic disadvantagement                     102\n",
       "D16                                                            549\n",
       "             Economic Disadvantagement                         236\n",
       "             Academic Disadvantagement                           7\n",
       "D17                                                            388\n",
       "             Economic Disadvantagement                         196\n",
       "D3                                                             246\n",
       "             Economic Disadvantagement                         202\n",
       "D4                                                             269\n",
       "             Economic Disadvantagement                         192\n",
       "             Economic and Academic Disadvantagement              3\n",
       "             Academic Disadvantagement                           1\n",
       "D5                                                             542\n",
       "             1 - Economic disadvantagement                     279\n",
       "             Economic Disadvantagement                           8\n",
       "D6                                                             438\n",
       "             Economic Disadvantagement                         311\n",
       "D7                                                             585\n",
       "             Economic Disadvantagement                         145\n",
       "             1 - Economic disadvantagement                      38\n",
       "             Academic Disadvantagement                           3\n",
       "             Economic and Academic Disadvantagement              2\n",
       "             2 - Academic disadvantagement                       1\n",
       "D8                                                             265\n",
       "             Economic Disadvantagement                         213\n",
       "             1 - Economic disadvantagement                      55"
      ]
     },
     "execution_count": 58,
     "metadata": {},
     "output_type": "execute_result"
    }
   ],
   "source": [
    "district_by_district = all_grads.groupby(\"DistrictCode\")\n",
    "district_disadvantaged_counts = district_by_district.Disadvantaged.value_counts(dropna=False)\n",
    "district_disadvantaged_counts.to_frame()"
   ]
  },
  {
   "cell_type": "code",
   "execution_count": null,
   "metadata": {
    "collapsed": true
   },
   "outputs": [],
   "source": []
  }
 ],
 "metadata": {
  "kernelspec": {
   "display_name": "Python 3",
   "language": "python",
   "name": "python3"
  },
  "language_info": {
   "codemirror_mode": {
    "name": "ipython",
    "version": 3
   },
   "file_extension": ".py",
   "mimetype": "text/x-python",
   "name": "python",
   "nbconvert_exporter": "python",
   "pygments_lexer": "ipython3",
   "version": "3.4.3"
  }
 },
 "nbformat": 4,
 "nbformat_minor": 0
}
