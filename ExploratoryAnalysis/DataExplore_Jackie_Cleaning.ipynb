{
 "cells": [
  {
   "cell_type": "code",
   "execution_count": 1,
   "metadata": {
    "collapsed": false
   },
   "outputs": [],
   "source": [
    "import matplotlib\n",
    "import numpy as np\n",
    "import pandas as pd\n",
    "import psycopg2 as pg\n",
    "%matplotlib inline"
   ]
  },
  {
   "cell_type": "code",
   "execution_count": 2,
   "metadata": {
    "collapsed": true
   },
   "outputs": [],
   "source": [
    "from collections import Counter\n",
    "import matplotlib.pyplot as plt\n",
    "matplotlib.style.use(\"ggplot\")"
   ]
  },
  {
   "cell_type": "code",
   "execution_count": null,
   "metadata": {
    "collapsed": true
   },
   "outputs": [],
   "source": [
    "from dateutil.relativedelta import relativedelta"
   ]
  },
  {
   "cell_type": "code",
   "execution_count": 3,
   "metadata": {
    "collapsed": true
   },
   "outputs": [],
   "source": [
    "# If you want Jupyter to print all returned output for a cell, and not just the last returned output\n",
    "from IPython.core.interactiveshell import InteractiveShell\n",
    "InteractiveShell.ast_node_interactivity = \"all\""
   ]
  },
  {
   "cell_type": "code",
   "execution_count": 4,
   "metadata": {
    "collapsed": false
   },
   "outputs": [],
   "source": [
    "def get_postgres_connection(pass_file):\n",
    "    \"\"\" Takes a database credential file (see default_profile.example) and return a connection to the database.\n",
    "    \n",
    "    :param string pass_file: path to file where database credentials are stored. \n",
    "                             Format of file is PGHOST=... PGUSER=... etc as in the example profile\n",
    "    :return: a connection to the Postgres database whose credentials are given in the provided file\n",
    "    :rtype: psycopg2.connection\n",
    "    \"\"\"\n",
    "    f = open(pass_file, 'r')\n",
    "    with open(pass_file, 'r') as f:\n",
    "        passinfo = f.readlines()\n",
    "    f.close()\n",
    "\n",
    "    database_credentials = [line.strip().split(\"=\")[1] for line in passinfo] # get whatever follows = sign\n",
    "    #database_credentials # don't print this out in Jupyter notebook for world to see!\n",
    "    host_address = database_credentials[0]\n",
    "    user_name = database_credentials[1]\n",
    "    name_of_database = database_credentials[2]\n",
    "    user_password = database_credentials[3]\n",
    "    conn = pg.connect(host=host_address, database=name_of_database, user=user_name, password=user_password)\n",
    "    return conn"
   ]
  },
  {
   "cell_type": "code",
   "execution_count": 28,
   "metadata": {
    "collapsed": false
   },
   "outputs": [],
   "source": [
    "def get_all_table_names(conn, schema = \"public\"):\n",
    "    \"\"\" Takes a postgres database connection and schema name and returns all tables and views available in the schema.\n",
    "    \n",
    "    :param psycopg2.connection conn: POSTGRESQL connection object to the desired database\n",
    "    :param string schema: name of the schema to get the table names and view names from\n",
    "    :return: a list of table and view names for the desired schema\n",
    "    :rtype: list[string]\n",
    "    \"\"\"\n",
    "    cursor = conn.cursor()\n",
    "    sqlcmd_table_names = \"SELECT table_name FROM information_schema.tables WHERE table_schema = \\'%s\\'\" % (schema)\n",
    "    cursor.execute(sqlcmd_table_names)\n",
    "    table_names = cursor.fetchall()\n",
    "    table_names = [i[0] for i in table_names]\n",
    "    return(table_names)"
   ]
  },
  {
   "cell_type": "code",
   "execution_count": 29,
   "metadata": {
    "collapsed": true
   },
   "outputs": [],
   "source": [
    "# Read in database credentials from file to postgres connection\n",
    "# List all tables available in default schema\n",
    "pass_file = \"/mnt/data/mvesc/PartnerData/default_profile\"\n",
    "conn = get_postgres_connection(pass_file)\n",
    "table_names = get_all_table_names(conn)"
   ]
  },
  {
   "cell_type": "code",
   "execution_count": 33,
   "metadata": {
    "collapsed": false
   },
   "outputs": [
    {
     "name": "stdout",
     "output_type": "stream",
     "text": [
      "['DistrictSchoolIDs', 'all_lookup', 'CoshoctonGrades2006_16', 'Ridgewoodgrades2007_2016', 'WestMuskingumgrades2006_16', 'Franklingrades2006_16', 'MATVWMAbsences1415', 'CCFRRWRVabsence09_16', 'MATVWMAbsences1516', 'CurrentMobility', 'CurrentStudents', 'ASQ_Preschool', 'ActScores', 'AllDistricts1112', 'HSGrades', 'AllDistricts1213', 'AIRScores', 'AllDistricts1314', 'CurrentAbsenceDiscipline', 'DIBELSv2', 'AllDistricts1415', 'AllGradsTotal', 'OAAOGT', 'PARCC', 'StarRead', 'StarEL', 'StarMath', 'TerraNova', 'Maysvillegrades2006_16']\n"
     ]
    }
   ],
   "source": [
    "print(table_names)"
   ]
  },
  {
   "cell_type": "code",
   "execution_count": 9,
   "metadata": {
    "collapsed": false
   },
   "outputs": [],
   "source": [
    "def read_table_to_df(table_name, connection):\n",
    "    \"\"\" Takes a table name as input and returns postgres table as pandas data frame.\n",
    "    \n",
    "    :param string table_name: Name of table to read in\n",
    "    :param psycopg2.connection connection: POSTGRESQL connection object for Python\n",
    "    :return: a Pandas dataframe object containing the desired table\n",
    "    :rtype: Pandas.dataframe\n",
    "    \"\"\"\n",
    "    sql_query = \"SELECT * FROM \\\"\" + table_name + \"\\\";\"\n",
    "    data = pd.read_sql(sql_query, connection)\n",
    "    return data"
   ]
  },
  {
   "cell_type": "code",
   "execution_count": 10,
   "metadata": {
    "collapsed": false
   },
   "outputs": [],
   "source": [
    "# What range of years do we have data for?\n",
    "YEAR_RANGE = range(11, 16)\n",
    "FULL_YEAR_RANGE = [2000 + i for i in YEAR_RANGE]"
   ]
  },
  {
   "cell_type": "code",
   "execution_count": 11,
   "metadata": {
    "collapsed": false
   },
   "outputs": [
    {
     "data": {
      "text/plain": [
       "['AllDistricts1112',\n",
       " 'AllDistricts1213',\n",
       " 'AllDistricts1314',\n",
       " 'AllDistricts1415',\n",
       " 'CurrentStudents']"
      ]
     },
     "execution_count": 11,
     "metadata": {},
     "output_type": "execute_result"
    }
   ],
   "source": [
    "# List of table names for all yearly student snapshots\n",
    "ALL_DISTRICTS_TABLES = [\"AllDistricts\" + str(num) + str(num+1) for num in YEAR_RANGE[0:-1]]\n",
    "ALL_DISTRICTS_TABLES.append(\"CurrentStudents\")\n",
    "ALL_DISTRICTS_TABLES"
   ]
  },
  {
   "cell_type": "code",
   "execution_count": 12,
   "metadata": {
    "collapsed": false
   },
   "outputs": [],
   "source": [
    "# Get AllGradsTotal, CurrentMobility, and CurrentAbsenceDiscipline tables from database to dataframes\n",
    "all_grads = read_table_to_df(\"AllGradsTotal\", conn)\n",
    "current_mobility = read_table_to_df(\"CurrentMobility\", conn)\n",
    "current_absence_discipline = read_table_to_df(\"CurrentAbsenceDiscipline\", conn)"
   ]
  },
  {
   "cell_type": "code",
   "execution_count": 13,
   "metadata": {
    "collapsed": false
   },
   "outputs": [],
   "source": [
    "all_districts_data = [read_table_to_df(table_name, conn) for table_name in ALL_DISTRICTS_TABLES]\n",
    "ALL_DISTRICTS_TABLES[-1] = \"AllDistricts1516\" # rename CurrentStudents to conform to naming standards"
   ]
  },
  {
   "cell_type": "code",
   "execution_count": 14,
   "metadata": {
    "collapsed": false
   },
   "outputs": [],
   "source": [
    "# However, for the all_districts_data, how are we going to handle the null lookup numbers? \n",
    "# Let's duplicate the dataframes and drop the null lookups for now, hopefully they won't be null for long\n",
    "# Let's also set StudentLookup column as the Pandas row index\n",
    "all_districts_copied = [None] * len(all_districts_data)\n",
    "for i, df in enumerate(all_districts_data):\n",
    "    df2 = df[pd.notnull(df.StudentLookup)]\n",
    "    all_districts_copied[i] = df2.set_index(\"StudentLookup\")\n",
    "all_grads.set_index(\"StudentLookup\", inplace = True)"
   ]
  },
  {
   "cell_type": "code",
   "execution_count": 15,
   "metadata": {
    "collapsed": false
   },
   "outputs": [
    {
     "data": {
      "text/plain": [
       "dict_keys(['AllDistricts1112', 'AllDistricts1213', 'AllDistricts1415', 'AllDistricts1516', 'AllDistricts1314'])"
      ]
     },
     "execution_count": 15,
     "metadata": {},
     "output_type": "execute_result"
    }
   ],
   "source": [
    "dict_all_districts = {k:v for (k,v) in zip(ALL_DISTRICTS_TABLES, all_districts_copied)}\n",
    "dict_all_districts.keys()"
   ]
  },
  {
   "cell_type": "code",
   "execution_count": 16,
   "metadata": {
    "collapsed": true
   },
   "outputs": [],
   "source": [
    "def get_unique_stripped_sorted_values(sort_column, coding, \n",
    "                                      code_column = \"Disadvantaged\", data = all_grads):\n",
    "    \"\"\"Subsets a dataframe by rows containing particular value in the code column, and then strips and \n",
    "       sorts all unique values in sort column of the matching rows. Returns these unique sorted values \n",
    "       in a list. Useful if we want to find, for example, which districts used a particular code or value.\n",
    "       \n",
    "    :param string sort_column: Name of the column to find unique values of (for matching rows)\n",
    "    :param string coding: Value of the code to subset the data by\n",
    "    :param string code_column: Column to find the code to subset the data by\n",
    "    :param Pandas.dataframe data: input dataframe\n",
    "    :return: a list containing unique values in specified column for the matching rows\n",
    "    :rtype: list[dtype of sort_column] \n",
    "    \"\"\"\n",
    "    unique_values_for_code = data[sort_column][data[code_column] == coding].unique()\n",
    "    unique_values_for_code_stripped = [d.strip() for d in unique_values_for_code]\n",
    "    unique_values_for_code_stripped.sort()\n",
    "    return(unique_values_for_code_stripped)"
   ]
  },
  {
   "cell_type": "code",
   "execution_count": 17,
   "metadata": {
    "collapsed": false
   },
   "outputs": [
    {
     "name": "stdout",
     "output_type": "stream",
     "text": [
      "1 - Economic disadvantagement: ['D13', 'D15', 'D5', 'D7', 'D8']\n",
      "Economic Disadvantagement: ['D1', 'D10', 'D12', 'D13', 'D14', 'D15', 'D16', 'D17', 'D3', 'D4', 'D5', 'D6', 'D7', 'D8']\n",
      "1 - Economic disadvantagement: 20110114 to 20150630\n",
      "Economic Disadvantagement: 20110516 to 20150701\n"
     ]
    }
   ],
   "source": [
    "# There are two very similar looking codes for economic/academic disadvantage: \n",
    "# \"1 - Economic disadvantagement\" and \"Economic Disadvantagement\"\n",
    "# Let's just check if the coding scheme has changed over time or varies district to district\n",
    "\n",
    "districts_codetype1 = get_unique_stripped_sorted_values(sort_column = \"DistrictCode\", \n",
    "                                        coding = \"1 - Economic disadvantagement\")\n",
    "districts_codetype2 = get_unique_stripped_sorted_values(sort_column = \"DistrictCode\", \n",
    "                                        coding = \"Economic Disadvantagement\")\n",
    "print(\"1 - Economic disadvantagement: \" + str(districts_codetype1))\n",
    "print(\"Economic Disadvantagement: \" + str(districts_codetype2))\n",
    "\n",
    "grad_date_codetype1 = get_unique_stripped_sorted_values(sort_column = \"HIGH_SCHOOL_GRAD_DATE\",\n",
    "                                        coding = \"1 - Economic disadvantagement\")\n",
    "grad_date_codetype2 = get_unique_stripped_sorted_values(sort_column = \"HIGH_SCHOOL_GRAD_DATE\",\n",
    "                                        coding = \"Economic Disadvantagement\")\n",
    "\n",
    "print(\"%s: %s to %s\" % (\"1 - Economic disadvantagement\", grad_date_codetype1[0], grad_date_codetype1[-1]))\n",
    "print(\"%s: %s to %s\" % (\"Economic Disadvantagement\", grad_date_codetype2[0], grad_date_codetype2[-1]))"
   ]
  },
  {
   "cell_type": "markdown",
   "metadata": {},
   "source": [
    "How many students are not disadvantaged? Economic ? Academic ? It isn't clear why there are two coding types for each, or why there are so few academic disadvantaged students in the data -- but this is grads only."
   ]
  },
  {
   "cell_type": "code",
   "execution_count": 18,
   "metadata": {
    "collapsed": false
   },
   "outputs": [
    {
     "data": {
      "text/plain": [
       "                                          5488\n",
       "Economic Disadvantagement                 3208\n",
       "1 - Economic disadvantagement              475\n",
       "Academic Disadvantagement                   19\n",
       "Economic and Academic Disadvantagement       7\n",
       "2 - Academic disadvantagement                1\n",
       "Name: Disadvantaged, dtype: int64"
      ]
     },
     "execution_count": 18,
     "metadata": {},
     "output_type": "execute_result"
    }
   ],
   "source": [
    "all_grads_valuecounts = {colname: all_grads[colname].value_counts(dropna=False) for colname in all_grads.columns}\n",
    "all_grads_valuecounts[\"Disadvantaged\"]"
   ]
  },
  {
   "cell_type": "code",
   "execution_count": 19,
   "metadata": {
    "collapsed": false
   },
   "outputs": [
    {
     "data": {
      "text/plain": [
       "2015    2055\n",
       "2013    1898\n",
       "2011    1762\n",
       "2012    1742\n",
       "2014    1741\n",
       "Name: grad_year, dtype: int64"
      ]
     },
     "execution_count": 19,
     "metadata": {},
     "output_type": "execute_result"
    }
   ],
   "source": [
    "all_grads['grad_date_formatted'] = pd.to_datetime(all_grads.HIGH_SCHOOL_GRAD_DATE, format = \"%Y%m%d\")\n",
    "all_grads['grad_year'] = pd.Series([grad_date.year for grad_date in all_grads.grad_date_formatted], \n",
    "                                   index = all_grads.index)\n",
    "all_grads.grad_year.value_counts(dropna=False)\n",
    "all_grads.grad_year.unique().sort()"
   ]
  },
  {
   "cell_type": "code",
   "execution_count": 20,
   "metadata": {
    "collapsed": false
   },
   "outputs": [],
   "source": [
    "def get_graduates_in_snapshots(grad_year, table_names, \n",
    "                               graduate_data = all_grads, district_tables = dict_all_districts):\n",
    "    \"\"\"Search for all high school graduates within a given calendar year. Returns list of student lookup numbers\n",
    "       whose records can be found within a particular academic year snapshot table (or list of tables).\n",
    "       \n",
    "    :param int grad_year: Year to subset high school graduation date by \n",
    "    :param list[string] table_names: list of table names (see ALL_DISTRICTS_TABLES) in which to search for student \n",
    "                        yearly academic records\n",
    "    :param Pandas.dataframe all_grads: dataframe containing all high school graduates including graduation date\n",
    "    :param dict(list[string]: list[Pandas.dataframe]) district_tables: dict of dataframes containing yearly academic \n",
    "                        snapshots for all students in a particular academic year, referenced by table name\n",
    "    :return: list of student lookup numbers that graduated in specified year and whose records found in specified table\n",
    "    :rtype: Int64Index\n",
    "    \"\"\"\n",
    "    district_tables_to_search = [district_tables[table] for table in table_names]\n",
    "    grads_for_spec_year = graduate_data.index[graduate_data.grad_year == grad_year]\n",
    "    \n",
    "    # union the student lookups covered in all district tables given to get all students covered\n",
    "    all_students = set()\n",
    "    for student_year in district_tables_to_search:\n",
    "        z = set(student_year.index)\n",
    "        all_students = all_students.union(z)\n",
    "    grads_in_district_tables = grads_for_spec_year[[graduate in all_students for graduate in grads_for_spec_year]]\n",
    "    return(grads_in_district_tables)"
   ]
  },
  {
   "cell_type": "code",
   "execution_count": 22,
   "metadata": {
    "collapsed": false
   },
   "outputs": [
    {
     "name": "stdout",
     "output_type": "stream",
     "text": [
      "total graduates in 2011: 1762\t num grads in district tables: 18\n",
      "total graduates in 2012: 1742\t num grads in district tables: 1726\n",
      "total graduates in 2013: 1898\t num grads in district tables: 1883\n",
      "total graduates in 2014: 1741\t num grads in district tables: 1722\n",
      "total graduates in 2015: 2055\t num grads in district tables: 2041\n"
     ]
    }
   ],
   "source": [
    "# How many graduates do we have in our records for each year and how many of those can be found in the \n",
    "# year by year district lookup tables for at least one year?\n",
    "# Also builds a dictionary with student lookup of valid grads by graduation year key\n",
    "\n",
    "all_grads_in_tables = {}\n",
    "for grad_year in FULL_YEAR_RANGE:\n",
    "    total_grads = sum(all_grads.grad_year == grad_year)\n",
    "    grads_in_tables = get_graduates_in_snapshots(grad_year, list(dict_all_districts.keys()))\n",
    "    all_grads_in_tables[grad_year] = grads_in_tables\n",
    "    \n",
    "    print(\"total graduates in %d: %d\\t num grads in district tables: %d\" % \n",
    "          (grad_year, total_grads, len(grads_in_tables)))"
   ]
  },
  {
   "cell_type": "code",
   "execution_count": 23,
   "metadata": {
    "collapsed": false
   },
   "outputs": [],
   "source": [
    "def get_student_field_from_districts(student_num, field_name, district_tables = all_districts_copied, \n",
    "                                     flag_if_diff = True):\n",
    "    \"\"\"Search for a value for a particular field (i.e. DOB) for a particular student. If field is missing, go to next \n",
    "       district table in list of tables until some value of field is found. Check that all tables contain the same\n",
    "       value of the given field (where student lookup number is found)\n",
    "       \n",
    "    :param int student_num: student lookup number to search for\n",
    "    :param string field_name: name of a column in which to search for the student's value \n",
    "                              (should not change from year to year)\n",
    "    :param list[Pandas.dataframe] district_tables: list of dataframes containing yearly snapshot tables \n",
    "    :return: single value for a given student for the specified field name\n",
    "    :rtype: list[dtype of district_tables.field_name] (should usually be a list of length 1)\n",
    "    \"\"\"\n",
    "    student_value = set()\n",
    "    for table in district_tables:\n",
    "        if student_num in table.index: # check if the student exists in the current table\n",
    "            get_student_row = table.loc[student_num][field_name] # get student's full record(s) from table\n",
    "            try: \n",
    "                student_value.add(get_student_row) \n",
    "            except TypeError:\n",
    "                for row in get_student_row: # add each of student's duplicated records separately\n",
    "                    student_value.add(row)\n",
    "    if flag_if_diff:\n",
    "        if (len(student_value) > 1): # check if all existing non-null fields for a particular student match\n",
    "            print(\"Conflicting values for student %d in %s\" % (student_num, field_name))\n",
    "    if len(student_value) == 0:\n",
    "        student_value.add(None)\n",
    "    return(student_value)"
   ]
  },
  {
   "cell_type": "code",
   "execution_count": 124,
   "metadata": {
    "collapsed": false
   },
   "outputs": [],
   "source": [
    "def get_student_list_field_from_districts(student_num_list, field_name, district_tables = all_districts_copied, \n",
    "                                             flag_if_diff = True):\n",
    "    \"\"\"Search for a value for a particular field (i.e. DOB) for a list of students. Search for value of field in \n",
    "       all tables in district_tables list. Check that all tables contain the same\n",
    "       value of the given field (where student lookup number is found and field is non-missing).\n",
    "       \n",
    "    :param list[int] student_num_list: list of student lookup numbers to search for\n",
    "    :param string field_name: name of a column in which to search for the student's value \n",
    "                              (should not change from year to year)\n",
    "    :param list[Pandas.dataframe] district_tables: list of dataframes containing yearly snapshot tables  \n",
    "    :return: dictionary mapping student lookup numbers to all non-null values of field_name in list of tables\n",
    "    :rtype: {int: set(dtype(field_name))}\n",
    "    \"\"\"\n",
    "    \n",
    "    # get_student_field_from_districts works on a single student\n",
    "    # however, it's super slow to write a loop that calls the function one at a time on a list of students\n",
    "    # let's try rewriting the function to work on a list of students\n",
    "    # it shouldn't be too expensive to loop over a list of yearly tables, 5 to 11 tables maximum\n",
    "    student_num_array = np.array(student_num_list)\n",
    "    student_lookup_dict = {student: set() for student in student_num_list}\n",
    "    for table in district_tables:\n",
    "        students_in_table_boolean = np.in1d(student_num_array, table.index)\n",
    "        students_in_table = student_num_array[np.where(students_in_table_boolean)]\n",
    "        # table.loc[students_in_table][field_name].to_dict() # fast but automatically removes duplicates\n",
    "        for student_num in students_in_table:\n",
    "            get_student_row = table.loc[student_num][field_name] # get student's full record(s) from table\n",
    "            try: \n",
    "                student_lookup_dict[student_num].add(get_student_row) \n",
    "            except TypeError:\n",
    "                for row in get_student_row: # add each of student's duplicated records separately\n",
    "                    student_lookup_dict[student_num].add(row)\n",
    "            # check if all existing non-null fields for a particular student match\n",
    "    if flag_if_diff:\n",
    "        # print(\"Conflicting values for student %d in %s\" % (student_num, field_name))\n",
    "        pass\n",
    "    return(student_lookup_dict)"
   ]
  },
  {
   "cell_type": "code",
   "execution_count": 123,
   "metadata": {
    "collapsed": false
   },
   "outputs": [
    {
     "data": {
      "text/plain": [
       "{36427: {Timestamp('1996-05-02 00:00:00'), Timestamp('1999-05-02 00:00:00')},\n",
       " 37174: {Timestamp('1996-02-20 00:00:00'), Timestamp('1996-12-31 00:00:00')},\n",
       " 38390: {Timestamp('1995-12-10 00:00:00'), Timestamp('1996-12-10 00:00:00')},\n",
       " 40269: {Timestamp('1995-07-08 00:00:00'), Timestamp('1995-07-09 00:00:00')},\n",
       " 41453: {Timestamp('1996-05-16 00:00:00'), Timestamp('1996-05-17 00:00:00')},\n",
       " 41793: {Timestamp('1994-11-21 00:00:00'), Timestamp('1994-12-21 00:00:00')},\n",
       " 42458: {Timestamp('1997-07-21 00:00:00'), Timestamp('1997-07-27 00:00:00')},\n",
       " 43056: {Timestamp('1996-11-10 00:00:00'), Timestamp('1997-11-10 00:00:00')},\n",
       " 43074: {Timestamp('1996-08-08 00:00:00'), Timestamp('1997-02-05 00:00:00')},\n",
       " 43305: {Timestamp('1996-07-01 00:00:00'), Timestamp('1996-07-11 00:00:00')},\n",
       " 43498: {Timestamp('1997-05-05 00:00:00'), Timestamp('1997-05-22 00:00:00')}}"
      ]
     },
     "execution_count": 123,
     "metadata": {},
     "output_type": "execute_result"
    }
   ],
   "source": [
    "conflicting_birth_dates = [38390, 42458, 43056, 43074, 43305, 43498, 36427, 37174, 41453, 40269, 41793]\n",
    "get_student_list_field_from_districts(conflicting_birth_dates, field_name)"
   ]
  },
  {
   "cell_type": "code",
   "execution_count": null,
   "metadata": {
    "collapsed": false
   },
   "outputs": [
    {
     "name": "stdout",
     "output_type": "stream",
     "text": [
      "Working on 2011\n",
      "Working on 2012\n",
      "Working on 2013\n",
      "Working on 2014\n"
     ]
    }
   ],
   "source": [
    "%%time\n",
    "\n",
    "field_name = \"DATE_OF_BIRTH\"\n",
    "grads_dateofbirth = [None] * len(YEAR_RANGE) # build an empty list in which to store the dictionaries\n",
    "grads_dateofgraduation = [None] * len(YEAR_RANGE)\n",
    "\n",
    "for index, year in enumerate(FULL_YEAR_RANGE):\n",
    "    print(\"Working on %d\" % year)\n",
    "    student_num_list = all_grads_in_tables[year]\n",
    "    grads_dateofbirth[index] = get_student_list_field_from_districts(student_num_list, field_name)\n",
    "    grads_dateofgraduation[index] = {student_num: pd.to_datetime(all_grads.HIGH_SCHOOL_GRAD_DATE.loc[student_num], \n",
    "                                        format = \"%Y%m%d\") for student_num in student_num_list}"
   ]
  },
  {
   "cell_type": "code",
   "execution_count": null,
   "metadata": {
    "collapsed": false
   },
   "outputs": [],
   "source": [
    "%%time\n",
    "\n",
    "field_name = \"DATE_OF_BIRTH\"\n",
    "grads_dateofbirth = [None] * len(YEAR_RANGE) # build an empty list in which to store the dictionaries\n",
    "grads_dateofgraduation = [None] * len(YEAR_RANGE)\n",
    "\n",
    "for index, year in enumerate(FULL_YEAR_RANGE):\n",
    "    print(\"Working on %d\" % year)\n",
    "    student_num_list = all_grads_in_tables[year]\n",
    "    # for every student who graduated in a particular year\n",
    "    # 1. build a dictionary that maps their lookup number to their date of birth in the all_districts_copied table\n",
    "        #  ! flag their lookup number if they have conflicting birthdates and map only to most recent birthdate !\n",
    "    # 2. build a dictionary that maps their lookup number to their graduation date in the all_grads table\n",
    "    grads_dateofbirth[index] = {student_num: get_student_field_from_districts(student_num, field_name, \n",
    "                                                                              flag_if_diff = False).pop()\n",
    "                                   for student_num in student_num_list} # THIS IS SUPER SLOW\n",
    "    grads_dateofgraduation[index] = {student_num: pd.to_datetime(all_grads.HIGH_SCHOOL_GRAD_DATE.loc[student_num], \n",
    "                                        format = \"%Y%m%d\") for student_num in student_num_list}"
   ]
  },
  {
   "cell_type": "code",
   "execution_count": 27,
   "metadata": {
    "collapsed": false
   },
   "outputs": [
    {
     "name": "stdout",
     "output_type": "stream",
     "text": [
      "11\n",
      "Conflicting values for student 38390 in DATE_OF_BIRTH\n",
      "{Timestamp('1996-12-10 00:00:00'), Timestamp('1995-12-10 00:00:00')}\n",
      "Conflicting values for student 42458 in DATE_OF_BIRTH\n",
      "{Timestamp('1997-07-27 00:00:00'), Timestamp('1997-07-21 00:00:00')}\n",
      "Conflicting values for student 43056 in DATE_OF_BIRTH\n",
      "{Timestamp('1996-11-10 00:00:00'), Timestamp('1997-11-10 00:00:00')}\n",
      "Conflicting values for student 43074 in DATE_OF_BIRTH\n",
      "{Timestamp('1997-02-05 00:00:00'), Timestamp('1996-08-08 00:00:00')}\n",
      "Conflicting values for student 43305 in DATE_OF_BIRTH\n",
      "{Timestamp('1996-07-01 00:00:00'), Timestamp('1996-07-11 00:00:00')}\n",
      "Conflicting values for student 43498 in DATE_OF_BIRTH\n",
      "{Timestamp('1997-05-05 00:00:00'), Timestamp('1997-05-22 00:00:00')}\n",
      "Conflicting values for student 36427 in DATE_OF_BIRTH\n",
      "{Timestamp('1996-05-02 00:00:00'), Timestamp('1999-05-02 00:00:00')}\n",
      "Conflicting values for student 37174 in DATE_OF_BIRTH\n",
      "{Timestamp('1996-02-20 00:00:00'), Timestamp('1996-12-31 00:00:00')}\n",
      "Conflicting values for student 41453 in DATE_OF_BIRTH\n",
      "{Timestamp('1996-05-16 00:00:00'), Timestamp('1996-05-17 00:00:00')}\n",
      "Conflicting values for student 40269 in DATE_OF_BIRTH\n",
      "{Timestamp('1995-07-08 00:00:00'), Timestamp('1995-07-09 00:00:00')}\n",
      "Conflicting values for student 41793 in DATE_OF_BIRTH\n",
      "{Timestamp('1994-11-21 00:00:00'), Timestamp('1994-12-21 00:00:00')}\n",
      "CPU times: user 229 ms, sys: 4 µs, total: 229 ms\n",
      "Wall time: 240 ms\n"
     ]
    }
   ],
   "source": [
    "%%time\n",
    "# list of students flagged as having multiple birth dates\n",
    "conflicting_birth_dates = [38390, 42458, 43056, 43074, 43305, 43498, 36427, 37174, 41453, 40269, 41793]\n",
    "print(len(conflicting_birth_dates))\n",
    "# print out lookup number and all listed birth dates for students with multiple birth dates\n",
    "for student in conflicting_birth_dates:\n",
    "    print(get_student_field_from_districts(student, field_name))"
   ]
  },
  {
   "cell_type": "code",
   "execution_count": 381,
   "metadata": {
    "collapsed": false
   },
   "outputs": [],
   "source": [
    "grads_per_birthyear = {year: Counter() for year in FULL_YEAR_RANGE}\n",
    "for index, grad_year in enumerate(FULL_YEAR_RANGE):\n",
    "    grad_peryear_date_of_birth = grads_dateofbirth[index]\n",
    "    grad_peryear_counter = grads_per_birthyear[grad_year]\n",
    "    for student, dob in grad_peryear_date_of_birth.items():\n",
    "    birthyear = dob.year\n",
    "    grad_peryear_counter[birthyear] += 1\n",
    "\n",
    "for grad_year, birthyear_counter in grads_per_birthyear:\n",
    "    print(\"graduations in %d born in: %s\" %(grad_year, str(birthyear_counter)))"
   ]
  },
  {
   "cell_type": "code",
   "execution_count": null,
   "metadata": {
    "collapsed": false
   },
   "outputs": [],
   "source": [
    "# sanity check\n",
    "check_students_matching = [a.keys() == b.keys() for a, b in zip(grads_dateofbirth, grads_dateofgraduation)]\n",
    "assert(all(check_students_matching))"
   ]
  },
  {
   "cell_type": "code",
   "execution_count": 493,
   "metadata": {
    "collapsed": true
   },
   "outputs": [],
   "source": [
    "def get_student_age_from_graduation_dates(dateofbirth, dateofgraduation):\n",
    "    \"\"\"Take a list of student lookup numbers mapped to date of birth, join with a list of student lookup numbers\n",
    "       mapped to date of graduation for each student. Build a counter and histogram of age at graduation across \n",
    "       all students.\n",
    "       \n",
    "    :param list[dict{int: Timestamp}] dateofbirth: a list of dicts mapping student lookup numbers \n",
    "                                       to their date of birth\n",
    "    :param list[dict{int: Timestamp}] dateofgraduation: a list of dicts mapping student lookup numbers\n",
    "                                       to their date of HS graduation\n",
    "    :return: counter of students who graduated by each age, and plots a histogram to the screen\n",
    "    :rtype: Counter(int: int)\n",
    "    \"\"\"\n",
    "    \n",
    "    # lists should be in same order (year-to-year) and should have same keys, i.e. same student lookup numbers\n",
    "    assert(len(dateofbirth) == len(dateofgraduation))\n",
    "    assert([a.keys() == b.keys() for a, b in zip(dateofbirth, dateofgraduation)])\n",
    "    \n",
    "    grads_age_at_graduation = Counter()\n",
    "    for dob_list, grad_list in zip(dateofbirth, dateofgraduation):\n",
    "\n",
    "        for student, dob in dob_list.items():\n",
    "            grad_date = grad_list[student]\n",
    "            difference_in_years = relativedelta(grad_date, dob).years # how many years old is student at graduation\n",
    "            grads_age_at_graduation[difference_in_years] += 1\n",
    "    \n",
    "    # plot the histogram of age at graduation distribution\n",
    "    labels, values = zip(*grads_age_at_graduation.items())\n",
    "    values = [x for y, x in sorted(zip(labels, values))]\n",
    "    labels = sorted(labels)\n",
    "    indexes = np.arange(len(labels))\n",
    "    width = 1\n",
    "    plt.bar(indexes, values, width)\n",
    "    plt.xticks(indexes + width * 0.5, labels)\n",
    "    plt.xlabel(\"Age at High School Graduation\")\n",
    "    plt.ylabel(\"Number of Students\")\n",
    "    plt.show()\n",
    "    \n",
    "    return(grads_age_at_graduation)"
   ]
  },
  {
   "cell_type": "code",
   "execution_count": 494,
   "metadata": {
    "collapsed": false
   },
   "outputs": [
    {
     "data": {
      "image/png": "[encoded data removed]",
      "text/plain": [
       "<matplotlib.figure.Figure at 0x7ff2c3e67a58>"
      ]
     },
     "metadata": {},
     "output_type": "display_data"
    }
   ],
   "source": [
    "grads_age_at_graduation = get_student_age_from_graduation_dates(grads_dateofbirth, grads_dateofgraduation)"
   ]
  },
  {
   "cell_type": "code",
   "execution_count": 490,
   "metadata": {
    "collapsed": false
   },
   "outputs": [
    {
     "data": {
      "text/plain": [
       "Counter({15: 1, 16: 10, 17: 1324, 18: 5342, 19: 645, 20: 43, 21: 16, 22: 9})"
      ]
     },
     "execution_count": 490,
     "metadata": {},
     "output_type": "execute_result"
    },
    {
     "data": {
      "text/plain": [
       "[15, 16, 17, 18, 19, 20, 21, 22]"
      ]
     },
     "execution_count": 490,
     "metadata": {},
     "output_type": "execute_result"
    },
    {
     "data": {
      "text/plain": [
       "[1, 10, 1324, 5342, 645, 43, 16, 9]"
      ]
     },
     "execution_count": 490,
     "metadata": {},
     "output_type": "execute_result"
    }
   ],
   "source": [
    "grads_age_at_graduation\n",
    "labels, values = zip(*grads_age_at_graduation.items())\n",
    "values = [x for y, x in sorted(zip(labels, values))]\n",
    "labels = sorted(labels)\n",
    "labels\n",
    "values"
   ]
  },
  {
   "cell_type": "code",
   "execution_count": 486,
   "metadata": {
    "collapsed": false
   },
   "outputs": [
    {
     "name": "stdout",
     "output_type": "stream",
     "text": [
      "[5, 7, 9]\n"
     ]
    }
   ],
   "source": [
    "zipped = zip([1, 2, 3], [4, 5, 6, 7]) # no error thrown when zipped objects are of different lengths\n",
    "print([a+b for a,b in zipped])"
   ]
  },
  {
   "cell_type": "code",
   "execution_count": 453,
   "metadata": {
    "collapsed": false
   },
   "outputs": [
    {
     "data": {
      "text/plain": [
       "Timestamp('2014-05-18 00:00:00')"
      ]
     },
     "execution_count": 453,
     "metadata": {},
     "output_type": "execute_result"
    },
    {
     "data": {
      "text/plain": [
       "Timestamp('1999-05-02 00:00:00')"
      ]
     },
     "execution_count": 453,
     "metadata": {},
     "output_type": "execute_result"
    },
    {
     "data": {
      "text/plain": [
       "15"
      ]
     },
     "execution_count": 453,
     "metadata": {},
     "output_type": "execute_result"
    },
    {
     "name": "stdout",
     "output_type": "stream",
     "text": [
      "Conflicting values for student 36427 in DATE_OF_BIRTH\n"
     ]
    },
    {
     "data": {
      "text/plain": [
       "{Timestamp('1996-05-02 00:00:00'), Timestamp('1999-05-02 00:00:00')}"
      ]
     },
     "execution_count": 453,
     "metadata": {},
     "output_type": "execute_result"
    }
   ],
   "source": [
    "student_num = 36427\n",
    "grad_date = grads_dateofgraduation[3][student_num]\n",
    "grad_date\n",
    "dob = grads_dateofbirth[3][student_num]\n",
    "dob\n",
    "difference_in_years = relativedelta(grad_date, dob).years # how many years old is student at graduation\n",
    "difference_in_years # this student is apparently 15 when graduated? \n",
    "# but this student had conflicting values in the data for their date of birth\n",
    "get_student_field_from_districts(student_num, field_name)\n",
    "# so from these conflicting values, 1996 seems a lot more likely than 1999, given that they graduated in 2014"
   ]
  },
  {
   "cell_type": "code",
   "execution_count": 429,
   "metadata": {
    "collapsed": false
   },
   "outputs": [
    {
     "data": {
      "text/plain": [
       "<Container object of 14 artists>"
      ]
     },
     "execution_count": 429,
     "metadata": {},
     "output_type": "execute_result"
    },
    {
     "data": {
      "text/plain": [
       "<Container object of 14 artists>"
      ]
     },
     "execution_count": 429,
     "metadata": {},
     "output_type": "execute_result"
    },
    {
     "data": {
      "text/plain": [
       "(80, 100)"
      ]
     },
     "execution_count": 429,
     "metadata": {},
     "output_type": "execute_result"
    },
    {
     "data": {
      "text/plain": [
       "([<matplotlib.axis.XTick at 0x7ff2c828bf28>,\n",
       "  <matplotlib.axis.XTick at 0x7ff2c83fbac8>,\n",
       "  <matplotlib.axis.XTick at 0x7ff2c82547f0>,\n",
       "  <matplotlib.axis.XTick at 0x7ff2c82b5b00>,\n",
       "  <matplotlib.axis.XTick at 0x7ff2c82a05f8>,\n",
       "  <matplotlib.axis.XTick at 0x7ff2c8233048>,\n",
       "  <matplotlib.axis.XTick at 0x7ff2c8233f28>,\n",
       "  <matplotlib.axis.XTick at 0x7ff2c823b9b0>,\n",
       "  <matplotlib.axis.XTick at 0x7ff2c8239438>,\n",
       "  <matplotlib.axis.XTick at 0x7ff2c8239e80>,\n",
       "  <matplotlib.axis.XTick at 0x7ff2c823e898>,\n",
       "  <matplotlib.axis.XTick at 0x7ff2c81c1320>,\n",
       "  <matplotlib.axis.XTick at 0x7ff2c81c1d68>,\n",
       "  <matplotlib.axis.XTick at 0x7ff2c81c77f0>],\n",
       " <a list of 14 Text xticklabel objects>)"
      ]
     },
     "execution_count": 429,
     "metadata": {},
     "output_type": "execute_result"
    },
    {
     "data": {
      "text/plain": [
       "<matplotlib.text.Text at 0x7ff2c8288438>"
      ]
     },
     "execution_count": 429,
     "metadata": {},
     "output_type": "execute_result"
    },
    {
     "data": {
      "text/plain": [
       "<matplotlib.text.Text at 0x7ff2c82a0c50>"
      ]
     },
     "execution_count": 429,
     "metadata": {},
     "output_type": "execute_result"
    },
    {
     "data": {
      "text/plain": [
       "<matplotlib.legend.Legend at 0x7ff2c8254860>"
      ]
     },
     "execution_count": 429,
     "metadata": {},
     "output_type": "execute_result"
    },
    {
     "data": {
      "text/plain": [
       "<matplotlib.lines.Line2D at 0x7ff2c8239978>"
      ]
     },
     "execution_count": 429,
     "metadata": {},
     "output_type": "execute_result"
    },
    {
     "data": {
      "image/png": "[encoded data removed]",
      "text/plain": [
       "<matplotlib.figure.Figure at 0x7ff2c82e05f8>"
      ]
     },
     "metadata": {},
     "output_type": "display_data"
    }
   ],
   "source": [
    "grad_4_year_rates = [94.9, 88.9, 89.5, 97.9, 95.3, 92.8, 87.2, 89.4, 90.9, 93.8, 94.5, 90.7, 93.6, 90.4]\n",
    "grad_5_year_rates = [94.1, 97.7, 96.8, 98.0, 95.9, 99.0, 86.7, 85.0, 91.8, 96.7, 93.6, 93.0, 97.6, 92.9]\n",
    "grad_5_year_rates = [x for y, x in sorted(zip(grad_4_year_rates, grad_5_year_rates))]\n",
    "grad_4_year_rates.sort()\n",
    "\n",
    "# arbitrary district codes, these don't match the ones in the data!\n",
    "# fix district codes if reusing plot after deep dive presentation\n",
    "\n",
    "ind = list(range(1,15))\n",
    "shifted_ind = [i + width/2. for i in ind]\n",
    "width = 1.0\n",
    "district_codes = [\"D\" + str(i) for i in ind] \n",
    "plt.bar(ind, grad_4_year_rates, label = \"4 year graduation\", color = \"blue\", align = \"center\", width = width/2.)\n",
    "plt.bar(shifted_ind, grad_5_year_rates, label = \"5 year graduation\", color = \"orange\", align = \"center\", width = width/2.)\n",
    "plt.ylim(80, 100)\n",
    "plt.xticks(shifted_ind, district_codes)\n",
    "plt.xlabel(\"School Districts in MVESC\")\n",
    "plt.ylabel(\"High School Graduation Rate\")\n",
    "plt.legend(loc=5)\n",
    "plt.axhline(y=98, hold=None, color=\"red\")\n",
    "plt.show()"
   ]
  },
  {
   "cell_type": "code",
   "execution_count": 420,
   "metadata": {
    "collapsed": false
   },
   "outputs": [
    {
     "data": {
      "text/plain": [
       "[86.7,\n",
       " 97.7,\n",
       " 85.0,\n",
       " 96.8,\n",
       " 92.9,\n",
       " 93.0,\n",
       " 91.8,\n",
       " 99.0,\n",
       " 97.6,\n",
       " 96.7,\n",
       " 93.6,\n",
       " 94.1,\n",
       " 95.9,\n",
       " 98.0]"
      ]
     },
     "execution_count": 420,
     "metadata": {},
     "output_type": "execute_result"
    }
   ],
   "source": [
    "[x for y, x in sorted(zip(grad_4_year_rates, grad_5_year_rates))]"
   ]
  }
 ],
 "metadata": {
  "kernelspec": {
   "display_name": "Python 3",
   "language": "python",
   "name": "python3"
  },
  "language_info": {
   "codemirror_mode": {
    "name": "ipython",
    "version": 3
   },
   "file_extension": ".py",
   "mimetype": "text/x-python",
   "name": "python",
   "nbconvert_exporter": "python",
   "pygments_lexer": "ipython3",
   "version": "3.4.3"
  }
 },
 "nbformat": 4,
 "nbformat_minor": 0
}
