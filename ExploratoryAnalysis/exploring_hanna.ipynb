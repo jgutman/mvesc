{
 "cells": [
  {
   "cell_type": "code",
   "execution_count": 19,
   "metadata": {
    "collapsed": false
   },
   "outputs": [
    {
     "name": "stdout",
     "output_type": "stream",
     "text": [
      "['CurrentMobility', 'CurrentStudents', 'ASQ_Preschool', 'ActScores', 'AllDistricts1112', 'HSGrades', 'AllDistricts1213', 'AIRScores', 'AllDistricts1314', 'CurrentAbsenceDiscipline', 'DIBELSv2', 'AllDistricts1415', 'AllGradsTotal', 'OAAOGT', 'PARCC', 'StarRead', 'StarEL', 'StarMath', 'TerraNova']\n"
     ]
    }
   ],
   "source": [
    "import pandas as pd\n",
    "import numpy as np\n",
    "import psycopg2 as pg\n",
    "import matplotlib.pyplot as plt\n",
    "import matplotlib\n",
    "import itertools\n",
    "matplotlib.style.use('ggplot')\n",
    "%matplotlib inline\n",
    "\n",
    "# Gloabal Constants\n",
    "pass_file = \"/mnt/data/mvesc/pgpass\" # username, db information\n",
    "\n",
    "# Table names\n",
    "sqlcmd_table_names = \"SELECT table_name FROM information_schema.tables WHERE table_schema = 'public'\"\n",
    "\n",
    "# The table names in a string, quotes added with chr(34) = \"\n",
    "ALL_DISTRICTS_TABLES = [chr(34) + \"\"\"AllDistricts\"\"\" + str(num-1) + str(num) + chr(34) for num in range(15,11, -1)]\n",
    "ALL_DISTRICTS_TABLES.insert(0, chr(34)+\"CurrentStudents\"+chr(34))\n",
    "# ['CurrentStudents', 'AllDistricts1112', 'AllDistricts1213', 'AllDistricts1314', 'AllDistricts1415']\n",
    "# with double quotes!\n",
    "\n",
    "# Set up connection to postgres database\n",
    "with open(pass_file, 'r') as f:\n",
    "    passinfo = f.read()\n",
    "passinfo = passinfo.strip().split(':')\n",
    "\n",
    "host_address = passinfo[0]\n",
    "user_name = passinfo[2]\n",
    "name_of_database = passinfo[3]\n",
    "user_password = passinfo[4]\n",
    "connection = pg.connect(host=host_address, database=name_of_database, user=user_name, password=user_password)\n",
    "cursor = connection.cursor()\n",
    "#table_names = pd.read_sql(sqlcmd_table_names, connection)\n",
    "cursor.execute(sqlcmd_table_names)\n",
    "table_names = cursor.fetchall()\n",
    "table_names = [t[0] for t in table_names]\n",
    "table_names.remove(\"DistrictSchoolIDs\")\n",
    "table_names.remove(\"all_lookup\")\n",
    "print(table_names)"
   ]
  },
  {
   "cell_type": "code",
   "execution_count": 20,
   "metadata": {
    "collapsed": false,
    "scrolled": false
   },
   "outputs": [
    {
     "name": "stdout",
     "output_type": "stream",
     "text": [
      "NULL student lookups in CurrentMobility :  0  out of 850\n",
      "NULL student lookups in CurrentStudents :  0  out of 34327\n",
      "NULL student lookups in ASQ_Preschool :  260  out of 1690\n",
      "NULL student lookups in ActScores :  1302  out of 10775\n",
      "NULL student lookups in AllDistricts1112 :  5772  out of 33623\n",
      "NULL student lookups in HSGrades :  0  out of 250506\n",
      "NULL student lookups in AllDistricts1213 :  4740  out of 34090\n",
      "NULL student lookups in AIRScores :  1127  out of 13465\n",
      "NULL student lookups in AllDistricts1314 :  3479  out of 33164\n",
      "NULL student lookups in CurrentAbsenceDiscipline :  0  out of 34259\n",
      "NULL student lookups in DIBELSv2 :  1915  out of 10067\n",
      "NULL student lookups in AllDistricts1415 :  2123  out of 34101\n",
      "NULL student lookups in AllGradsTotal :  0  out of 9198\n",
      "NULL student lookups in OAAOGT :  0  out of 24688\n",
      "NULL student lookups in PARCC :  311  out of 23851\n",
      "NULL student lookups in StarRead :  28071  out of 162394\n",
      "NULL student lookups in StarEL :  6510  out of 32075\n",
      "NULL student lookups in StarMath :  20738  out of 113483\n",
      "NULL student lookups in TerraNova :  336  out of 4607\n"
     ]
    }
   ],
   "source": [
    "for t in table_names:\n",
    "    cursor.execute(\"\"\"select count(*) from \\\"\"\"\" + t + \"\"\"\\\" where \"StudentLookup\" is NULL;\"\"\")\n",
    "    null_count = cursor.fetchall()[0][0];\n",
    "    cursor.execute(\"\"\"select count(*) from \\\"\"\"\" + t + \"\"\"\\\"\"\"\")\n",
    "    print(\"NULL student lookups in\", t, \": \",null_count, \" out of\", cursor.fetchall()[0][0])\n",
    "\n",
    "cursor.execute(\"\"\"select count (distinct \"StudentLookup\") from \"StarRead\";\"\"\")\n",
    "uniq_num = cursor.fetchall()[0][0]\n",
    "cursor.execute(\"\"\"select count (*) from \"StarRead\";\"\"\")\n",
    "all_num = cursor.fetchall()[0][0]"
   ]
  },
  {
   "cell_type": "code",
   "execution_count": 21,
   "metadata": {
    "collapsed": true
   },
   "outputs": [],
   "source": [
    "# functions explore a table from XC\n",
    "def get_column_names(table, connection):\n",
    "    \"\"\"\n",
    "    Get column names of a table \n",
    "    \n",
    "    :param pg.extensions.connection object connection: sql connection\n",
    "    :param string table: table name in the database\n",
    "    :rtype: list \n",
    "    \"\"\"\n",
    "    temp_table = pd.read_sql(\"select * FROM \\\"%s\\\" limit 1\" % table, connection)\n",
    "    return list(temp_table.columns)\n",
    "\n",
    "def read_table_to_df(table_name, connection, maxStudentLookup=1e6):\n",
    "    \"\"\" from Jackie\n",
    "    Takes a table name as input and returns postgres table as pandas data frame.\n",
    "    \n",
    "    :param string table_name: Name of table to read in\n",
    "    :param psycopg2.connection connection: POSTGRESQL connection object for Python\n",
    "    :return: a Pandas dataframe object containing the desired table\n",
    "    :rtype: Pandas.dataframe\n",
    "    \"\"\"\n",
    "    sql_query = \"SELECT * FROM \\\"\" + table_name + \"\\\";\"\n",
    "    data = pd.read_sql(sql_query, connection)\n",
    "    return data\n",
    "\n",
    "def different_columns(table1, table2, connection):\n",
    "    \"\"\" find different columns names of two tables\n",
    "    \n",
    "    :param string table1: name of table 1\n",
    "    :param string table2: name of table 2\n",
    "    :param pg.connection connection: sql connection\n",
    "    :return: a list with 2 sets of different columns names in 2 tables\n",
    "    :rtype: list[set, set]\n",
    "    \"\"\"\n",
    "    columns1 = get_column_names(table1, connection)\n",
    "    columns2 = get_column_names(table2, connection)\n",
    "    diff_col1 = set(columns1) - set(columns2)\n",
    "    diff_col2 = set(columns2) - set(columns1)\n",
    "    return([diff_col1, diff_col2])\n",
    "\n",
    "def generate_colnames(schoolyear='1415'):\n",
    "    \"\"\" generate the colnames based on the school year, e.g. 1415\n",
    "    \n",
    "    :para string schoolyear: school year, e.g. 1415\n",
    "    :return: a list of columns names\n",
    "    :rtype: list[string]\n",
    "    \"\"\"\n",
    "    columns_name_base = ['StudentLookup', 'CURRENT_GRADE', 'HANDICAP', 'HANDICAP_DESC', 'DISADVANTAGEMENT', 'DISADVANTAGEMENT_DESC', 'DATE_OF_BIRTH', 'STUDENT_STATUS', 'STUDENT_STATUS_DESC', 'GENDER', 'RACIAL_ETHNIC_DESC', 'LIMITED_ENGLISH', 'GIFTED', 'ADMISSION_DATE', 'PERCENT_ATTEND', 'DAYS_IN_ATTENDANCE', 'DAYS_ABSENT', 'TARDY', 'PERCENT_ATTEND', 'DAYS_IN_ATTENDANCE', 'DAYS_ABSENT', 'TARDY', 'DISC_INCIDENTS', 'IN_SCHOOL_SUSP', 'OUT_OF_SCHOOL_SUSP', 'EXPUL', 'District', 'School']\n",
    "    current_year=int(schoolyear[-2:]) # last 2 characters of a table name\n",
    "    year_append1 = \"_20\"+str(current_year-2)+\"_\"+str(current_year-1)\n",
    "    year_append2 = \"_20\"+str(current_year-3)+\"_\"+str(current_year-2)\n",
    "    year_append = [year_append1]*4 + [year_append2]*4 + [year_append1]*4\n",
    "    col_append = ['']*14 + year_append + ['']*2\n",
    "    columns = [columns_name_base[i]+col_append[i] for i in range(len(columns_name_base))]\n",
    "    return(columns)"
   ]
  },
  {
   "cell_type": "code",
   "execution_count": 22,
   "metadata": {
    "collapsed": false
   },
   "outputs": [
    {
     "name": "stdout",
     "output_type": "stream",
     "text": [
      "['CurrentMobility', 'CurrentStudents', 'ASQ_Preschool', 'ActScores', 'AllDistricts1112', 'HSGrades', 'AllDistricts1213', 'AIRScores', 'AllDistricts1314', 'CurrentAbsenceDiscipline', 'DIBELSv2', 'AllDistricts1415', 'AllGradsTotal', 'OAAOGT', 'PARCC', 'StarRead', 'StarEL', 'StarMath', 'TerraNova']\n"
     ]
    }
   ],
   "source": [
    "col_names = [];\n",
    "for t in table_names:\n",
    "    col_names.append(get_column_names(t, connection))\n",
    "print(table_names)"
   ]
  },
  {
   "cell_type": "code",
   "execution_count": 23,
   "metadata": {
    "collapsed": false
   },
   "outputs": [],
   "source": [
    "# this will crash!\n",
    "\n",
    "# my_query = \"select \"\n",
    "# for t in table_names:\n",
    "#     tb_cols = get_column_names(t, connection)\n",
    "#     for col in tb_cols:\n",
    "#         if col != \"RecCounter\":\n",
    "#             my_query +=  \"\\\"\" + t + \"\\\".\\\"\" + col + \"\\\" as \\\"\" + t + \"_\" + col + \"\\\",\"\n",
    "# my_query = my_query[:-1]\n",
    "# base = \"all_lookup\"\n",
    "# my_query += \"\"\" from \\\"\"\"\" + base + \"\\\"\"\n",
    "# for t in table_names:\n",
    "#     if t!=base:\n",
    "#         my_query +=  \"\"\" left outer join \\\"\"\"\" + t + \"\"\"\\\" on \\\"\"\"\" + base + \"\"\"\\\".\\\"StudentLookup\\\"= \\\"\"\"\" + t + \"\\\".\\\"StudentLookup\\\"\"\n",
    "# my_query += \";\"\n",
    "# print(my_query)\n"
   ]
  },
  {
   "cell_type": "code",
   "execution_count": 27,
   "metadata": {
    "collapsed": false
   },
   "outputs": [
    {
     "name": "stdout",
     "output_type": "stream",
     "text": [
      "[(43527,)]\n"
     ]
    }
   ],
   "source": [
    "# selecting all unique student lookup numbers\n",
    "my_query = \"\"\n",
    "for t in table_names:\n",
    "    my_query += \"\"\"select distinct \\\"StudentLookup\\\" from \\\"\"\"\" + t + \"\"\"\\\" union \"\"\"\n",
    "my_query = my_query[:-6] + \";\"\n",
    "\n",
    "cursor.execute(\"drop table if exists my_temp;\")\n",
    "cursor.execute(\"\"\"create temp table my_temp as \"\"\" + my_query)\n",
    "cursor.execute(\"\"\"select count(*) from my_temp;\"\"\")\n",
    "rows = cursor.fetchmany(10)\n",
    "#names = [ x[0] for x in cursor.description]\n",
    "#res_table = pd.DataFrame( rows, columns=names)\n",
    "print(rows)"
   ]
  },
  {
   "cell_type": "code",
   "execution_count": 25,
   "metadata": {
    "collapsed": false
   },
   "outputs": [],
   "source": [
    "# remove master table\n",
    "cursor.execute(\"\"\"drop table if exists clean.master;\"\"\")"
   ]
  },
  {
   "cell_type": "code",
   "execution_count": null,
   "metadata": {
    "collapsed": false
   },
   "outputs": [],
   "source": [
    "\n",
    "\n"
   ]
  },
  {
   "cell_type": "code",
   "execution_count": 26,
   "metadata": {
    "collapsed": false,
    "scrolled": true
   },
   "outputs": [
    {
     "name": "stdout",
     "output_type": "stream",
     "text": [
      "['CurrentMobility', 'CurrentStudents', 'ASQ_Preschool', 'ActScores', 'AllDistricts1112', 'HSGrades', 'AllDistricts1213', 'AIRScores', 'AllDistricts1314', 'CurrentAbsenceDiscipline', 'DIBELSv2', 'AllDistricts1415', 'AllGradsTotal', 'OAAOGT', 'PARCC', 'StarRead', 'StarEL', 'StarMath', 'TerraNova']\n",
      "CurrentMobility\n",
      "   count\n",
      "0  43957\n",
      "CurrentStudents\n",
      "   count\n",
      "0  43957\n",
      "ASQ_Preschool\n",
      "   count\n",
      "0  43957\n",
      "ActScores\n",
      "   count\n",
      "0  48093\n",
      "AllDistricts1112\n",
      "   count\n",
      "0  48609\n",
      "HSGrades\n",
      "    count\n",
      "0  369375\n",
      "AllDistricts1213\n",
      "    count\n",
      "0  373080\n",
      "AIRScores\n",
      "    count\n",
      "0  377628\n",
      "AllDistricts1314\n",
      "    count\n",
      "0  381282\n",
      "CurrentAbsenceDiscipline\n",
      "    count\n",
      "0  381282\n",
      "DIBELSv2\n",
      "    count\n",
      "0  388316\n",
      "AllDistricts1415\n",
      "    count\n",
      "0  393474\n",
      "AllGradsTotal\n",
      "    count\n",
      "0  393474\n",
      "OAAOGT\n",
      "    count\n",
      "0  393474\n",
      "PARCC\n",
      "    count\n",
      "0  426325\n",
      "StarRead\n",
      "     count\n",
      "0  1098139\n",
      "StarEL\n",
      "     count\n",
      "0  1428748\n",
      "StarMath\n",
      "     count\n",
      "0  9666072\n",
      "TerraNova\n",
      "      count\n",
      "0  10439468\n"
     ]
    }
   ],
   "source": [
    "print(table_names)\n",
    "for t in table_names:\n",
    "    if t != \"my_temp\":\n",
    "        print(t)\n",
    "        my_query = \"\"\"drop table if exists my_temp_next;\n",
    "        create temp table my_temp_next as select my_temp.\"StudentLookup\", \"\"\"\n",
    "        tb_cols = get_column_names(t, connection)\n",
    "        for col in tb_cols:\n",
    "            if col != \"RecCounter\":\n",
    "                my_query +=  \"\\\"\" + t + \"\\\".\\\"\" + col + \"\\\" as \\\"\" + t + \"_\" + col + \"\\\",\"\n",
    "        my_query = my_query[:-1]\n",
    "        my_query += \"\"\" from my_temp \"\"\"\n",
    "        my_query +=  \"\"\" left outer join \\\"\"\"\" + t + \"\"\"\\\"\"\"\"\n",
    "        my_query += \"\"\" on my_temp.\\\"StudentLookup\\\"= \\\"\"\"\" + t + \"\\\".\\\"StudentLookup\\\"\"\n",
    "        my_query += \";\"\n",
    "        # print(my_query)\n",
    "        cursor.execute(my_query)\n",
    "        cursor.execute(\"drop table if exists my_temp; alter table my_temp_next rename to my_temp;\")\n",
    "        connection.commit()\n",
    "        cursor.execute(\"select count(*) from my_temp;\")\n",
    "        names = [ x[0] for x in cursor.description]\n",
    "        rows = cursor.fetchmany(10)\n",
    "        res_table = pd.DataFrame( rows, columns=names)\n",
    "        print(res_table)\n",
    "cursor.execute(\"create table clean.master as select * from my_temp;\")\n",
    "connection.commit()"
   ]
  },
  {
   "cell_type": "code",
   "execution_count": null,
   "metadata": {
    "collapsed": false
   },
   "outputs": [],
   "source": []
  },
  {
   "cell_type": "code",
   "execution_count": 10,
   "metadata": {
    "collapsed": false
   },
   "outputs": [
    {
     "name": "stdout",
     "output_type": "stream",
     "text": [
      "      count\n",
      "0  10439468\n"
     ]
    }
   ],
   "source": [
    "cursor.execute(\"\"\"select count (*) from clean.master;\"\"\")\n",
    "names = [ x[0] for x in cursor.description]\n",
    "rows = cursor.fetchmany(10)\n",
    "res_table = pd.DataFrame( rows, columns=names)\n",
    "print(res_table)"
   ]
  },
  {
   "cell_type": "code",
   "execution_count": 12,
   "metadata": {
    "collapsed": false
   },
   "outputs": [
    {
     "name": "stdout",
     "output_type": "stream",
     "text": [
      "[('act_scores',), ('master',)]\n"
     ]
    }
   ],
   "source": [
    "cursor.execute(\"\"\"SELECT table_name FROM information_schema.tables WHERE table_schema = 'clean'\"\"\")\n",
    "table_names = cursor.fetchall()\n",
    "print(table_names)"
   ]
  },
  {
   "cell_type": "code",
   "execution_count": 1,
   "metadata": {
    "collapsed": false
   },
   "outputs": [
    {
     "ename": "NameError",
     "evalue": "name 'cursor' is not defined",
     "output_type": "error",
     "traceback": [
      "\u001b[1;31m---------------------------------------------------------------------------\u001b[0m",
      "\u001b[1;31mNameError\u001b[0m                                 Traceback (most recent call last)",
      "\u001b[1;32m<ipython-input-1-3201b5b55f5f>\u001b[0m in \u001b[0;36m<module>\u001b[1;34m()\u001b[0m\n\u001b[1;32m----> 1\u001b[1;33m \u001b[0mcursor\u001b[0m\u001b[1;33m.\u001b[0m\u001b[0mclose\u001b[0m\u001b[1;33m(\u001b[0m\u001b[1;33m)\u001b[0m\u001b[1;33m\u001b[0m\u001b[0m\n\u001b[0m\u001b[0;32m      2\u001b[0m \u001b[0mconnection\u001b[0m\u001b[1;33m.\u001b[0m\u001b[0mclose\u001b[0m\u001b[1;33m(\u001b[0m\u001b[1;33m)\u001b[0m\u001b[1;33m\u001b[0m\u001b[0m\n",
      "\u001b[1;31mNameError\u001b[0m: name 'cursor' is not defined"
     ]
    }
   ],
   "source": [
    "cursor.close()\n",
    "connection.close()"
   ]
  },
  {
   "cell_type": "code",
   "execution_count": 48,
   "metadata": {
    "collapsed": false
   },
   "outputs": [],
   "source": []
  },
  {
   "cell_type": "code",
   "execution_count": null,
   "metadata": {
    "collapsed": true
   },
   "outputs": [],
   "source": []
  }
 ],
 "metadata": {
  "kernelspec": {
   "display_name": "Python 3",
   "language": "python",
   "name": "python3"
  },
  "language_info": {
   "codemirror_mode": {
    "name": "ipython",
    "version": 3
   },
   "file_extension": ".py",
   "mimetype": "text/x-python",
   "name": "python",
   "nbconvert_exporter": "python",
   "pygments_lexer": "ipython3",
   "version": "3.4.3"
  }
 },
 "nbformat": 4,
 "nbformat_minor": 0
}
