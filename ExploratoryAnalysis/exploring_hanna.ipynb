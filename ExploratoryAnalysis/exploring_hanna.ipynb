{
 "cells": [
  {
   "cell_type": "code",
   "execution_count": 70,
   "metadata": {
    "collapsed": true
   },
   "outputs": [],
   "source": []
  },
  {
   "cell_type": "code",
   "execution_count": 137,
   "metadata": {
    "collapsed": false
   },
   "outputs": [
    {
     "name": "stdout",
     "output_type": "stream",
     "text": [
      "DistrictSchoolIDs\n",
      "all_lookup\n",
      "CurrentMobility\n",
      "CurrentStudents\n",
      "ASQ_Preschool\n",
      "ActScores\n",
      "AllDistricts1112\n",
      "HSGrades\n",
      "AllDistricts1213\n",
      "AIRScores\n",
      "AllDistricts1314\n",
      "CurrentAbsenceDiscipline\n",
      "DIBELSv2\n",
      "AllDistricts1415\n",
      "AllGradsTotal\n",
      "OAAOGT\n",
      "PARCC\n",
      "StarRead\n",
      "StarEL\n",
      "StarMath\n",
      "TerraNova\n"
     ]
    }
   ],
   "source": [
    "import pandas as pd\n",
    "import numpy as np\n",
    "import psycopg2 as pg\n",
    "import matplotlib.pyplot as plt\n",
    "import itertools\n",
    "%matplotlib inline\n",
    "# Gloabal Constants\n",
    "pass_file = \"/mnt/data/mvesc/pgpass\" # username, db information\n",
    "\n",
    "# Table names\n",
    "sqlcmd_table_names = \"SELECT table_name FROM information_schema.tables WHERE table_schema = 'public'\"\n",
    "\n",
    "# The table names in a string, quotes added with chr(34) = \"\n",
    "ALL_DISTRICTS_TABLES = [chr(34) + \"\"\"AllDistricts\"\"\" + str(num-1) + str(num) + chr(34) for num in range(15,11, -1)]\n",
    "ALL_DISTRICTS_TABLES.insert(0, chr(34)+\"CurrentStudents\"+chr(34))\n",
    "# ['CurrentStudents', 'AllDistricts1112', 'AllDistricts1213', 'AllDistricts1314', 'AllDistricts1415']\n",
    "# with double quotes!\n",
    "\n",
    "# Set up connection to postgres database\n",
    "with open(pass_file, 'r') as f:\n",
    "    passinfo = f.read()\n",
    "passinfo = passinfo.strip().split(':')\n",
    "\n",
    "host_address = passinfo[0]\n",
    "user_name = passinfo[2]\n",
    "name_of_database = passinfo[3]\n",
    "user_password = passinfo[4]\n",
    "connection = pg.connect(host=host_address, database=name_of_database, user=user_name, password=user_password)\n",
    "cursor = connection.cursor()\n",
    "#table_names = pd.read_sql(sqlcmd_table_names, connection)\n",
    "cursor.execute(sqlcmd_table_names)\n",
    "table_names = cursor.fetchall()\n",
    "\n",
    "for i in range(len(table_names)):\n",
    "    print(table_names[i][0])"
   ]
  },
  {
   "cell_type": "code",
   "execution_count": 138,
   "metadata": {
    "collapsed": false,
    "scrolled": false
   },
   "outputs": [
    {
     "name": "stdout",
     "output_type": "stream",
     "text": [
      "select count(*) from \"CurrentStudents\" where \"StudentLookup\" = NULL;\n",
      "[(0,)]\n",
      "select count(*) from \"AllDistricts1415\" where \"StudentLookup\" = NULL;\n",
      "[(0,)]\n",
      "select count(*) from \"AllDistricts1314\" where \"StudentLookup\" = NULL;\n",
      "[(0,)]\n",
      "select count(*) from \"AllDistricts1213\" where \"StudentLookup\" = NULL;\n",
      "[(0,)]\n",
      "select count(*) from \"AllDistricts1112\" where \"StudentLookup\" = NULL;\n",
      "[(0,)]\n"
     ]
    }
   ],
   "source": [
    "for i in range(len(ALL_DISTRICTS_TABLES)):\n",
    "    print (\"\"\"select count(*) from \"\"\" + ALL_DISTRICTS_TABLES[i] + \"\"\" where \"StudentLookup\" = NULL;\"\"\")\n",
    "    cursor.execute(\"\"\"select count(*) from \"\"\" + ALL_DISTRICTS_TABLES[i] + \"\"\" where \"StudentLookup\"= NULL;\"\"\")\n",
    "    print(cursor.fetchall())"
   ]
  },
  {
   "cell_type": "code",
   "execution_count": 139,
   "metadata": {
    "collapsed": true
   },
   "outputs": [],
   "source": [
    "# functions explore a table from XC\n",
    "def get_column_names(table, connection):\n",
    "    \"\"\"\n",
    "    Get column names of a table \n",
    "    \n",
    "    :param pg.extensions.connection object connection: sql connection\n",
    "    :param string table: table name in the database\n",
    "    :rtype: list \n",
    "    \"\"\"\n",
    "    temp_table = pd.read_sql(\"select * FROM \\\"%s\\\" limit 1\" % table, connection)\n",
    "    return list(temp_table.columns)\n",
    "\n",
    "def read_table_to_df(table_name, connection, maxStudentLookup=1e6):\n",
    "    \"\"\" from Jackie\n",
    "    Takes a table name as input and returns postgres table as pandas data frame.\n",
    "    \n",
    "    :param string table_name: Name of table to read in\n",
    "    :param psycopg2.connection connection: POSTGRESQL connection object for Python\n",
    "    :return: a Pandas dataframe object containing the desired table\n",
    "    :rtype: Pandas.dataframe\n",
    "    \"\"\"\n",
    "    sql_query = \"SELECT * FROM \\\"\" + table_name + \"\\\";\"\n",
    "    data = pd.read_sql(sql_query, connection)\n",
    "    return data\n",
    "\n",
    "def different_columns(table1, table2, connection):\n",
    "    \"\"\" find different columns names of two tables\n",
    "    \n",
    "    :param string table1: name of table 1\n",
    "    :param string table2: name of table 2\n",
    "    :param pg.connection connection: sql connection\n",
    "    :return: a list with 2 sets of different columns names in 2 tables\n",
    "    :rtype: list[set, set]\n",
    "    \"\"\"\n",
    "    columns1 = get_column_names(table1, connection)\n",
    "    columns2 = get_column_names(table2, connection)\n",
    "    diff_col1 = set(columns1) - set(columns2)\n",
    "    diff_col2 = set(columns2) - set(columns1)\n",
    "    return([diff_col1, diff_col2])\n",
    "\n",
    "def generate_colnames(schoolyear='1415'):\n",
    "    \"\"\" generate the colnames based on the shcool year, e.g. 1415\n",
    "    \n",
    "    :para string schoolyear: school year, e.g. 1415\n",
    "    :return: a list of columns names\n",
    "    :rtype: list[string]\n",
    "    \"\"\"\n",
    "    columns_name_base = ['StudentLookup', 'CURRENT_GRADE', 'HANDICAP', 'HANDICAP_DESC', 'DISADVANTAGEMENT', 'DISADVANTAGEMENT_DESC', 'DATE_OF_BIRTH', 'STUDENT_STATUS', 'STUDENT_STATUS_DESC', 'GENDER', 'RACIAL_ETHNIC_DESC', 'LIMITED_ENGLISH', 'GIFTED', 'ADMISSION_DATE', 'PERCENT_ATTEND', 'DAYS_IN_ATTENDANCE', 'DAYS_ABSENT', 'TARDY', 'PERCENT_ATTEND', 'DAYS_IN_ATTENDANCE', 'DAYS_ABSENT', 'TARDY', 'DISC_INCIDENTS', 'IN_SCHOOL_SUSP', 'OUT_OF_SCHOOL_SUSP', 'EXPUL', 'District', 'School']\n",
    "    current_year=int(schoolyear[-2:]) # last 2 characters of a table name\n",
    "    year_append1 = \"_20\"+str(current_year-2)+\"_\"+str(current_year-1)\n",
    "    year_append2 = \"_20\"+str(current_year-3)+\"_\"+str(current_year-2)\n",
    "    year_append = [year_append1]*4 + [year_append2]*4 + [year_append1]*4\n",
    "    col_append = ['']*14 + year_append + ['']*2\n",
    "    columns = [columns_name_base[i]+col_append[i] for i in range(len(columns_name_base))]\n",
    "    return(columns)"
   ]
  },
  {
   "cell_type": "code",
   "execution_count": 143,
   "metadata": {
    "collapsed": false
   },
   "outputs": [
    {
     "name": "stdout",
     "output_type": "stream",
     "text": [
      "1\n",
      "['StudentLookup']\n",
      "       StudentLookup\n",
      "0            38730.0\n",
      "1            34940.0\n",
      "2            34943.0\n",
      "3            22403.0\n",
      "4              287.0\n",
      "5            39576.0\n",
      "6            37263.0\n",
      "7             3505.0\n",
      "8            37919.0\n",
      "9            39314.0\n",
      "10            3219.0\n",
      "11            3264.0\n",
      "12           38128.0\n",
      "13           38211.0\n",
      "14            3439.0\n",
      "15           34903.0\n",
      "16            3726.0\n",
      "17            3797.0\n",
      "18            6995.0\n",
      "19           34886.0\n",
      "20            2928.0\n",
      "21            6090.0\n",
      "22            1807.0\n",
      "23           31505.0\n",
      "24           18823.0\n",
      "25           15703.0\n",
      "26           38491.0\n",
      "27           38531.0\n",
      "28           43424.0\n",
      "29           38145.0\n",
      "...              ...\n",
      "68498            NaN\n",
      "68499            NaN\n",
      "68500            NaN\n",
      "68501            NaN\n",
      "68502            NaN\n",
      "68503            NaN\n",
      "68504            NaN\n",
      "68505            NaN\n",
      "68506            NaN\n",
      "68507            NaN\n",
      "68508            NaN\n",
      "68509            NaN\n",
      "68510            NaN\n",
      "68511            NaN\n",
      "68512            NaN\n",
      "68513            NaN\n",
      "68514            NaN\n",
      "68515            NaN\n",
      "68516            NaN\n",
      "68517            NaN\n",
      "68518            NaN\n",
      "68519            NaN\n",
      "68520            NaN\n",
      "68521            NaN\n",
      "68522            NaN\n",
      "68523            NaN\n",
      "68524            NaN\n",
      "68525            NaN\n",
      "68526            NaN\n",
      "68527            NaN\n",
      "\n",
      "[68528 rows x 1 columns]\n"
     ]
    }
   ],
   "source": [
    "c1 = get_column_names(\"AllDistricts1112\", connection)\n",
    "c2 = get_column_names(\"AllDistricts1213\", connection)\n",
    "\n",
    "my_query = \"\"\"\n",
    "select \"AllDistricts1112\".\"StudentLookup\" from \"AllDistricts1112\" \n",
    "left outer join \"AllDistricts1213\" \n",
    "on \"AllDistricts1112\".\"StudentLookup\" = \"AllDistricts1213\".\"StudentLookup\"\n",
    "union all\n",
    "select \"AllDistricts1213\".\"StudentLookup\" from \"AllDistricts1112\" \n",
    "left outer join \"AllDistricts1213\" \n",
    "on \"AllDistricts1112\".\"StudentLookup\" = \"AllDistricts1213\".\"StudentLookup\";\n",
    "\"\"\"\n",
    "#print(my_query)\n",
    "cursor.execute(my_query)\n",
    "names = [ x[0] for x in cursor.description]\n",
    "rows = cursor.fetchall()\n",
    "res_table = pd.DataFrame( rows, columns=names)\n",
    "print(len(names))\n",
    "print(names)\n",
    "print(res_table)"
   ]
  },
  {
   "cell_type": "code",
   "execution_count": null,
   "metadata": {
    "collapsed": true
   },
   "outputs": [],
   "source": []
  }
 ],
 "metadata": {
  "kernelspec": {
   "display_name": "Python 3",
   "language": "python",
   "name": "python3"
  },
  "language_info": {
   "codemirror_mode": {
    "name": "ipython",
    "version": 3
   },
   "file_extension": ".py",
   "mimetype": "text/x-python",
   "name": "python",
   "nbconvert_exporter": "python",
   "pygments_lexer": "ipython3",
   "version": "3.4.3"
  }
 },
 "nbformat": 4,
 "nbformat_minor": 0
}
