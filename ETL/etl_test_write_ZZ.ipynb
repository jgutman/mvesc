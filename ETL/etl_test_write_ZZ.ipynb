{
 "cells": [
  {
   "cell_type": "code",
   "execution_count": 1,
   "metadata": {
    "collapsed": true
   },
   "outputs": [],
   "source": [
    "import numpy as np\n",
    "import pandas as pd\n",
    "import psycopg2 as pg\n",
    "import os\n",
    "import csv"
   ]
  },
  {
   "cell_type": "code",
   "execution_count": 4,
   "metadata": {
    "collapsed": true
   },
   "outputs": [],
   "source": [
    "# loading the database credentials from the .gitignore protected password file\n",
    "pass_file = \"/mnt/data/mvesc/pgpass\"\n",
    "f = open(pass_file, 'r')\n",
    "with open(pass_file, 'r') as f:\n",
    "   passinfo = f.read()\n",
    "passinfo = passinfo.strip().split(':')\n",
    "f.close()\n",
    "host_address = passinfo[0]\n",
    "user_name = passinfo[2]\n",
    "name_of_database = passinfo[3]\n",
    "user_password = passinfo[4]\n",
    "conn = pg.connect(host=host_address, database=name_of_database, user=user_name, password=user_password)\n",
    "\n",
    "# notebook options\n",
    "from IPython.core.interactiveshell import InteractiveShell\n",
    "InteractiveShell.ast_node_interactivity = \"all\""
   ]
  },
  {
   "cell_type": "code",
   "execution_count": 12,
   "metadata": {
    "collapsed": false
   },
   "outputs": [],
   "source": [
    "# %load_ext rpy2.ipython\n",
    "# %Rpush data_dir absence_file_names"
   ]
  },
  {
   "cell_type": "code",
   "execution_count": 6,
   "metadata": {
    "collapsed": false
   },
   "outputs": [
    {
     "name": "stdout",
     "output_type": "stream",
     "text": [
      "\n",
      "Error in paste0(data_dir, absence_file_names[2]) : \n",
      "  object 'data_dir' not found\n"
     ]
    },
    {
     "name": "stderr",
     "output_type": "stream",
     "text": [
      "/home/jgutman/env/lib/python3.4/site-packages/rpy2/rinterface/__init__.py:185: RRuntimeWarning: Error in paste0(data_dir, absence_file_names[2]) : \n",
      "  object 'data_dir' not found\n",
      "\n",
      "  warnings.warn(x, RRuntimeWarning)\n"
     ]
    }
   ],
   "source": [
    "%%R\n",
    "r_df <- read.csv(paste0(data_dir, absence_file_names[2]), header = F, stringsAsFactors = F)\n",
    "str(r_df)"
   ]
  },
  {
   "cell_type": "code",
   "execution_count": 17,
   "metadata": {
    "collapsed": true
   },
   "outputs": [],
   "source": [
    "data_dir = '/mnt/data/mvesc/PartnerData/'\n",
    "absence_file_names = os.listdir(data_dir)"
   ]
  },
  {
   "cell_type": "code",
   "execution_count": 24,
   "metadata": {
    "collapsed": false
   },
   "outputs": [
    {
     "data": {
      "text/plain": [
       "['MVESC_DistrictRatings.xlsx',\n",
       " 'DistrictSchoolIDs.csv',\n",
       " 'UofChi_MVESC0416.bak',\n",
       " 'DistrictGrades2006_16',\n",
       " '.ipynb_checkpoints',\n",
       " 'MVESCDisticts0616.bak',\n",
       " '.Drakefile',\n",
       " 'OAAOGT_0616.txt',\n",
       " 'default_profile',\n",
       " 'AbsenceDaysDetail',\n",
       " 'DistrictSchoolIDs.xls',\n",
       " 'MVESC_Mobility.xlsx',\n",
       " 'default_profile.example']"
      ]
     },
     "execution_count": 24,
     "metadata": {},
     "output_type": "execute_result"
    },
    {
     "data": {
      "text/plain": [
       "'OAAOGT_0616.txt'"
      ]
     },
     "execution_count": 24,
     "metadata": {},
     "output_type": "execute_result"
    }
   ],
   "source": [
    "absence_file_names\n",
    "absence_file_names[-6]"
   ]
  },
  {
   "cell_type": "code",
   "execution_count": 37,
   "metadata": {
    "collapsed": false
   },
   "outputs": [],
   "source": [
    "df_IDs = pd.read_excel(data_dir + absence_file_names[-3], sheetname = None)\n",
    "df_mobility = pd.read_excel(data_dir + absence_file_names[-2], sheetname = None)"
   ]
  },
  {
   "cell_type": "code",
   "execution_count": 65,
   "metadata": {
    "collapsed": false
   },
   "outputs": [],
   "source": [
    "df_OAAOGT = pd.read_csv(data_dir + absence_file_names[-6], nrows = 1000)"
   ]
  },
  {
   "cell_type": "code",
   "execution_count": 38,
   "metadata": {
    "collapsed": false
   },
   "outputs": [],
   "source": [
    "df_ratings = pd.read_excel(data_dir + absence_file_names[0], sheetname = None)"
   ]
  },
  {
   "cell_type": "code",
   "execution_count": 51,
   "metadata": {
    "collapsed": false
   },
   "outputs": [
    {
     "data": {
      "text/plain": [
       "dict_keys(['SchoolIDs'])"
      ]
     },
     "execution_count": 51,
     "metadata": {},
     "output_type": "execute_result"
    },
    {
     "data": {
      "text/plain": [
       "dict_keys(['MVESC_Mobility'])"
      ]
     },
     "execution_count": 51,
     "metadata": {},
     "output_type": "execute_result"
    },
    {
     "data": {
      "text/plain": [
       "dict_keys(['MVESC1314', 'MVESC1213', 'MVESC1415', 'MVESC1112', 'MVESC1011'])"
      ]
     },
     "execution_count": 51,
     "metadata": {},
     "output_type": "execute_result"
    }
   ],
   "source": [
    "df_IDs.keys()\n",
    "df_mobility.keys()\n",
    "df_ratings.keys()"
   ]
  },
  {
   "cell_type": "code",
   "execution_count": 64,
   "metadata": {
    "collapsed": false
   },
   "outputs": [
    {
     "name": "stdout",
     "output_type": "stream",
     "text": [
      "(14, 104)\n",
      "(14, 113)\n",
      "(14, 119)\n",
      "(14, 106)\n",
      "(14, 111)\n"
     ]
    }
   ],
   "source": [
    "for key in df_ratings.keys():\n",
    "    print(df_ratings[key].shape)"
   ]
  },
  {
   "cell_type": "code",
   "execution_count": 82,
   "metadata": {
    "collapsed": false
   },
   "outputs": [
    {
     "data": {
      "text/plain": [
       "AltID                     int64\n",
       "MI                       object\n",
       "DOB                      object\n",
       "Gender                   object\n",
       "Ethnicity                object\n",
       "SSN                     float64\n",
       "KRAL                    float64\n",
       "KRAL_PL                  object\n",
       "Third_Read_PL            object\n",
       "Third_Read_SS            object\n",
       "Third_Math_PL            object\n",
       "Third_Math_SS           float64\n",
       "Fourth_Read_PL           object\n",
       "Fourth_Read_SS          float64\n",
       "Fourth_Math_PL           object\n",
       "Fourth_Math_SS          float64\n",
       "Fourth_Write_PL          object\n",
       "Fourth_Write_SS         float64\n",
       "Fourth_Ctz_PL            object\n",
       "Fourth_Ctz_SS           float64\n",
       "Fourth_Science_PL        object\n",
       "Fourth_Science_SS       float64\n",
       "Fifth_Read_PL            object\n",
       "Fifth_Read_SS            object\n",
       "Fifth_Math_PL            object\n",
       "Fifth_Math_SS           float64\n",
       "Fifth_SocStudies_PL      object\n",
       "Fifth_SocStudies_SS     float64\n",
       "Fifth_Science_PL         object\n",
       "Fifth_Science_SS        float64\n",
       "                         ...   \n",
       "Sixth_Write_PL          float64\n",
       "Sixth_Write_SS          float64\n",
       "Sixth_Ctz_PL            float64\n",
       "Sixth_Ctz_SS            float64\n",
       "Sixth_Science_PL        float64\n",
       "Sixth_Science_SS        float64\n",
       "Seventh_Read_PL          object\n",
       "Seventh_Read_SS         float64\n",
       "Seventh_Math_PL          object\n",
       "Seventh_Math_SS         float64\n",
       "Seventh_Write_PL         object\n",
       "Seventh_Write_SS        float64\n",
       "Eighth_Read_PL           object\n",
       "Eighth_Read_SS          float64\n",
       "Eighth_Math_PL           object\n",
       "Eighth_Math_SS          float64\n",
       "Eighth_Science_PL        object\n",
       "Eighth_Science_SS       float64\n",
       "Eighth_SocStudies_PL     object\n",
       "Eighth_SocStudies_SS    float64\n",
       "OGT_Read_PL              object\n",
       "OGT_Read_SS              object\n",
       "OGT_Math_PL              object\n",
       "OGT_Math_SS              object\n",
       "OGT_Write_PL             object\n",
       "OGT_Write_SS             object\n",
       "OGT_Science_PL           object\n",
       "OGT_Science_SS           object\n",
       "OGT_SocStudies_PL        object\n",
       "OGT_SocStudies_SS       float64\n",
       "dtype: object"
      ]
     },
     "execution_count": 82,
     "metadata": {},
     "output_type": "execute_result"
    }
   ],
   "source": [
    "df_OAAOGT.dtypes"
   ]
  },
  {
   "cell_type": "code",
   "execution_count": 86,
   "metadata": {
    "collapsed": false
   },
   "outputs": [
    {
     "data": {
      "text/plain": [
       "33898"
      ]
     },
     "execution_count": 86,
     "metadata": {},
     "output_type": "execute_result"
    }
   ],
   "source": [
    "df_OAAOGT.AltID.max()"
   ]
  },
  {
   "cell_type": "code",
   "execution_count": 77,
   "metadata": {
    "collapsed": false
   },
   "outputs": [
    {
     "data": {
      "text/plain": [
       "(165,)"
      ]
     },
     "execution_count": 77,
     "metadata": {},
     "output_type": "execute_result"
    }
   ],
   "source": [
    "df_OAAOGT.SSN[~df_OAAOGT.SSN.isnull()].shape"
   ]
  },
  {
   "cell_type": "code",
   "execution_count": 10,
   "metadata": {
    "collapsed": false
   },
   "outputs": [],
   "source": [
    "common_delimeters = set(['\\' \\'', '\\'\\t\\'', '\\',\\''])\n",
    "def sniff(filepath):\n",
    "   with open(filepath, 'rb') as csvfile:\n",
    "        dialect = csv.Sniffer().sniff(csvfile.read(2048))\n",
    "        delimiter = repr(dialect.delimiter)\n",
    "        if delimiter not in common_delimeters:\n",
    "            print(filepath,'has uncommon delimiter',delimiter)\n",
    "        else:\n",
    "            print(filepath,'has common delimiter',delimiter)\n",
    "        csvfile.seek(0)\n",
    "        if csv.Sniffer().has_header(csvfile.read(2048)):\n",
    "            print(filepath, 'has a header')\n",
    "            return True\n",
    "        else:\n",
    "            print(filepath, 'does not have a header')\n",
    "            return False"
   ]
  },
  {
   "cell_type": "code",
   "execution_count": 11,
   "metadata": {
    "collapsed": false
   },
   "outputs": [
    {
     "ename": "TypeError",
     "evalue": "can't use a string pattern on a bytes-like object",
     "output_type": "error",
     "traceback": [
      "\u001b[1;31m---------------------------------------------------------------------------\u001b[0m",
      "\u001b[1;31mTypeError\u001b[0m                                 Traceback (most recent call last)",
      "\u001b[1;32m<ipython-input-11-a6569ae6f4c3>\u001b[0m in \u001b[0;36m<module>\u001b[1;34m()\u001b[0m\n\u001b[1;32m----> 1\u001b[1;33m \u001b[0msniff\u001b[0m\u001b[1;33m(\u001b[0m\u001b[1;34m'/mnt/data/mvesc/PartnerData/AbsenceDaysDetail/CCFRRWRVabsence09_16.txt'\u001b[0m\u001b[1;33m)\u001b[0m\u001b[1;33m\u001b[0m\u001b[0m\n\u001b[0m",
      "\u001b[1;32m<ipython-input-10-25a6d00323ee>\u001b[0m in \u001b[0;36msniff\u001b[1;34m(filepath)\u001b[0m\n\u001b[0;32m      2\u001b[0m \u001b[1;32mdef\u001b[0m \u001b[0msniff\u001b[0m\u001b[1;33m(\u001b[0m\u001b[0mfilepath\u001b[0m\u001b[1;33m)\u001b[0m\u001b[1;33m:\u001b[0m\u001b[1;33m\u001b[0m\u001b[0m\n\u001b[0;32m      3\u001b[0m    \u001b[1;32mwith\u001b[0m \u001b[0mopen\u001b[0m\u001b[1;33m(\u001b[0m\u001b[0mfilepath\u001b[0m\u001b[1;33m,\u001b[0m \u001b[1;34m'rb'\u001b[0m\u001b[1;33m)\u001b[0m \u001b[1;32mas\u001b[0m \u001b[0mcsvfile\u001b[0m\u001b[1;33m:\u001b[0m\u001b[1;33m\u001b[0m\u001b[0m\n\u001b[1;32m----> 4\u001b[1;33m         \u001b[0mdialect\u001b[0m \u001b[1;33m=\u001b[0m \u001b[0mcsv\u001b[0m\u001b[1;33m.\u001b[0m\u001b[0mSniffer\u001b[0m\u001b[1;33m(\u001b[0m\u001b[1;33m)\u001b[0m\u001b[1;33m.\u001b[0m\u001b[0msniff\u001b[0m\u001b[1;33m(\u001b[0m\u001b[0mcsvfile\u001b[0m\u001b[1;33m.\u001b[0m\u001b[0mread\u001b[0m\u001b[1;33m(\u001b[0m\u001b[1;36m2048\u001b[0m\u001b[1;33m)\u001b[0m\u001b[1;33m)\u001b[0m\u001b[1;33m\u001b[0m\u001b[0m\n\u001b[0m\u001b[0;32m      5\u001b[0m         \u001b[0mdelimiter\u001b[0m \u001b[1;33m=\u001b[0m \u001b[0mrepr\u001b[0m\u001b[1;33m(\u001b[0m\u001b[0mdialect\u001b[0m\u001b[1;33m.\u001b[0m\u001b[0mdelimiter\u001b[0m\u001b[1;33m)\u001b[0m\u001b[1;33m\u001b[0m\u001b[0m\n\u001b[0;32m      6\u001b[0m         \u001b[1;32mif\u001b[0m \u001b[0mdelimiter\u001b[0m \u001b[1;32mnot\u001b[0m \u001b[1;32min\u001b[0m \u001b[0mcommon_delimeters\u001b[0m\u001b[1;33m:\u001b[0m\u001b[1;33m\u001b[0m\u001b[0m\n",
      "\u001b[1;32m/usr/lib/python3.4/csv.py\u001b[0m in \u001b[0;36msniff\u001b[1;34m(self, sample, delimiters)\u001b[0m\n\u001b[0;32m    181\u001b[0m \u001b[1;33m\u001b[0m\u001b[0m\n\u001b[0;32m    182\u001b[0m         \u001b[0mquotechar\u001b[0m\u001b[1;33m,\u001b[0m \u001b[0mdoublequote\u001b[0m\u001b[1;33m,\u001b[0m \u001b[0mdelimiter\u001b[0m\u001b[1;33m,\u001b[0m \u001b[0mskipinitialspace\u001b[0m \u001b[1;33m=\u001b[0m\u001b[0;31m \u001b[0m\u001b[0;31m\\\u001b[0m\u001b[1;33m\u001b[0m\u001b[0m\n\u001b[1;32m--> 183\u001b[1;33m                    \u001b[0mself\u001b[0m\u001b[1;33m.\u001b[0m\u001b[0m_guess_quote_and_delimiter\u001b[0m\u001b[1;33m(\u001b[0m\u001b[0msample\u001b[0m\u001b[1;33m,\u001b[0m \u001b[0mdelimiters\u001b[0m\u001b[1;33m)\u001b[0m\u001b[1;33m\u001b[0m\u001b[0m\n\u001b[0m\u001b[0;32m    184\u001b[0m         \u001b[1;32mif\u001b[0m \u001b[1;32mnot\u001b[0m \u001b[0mdelimiter\u001b[0m\u001b[1;33m:\u001b[0m\u001b[1;33m\u001b[0m\u001b[0m\n\u001b[0;32m    185\u001b[0m             delimiter, skipinitialspace = self._guess_delimiter(sample,\n",
      "\u001b[1;32m/usr/lib/python3.4/csv.py\u001b[0m in \u001b[0;36m_guess_quote_and_delimiter\u001b[1;34m(self, data, delimiters)\u001b[0m\n\u001b[0;32m    222\u001b[0m                       '(?:^|\\n)(?P<quote>[\"\\']).*?(?P=quote)(?:$|\\n)'):                            #  \".*?\" (no delim, no space)\n\u001b[0;32m    223\u001b[0m             \u001b[0mregexp\u001b[0m \u001b[1;33m=\u001b[0m \u001b[0mre\u001b[0m\u001b[1;33m.\u001b[0m\u001b[0mcompile\u001b[0m\u001b[1;33m(\u001b[0m\u001b[0mrestr\u001b[0m\u001b[1;33m,\u001b[0m \u001b[0mre\u001b[0m\u001b[1;33m.\u001b[0m\u001b[0mDOTALL\u001b[0m \u001b[1;33m|\u001b[0m \u001b[0mre\u001b[0m\u001b[1;33m.\u001b[0m\u001b[0mMULTILINE\u001b[0m\u001b[1;33m)\u001b[0m\u001b[1;33m\u001b[0m\u001b[0m\n\u001b[1;32m--> 224\u001b[1;33m             \u001b[0mmatches\u001b[0m \u001b[1;33m=\u001b[0m \u001b[0mregexp\u001b[0m\u001b[1;33m.\u001b[0m\u001b[0mfindall\u001b[0m\u001b[1;33m(\u001b[0m\u001b[0mdata\u001b[0m\u001b[1;33m)\u001b[0m\u001b[1;33m\u001b[0m\u001b[0m\n\u001b[0m\u001b[0;32m    225\u001b[0m             \u001b[1;32mif\u001b[0m \u001b[0mmatches\u001b[0m\u001b[1;33m:\u001b[0m\u001b[1;33m\u001b[0m\u001b[0m\n\u001b[0;32m    226\u001b[0m                 \u001b[1;32mbreak\u001b[0m\u001b[1;33m\u001b[0m\u001b[0m\n",
      "\u001b[1;31mTypeError\u001b[0m: can't use a string pattern on a bytes-like object"
     ]
    }
   ],
   "source": [
    "sniff('/mnt/data/mvesc/PartnerData/AbsenceDaysDetail/CCFRRWRVabsence09_16.txt')"
   ]
  },
  {
   "cell_type": "code",
   "execution_count": 25,
   "metadata": {
    "collapsed": false
   },
   "outputs": [
    {
     "name": "stdout",
     "output_type": "stream",
     "text": [
      "Object `csv.read` not found.\n"
     ]
    }
   ],
   "source": [
    "csv.read()"
   ]
  },
  {
   "cell_type": "code",
   "execution_count": 87,
   "metadata": {
    "collapsed": false
   },
   "outputs": [
    {
     "data": {
      "text/plain": [
       "{'SchoolIDs':                         SchoolName        District SchoolID  DistrictID\n",
       " 0      Coshocton Elementary School       Coshocton      S72         D12\n",
       " 1          Roseville Middle School        Franklin      S73          D6\n",
       " 2            South Lawn Elementary       Coshocton      S74         D12\n",
       " 3              Nashport Elementary       TriValley       S1  D14       \n",
       " 4               Morgan High School          Morgan      S10  D8        \n",
       " 5     Thornville Elementary School        Northern      S11  D5        \n",
       " 6         East Elementary (Morgan)          Morgan      S12  D8        \n",
       " 7             Chieftain Elementary   Logan_Hocking      S13  D1        \n",
       " 8        New Lexington High School   New Lexington      S14  D4        \n",
       " 9    New Concord Elementary School  East Muskingum      S15  D7        \n",
       " 10          Tri-Valley High School       TriValley      S16  D14       \n",
       " 11                Union Elementary       Riverview      S17  D16       \n",
       " 12              Dresden Elementary       TriValley      S18  D14       \n",
       " 13           Maysville High School       Maysville      S19  D13       \n",
       " 14          Sheridan Middle School        Northern       S2  D5        \n",
       " 15            Zanesville PreSchool      Zanesville      S20  D15       \n",
       " 16      Crooksville Primary School     Crooksville      S21  D10       \n",
       " 17    East Muskingum Middle School  East Muskingum      S22  D7        \n",
       " 18           Coshocton Junior High       Coshocton      S23  D12       \n",
       " 19            Zane Grey Elementary      Zanesville      S24  D15       \n",
       " 20            Roseville Elementary        Franklin      S25  D6        \n",
       " 21                Falls Elementary  West Muskingum      S26  D17       \n",
       " 22        New Lexington Elementary   New Lexington      S27  D4        \n",
       " 23         Duncan Falls Elementary        Franklin      S28  D6        \n",
       " 24          River View High School       Riverview      S29  D16       \n",
       " 25               Logan High School   Logan_Hocking       S3  D1        \n",
       " 26        John McIntire Elementary      Zanesville      S30  D15       \n",
       " 27    Larry Miller Intermediate ES  East Muskingum      S31  D7        \n",
       " 28  Grover Cleveland Middle School      Zanesville      S32  D15       \n",
       " 29          Frazeysburg Elementary       TriValley      S33  D14       \n",
       " ..                             ...             ...      ...         ...\n",
       " 44             Hopewell Elementary  West Muskingum      S47  D17       \n",
       " 45     New Lexington Middle School   New Lexington      S48  D4        \n",
       " 46     Maysville Elementary School       Maysville      S49  D13       \n",
       " 47            Sheridan High School        Northern       S5  D5        \n",
       " 48               Philo High School        Franklin      S50  D6        \n",
       " 49              Central Elementary       Coshocton      S51  D12       \n",
       " 50      West Muskingum High School  West Muskingum      S52  D17       \n",
       " 51        Junction City Elementary   New Lexington      S53  D4        \n",
       " 52          Zanesville High School      Zanesville      S54  D15       \n",
       " 53                 Digital Academy   Logan_Hocking      S55  D1        \n",
       " 54            Mid-East CTC Buffalo         MidEast      S56  D9        \n",
       " 55                Keene Elementary       Riverview      S57  D16       \n",
       " 56          John Glenn High School  East Muskingum      S58  D7        \n",
       " 57      Glenford Elementary School        Northern      S59  D5        \n",
       " 58          Pike Elementary School  East Muskingum       S6  D7        \n",
       " 59              Central Elementary   Logan_Hocking      S60  D1        \n",
       " 60         Crooksville High School     Crooksville      S61  D10       \n",
       " 61           Coshocton High School       Coshocton      S62  D12       \n",
       " 62           Conesville Elementary       Riverview      S63  D16       \n",
       " 63               Warsaw Elementary       Riverview      S64  D16       \n",
       " 64    West Muskingum Middle School  West Muskingum      S65  D17       \n",
       " 65           Adamsville Elementary       TriValley      S66  D14       \n",
       " 66             Logan Middle School   Logan_Hocking      S67  D1        \n",
       " 67        Philo Junior High School        Franklin      S68  D6        \n",
       " 68      Somerset Elementary School        Northern      S69  D5        \n",
       " 69         Perry Elementary School  East Muskingum       S7  D7        \n",
       " 70        Tri-Valley Middle School       TriValley       S8  D14       \n",
       " 71         Maysville Middle School       Maysville       S9  D13       \n",
       " 72              Lincoln Elementary       Coshocton      S70         D12\n",
       " 73                 Zanesville CCFD      Zanesville      S71         D15\n",
       " \n",
       " [74 rows x 4 columns]}"
      ]
     },
     "execution_count": 87,
     "metadata": {},
     "output_type": "execute_result"
    }
   ],
   "source": [
    "df_IDs."
   ]
  }
 ],
 "metadata": {
  "kernelspec": {
   "display_name": "Python 3",
   "language": "python",
   "name": "python3"
  },
  "language_info": {
   "codemirror_mode": {
    "name": "ipython",
    "version": 3
   },
   "file_extension": ".py",
   "mimetype": "text/x-python",
   "name": "python",
   "nbconvert_exporter": "python",
   "pygments_lexer": "ipython3",
   "version": "3.4.3"
  }
 },
 "nbformat": 4,
 "nbformat_minor": 0
}
