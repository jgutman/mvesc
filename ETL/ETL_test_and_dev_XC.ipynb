{
 "cells": [
  {
   "cell_type": "code",
   "execution_count": 2,
   "metadata": {
    "collapsed": true
   },
   "outputs": [],
   "source": [
    "import numpy as np\n",
    "import pandas as pd\n",
    "import psycopg2 as pg\n",
    "import matplotlib.pyplot as plt\n",
    "\n",
    "%matplotlib inline"
   ]
  },
  {
   "cell_type": "code",
   "execution_count": 25,
   "metadata": {
    "collapsed": true
   },
   "outputs": [],
   "source": [
    "data_dir = '/mnt/data/mvesc/PartnerData/'\n",
    "folder1 = data_dir +  \"AbsenceDaysDetails/\""
   ]
  },
  {
   "cell_type": "markdown",
   "metadata": {},
   "source": [
    "### Connect to database"
   ]
  },
  {
   "cell_type": "code",
   "execution_count": 5,
   "metadata": {
    "collapsed": false
   },
   "outputs": [
    {
     "name": "stdout",
     "output_type": "stream",
     "text": [
      "                  table_name\n",
      "0          DistrictSchoolIDs\n",
      "1                 all_lookup\n",
      "2            CurrentMobility\n",
      "3            CurrentStudents\n",
      "4              ASQ_Preschool\n",
      "5                  ActScores\n",
      "6           AllDistricts1112\n",
      "7                   HSGrades\n",
      "8           AllDistricts1213\n",
      "9                  AIRScores\n",
      "10          AllDistricts1314\n",
      "11  CurrentAbsenceDiscipline\n",
      "12                  DIBELSv2\n",
      "13          AllDistricts1415\n",
      "14             AllGradsTotal\n",
      "15                    OAAOGT\n",
      "16                     PARCC\n",
      "17                  StarRead\n",
      "18                    StarEL\n",
      "19                  StarMath\n",
      "20                 TerraNova\n"
     ]
    }
   ],
   "source": [
    "# Connect to database\n",
    "pass_file = \"/mnt/data/mvesc/pgpass\" # username, db information\n",
    "with open(pass_file, 'r') as f:\n",
    "    passinfo = f.read()\n",
    "passinfo = passinfo.strip().split(':')\n",
    "\n",
    "host_address = passinfo[0]\n",
    "user_name = passinfo[2]\n",
    "name_of_database = passinfo[3]\n",
    "user_password = passinfo[4]\n",
    "sqlcmd_table_names = \"SELECT table_name FROM information_schema.tables WHERE table_schema = 'public'\"\n",
    "connection = pg.connect(host=host_address, database=name_of_database, user=user_name, password=user_password)\n",
    "table_names = pd.read_sql(sqlcmd_table_names, connection)\n",
    "print(table_names)"
   ]
  },
  {
   "cell_type": "code",
   "execution_count": 15,
   "metadata": {
    "collapsed": false
   },
   "outputs": [
    {
     "name": "stdout",
     "output_type": "stream",
     "text": [
      "ls: cannot access /mnt/data/mvesc/PartnterData/: No such file or directory\r\n"
     ]
    }
   ],
   "source": [
    "ls $data_dir"
   ]
  },
  {
   "cell_type": "code",
   "execution_count": 21,
   "metadata": {
    "collapsed": false
   },
   "outputs": [
    {
     "name": "stdout",
     "output_type": "stream",
     "text": [
      "DataExplore_CurStu_AllDistricts_XC.ipynb  exploration_zhe_tests.ipynb\r\n",
      "DataExplore_Jackie_Cleaning.ipynb         exploring_hanna.ipynb\r\n",
      "DataExplore_Jackie.ipynb                  \u001b[0m\u001b[01;34mfigures\u001b[0m/\r\n"
     ]
    }
   ],
   "source": [
    "ls ../ExploratoryAnalysis/"
   ]
  },
  {
   "cell_type": "code",
   "execution_count": 23,
   "metadata": {
    "collapsed": false
   },
   "outputs": [
    {
     "name": "stdout",
     "output_type": "stream",
     "text": [
      "\u001b[0m\u001b[01;34mAbsenceDaysDetail\u001b[0m/       DistrictSchoolIDs.xls       OAAOGT_0616.txt\r\n",
      "default_profile          MVESCDisticts0616.bak       UofChi_MVESC0416.bak\r\n",
      "default_profile.example  MVESC_DistrictRatings.xlsx\r\n",
      "DistrictSchoolIDs.csv    MVESC_Mobility.xlsx\r\n"
     ]
    }
   ],
   "source": [
    "ls /mnt/data/mvesc/PartnerData/"
   ]
  },
  {
   "cell_type": "code",
   "execution_count": null,
   "metadata": {
    "collapsed": true
   },
   "outputs": [],
   "source": []
  }
 ],
 "metadata": {
  "kernelspec": {
   "display_name": "Python 3",
   "language": "python",
   "name": "python3"
  },
  "language_info": {
   "codemirror_mode": {
    "name": "ipython",
    "version": 3
   },
   "file_extension": ".py",
   "mimetype": "text/x-python",
   "name": "python",
   "nbconvert_exporter": "python",
   "pygments_lexer": "ipython3",
   "version": "3.4.3"
  }
 },
 "nbformat": 4,
 "nbformat_minor": 0
}
