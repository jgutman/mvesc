{
 "cells": [
  {
   "cell_type": "code",
   "execution_count": 1,
   "metadata": {
    "collapsed": true
   },
   "outputs": [],
   "source": [
    "import os, sys\n",
    "from os.path import isfile, join, abspath, basename\n",
    "from optparse import OptionParser\n",
    "import numpy as np\n",
    "import pandas as pd\n",
    "from sqlalchemy import create_engine\n",
    "import sqlalchemy\n",
    "import json\n",
    "\n",
    "pathname = os.path.dirname(sys.argv[0])\n",
    "full_pathname = os.path.abspath(pathname)\n",
    "split_pathname = full_pathname.split(sep=\"mvesc\")\n",
    "base_pathname = os.path.join(split_pathname[0], \"mvesc\")\n",
    "parentdir = os.path.join(base_pathname, \"ETL\")\n",
    "sys.path.insert(0,parentdir)\n",
    "from mvesc_utility_functions import *"
   ]
  },
  {
   "cell_type": "code",
   "execution_count": 76,
   "metadata": {
    "collapsed": false
   },
   "outputs": [],
   "source": [
    "schema = 'public'\n",
    "public_tables = ['INV_06_16_CO_M', 'INV_06_16_FR_M', 'INV_06_16_MA_M', 'INV_06_16_RV_M', 'INV_06_16_RW_M', \n",
    "                 'INV_06_16_TV_M', 'INV_06_16_WM_M', 'INV_10_16_CEVSD_M', 'INV_10_16_EM_M']\n",
    "new_column_names = ['student_lookup', 'status', 'grade', 'gender', 'hmrm', \n",
    "                    'membership_code', 'description', 'school_year', 'district']\n",
    "\n",
    "table_df = {}\n",
    "with postgres_pgconnection_generator() as conn:\n",
    "    with conn.cursor() as cursor:\n",
    "        for tab in public_tables:\n",
    "            nrows = 1000000\n",
    "            sql_read_table = \"\"\"select * from {s}.\"{t}\" limit {n};\"\"\".format(s=schema, t=tab, n=nrows)\n",
    "            table_df[tab] = pd.read_sql_query(sql_read_table, conn)\n",
    "        table_df['INV_06_16_CO_M']['District'] = 'Coshocton' # add missed `district` column in table for CO\n",
    "        codes_df = pd.read_sql_query(\"select * from public.\\\"INV_MembershipCodes\\\";\", conn)\n",
    "        outcome = pd.read_sql_query(\"select * from model.outcome;\", conn)\n",
    "df = pd.DataFrame()\n",
    "for t in table_df:\n",
    "    new_col_dict = {table_df[t].columns[i]:new_column_names[i] for i in range(len(new_column_names))}\n",
    "    table_df[t] = table_df[t].rename(columns=new_col_dict)\n",
    "    df = df.append(table_df[t])\n",
    "    #df.drop('hmrm', axis=1, inplace=True)\n",
    "df = df.drop('hmrm', axis=1)\n",
    "df.reset_index(drop=True, inplace=True)\n",
    "codes_converter = {231101:231001, 231105:231005}\n",
    "for i in range(df.shape[0]):\n",
    "    if df.membership_code[i] in codes_converter:\n",
    "        df.ix[i, 'membership_code'] = codes_converter[df.membership_code[i]]"
   ]
  },
  {
   "cell_type": "code",
   "execution_count": 87,
   "metadata": {
    "collapsed": false
   },
   "outputs": [
    {
     "data": {
      "text/plain": [
       "array(['06', '05', '04', '03', '02', '01', 'KG', 'PS', '12', '11', '09',\n",
       "       '10', '07', '08', '23', 'UG', 'GR', '13'], dtype=object)"
      ]
     },
     "execution_count": 87,
     "metadata": {},
     "output_type": "execute_result"
    }
   ],
   "source": [
    "# update and clean columns\n",
    "df.grade.unique()\n",
    "grade_converter = {'06':6, '05':5, '04':4, '03':3, '02':2, '01':1, 'KG':0:, 'PS':-1, '12', '11', '09',\n",
    "       '10', '07', '08', '23', 'UG', 'GR', '13'}"
   ]
  },
  {
   "cell_type": "code",
   "execution_count": 58,
   "metadata": {
    "collapsed": false
   },
   "outputs": [
    {
     "data": {
      "text/html": [
       "<div>\n",
       "<table border=\"1\" class=\"dataframe\">\n",
       "  <thead>\n",
       "    <tr style=\"text-align: right;\">\n",
       "      <th></th>\n",
       "      <th>membership_code</th>\n",
       "      <th>code</th>\n",
       "      <th>membership_group</th>\n",
       "    </tr>\n",
       "  </thead>\n",
       "  <tbody>\n",
       "    <tr>\n",
       "      <th>0</th>\n",
       "      <td>120010</td>\n",
       "      <td>Early College High School</td>\n",
       "      <td>Post-secondary Enrollment Options Program</td>\n",
       "    </tr>\n",
       "    <tr>\n",
       "      <th>1</th>\n",
       "      <td>120020</td>\n",
       "      <td>Seniors to\\r\\nSophomores</td>\n",
       "      <td>Post-secondary Enrollment Options Program</td>\n",
       "    </tr>\n",
       "    <tr>\n",
       "      <th>2</th>\n",
       "      <td>151490</td>\n",
       "      <td>INTERV DUR SUMMER</td>\n",
       "      <td>Academic Intervention</td>\n",
       "    </tr>\n",
       "    <tr>\n",
       "      <th>3</th>\n",
       "      <td>151500</td>\n",
       "      <td>Summer Reading Program</td>\n",
       "      <td>Academic Intervention</td>\n",
       "    </tr>\n",
       "    <tr>\n",
       "      <th>4</th>\n",
       "      <td>152330</td>\n",
       "      <td>Student received intervention provided during ...</td>\n",
       "      <td>Academic Intervention</td>\n",
       "    </tr>\n",
       "  </tbody>\n",
       "</table>\n",
       "</div>"
      ],
      "text/plain": [
       "   membership_code                                               code  \\\n",
       "0           120010                          Early College High School   \n",
       "1           120020                           Seniors to\\r\\nSophomores   \n",
       "2           151490                                  INTERV DUR SUMMER   \n",
       "3           151500                             Summer Reading Program   \n",
       "4           152330  Student received intervention provided during ...   \n",
       "\n",
       "                            membership_group  \n",
       "0  Post-secondary Enrollment Options Program  \n",
       "1  Post-secondary Enrollment Options Program  \n",
       "2                      Academic Intervention  \n",
       "3                      Academic Intervention  \n",
       "4                      Academic Intervention  "
      ]
     },
     "execution_count": 58,
     "metadata": {},
     "output_type": "execute_result"
    }
   ],
   "source": [
    "codes_df.head()"
   ]
  },
  {
   "cell_type": "code",
   "execution_count": 59,
   "metadata": {
    "collapsed": false
   },
   "outputs": [
    {
     "data": {
      "text/html": [
       "<div>\n",
       "<table border=\"1\" class=\"dataframe\">\n",
       "  <thead>\n",
       "    <tr style=\"text-align: right;\">\n",
       "      <th></th>\n",
       "      <th>student_lookup</th>\n",
       "      <th>not_on_time</th>\n",
       "      <th>is_dropout</th>\n",
       "      <th>definite</th>\n",
       "      <th>cohort_10th</th>\n",
       "      <th>cohort_9th</th>\n",
       "      <th>cohort_8th</th>\n",
       "      <th>cohort_7th</th>\n",
       "      <th>cohort_6th</th>\n",
       "    </tr>\n",
       "  </thead>\n",
       "  <tbody>\n",
       "    <tr>\n",
       "      <th>0</th>\n",
       "      <td>62830.0</td>\n",
       "      <td>1</td>\n",
       "      <td>0</td>\n",
       "      <td>NaN</td>\n",
       "      <td>2006.0</td>\n",
       "      <td>2006</td>\n",
       "      <td>NaN</td>\n",
       "      <td>NaN</td>\n",
       "      <td>NaN</td>\n",
       "    </tr>\n",
       "    <tr>\n",
       "      <th>1</th>\n",
       "      <td>58382.0</td>\n",
       "      <td>0</td>\n",
       "      <td>0</td>\n",
       "      <td>0.0</td>\n",
       "      <td>2006.0</td>\n",
       "      <td>2007</td>\n",
       "      <td>NaN</td>\n",
       "      <td>NaN</td>\n",
       "      <td>NaN</td>\n",
       "    </tr>\n",
       "    <tr>\n",
       "      <th>2</th>\n",
       "      <td>62594.0</td>\n",
       "      <td>1</td>\n",
       "      <td>0</td>\n",
       "      <td>NaN</td>\n",
       "      <td>2006.0</td>\n",
       "      <td>2006</td>\n",
       "      <td>NaN</td>\n",
       "      <td>NaN</td>\n",
       "      <td>NaN</td>\n",
       "    </tr>\n",
       "    <tr>\n",
       "      <th>3</th>\n",
       "      <td>60526.0</td>\n",
       "      <td>1</td>\n",
       "      <td>0</td>\n",
       "      <td>NaN</td>\n",
       "      <td>2006.0</td>\n",
       "      <td>2006</td>\n",
       "      <td>NaN</td>\n",
       "      <td>NaN</td>\n",
       "      <td>NaN</td>\n",
       "    </tr>\n",
       "    <tr>\n",
       "      <th>4</th>\n",
       "      <td>59594.0</td>\n",
       "      <td>0</td>\n",
       "      <td>0</td>\n",
       "      <td>0.0</td>\n",
       "      <td>2006.0</td>\n",
       "      <td>2006</td>\n",
       "      <td>NaN</td>\n",
       "      <td>NaN</td>\n",
       "      <td>NaN</td>\n",
       "    </tr>\n",
       "  </tbody>\n",
       "</table>\n",
       "</div>"
      ],
      "text/plain": [
       "   student_lookup  not_on_time  is_dropout  definite  cohort_10th  cohort_9th  \\\n",
       "0         62830.0            1           0       NaN       2006.0        2006   \n",
       "1         58382.0            0           0       0.0       2006.0        2007   \n",
       "2         62594.0            1           0       NaN       2006.0        2006   \n",
       "3         60526.0            1           0       NaN       2006.0        2006   \n",
       "4         59594.0            0           0       0.0       2006.0        2006   \n",
       "\n",
       "   cohort_8th  cohort_7th  cohort_6th  \n",
       "0         NaN         NaN         NaN  \n",
       "1         NaN         NaN         NaN  \n",
       "2         NaN         NaN         NaN  \n",
       "3         NaN         NaN         NaN  \n",
       "4         NaN         NaN         NaN  "
      ]
     },
     "execution_count": 59,
     "metadata": {},
     "output_type": "execute_result"
    }
   ],
   "source": [
    "outcome.head()"
   ]
  },
  {
   "cell_type": "code",
   "execution_count": 61,
   "metadata": {
    "collapsed": false
   },
   "outputs": [],
   "source": [
    "students_not_in_codes = df[df.membership_code==410003].student_lookup.unique()"
   ]
  },
  {
   "cell_type": "code",
   "execution_count": 37,
   "metadata": {
    "collapsed": false
   },
   "outputs": [],
   "source": [
    "unique_codes = df.membership_code.unique()\n",
    "code_not_in_codes = list(filter(lambda x: x not in list(codes_df.membership_code), unique_codes))"
   ]
  },
  {
   "cell_type": "code",
   "execution_count": 49,
   "metadata": {
    "collapsed": false
   },
   "outputs": [
    {
     "data": {
      "text/html": [
       "<div>\n",
       "<table border=\"1\" class=\"dataframe\">\n",
       "  <thead>\n",
       "    <tr style=\"text-align: right;\">\n",
       "      <th></th>\n",
       "      <th></th>\n",
       "      <th>student_lookup</th>\n",
       "      <th>status</th>\n",
       "      <th>grade</th>\n",
       "      <th>gender</th>\n",
       "      <th>school_year</th>\n",
       "      <th>district</th>\n",
       "    </tr>\n",
       "    <tr>\n",
       "      <th>membership_code</th>\n",
       "      <th>description</th>\n",
       "      <th></th>\n",
       "      <th></th>\n",
       "      <th></th>\n",
       "      <th></th>\n",
       "      <th></th>\n",
       "      <th></th>\n",
       "    </tr>\n",
       "  </thead>\n",
       "  <tbody>\n",
       "    <tr>\n",
       "      <th>231101</th>\n",
       "      <th>Title I Reading\\r\\n(Summer School)</th>\n",
       "      <td>174</td>\n",
       "      <td>174</td>\n",
       "      <td>174</td>\n",
       "      <td>174</td>\n",
       "      <td>174</td>\n",
       "      <td>174</td>\n",
       "    </tr>\n",
       "    <tr>\n",
       "      <th>231105</th>\n",
       "      <th>Title I Mathematics\\r\\n(Summer School)</th>\n",
       "      <td>261</td>\n",
       "      <td>261</td>\n",
       "      <td>261</td>\n",
       "      <td>261</td>\n",
       "      <td>261</td>\n",
       "      <td>261</td>\n",
       "    </tr>\n",
       "    <tr>\n",
       "      <th>410003</th>\n",
       "      <th>FFA (formerly\\r\\nFuture Farmers of\\r\\nAmerica)</th>\n",
       "      <td>2754</td>\n",
       "      <td>2754</td>\n",
       "      <td>2754</td>\n",
       "      <td>2754</td>\n",
       "      <td>2754</td>\n",
       "      <td>2754</td>\n",
       "    </tr>\n",
       "  </tbody>\n",
       "</table>\n",
       "</div>"
      ],
      "text/plain": [
       "                                                                student_lookup  \\\n",
       "membership_code description                                                      \n",
       "231101          Title I Reading\\r\\n(Summer School)                         174   \n",
       "231105          Title I Mathematics\\r\\n(Summer School)                     261   \n",
       "410003          FFA (formerly\\r\\nFuture Farmers of\\r\\nAmerica)            2754   \n",
       "\n",
       "                                                                status  grade  \\\n",
       "membership_code description                                                     \n",
       "231101          Title I Reading\\r\\n(Summer School)                 174    174   \n",
       "231105          Title I Mathematics\\r\\n(Summer School)             261    261   \n",
       "410003          FFA (formerly\\r\\nFuture Farmers of\\r\\nAmerica)    2754   2754   \n",
       "\n",
       "                                                                gender  \\\n",
       "membership_code description                                              \n",
       "231101          Title I Reading\\r\\n(Summer School)                 174   \n",
       "231105          Title I Mathematics\\r\\n(Summer School)             261   \n",
       "410003          FFA (formerly\\r\\nFuture Farmers of\\r\\nAmerica)    2754   \n",
       "\n",
       "                                                                school_year  \\\n",
       "membership_code description                                                   \n",
       "231101          Title I Reading\\r\\n(Summer School)                      174   \n",
       "231105          Title I Mathematics\\r\\n(Summer School)                  261   \n",
       "410003          FFA (formerly\\r\\nFuture Farmers of\\r\\nAmerica)         2754   \n",
       "\n",
       "                                                                district  \n",
       "membership_code description                                               \n",
       "231101          Title I Reading\\r\\n(Summer School)                   174  \n",
       "231105          Title I Mathematics\\r\\n(Summer School)               261  \n",
       "410003          FFA (formerly\\r\\nFuture Farmers of\\r\\nAmerica)      2754  "
      ]
     },
     "execution_count": 49,
     "metadata": {},
     "output_type": "execute_result"
    }
   ],
   "source": [
    "rows_not_in_codes = df[pd.Series([x in code_not_in_codes for x in df.membership_code])]\n",
    "rows_not_in_codes.groupby(by=['membership_code', 'description']).count()"
   ]
  },
  {
   "cell_type": "code",
   "execution_count": 71,
   "metadata": {
    "collapsed": false
   },
   "outputs": [
    {
     "data": {
      "text/plain": [
       "True"
      ]
     },
     "execution_count": 71,
     "metadata": {},
     "output_type": "execute_result"
    }
   ],
   "source": [
    "231105 in codes_converter"
   ]
  },
  {
   "cell_type": "code",
   "execution_count": 66,
   "metadata": {
    "collapsed": false
   },
   "outputs": [],
   "source": [
    "check_drop = outcome.merge(rows_not_in_codes, on=['student_lookup'], how='inner')"
   ]
  },
  {
   "cell_type": "code",
   "execution_count": 68,
   "metadata": {
    "collapsed": false
   },
   "outputs": [
    {
     "data": {
      "text/plain": [
       "student_lookup                                           6.31788e+07\n",
       "not_on_time                                                      235\n",
       "is_dropout                                                        56\n",
       "definite                                                          56\n",
       "cohort_10th                                              3.50441e+06\n",
       "cohort_9th                                                   3554921\n",
       "cohort_8th                                                2.8829e+06\n",
       "cohort_7th                                               2.19931e+06\n",
       "cohort_6th                                               1.63633e+06\n",
       "status             AAAAAAOOQAAAAAAAAAAAAAIAAAAAAAAAAAAAAAAAAAACAA...\n",
       "grade              1010111210101011101010101011121011101110111210...\n",
       "gender             MMMMMMFFMMMMMMMMMMMMMMMMMMMMMMMFFMMMMMMMMFFMMM...\n",
       "membership_code                                            705974135\n",
       "description        FFA (formerly\\r\\nFuture Farmers of\\r\\nAmerica)...\n",
       "school_year        11/19/2008200711/19/200810/7/20092007200720078...\n",
       "district           TriValleyTriValleyTriValleyTriValleyRiverviewT...\n",
       "dtype: object"
      ]
     },
     "execution_count": 68,
     "metadata": {},
     "output_type": "execute_result"
    }
   ],
   "source": [
    "check_drop.sum(axis=0)"
   ]
  },
  {
   "cell_type": "code",
   "execution_count": null,
   "metadata": {
    "collapsed": true
   },
   "outputs": [],
   "source": []
  }
 ],
 "metadata": {
  "kernelspec": {
   "display_name": "Python 3",
   "language": "python",
   "name": "python3"
  },
  "language_info": {
   "codemirror_mode": {
    "name": "ipython",
    "version": 3
   },
   "file_extension": ".py",
   "mimetype": "text/x-python",
   "name": "python",
   "nbconvert_exporter": "python",
   "pygments_lexer": "ipython3",
   "version": "3.4.3"
  }
 },
 "nbformat": 4,
 "nbformat_minor": 0
}
