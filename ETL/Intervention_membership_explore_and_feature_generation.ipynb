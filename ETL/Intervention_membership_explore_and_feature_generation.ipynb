{
 "cells": [
  {
   "cell_type": "code",
   "execution_count": 1,
   "metadata": {
    "collapsed": true
   },
   "outputs": [],
   "source": [
    "import os, sys\n",
    "from os.path import isfile, join, abspath, basename\n",
    "from optparse import OptionParser\n",
    "import numpy as np\n",
    "import pandas as pd\n",
    "from sqlalchemy import create_engine\n",
    "import sqlalchemy\n",
    "import json\n",
    "\n",
    "pathname = os.path.dirname(sys.argv[0])\n",
    "full_pathname = os.path.abspath(pathname)\n",
    "split_pathname = full_pathname.split(sep=\"mvesc\")\n",
    "base_pathname = os.path.join(split_pathname[0], \"mvesc\")\n",
    "parentdir = os.path.join(base_pathname, \"ETL\")\n",
    "sys.path.insert(0,parentdir)\n",
    "from mvesc_utility_functions import *"
   ]
  },
  {
   "cell_type": "code",
   "execution_count": 44,
   "metadata": {
    "collapsed": false
   },
   "outputs": [
    {
     "data": {
      "text/html": [
       "<div>\n",
       "<table border=\"1\" class=\"dataframe\">\n",
       "  <thead>\n",
       "    <tr style=\"text-align: right;\">\n",
       "      <th></th>\n",
       "      <th>student_lookup</th>\n",
       "      <th>status</th>\n",
       "      <th>gender</th>\n",
       "      <th>membership_code</th>\n",
       "      <th>description</th>\n",
       "      <th>school_year</th>\n",
       "      <th>district</th>\n",
       "      <th>grade</th>\n",
       "    </tr>\n",
       "  </thead>\n",
       "  <tbody>\n",
       "    <tr>\n",
       "      <th>0</th>\n",
       "      <td>9997</td>\n",
       "      <td>A</td>\n",
       "      <td>F</td>\n",
       "      <td>152330</td>\n",
       "      <td>Student received intervention provided during ...</td>\n",
       "      <td>2007</td>\n",
       "      <td>TriValley</td>\n",
       "      <td>3.0</td>\n",
       "    </tr>\n",
       "    <tr>\n",
       "      <th>1</th>\n",
       "      <td>9454</td>\n",
       "      <td>A</td>\n",
       "      <td>F</td>\n",
       "      <td>152330</td>\n",
       "      <td>Student received intervention provided during ...</td>\n",
       "      <td>2007</td>\n",
       "      <td>TriValley</td>\n",
       "      <td>3.0</td>\n",
       "    </tr>\n",
       "    <tr>\n",
       "      <th>2</th>\n",
       "      <td>13426</td>\n",
       "      <td>A</td>\n",
       "      <td>F</td>\n",
       "      <td>152330</td>\n",
       "      <td>Student received intervention provided during ...</td>\n",
       "      <td>2007</td>\n",
       "      <td>TriValley</td>\n",
       "      <td>3.0</td>\n",
       "    </tr>\n",
       "    <tr>\n",
       "      <th>3</th>\n",
       "      <td>10279</td>\n",
       "      <td>A</td>\n",
       "      <td>F</td>\n",
       "      <td>152330</td>\n",
       "      <td>Student received intervention provided during ...</td>\n",
       "      <td>2007</td>\n",
       "      <td>TriValley</td>\n",
       "      <td>3.0</td>\n",
       "    </tr>\n",
       "    <tr>\n",
       "      <th>4</th>\n",
       "      <td>13701</td>\n",
       "      <td>A</td>\n",
       "      <td>M</td>\n",
       "      <td>152330</td>\n",
       "      <td>Student received intervention provided during ...</td>\n",
       "      <td>2007</td>\n",
       "      <td>TriValley</td>\n",
       "      <td>3.0</td>\n",
       "    </tr>\n",
       "  </tbody>\n",
       "</table>\n",
       "</div>"
      ],
      "text/plain": [
       "   student_lookup status gender  membership_code  \\\n",
       "0            9997      A      F           152330   \n",
       "1            9454      A      F           152330   \n",
       "2           13426      A      F           152330   \n",
       "3           10279      A      F           152330   \n",
       "4           13701      A      M           152330   \n",
       "\n",
       "                                         description school_year   district  \\\n",
       "0  Student received intervention provided during ...        2007  TriValley   \n",
       "1  Student received intervention provided during ...        2007  TriValley   \n",
       "2  Student received intervention provided during ...        2007  TriValley   \n",
       "3  Student received intervention provided during ...        2007  TriValley   \n",
       "4  Student received intervention provided during ...        2007  TriValley   \n",
       "\n",
       "   grade  \n",
       "0    3.0  \n",
       "1    3.0  \n",
       "2    3.0  \n",
       "3    3.0  \n",
       "4    3.0  "
      ]
     },
     "execution_count": 44,
     "metadata": {},
     "output_type": "execute_result"
    }
   ],
   "source": [
    "def main():\n",
    "    schema = 'public'\n",
    "    public_tables = ['INV_06_16_CO_M', 'INV_06_16_FR_M', 'INV_06_16_MA_M', 'INV_06_16_RV_M', 'INV_06_16_RW_M', \n",
    "                     'INV_06_16_TV_M', 'INV_06_16_WM_M', 'INV_10_16_CEVSD_M', 'INV_10_16_EM_M']\n",
    "    new_column_names = ['student_lookup', 'status', 'grade', 'gender', 'hmrm', \n",
    "                        'membership_code', 'description', 'school_year', 'district']\n",
    "    \n",
    "    table_df = {}\n",
    "    \n",
    "    print(\" - Reading intervention tables of different districts...\")\n",
    "    with postgres_pgconnection_generator() as conn:\n",
    "        with conn.cursor() as cursor:\n",
    "            for tab in public_tables:\n",
    "                nrows = 1000000\n",
    "                sql_read_table = \"\"\"select * from {s}.\"{t}\" limit {n};\"\"\".format(s=schema, t=tab, n=nrows)\n",
    "                table_df[tab] = pd.read_sql_query(sql_read_table, conn)\n",
    "            table_df['INV_06_16_CO_M']['District'] = 'Coshocton' # add missed `district` column in table for CO\n",
    "            codes_df = pd.read_sql_query(\"select * from public.\\\"INV_MembershipCodes\\\";\", conn)\n",
    "            outcome = pd.read_sql_query(\"select * from model.outcome;\", conn)\n",
    "    \n",
    "    df = pd.DataFrame()\n",
    "    for t in table_df:\n",
    "        new_col_dict = {table_df[t].columns[i]:new_column_names[i] for i in range(len(new_column_names))}\n",
    "        table_df[t] = table_df[t].rename(columns=new_col_dict)\n",
    "        df = df.append(table_df[t])\n",
    "    df = df.drop('hmrm', axis=1)\n",
    "    df.reset_index(drop=True, inplace=True)\n",
    "    \n",
    "    print(\" - Integrating and cleaning table...\")\n",
    "    # update and clean columns\n",
    "    grade_converter = {'06':6, '05':5, '04':4, '03':3, '02':2, '01':1, \n",
    "                       'KG':0, 'PS':-1, '12':12, '11':11, '09':9,'10':10, \n",
    "                       '07':7, '08':8, '23':23, 'UG':None, 'GR':None, '13':13}\n",
    "    codes_converter = {231101:231001, 231105:231005}\n",
    "    new_grades = [None]*df.shape[0]\n",
    "    for i in range(df.shape[0]):\n",
    "        if df.membership_code[i] in codes_converter:\n",
    "            df.ix[i, 'membership_code'] = codes_converter[df.membership_code[i]]\n",
    "        if df.grade[i] in grade_converter:\n",
    "            new_grades[i] = grade_converter[df.grade[i]]\n",
    "\n",
    "    df.drop(['grade'], axis=1, inplace=True)\n",
    "    def int_nonNone(x):\n",
    "        \"\"\" Convert float to int and others None\n",
    "        \"\"\"\n",
    "        if x==None or isinstance(x, str):\n",
    "            return None\n",
    "        else:\n",
    "            return int(x)\n",
    "    new_grades = list(map(int_nonNone, new_grades))\n",
    "    df['grade'] = new_grades\n",
    "    \n",
    "    print(\" - Saving intervention data frame to postgres... \")\n",
    "    df2postgres(df, 'intervention', nrows=-1, if_exists='replace', schema='clean')"
   ]
  },
  {
   "cell_type": "code",
   "execution_count": 46,
   "metadata": {
    "collapsed": false
   },
   "outputs": [
    {
     "data": {
      "text/plain": [
       "'intervention'"
      ]
     },
     "execution_count": 46,
     "metadata": {},
     "output_type": "execute_result"
    }
   ],
   "source": [
    "df2postgres(df, 'intervention', nrows=-1, if_exists='replace', schema='clean')"
   ]
  },
  {
   "cell_type": "code",
   "execution_count": 38,
   "metadata": {
    "collapsed": false
   },
   "outputs": [
    {
     "ename": "AttributeError",
     "evalue": "'DataFrame' object has no attribute 'grade'",
     "output_type": "error",
     "traceback": [
      "\u001b[1;31m---------------------------------------------------------------------------\u001b[0m",
      "\u001b[1;31mAttributeError\u001b[0m                            Traceback (most recent call last)",
      "\u001b[1;32m<ipython-input-38-7aadc6209539>\u001b[0m in \u001b[0;36m<module>\u001b[1;34m()\u001b[0m\n\u001b[0;32m      5\u001b[0m \u001b[0mnew_grades\u001b[0m \u001b[1;33m=\u001b[0m \u001b[1;33m[\u001b[0m\u001b[1;32mNone\u001b[0m\u001b[1;33m]\u001b[0m\u001b[1;33m*\u001b[0m\u001b[0mdf\u001b[0m\u001b[1;33m.\u001b[0m\u001b[0mshape\u001b[0m\u001b[1;33m[\u001b[0m\u001b[1;36m0\u001b[0m\u001b[1;33m]\u001b[0m\u001b[1;33m\u001b[0m\u001b[0m\n\u001b[0;32m      6\u001b[0m \u001b[1;32mfor\u001b[0m \u001b[0mi\u001b[0m \u001b[1;32min\u001b[0m \u001b[0mrange\u001b[0m\u001b[1;33m(\u001b[0m\u001b[0mdf\u001b[0m\u001b[1;33m.\u001b[0m\u001b[0mshape\u001b[0m\u001b[1;33m[\u001b[0m\u001b[1;36m0\u001b[0m\u001b[1;33m]\u001b[0m\u001b[1;33m)\u001b[0m\u001b[1;33m:\u001b[0m\u001b[1;33m\u001b[0m\u001b[0m\n\u001b[1;32m----> 7\u001b[1;33m     \u001b[1;32mif\u001b[0m \u001b[0mdf\u001b[0m\u001b[1;33m.\u001b[0m\u001b[0mgrade\u001b[0m\u001b[1;33m[\u001b[0m\u001b[0mi\u001b[0m\u001b[1;33m]\u001b[0m \u001b[1;32min\u001b[0m \u001b[0mgrade_converter\u001b[0m\u001b[1;33m:\u001b[0m\u001b[1;33m\u001b[0m\u001b[0m\n\u001b[0m\u001b[0;32m      8\u001b[0m         \u001b[0mnew_grades\u001b[0m\u001b[1;33m[\u001b[0m\u001b[0mi\u001b[0m\u001b[1;33m]\u001b[0m \u001b[1;33m=\u001b[0m \u001b[0mgrade_converter\u001b[0m\u001b[1;33m[\u001b[0m\u001b[0mdf\u001b[0m\u001b[1;33m.\u001b[0m\u001b[0mgrade\u001b[0m\u001b[1;33m[\u001b[0m\u001b[0mi\u001b[0m\u001b[1;33m]\u001b[0m\u001b[1;33m]\u001b[0m\u001b[1;33m\u001b[0m\u001b[0m\n\u001b[0;32m      9\u001b[0m \u001b[0mdf\u001b[0m\u001b[1;33m.\u001b[0m\u001b[0mdrop\u001b[0m\u001b[1;33m(\u001b[0m\u001b[1;33m[\u001b[0m\u001b[1;34m'grade'\u001b[0m\u001b[1;33m]\u001b[0m\u001b[1;33m,\u001b[0m \u001b[0maxis\u001b[0m\u001b[1;33m=\u001b[0m\u001b[1;36m1\u001b[0m\u001b[1;33m,\u001b[0m \u001b[0minplace\u001b[0m\u001b[1;33m=\u001b[0m\u001b[1;32mTrue\u001b[0m\u001b[1;33m)\u001b[0m\u001b[1;33m\u001b[0m\u001b[0m\n",
      "\u001b[1;32m/home/jgutman/env/lib/python3.4/site-packages/pandas/core/generic.py\u001b[0m in \u001b[0;36m__getattr__\u001b[1;34m(self, name)\u001b[0m\n\u001b[0;32m   2670\u001b[0m             \u001b[1;32mif\u001b[0m \u001b[0mname\u001b[0m \u001b[1;32min\u001b[0m \u001b[0mself\u001b[0m\u001b[1;33m.\u001b[0m\u001b[0m_info_axis\u001b[0m\u001b[1;33m:\u001b[0m\u001b[1;33m\u001b[0m\u001b[0m\n\u001b[0;32m   2671\u001b[0m                 \u001b[1;32mreturn\u001b[0m \u001b[0mself\u001b[0m\u001b[1;33m[\u001b[0m\u001b[0mname\u001b[0m\u001b[1;33m]\u001b[0m\u001b[1;33m\u001b[0m\u001b[0m\n\u001b[1;32m-> 2672\u001b[1;33m             \u001b[1;32mreturn\u001b[0m \u001b[0mobject\u001b[0m\u001b[1;33m.\u001b[0m\u001b[0m__getattribute__\u001b[0m\u001b[1;33m(\u001b[0m\u001b[0mself\u001b[0m\u001b[1;33m,\u001b[0m \u001b[0mname\u001b[0m\u001b[1;33m)\u001b[0m\u001b[1;33m\u001b[0m\u001b[0m\n\u001b[0m\u001b[0;32m   2673\u001b[0m \u001b[1;33m\u001b[0m\u001b[0m\n\u001b[0;32m   2674\u001b[0m     \u001b[1;32mdef\u001b[0m \u001b[0m__setattr__\u001b[0m\u001b[1;33m(\u001b[0m\u001b[0mself\u001b[0m\u001b[1;33m,\u001b[0m \u001b[0mname\u001b[0m\u001b[1;33m,\u001b[0m \u001b[0mvalue\u001b[0m\u001b[1;33m)\u001b[0m\u001b[1;33m:\u001b[0m\u001b[1;33m\u001b[0m\u001b[0m\n",
      "\u001b[1;31mAttributeError\u001b[0m: 'DataFrame' object has no attribute 'grade'"
     ]
    }
   ],
   "source": []
  },
  {
   "cell_type": "code",
   "execution_count": 36,
   "metadata": {
    "collapsed": false
   },
   "outputs": [],
   "source": []
  },
  {
   "cell_type": "code",
   "execution_count": 37,
   "metadata": {
    "collapsed": false
   },
   "outputs": [
    {
     "data": {
      "text/html": [
       "<div>\n",
       "<table border=\"1\" class=\"dataframe\">\n",
       "  <thead>\n",
       "    <tr style=\"text-align: right;\">\n",
       "      <th></th>\n",
       "      <th>student_lookup</th>\n",
       "      <th>status</th>\n",
       "      <th>gender</th>\n",
       "      <th>membership_code</th>\n",
       "      <th>description</th>\n",
       "      <th>school_year</th>\n",
       "      <th>district</th>\n",
       "      <th>grade2</th>\n",
       "    </tr>\n",
       "  </thead>\n",
       "  <tbody>\n",
       "    <tr>\n",
       "      <th>0</th>\n",
       "      <td>9997</td>\n",
       "      <td>A</td>\n",
       "      <td>F</td>\n",
       "      <td>152330</td>\n",
       "      <td>Student received intervention provided during ...</td>\n",
       "      <td>2007</td>\n",
       "      <td>TriValley</td>\n",
       "      <td>3</td>\n",
       "    </tr>\n",
       "    <tr>\n",
       "      <th>1</th>\n",
       "      <td>9454</td>\n",
       "      <td>A</td>\n",
       "      <td>F</td>\n",
       "      <td>152330</td>\n",
       "      <td>Student received intervention provided during ...</td>\n",
       "      <td>2007</td>\n",
       "      <td>TriValley</td>\n",
       "      <td>3</td>\n",
       "    </tr>\n",
       "    <tr>\n",
       "      <th>2</th>\n",
       "      <td>13426</td>\n",
       "      <td>A</td>\n",
       "      <td>F</td>\n",
       "      <td>152330</td>\n",
       "      <td>Student received intervention provided during ...</td>\n",
       "      <td>2007</td>\n",
       "      <td>TriValley</td>\n",
       "      <td>3</td>\n",
       "    </tr>\n",
       "    <tr>\n",
       "      <th>3</th>\n",
       "      <td>10279</td>\n",
       "      <td>A</td>\n",
       "      <td>F</td>\n",
       "      <td>152330</td>\n",
       "      <td>Student received intervention provided during ...</td>\n",
       "      <td>2007</td>\n",
       "      <td>TriValley</td>\n",
       "      <td>3</td>\n",
       "    </tr>\n",
       "    <tr>\n",
       "      <th>4</th>\n",
       "      <td>13701</td>\n",
       "      <td>A</td>\n",
       "      <td>M</td>\n",
       "      <td>152330</td>\n",
       "      <td>Student received intervention provided during ...</td>\n",
       "      <td>2007</td>\n",
       "      <td>TriValley</td>\n",
       "      <td>3</td>\n",
       "    </tr>\n",
       "  </tbody>\n",
       "</table>\n",
       "</div>"
      ],
      "text/plain": [
       "   student_lookup status gender  membership_code  \\\n",
       "0            9997      A      F           152330   \n",
       "1            9454      A      F           152330   \n",
       "2           13426      A      F           152330   \n",
       "3           10279      A      F           152330   \n",
       "4           13701      A      M           152330   \n",
       "\n",
       "                                         description school_year   district  \\\n",
       "0  Student received intervention provided during ...        2007  TriValley   \n",
       "1  Student received intervention provided during ...        2007  TriValley   \n",
       "2  Student received intervention provided during ...        2007  TriValley   \n",
       "3  Student received intervention provided during ...        2007  TriValley   \n",
       "4  Student received intervention provided during ...        2007  TriValley   \n",
       "\n",
       "   grade2  \n",
       "0       3  \n",
       "1       3  \n",
       "2       3  \n",
       "3       3  \n",
       "4       3  "
      ]
     },
     "execution_count": 37,
     "metadata": {},
     "output_type": "execute_result"
    }
   ],
   "source": [
    "df.head()"
   ]
  },
  {
   "cell_type": "code",
   "execution_count": 37,
   "metadata": {
    "collapsed": false
   },
   "outputs": [],
   "source": [
    "unique_codes = df.membership_code.unique()\n",
    "code_not_in_codes = list(filter(lambda x: x not in list(codes_df.membership_code), unique_codes))"
   ]
  },
  {
   "cell_type": "code",
   "execution_count": 49,
   "metadata": {
    "collapsed": false
   },
   "outputs": [
    {
     "data": {
      "text/html": [
       "<div>\n",
       "<table border=\"1\" class=\"dataframe\">\n",
       "  <thead>\n",
       "    <tr style=\"text-align: right;\">\n",
       "      <th></th>\n",
       "      <th></th>\n",
       "      <th>student_lookup</th>\n",
       "      <th>status</th>\n",
       "      <th>grade</th>\n",
       "      <th>gender</th>\n",
       "      <th>school_year</th>\n",
       "      <th>district</th>\n",
       "    </tr>\n",
       "    <tr>\n",
       "      <th>membership_code</th>\n",
       "      <th>description</th>\n",
       "      <th></th>\n",
       "      <th></th>\n",
       "      <th></th>\n",
       "      <th></th>\n",
       "      <th></th>\n",
       "      <th></th>\n",
       "    </tr>\n",
       "  </thead>\n",
       "  <tbody>\n",
       "    <tr>\n",
       "      <th>231101</th>\n",
       "      <th>Title I Reading\\r\\n(Summer School)</th>\n",
       "      <td>174</td>\n",
       "      <td>174</td>\n",
       "      <td>174</td>\n",
       "      <td>174</td>\n",
       "      <td>174</td>\n",
       "      <td>174</td>\n",
       "    </tr>\n",
       "    <tr>\n",
       "      <th>231105</th>\n",
       "      <th>Title I Mathematics\\r\\n(Summer School)</th>\n",
       "      <td>261</td>\n",
       "      <td>261</td>\n",
       "      <td>261</td>\n",
       "      <td>261</td>\n",
       "      <td>261</td>\n",
       "      <td>261</td>\n",
       "    </tr>\n",
       "    <tr>\n",
       "      <th>410003</th>\n",
       "      <th>FFA (formerly\\r\\nFuture Farmers of\\r\\nAmerica)</th>\n",
       "      <td>2754</td>\n",
       "      <td>2754</td>\n",
       "      <td>2754</td>\n",
       "      <td>2754</td>\n",
       "      <td>2754</td>\n",
       "      <td>2754</td>\n",
       "    </tr>\n",
       "  </tbody>\n",
       "</table>\n",
       "</div>"
      ],
      "text/plain": [
       "                                                                student_lookup  \\\n",
       "membership_code description                                                      \n",
       "231101          Title I Reading\\r\\n(Summer School)                         174   \n",
       "231105          Title I Mathematics\\r\\n(Summer School)                     261   \n",
       "410003          FFA (formerly\\r\\nFuture Farmers of\\r\\nAmerica)            2754   \n",
       "\n",
       "                                                                status  grade  \\\n",
       "membership_code description                                                     \n",
       "231101          Title I Reading\\r\\n(Summer School)                 174    174   \n",
       "231105          Title I Mathematics\\r\\n(Summer School)             261    261   \n",
       "410003          FFA (formerly\\r\\nFuture Farmers of\\r\\nAmerica)    2754   2754   \n",
       "\n",
       "                                                                gender  \\\n",
       "membership_code description                                              \n",
       "231101          Title I Reading\\r\\n(Summer School)                 174   \n",
       "231105          Title I Mathematics\\r\\n(Summer School)             261   \n",
       "410003          FFA (formerly\\r\\nFuture Farmers of\\r\\nAmerica)    2754   \n",
       "\n",
       "                                                                school_year  \\\n",
       "membership_code description                                                   \n",
       "231101          Title I Reading\\r\\n(Summer School)                      174   \n",
       "231105          Title I Mathematics\\r\\n(Summer School)                  261   \n",
       "410003          FFA (formerly\\r\\nFuture Farmers of\\r\\nAmerica)         2754   \n",
       "\n",
       "                                                                district  \n",
       "membership_code description                                               \n",
       "231101          Title I Reading\\r\\n(Summer School)                   174  \n",
       "231105          Title I Mathematics\\r\\n(Summer School)               261  \n",
       "410003          FFA (formerly\\r\\nFuture Farmers of\\r\\nAmerica)      2754  "
      ]
     },
     "execution_count": 49,
     "metadata": {},
     "output_type": "execute_result"
    }
   ],
   "source": [
    "rows_not_in_codes = df[pd.Series([x in code_not_in_codes for x in df.membership_code])]\n",
    "rows_not_in_codes.groupby(by=['membership_code', 'description']).count()"
   ]
  },
  {
   "cell_type": "code",
   "execution_count": 71,
   "metadata": {
    "collapsed": false
   },
   "outputs": [
    {
     "data": {
      "text/plain": [
       "True"
      ]
     },
     "execution_count": 71,
     "metadata": {},
     "output_type": "execute_result"
    }
   ],
   "source": [
    "231105 in codes_converter"
   ]
  },
  {
   "cell_type": "code",
   "execution_count": 66,
   "metadata": {
    "collapsed": false
   },
   "outputs": [],
   "source": [
    "check_drop = outcome.merge(rows_not_in_codes, on=['student_lookup'], how='inner')"
   ]
  },
  {
   "cell_type": "code",
   "execution_count": 68,
   "metadata": {
    "collapsed": false
   },
   "outputs": [
    {
     "data": {
      "text/plain": [
       "student_lookup                                           6.31788e+07\n",
       "not_on_time                                                      235\n",
       "is_dropout                                                        56\n",
       "definite                                                          56\n",
       "cohort_10th                                              3.50441e+06\n",
       "cohort_9th                                                   3554921\n",
       "cohort_8th                                                2.8829e+06\n",
       "cohort_7th                                               2.19931e+06\n",
       "cohort_6th                                               1.63633e+06\n",
       "status             AAAAAAOOQAAAAAAAAAAAAAIAAAAAAAAAAAAAAAAAAAACAA...\n",
       "grade              1010111210101011101010101011121011101110111210...\n",
       "gender             MMMMMMFFMMMMMMMMMMMMMMMMMMMMMMMFFMMMMMMMMFFMMM...\n",
       "membership_code                                            705974135\n",
       "description        FFA (formerly\\r\\nFuture Farmers of\\r\\nAmerica)...\n",
       "school_year        11/19/2008200711/19/200810/7/20092007200720078...\n",
       "district           TriValleyTriValleyTriValleyTriValleyRiverviewT...\n",
       "dtype: object"
      ]
     },
     "execution_count": 68,
     "metadata": {},
     "output_type": "execute_result"
    }
   ],
   "source": [
    "check_drop.sum(axis=0)"
   ]
  },
  {
   "cell_type": "code",
   "execution_count": null,
   "metadata": {
    "collapsed": true
   },
   "outputs": [],
   "source": []
  }
 ],
 "metadata": {
  "kernelspec": {
   "display_name": "Python 3",
   "language": "python",
   "name": "python3"
  },
  "language_info": {
   "codemirror_mode": {
    "name": "ipython",
    "version": 3
   },
   "file_extension": ".py",
   "mimetype": "text/x-python",
   "name": "python",
   "nbconvert_exporter": "python",
   "pygments_lexer": "ipython3",
   "version": "3.4.3"
  }
 },
 "nbformat": 4,
 "nbformat_minor": 0
}
