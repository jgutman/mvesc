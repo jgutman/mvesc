{
 "cells": [
  {
   "cell_type": "code",
   "execution_count": 1,
   "metadata": {
    "collapsed": false
   },
   "outputs": [],
   "source": [
    "import sys, os\n",
    "sys.path.insert(0, '/home/jgutman/mvesc/ETL')\n",
    "from mvesc_utility_functions import *\n",
    "import pandas as pd"
   ]
  },
  {
   "cell_type": "code",
   "execution_count": 2,
   "metadata": {
    "collapsed": true
   },
   "outputs": [],
   "source": [
    "import re\n",
    "import numpy as np"
   ]
  },
  {
   "cell_type": "code",
   "execution_count": 5,
   "metadata": {
    "collapsed": false
   },
   "outputs": [],
   "source": [
    "def make_df_categorical(raw_data):\n",
    "    string_features = raw_data.select_dtypes(include=[object, bool])\n",
    "    numeric_features = raw_data.select_dtypes(include=[np.number])\n",
    "\n",
    "    for string_col in string_features.columns:\n",
    "        raw_data[string_col] = string_features[string_col].astype('category')\n",
    "        if len(raw_data[string_col].cat.categories) < 2:\n",
    "            raw_data.drop(string_col, axis=1, inplace=True)\n",
    "            \n",
    "    for numeric_col in numeric_features.columns:\n",
    "        num_values = len(numeric_features[numeric_col].unique())\n",
    "        num_bins = min(5, num_values)\n",
    "        if (num_values < 2):\n",
    "            raw_data.drop(numeric_col, axis=1, inplace=True)\n",
    "        elif (num_values == 2 and\n",
    "            numeric_features[numeric_col].isnull().sum() > 0):\n",
    "            raw_data[numeric_col] = numeric_features[numeric_col] \\\n",
    "                .isnull().astype('category')\n",
    "        else:\n",
    "            raw_data[numeric_col] = pd.cut(numeric_features[numeric_col],\n",
    "                bins = num_bins, precision = 1)\n",
    "            \n",
    "    return raw_data"
   ]
  },
  {
   "cell_type": "code",
   "execution_count": 7,
   "metadata": {
    "collapsed": false
   },
   "outputs": [
    {
     "name": "stdout",
     "output_type": "stream",
     "text": [
      "table:param_set_43_AB_ht_7333, features:snapshots, oaa_normalized, demographics, absence, mobility, grades, grades:6, 7, 8, 9\n",
      "table:param_set_26_AB_ht_6531, features:grades, grades:8, 9\n",
      "table:param_set_104_AB_ht_7943, features:snapshots, oaa_normalized, demographics, absence, mobility, grades, grades:6, 7, 8, 9\n",
      "table:param_set_144_DT_ht_8340, features:snapshots, oaa_normalized, demographics, absence, mobility, grades, grades:6, 7, 8, 9\n",
      "table:param_set_25_DT_ht_6518, features:grades, grades:9\n",
      "table:param_set_628_DT_zz_111, features:snapshots, grades:6, 7, 8, 9\n",
      "table:param_set_92_ET_ht_7822, features:snapshots, oaa_normalized, demographics, absence, mobility, grades, grades:9\n",
      "table:param_set_126_ET_ht_8162, features:snapshots, oaa_normalized, demographics, absence, mobility, grades, grades:9\n",
      "table:param_set_11_ET_ht_6524, features:snapshots, absence, oaa_normalized, demographics, mobility, grades, grades:6, 7, 8, 9\n",
      "table:param_set_142_GB_ht_8325, features:snapshots, oaa_normalized, demographics, absence, mobility, grades, grades:8, 9\n",
      "table:param_set_30_GB_ht_7205, features:snapshots, oaa_normalized, demographics, absence, mobility, grades, grades:7, 8, 9\n",
      "table:param_set_96_GB_ht_7865, features:snapshots, oaa_normalized, demographics, absence, mobility, grades, grades:9\n",
      "table:param_set_88_KNN_ht_7788, features:snapshots, oaa_normalized, demographics, absence, mobility, grades, grades:9\n",
      "table:param_set_265_KNN_ht_2649, features:grades, grades:9\n",
      "table:param_set_100_KNN_ht_7908, features:snapshots, oaa_normalized, demographics, absence, mobility, grades, grades:5, 6, 7, 8, 9\n",
      "table:param_set_41_logit_ht_7309, features:snapshots, oaa_normalized, demographics, absence, mobility, grades, grades:8, 9\n",
      "table:param_set_262_logit_ht_2610, features:grades, grades:8, 9\n",
      "table:param_set_1_logit_ht_6909, features:snapshots, oaa_normalized, demographics, absence, mobility, grades, grades:8, 9\n",
      "table:param_set_236_NB_ht_2357, features:absence, grades:6, 7, 8, 9\n",
      "table:param_set_21_NB_ht_217, features:absence, grades:8, 9\n",
      "table:param_set_197_NB_ht_1967, features:absence, grades:9\n",
      "table:param_set_155_RF_ht_8451, features:snapshots, oaa_normalized, demographics, absence, mobility, grades, grades:5, 6, 7, 8, 9\n",
      "table:param_set_116_RF_ht_8061, features:snapshots, oaa_normalized, demographics, absence, mobility, grades, grades:9\n",
      "table:param_set_5_RF_ht_6381, features:snapshots, absence, oaa_normalized, demographics, mobility, grades, grades:8, 9\n",
      "table:param_set_605_SGD_ht_6048, features:snapshots, grades:9\n",
      "table:param_set_68_SGD_ht_7587, features:snapshots, oaa_normalized, demographics, absence, mobility, grades, grades:9\n",
      "table:param_set_100_SGD_ht_7907, features:snapshots, oaa_normalized, demographics, absence, mobility, grades, grades:5, 6, 7, 8, 9\n",
      "table:param_set_89_SVM_ht_7794, features:snapshots, oaa_normalized, demographics, absence, mobility, grades, grades:8, 9\n",
      "table:param_set_123_SVM_ht_8134, features:snapshots, oaa_normalized, demographics, absence, mobility, grades, grades:7, 8, 9\n",
      "table:param_set_48_SVM_ht_7384, features:snapshots, oaa_normalized, demographics, absence, mobility, grades, grades:9\n"
     ]
    }
   ],
   "source": [
    "with postgres_pgconnection_generator() as connection:\n",
    "    with connection.cursor() as cursor:\n",
    "        optimization_criteria = ['val_precision_5', 'val_recall_5']\n",
    "        predictions = None\n",
    "        top_models_query = \"\"\"\n",
    "    create temporary table top_models as\n",
    "    select distinct on (model_name, label)\n",
    "    * from\n",
    "        (select model_name, filename, label, feature_categories,\n",
    "        feature_grades, {criteria},\n",
    "        rank() over (partition by (model_name, label)\n",
    "            order by {ranker} desc) as val_rank\n",
    "        from model.reports\n",
    "        where debug=false\n",
    "        order by model_name, label, val_rank) vr\n",
    "    order by model_name, label, val_rank;\n",
    "    \"\"\".format(criteria = \", \".join(optimization_criteria),\n",
    "        ranker = optimization_criteria[0])\n",
    "        cursor.execute(top_models_query)\n",
    "\n",
    "        cursor.execute(\"\"\"select filename, feature_categories,\n",
    "            feature_grades from top_models;\"\"\")\n",
    "        models_and_features = cursor.fetchall()\n",
    "\n",
    "        for (table_name, feature_tables, feature_grade_range) \\\n",
    "                in models_and_features:\n",
    "            feature_table_list = feature_tables.split(\", \")\n",
    "            feature_grades = [int(i) for i in\n",
    "                    feature_grade_range.split(\", \")]\n",
    "            feature_grade_regex = '({})'.format('|'.join(\n",
    "                [str(i) for i in feature_grades]))\n",
    "            pattern = re.compile('(_gr_{rx}\\Z)|(\\D\\Z)'.format(\n",
    "                rx=feature_grade_regex))\n",
    "\n",
    "            for test_set in ['val', 'test']:\n",
    "                get_model_predictions = \"\"\"select * from\n",
    "                (select student_lookup, true_label, predicted_label,\n",
    "                predicted_label = true_label as correct\n",
    "                from predictions.\"{table}\" where split = '{test_set}') preds\n",
    "                \"\"\".format(table = table_name, test_set = test_set)\n",
    "\n",
    "                for features in feature_table_list:\n",
    "                    get_model_predictions += \"\"\" left join\n",
    "                (select * from model.{features}) {features}\n",
    "                using(student_lookup)\n",
    "                \"\"\".format(features = features)\n",
    "\n",
    "                cursor.execute(get_model_predictions)\n",
    "                predictions_and_features = cursor.fetchall()\n",
    "                colnames = [i[0] for i in cursor.description]\n",
    "                predictions = pd.DataFrame.from_records(\n",
    "                    predictions_and_features, index = 'student_lookup',\n",
    "                    columns = colnames)\n",
    "                predictions = predictions.filter(regex=pattern)\n",
    "                predictions[['true_label', 'predicted_label']] = \\\n",
    "                    predictions[['true_label', 'predicted_label']].astype(bool)\n",
    "                predictions = make_df_categorical(predictions)\n",
    "                \n",
    "            print('table:{}, features:{}, grades:{}'.format(\n",
    "                    table_name, feature_tables, feature_grade_range))"
   ]
  },
  {
   "cell_type": "code",
   "execution_count": null,
   "metadata": {
    "collapsed": true
   },
   "outputs": [],
   "source": []
  }
 ],
 "metadata": {
  "kernelspec": {
   "display_name": "Python 3",
   "language": "python",
   "name": "python3"
  },
  "language_info": {
   "codemirror_mode": {
    "name": "ipython",
    "version": 3
   },
   "file_extension": ".py",
   "mimetype": "text/x-python",
   "name": "python",
   "nbconvert_exporter": "python",
   "pygments_lexer": "ipython3",
   "version": "3.4.3"
  }
 },
 "nbformat": 4,
 "nbformat_minor": 0
}
