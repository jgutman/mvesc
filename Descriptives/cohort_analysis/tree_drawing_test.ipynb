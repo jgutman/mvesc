{
 "cells": [
  {
   "cell_type": "code",
   "execution_count": 1,
   "metadata": {
    "collapsed": false
   },
   "outputs": [
    {
     "data": {
      "text/plain": [
       "'0.7.1'"
      ]
     },
     "execution_count": 1,
     "metadata": {},
     "output_type": "execute_result"
    }
   ],
   "source": [
    "import igraph\n",
    "from igraph import *\n",
    "igraph.__version__"
   ]
  },
  {
   "cell_type": "code",
   "execution_count": 2,
   "metadata": {
    "collapsed": false
   },
   "outputs": [],
   "source": [
    "import cairo\n",
    "import matplotlib\n",
    "%matplotlib inline"
   ]
  },
  {
   "cell_type": "code",
   "execution_count": 3,
   "metadata": {
    "collapsed": false
   },
   "outputs": [],
   "source": [
    "num_vertices = 18\n",
    "tree = Graph()\n",
    "tree.add_vertices(num_vertices)\n",
    "tree.add_edges([(0,1), (0,2), (1,3), (1,4), (2,5), (2,6), (2,7),\n",
    "        (3,8), (3,9), (4,10), (4,11), (4,12), (11,13), (11,14),\n",
    "        (14,15), (14,16), (14,17)])\n",
    "tree.vs[\"description\"] = [\"cohort total\", \"no graduation date\",\n",
    "        \"graduation date\", \"no withdrawal reason\", \"withdrawal reason\",\n",
    "        \"4 year graduation\", \"5 year graduation\", \"more than 5 years\",\n",
    "        \"no withdrawal date\", \"district withdrawal date\", \"misc withdrawal\",\n",
    "        \"transferred\", \"dropout\", \"no withdraw to IRN\", \"withdrawn to IRN\",\n",
    "        \"dropout recovery program\", \"JVSD/career tech\", \"other Ohio IRN\"]\n",
    "assert(len(tree.vs[\"description\"]) == num_vertices)\n",
    "tree.vs[\"count\"] = [0] * num_vertices\n",
    "tree.vs[\"students\"] = [None] * num_vertices"
   ]
  },
  {
   "cell_type": "code",
   "execution_count": 4,
   "metadata": {
    "collapsed": true
   },
   "outputs": [],
   "source": [
    "outcome_buckets = {}\n",
    "outcome_buckets[\"non-terminal\"] = [\"cohort total\", \"no graduation date\", \"graduation date\", \n",
    "                \"no withdrawal reason\", \"withdrawal reason\", \"transferred\", \"withdrawn to IRN\"]\n",
    "outcome_buckets[\"exclude\"] = [\"misc withdrawal\"]\n",
    "outcome_buckets[\"dropout\"] = [\"dropout\", \"dropout recovery program\"]\n",
    "outcome_buckets[\"uncertain\"] = [\"no withdrawal date\", \"district withdrawal date\", \n",
    "                               \"no withdraw to IRN\", \"JVSD/career tech\", \"other Ohio IRN\"]\n",
    "outcome_buckets[\"late\"] = [\"5 year graduation\", \"more than 5 years\"]\n",
    "outcome_buckets[\"on-time\"] = [\"4 year graduation\"]\n",
    "outcome_buckets_flipped = dict((outcome, \n",
    "                                [k for k,v in outcome_buckets.items() if outcome in v][0]) \n",
    "                               for outcome in tree.vs[\"description\"])\n",
    "tree.vs[\"outcomes\"] = [outcome_buckets_flipped[bucket] for bucket in tree.vs[\"description\"]]"
   ]
  },
  {
   "cell_type": "code",
   "execution_count": 5,
   "metadata": {
    "collapsed": false
   },
   "outputs": [
    {
     "name": "stdout",
     "output_type": "stream",
     "text": [
      "IGRAPH U--- 18 17 --\n",
      "+ attr: count (v), description (v), outcomes (v), students (v)\n",
      "+ edges:\n",
      "0--1 0--2 1--3 1--4 2--5 2--6 2--7 3--8 3--9 4--10 4--11 4--12 11--13 11--14\n",
      "14--15 14--16 14--17\n"
     ]
    }
   ],
   "source": [
    "print(tree) # 18 vertices, 17 edges, 4 vertex attributes, 0 edge attributes"
   ]
  },
  {
   "cell_type": "code",
   "execution_count": 6,
   "metadata": {
    "collapsed": false
   },
   "outputs": [
    {
     "data": {
      "text/plain": [
       "17"
      ]
     },
     "execution_count": 6,
     "metadata": {},
     "output_type": "execute_result"
    }
   ],
   "source": [
    "len(tree.get_edgelist())"
   ]
  },
  {
   "cell_type": "code",
   "execution_count": 7,
   "metadata": {
    "collapsed": false
   },
   "outputs": [
    {
     "data": {
      "text/plain": [
       "{'count': 0,\n",
       " 'description': 'cohort total',\n",
       " 'outcomes': 'non-terminal',\n",
       " 'students': None}"
      ]
     },
     "execution_count": 7,
     "metadata": {},
     "output_type": "execute_result"
    }
   ],
   "source": [
    "cohort_vertex = tree.vs.select(description='cohort total')\n",
    "assert(len(cohort_vertex) == 1)\n",
    "cohort_index = [v.index for v in cohort_vertex][0]\n",
    "tree.vs[cohort_index].attributes()"
   ]
  },
  {
   "cell_type": "code",
   "execution_count": 8,
   "metadata": {
    "collapsed": false
   },
   "outputs": [],
   "source": [
    "assert([v[\"count\"] for v in cohort_vertex][0] == 0)\n",
    "student_list = [1000, 2000, 3000, 4000]\n",
    "### index first, then attribute name! reverse order doesn't change value\n",
    "tree.vs[cohort_index][\"students\"] = student_list\n",
    "tree.vs[cohort_index][\"count\"] = len(student_list)"
   ]
  },
  {
   "cell_type": "code",
   "execution_count": 9,
   "metadata": {
    "collapsed": false
   },
   "outputs": [
    {
     "data": {
      "text/plain": [
       "{'count': 4,\n",
       " 'description': 'cohort total',\n",
       " 'outcomes': 'non-terminal',\n",
       " 'students': [1000, 2000, 3000, 4000]}"
      ]
     },
     "execution_count": 9,
     "metadata": {},
     "output_type": "execute_result"
    }
   ],
   "source": [
    "assert([v[\"count\"] for v in cohort_vertex][0] == len(student_list))\n",
    "assert([v[\"students\"] for v in cohort_vertex][0] == student_list)\n",
    "tree.vs[cohort_index].attributes()"
   ]
  },
  {
   "cell_type": "code",
   "execution_count": 21,
   "metadata": {
    "collapsed": false
   },
   "outputs": [],
   "source": [
    "tree_layout = tree.layout_reingold_tilford(root=[0])"
   ]
  },
  {
   "cell_type": "code",
   "execution_count": 22,
   "metadata": {
    "collapsed": false
   },
   "outputs": [],
   "source": [
    "color_dict = {\"non-terminal\":\"black\", \"exclude\":\"yellow\", \"dropout\":\"red\", \"uncertain\":\"green\", \"late\":\"blue\", \n",
    "             \"on-time\":\"magenta\"}\n",
    "visual_style = {}\n",
    "visual_style[\"vertex_size\"] = 30\n",
    "visual_style[\"vertex_color\"] = [color_dict[category] for category in tree.vs[\"outcomes\"]]\n",
    "visual_style[\"vertex_label\"] = [\"{desc}\\n{count}\".format(desc=desc, count=count) \n",
    "                                for desc,count in zip(tree.vs[\"description\"], tree.vs[\"count\"])]\n",
    "visual_style[\"layout\"] = tree_layout\n",
    "visual_style[\"vertex_label_dist\"] = 2\n",
    "visual_style[\"bbox\"] = (800, 800)\n",
    "visual_style[\"margin\"] = 60\n",
    "visual_style[\"vertex_label_size\"] = 10\n",
    "try:\n",
    "    plot(tree, \"test_tree_plot.png\", **visual_style)\n",
    "except TypeError:\n",
    "    print(\"ignore TypeError\")"
   ]
  },
  {
   "cell_type": "code",
   "execution_count": null,
   "metadata": {
    "collapsed": true
   },
   "outputs": [],
   "source": []
  }
 ],
 "metadata": {
  "kernelspec": {
   "display_name": "Python 3",
   "language": "python",
   "name": "python3"
  },
  "language_info": {
   "codemirror_mode": {
    "name": "ipython",
    "version": 3
   },
   "file_extension": ".py",
   "mimetype": "text/x-python",
   "name": "python",
   "nbconvert_exporter": "python",
   "pygments_lexer": "ipython3",
   "version": "3.4.3"
  }
 },
 "nbformat": 4,
 "nbformat_minor": 0
}
