{
 "cells": [
  {
   "cell_type": "code",
   "execution_count": null,
   "metadata": {
    "collapsed": true
   },
   "outputs": [],
   "source": [
    "Where are we currently in the repository?"
   ]
  },
  {
   "cell_type": "code",
   "execution_count": 1,
   "metadata": {
    "collapsed": false
   },
   "outputs": [
    {
     "name": "stdout",
     "output_type": "stream",
     "text": [
      "/home/jgutman/mvesc/Descriptives/cohort_analysis\r\n"
     ]
    }
   ],
   "source": [
    "!pwd"
   ]
  },
  {
   "cell_type": "code",
   "execution_count": 2,
   "metadata": {
    "collapsed": false
   },
   "outputs": [
    {
     "name": "stdout",
     "output_type": "stream",
     "text": [
      "  clean_grades_and_attendance_tables\u001b[m\r\n",
      "* \u001b[32mcohort_analysis\u001b[m\r\n",
      "  consolidating_tables\u001b[m\r\n",
      "  import_text_files_issue1\u001b[m\r\n",
      "  master\u001b[m\r\n",
      "  track_students_descriptives\u001b[m\r\n"
     ]
    }
   ],
   "source": [
    "!git branch"
   ]
  },
  {
   "cell_type": "code",
   "execution_count": 3,
   "metadata": {
    "collapsed": false
   },
   "outputs": [
    {
     "name": "stdout",
     "output_type": "stream",
     "text": [
      "all_absences_generate_mm_day_wkd.sql  etl_test_write_ZZ.ipynb\r\n",
      "building_cohort_analysis.sql\t      file_to_table_name.json\r\n",
      "build_student_tracking.py\t      fill_missing_years.py\r\n",
      "clean_absences.sql\t\t      module_dev_utility_functions.ipynb\r\n",
      "clean_oaaogt_0616.sql\t\t      mvesc_utility_functions.py\r\n",
      "csv2postgres_mvesc.py\t\t      __pycache__\r\n",
      "ETL_test_and_dev_XC.ipynb\t      snapshot_column_names.json\r\n"
     ]
    }
   ],
   "source": [
    "!ls /home/jgutman/mvesc/ETL"
   ]
  },
  {
   "cell_type": "code",
   "execution_count": 4,
   "metadata": {
    "collapsed": false
   },
   "outputs": [],
   "source": [
    "import os, sys, imp\n",
    "parentdir = os.path.abspath('/home/jgutman/mvesc/ETL')\n",
    "sys.path.insert(0,parentdir) "
   ]
  },
  {
   "cell_type": "code",
   "execution_count": 5,
   "metadata": {
    "collapsed": false
   },
   "outputs": [],
   "source": [
    "import build_student_tracking as track\n",
    "from mvesc_utility_functions import postgres_pgconnection_generator"
   ]
  },
  {
   "cell_type": "code",
   "execution_count": 11,
   "metadata": {
    "collapsed": false
   },
   "outputs": [
    {
     "data": {
      "text/plain": [
       "<module 'build_student_tracking' from '/home/jgutman/mvesc/ETL/build_student_tracking.py'>"
      ]
     },
     "execution_count": 11,
     "metadata": {},
     "output_type": "execute_result"
    }
   ],
   "source": [
    "imp.reload(track)"
   ]
  },
  {
   "cell_type": "code",
   "execution_count": 12,
   "metadata": {
    "collapsed": false
   },
   "outputs": [
    {
     "name": "stdout",
     "output_type": "stream",
     "text": [
      "['grade', 'school_year', 'count']\n",
      "[(9, 2010, 1397), (10, 2011, 1034), (11, 2012, 964), (12, 2013, 923)]\n",
      "9222\n"
     ]
    }
   ],
   "source": [
    "with postgres_pgconnection_generator() as connection:\n",
    "        with connection.cursor() as cursor:\n",
    "            # print(track.sql_gen_tracking_students(2006, 2015))\n",
    "            # print(track.cohort_survival_analysis(2006, 2015, '04'))\n",
    "            print(track.build_wide_format(cursor, '09', 2010))\n",
    "            get_graduates_query = \"\"\"\n",
    "        select student_lookup, graduation_date from \n",
    "            (select student_lookup, max(school_year) as school_year from clean.all_snapshots \n",
    "                where student_lookup in \n",
    "                    (select distinct student_lookup from clean.all_snapshots \n",
    "                        where graduation_date is not null) \n",
    "                and graduation_date is not null\n",
    "            group by student_lookup) as latest_grade_with_graduation\n",
    "        left join \n",
    "            (select student_lookup, school_year, graduation_date from clean.all_snapshots\n",
    "                where graduation_date is not null) as graduation_dates_valid\n",
    "        using (student_lookup, school_year)\n",
    "            \"\"\"\n",
    "            cursor.execute(get_graduates_query)\n",
    "            graduates = cursor.fetchall()\n",
    "            print(len(graduates))\n",
    "        connection.commit()"
   ]
  },
  {
   "cell_type": "code",
   "execution_count": 18,
   "metadata": {
    "collapsed": false
   },
   "outputs": [
    {
     "data": {
      "text/plain": [
       "'0.18.1'"
      ]
     },
     "execution_count": 18,
     "metadata": {},
     "output_type": "execute_result"
    }
   ],
   "source": [
    "import pandas as pd\n",
    "pd.__version__"
   ]
  },
  {
   "cell_type": "code",
   "execution_count": null,
   "metadata": {
    "collapsed": true
   },
   "outputs": [],
   "source": []
  },
  {
   "cell_type": "code",
   "execution_count": 19,
   "metadata": {
    "collapsed": true
   },
   "outputs": [],
   "source": [
    "import igraph\n",
    "from igraph import *\n",
    "import cairo\n",
    "from mvesc_utility_functions import postgres_pgconnection_generator"
   ]
  },
  {
   "cell_type": "code",
   "execution_count": 29,
   "metadata": {
    "collapsed": false
   },
   "outputs": [
    {
     "name": "stdout",
     "output_type": "stream",
     "text": [
      "IGRAPH U--- 18 17 --\n",
      "+ attr: count (v), description (v), outcomes (v), students (v)\n",
      "+ edges:\n",
      "0--1 0--2 1--3 1--4 2--5 2--6 2--7 3--8 3--9 4--10 4--11 4--12 11--13 11--14\n",
      "14--15 14--16 14--17\n",
      "<igraph.VertexSeq object at 0x7f354ef31a98>\n"
     ]
    }
   ],
   "source": [
    "with postgres_pgconnection_generator() as connection:\n",
    "        with connection.cursor() as cursor:\n",
    "            cohort_tree = build_empty_tree()\n",
    "            cohort_tree = get_bucket_counts(\n",
    "                cursor, cohort_tree, grade_begin = '09', year_begin = 2010)\n",
    "        connection.commit()"
   ]
  },
  {
   "cell_type": "code",
   "execution_count": 21,
   "metadata": {
    "collapsed": true
   },
   "outputs": [],
   "source": [
    "def build_empty_tree():\n",
    "    \"\"\"\n",
    "    Builds an empty tree obj for outcome classification. Vertices are named and\n",
    "    counts for each vertex are initialized at zero. Pass tree along with cursor\n",
    "    to get_bucket_counts method to fill in student counts at each vertex.\n",
    "\n",
    "    Tree contains 18 vertices and 17 edges\n",
    "    4 vertex attributes: description, count, outcome, and students\n",
    "    description: the fine-grained description of the bucket\n",
    "    outcome: the rough category of the bucket\n",
    "        (non-terminal, on-time, late, dropout, exclude, uncertain)\n",
    "    count: the number of students in each bucket\n",
    "    students: a list of student lookups in each bucket\n",
    "    \"\"\"\n",
    "\n",
    "    # Initialize tree structure\n",
    "    num_vertices = 18\n",
    "    tree = Graph()\n",
    "    tree.add_vertices(num_vertices)\n",
    "    tree.add_edges([(0,1), (0,2), (1,3), (1,4), (2,5), (2,6), (2,7),\n",
    "        (3,8), (3,9), (4,10), (4,11), (4,12), (11,13), (11,14),\n",
    "        (14,15), (14,16), (14,17)])\n",
    "    tree.vs[\"description\"] = [\"cohort total\", \"no graduation date\",\n",
    "        \"graduation date\", \"no withdrawal reason\", \"withdrawal reason\",\n",
    "        \"4 year graduation\", \"5 year graduation\", \"more than 5 years\",\n",
    "        \"no withdrawal date\", \"district withdrawal date\", \"misc withdrawal\",\n",
    "        \"transferred\", \"dropout\", \"no withdraw to IRN\", \"withdrawn to IRN\",\n",
    "        \"dropout recovery program\", \"JVSD/career tech\", \"other Ohio IRN\"]\n",
    "    assert(len(tree.vs[\"description\"]) == num_vertices)\n",
    "    tree.vs[\"count\"] = [0] * num_vertices\n",
    "    tree.vs[\"students\"] = [None] * num_vertices\n",
    "\n",
    "    # Map fine-grained bucket descriptions to rough outcome categories\n",
    "    outcome_buckets = {}\n",
    "    outcome_buckets[\"non-terminal\"] = [\"cohort total\", \"no graduation date\",\n",
    "        \"graduation date\", \"no withdrawal reason\", \"withdrawal reason\",\n",
    "        \"transferred\", \"withdrawn to IRN\"]\n",
    "    outcome_buckets[\"exclude\"] = [\"misc withdrawal\"]\n",
    "    outcome_buckets[\"dropout\"] = [\"dropout\", \"dropout recovery program\"]\n",
    "    outcome_buckets[\"uncertain\"] = [\"no withdrawal date\",\n",
    "        \"district withdrawal date\", \"no withdraw to IRN\", \"JVSD/career tech\",\n",
    "        \"other Ohio IRN\"]\n",
    "    outcome_buckets[\"late\"] = [\"5 year graduation\", \"more than 5 years\"]\n",
    "    outcome_buckets[\"on-time\"] = [\"4 year graduation\"]\n",
    "    # Reverse keys and values of outcome_buckets dict\n",
    "    outcome_buckets_flipped = dict((outcome,\n",
    "            [k for k,v in outcome_buckets.items() if outcome in v][0])\n",
    "            for outcome in tree.vs[\"description\"])\n",
    "    # Set tree vertex attributes for broad categories defined above\n",
    "    tree.vs[\"outcomes\"] = [outcome_buckets_flipped[bucket]\n",
    "            for bucket in tree.vs[\"description\"]]\n",
    "\n",
    "    ### putting some basic useful commands here temporarily for reference\n",
    "    print(tree) # 18 vertices, 17 edges, 4 vertex attributes, 0 edge attributes\n",
    "    return tree"
   ]
  },
  {
   "cell_type": "code",
   "execution_count": 28,
   "metadata": {
    "collapsed": true
   },
   "outputs": [],
   "source": [
    "def get_bucket_counts(cursor, tree, grade_begin, year_begin,\n",
    "        schema = 'clean', table = 'wrk_tracking_students'):\n",
    "    # Think about how to do these queries nested recursively\n",
    "    \n",
    "    # First query: total students in cohort\n",
    "    cohort_total_query = \"\"\"select distinct student_lookup from \n",
    "        {schema}.{table} where \"{year_begin}\" = '{grade_begin}'\n",
    "    \"\"\".format(schema=schema, table=table, year_begin=year_begin,\n",
    "        grade_begin=grade_begin)\n",
    "    update_tree_with_query(cursor, tree, cohort_total_query, \"cohort total\")\n",
    "    print(tree.vs[cohort_index].attributes())\n",
    "    \n",
    "    \n",
    "    return tree"
   ]
  },
  {
   "cell_type": "code",
   "execution_count": null,
   "metadata": {
    "collapsed": true
   },
   "outputs": [],
   "source": [
    "def update_tree_with_query(cursor, tree, query, desc_label):\n",
    "    cursor.execute(query)\n",
    "    student_list = cursor.fetchall()\n",
    "    vertex_list = tree.vs.select(description=desc_label)\n",
    "    vertex_index = [v.index for v in vertex_list][0]\n",
    "    tree.vs[vertex_index][\"students\"] = student_list\n",
    "    tree.vs[vertex_index][\"count\"] = len(student_list)\n",
    "    assert([v[\"count\"] for v in vertex_list][0] == len(student_list))\n",
    "    assert([v[\"students\"] for v in vertex_list][0] == student_list)"
   ]
  }
 ],
 "metadata": {
  "kernelspec": {
   "display_name": "Python 3",
   "language": "python",
   "name": "python3"
  },
  "language_info": {
   "codemirror_mode": {
    "name": "ipython",
    "version": 3
   },
   "file_extension": ".py",
   "mimetype": "text/x-python",
   "name": "python",
   "nbconvert_exporter": "python",
   "pygments_lexer": "ipython3",
   "version": "3.4.3"
  }
 },
 "nbformat": 4,
 "nbformat_minor": 0
}
