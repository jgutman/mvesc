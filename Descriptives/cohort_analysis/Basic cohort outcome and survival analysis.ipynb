{
 "cells": [
  {
   "cell_type": "markdown",
   "metadata": {
    "collapsed": true
   },
   "source": [
    "Where are we currently in the repository?"
   ]
  },
  {
   "cell_type": "code",
   "execution_count": 1,
   "metadata": {
    "collapsed": false
   },
   "outputs": [
    {
     "name": "stdout",
     "output_type": "stream",
     "text": [
      "/home/jgutman/mvesc/Descriptives/cohort_analysis\r\n"
     ]
    }
   ],
   "source": [
    "!pwd"
   ]
  },
  {
   "cell_type": "code",
   "execution_count": 2,
   "metadata": {
    "collapsed": false
   },
   "outputs": [
    {
     "name": "stdout",
     "output_type": "stream",
     "text": [
      "  clean_grades_and_attendance_tables\u001b[m\r\n",
      "  cohort_analysis\u001b[m\r\n",
      "* \u001b[32mcohort_tree_outcomes\u001b[m\r\n",
      "  consolidating_tables\u001b[m\r\n",
      "  import_text_files_issue1\u001b[m\r\n",
      "  master\u001b[m\r\n",
      "  track_students_descriptives\u001b[m\r\n"
     ]
    }
   ],
   "source": [
    "!git branch"
   ]
  },
  {
   "cell_type": "code",
   "execution_count": 3,
   "metadata": {
    "collapsed": false
   },
   "outputs": [
    {
     "name": "stdout",
     "output_type": "stream",
     "text": [
      "all_absences_generate_mm_day_wkd.sql  etl_test_write_ZZ.ipynb\r\n",
      "bucket_counts.sql\t\t      file_to_table_name.json\r\n",
      "building_cohort_analysis.sql\t      fill_missing_years.py\r\n",
      "build_student_tracking.py\t      module_dev_utility_functions.ipynb\r\n",
      "clean_absences.sql\t\t      mvesc_utility_functions.py\r\n",
      "clean_oaaogt_0616.sql\t\t      __pycache__\r\n",
      "csv2postgres_mvesc.py\t\t      snapshot_column_names.json\r\n",
      "ETL_test_and_dev_XC.ipynb\r\n"
     ]
    }
   ],
   "source": [
    "!ls /home/jgutman/mvesc/ETL"
   ]
  },
  {
   "cell_type": "code",
   "execution_count": 4,
   "metadata": {
    "collapsed": false
   },
   "outputs": [],
   "source": [
    "import os, sys, imp\n",
    "parentdir = os.path.abspath('/home/jgutman/mvesc/ETL')\n",
    "sys.path.insert(0,parentdir) "
   ]
  },
  {
   "cell_type": "code",
   "execution_count": 5,
   "metadata": {
    "collapsed": false
   },
   "outputs": [],
   "source": [
    "import build_student_tracking as track\n",
    "from mvesc_utility_functions import postgres_pgconnection_generator"
   ]
  },
  {
   "cell_type": "code",
   "execution_count": 6,
   "metadata": {
    "collapsed": false
   },
   "outputs": [
    {
     "data": {
      "text/plain": [
       "<module 'build_student_tracking' from '/home/jgutman/mvesc/ETL/build_student_tracking.py'>"
      ]
     },
     "execution_count": 6,
     "metadata": {},
     "output_type": "execute_result"
    }
   ],
   "source": [
    "imp.reload(track)"
   ]
  },
  {
   "cell_type": "code",
   "execution_count": 7,
   "metadata": {
    "collapsed": false
   },
   "outputs": [
    {
     "data": {
      "text/plain": [
       "'0.18.1'"
      ]
     },
     "execution_count": 7,
     "metadata": {},
     "output_type": "execute_result"
    }
   ],
   "source": [
    "import pandas as pd\n",
    "pd.__version__"
   ]
  },
  {
   "cell_type": "code",
   "execution_count": 8,
   "metadata": {
    "collapsed": true
   },
   "outputs": [],
   "source": [
    "import igraph\n",
    "from igraph import *\n",
    "import cairo\n",
    "from mvesc_utility_functions import postgres_pgconnection_generator"
   ]
  },
  {
   "cell_type": "code",
   "execution_count": 10,
   "metadata": {
    "collapsed": true
   },
   "outputs": [],
   "source": [
    "def build_empty_tree():\n",
    "    \"\"\"\n",
    "    Builds an empty tree obj for outcome classification. Vertices are named and\n",
    "    counts for each vertex are initialized at zero. Pass tree along with cursor\n",
    "    to get_bucket_counts method to fill in student counts at each vertex.\n",
    "\n",
    "    Tree contains 18 vertices and 17 edges\n",
    "    4 vertex attributes: description, count, outcome, and students\n",
    "    description: the fine-grained description of the bucket\n",
    "    outcome: the rough category of the bucket\n",
    "        (non-terminal, on-time, late, dropout, exclude, uncertain)\n",
    "    count: the number of students in each bucket\n",
    "    students: a list of student lookups in each bucket\n",
    "    \"\"\"\n",
    "\n",
    "    # Initialize tree structure\n",
    "    num_vertices = 18\n",
    "    tree = Graph()\n",
    "    tree.add_vertices(num_vertices)\n",
    "    tree.add_edges([(0,1), (0,2), (1,3), (1,4), (2,5), (2,6), (2,7),\n",
    "        (3,8), (3,9), (4,10), (4,11), (4,12), (11,13), (11,14),\n",
    "        (14,15), (14,16), (14,17)])\n",
    "    tree.vs[\"description\"] = [\"cohort total\", \"no graduation date\",\n",
    "        \"graduation date\", \"no withdrawal reason\", \"withdrawal reason\",\n",
    "        \"4 year graduation\", \"5 year graduation\", \"more than 5 years\",\n",
    "        \"no withdrawal date\", \"district withdrawal date\", \"misc withdrawal\",\n",
    "        \"transferred\", \"dropout\", \"no withdraw to IRN\", \"withdrawn to IRN\",\n",
    "        \"dropout recovery program\", \"JVSD/career tech\", \"other Ohio IRN\"]\n",
    "    assert(len(tree.vs[\"description\"]) == num_vertices)\n",
    "    tree.vs[\"count\"] = [0] * num_vertices\n",
    "    tree.vs[\"students\"] = [None] * num_vertices\n",
    "\n",
    "    # Map fine-grained bucket descriptions to rough outcome categories\n",
    "    outcome_buckets = {}\n",
    "    outcome_buckets[\"non-terminal\"] = [\"cohort total\", \"no graduation date\",\n",
    "        \"graduation date\", \"no withdrawal reason\", \"withdrawal reason\",\n",
    "        \"transferred\", \"withdrawn to IRN\"]\n",
    "    outcome_buckets[\"exclude\"] = [\"misc withdrawal\"]\n",
    "    outcome_buckets[\"dropout\"] = [\"dropout\", \"dropout recovery program\"]\n",
    "    outcome_buckets[\"uncertain\"] = [\"no withdrawal date\",\n",
    "        \"district withdrawal date\", \"no withdraw to IRN\", \"JVSD/career tech\",\n",
    "        \"other Ohio IRN\"]\n",
    "    outcome_buckets[\"late\"] = [\"5 year graduation\", \"more than 5 years\"]\n",
    "    outcome_buckets[\"on-time\"] = [\"4 year graduation\"]\n",
    "    # Reverse keys and values of outcome_buckets dict\n",
    "    outcome_buckets_flipped = dict((outcome,\n",
    "            [k for k,v in outcome_buckets.items() if outcome in v][0])\n",
    "            for outcome in tree.vs[\"description\"])\n",
    "    # Set tree vertex attributes for broad categories defined above\n",
    "    tree.vs[\"outcomes\"] = [outcome_buckets_flipped[bucket]\n",
    "            for bucket in tree.vs[\"description\"]]\n",
    "\n",
    "    print(tree) # 18 vertices, 17 edges, 4 vertex attributes, 0 edge attributes\n",
    "    return tree"
   ]
  },
  {
   "cell_type": "code",
   "execution_count": 15,
   "metadata": {
    "collapsed": true
   },
   "outputs": [],
   "source": [
    "def get_bucket_counts(cursor, tree, grade_begin, year_begin,\n",
    "        schema = 'clean', tracking = 'wrk_tracking_students', grads = 'all_graduates',\n",
    "        dropout_recovery_irns=\"IRN_DORP_GRAD_RATE1415\", jvsd_irns=\"JVSD_Contact\"):\n",
    "    # This function assumes wrk_tracking_students and all_graduates have been built correctly\n",
    "    # Make sure they are up to date with latest builds!\n",
    "    \n",
    "    # total students in cohort\n",
    "    cohort_total_query = \"\"\"select distinct student_lookup from \n",
    "        {schema}.{table} where \"{year_begin}\" = '{grade_begin}'\n",
    "    \"\"\".format(schema=schema, table=tracking, year_begin=year_begin, grade_begin=grade_begin)\n",
    "    update_tree_with_query(cursor, tree, cohort_total_query, \"cohort total\")\n",
    "    #print(cohort_total_query)\n",
    "    \n",
    "    # students without a graduation date in all_graduates table\n",
    "    not_graduated_total_query = \"\"\"{parent_query} and student_lookup not in \n",
    "        (select student_lookup from {schema}.{grads})\n",
    "    \"\"\".format(parent_query=cohort_total_query, schema=schema, grads=grads)\n",
    "    update_tree_with_query(cursor, tree, not_graduated_total_query, \"no graduation date\")\n",
    "    #print(not_graduated_total_query)\n",
    "    \n",
    "    # students with a graduation date in all_graduates table\n",
    "    graduated_total_query = \"\"\"{parent_query} and student_lookup in \n",
    "        (select student_lookup from {schema}.{grads})\n",
    "    \"\"\".format(parent_query=cohort_total_query, schema=schema, grads=grads)\n",
    "    update_tree_with_query(cursor, tree, graduated_total_query, \"graduation date\")\n",
    "    #print(graduated_total_query)\n",
    "    \n",
    "    # students without a withdrawal reason in tracking table\n",
    "    no_withdrawal_reason_query = \"\"\"{parent_query} and withdraw_reason is null\n",
    "    \"\"\".format(parent_query=not_graduated_total_query)\n",
    "    update_tree_with_query(cursor, tree, no_withdrawal_reason_query, \"no withdrawal reason\")\n",
    "    #print(no_withdrawal_reason_query)\n",
    "    \n",
    "    # students with withdrawal reason in tracking table\n",
    "    withdrawal_reason_query = \"\"\"{parent_query} and withdraw_reason is not null\n",
    "    \"\"\".format(parent_query=not_graduated_total_query)\n",
    "    update_tree_with_query(cursor, tree, withdrawal_reason_query, \"withdrawal reason\")\n",
    "    #print(withdrawal_reason_query)\n",
    "    \n",
    "    # get expected graduation date given current cohort grade level and year\n",
    "    try:\n",
    "        grade = int(grade_begin)\n",
    "    except ValueError:\n",
    "        print(\"Bad cohort grade level\")\n",
    "    assert(grade > 0 and grade <= 12), \"Bad cohort grade level\"\n",
    "    \n",
    "    years_to_graduate = 13-grade\n",
    "    expected_grad_year = year_begin + years_to_graduate\n",
    "    truncated_graduates_query = graduated_total_query.split(')')[0]\n",
    "    \n",
    "    # students with graduation within 4 years\n",
    "    grad_in_4years_query = \"\"\"{parent_query} where graduation_date <= '{year}-09-01')\n",
    "    \"\"\".format(parent_query=truncated_graduates_query, year=expected_grad_year)\n",
    "    update_tree_with_query(cursor, tree, grad_in_4years_query, \"4 year graduation\")\n",
    "    print(grad_in_4years_query)\n",
    "    \n",
    "    # students with graduation within 5 years\n",
    "    grad_in_5years_query = \"\"\"{parent_query} where graduation_date <= '{year_late}-09-01'\n",
    "        and graduation_date > '{year_ontime}-09-01')\n",
    "    \"\"\".format(parent_query=truncated_graduates_query, year_ontime = expected_grad_year,\n",
    "               year_late=expected_grad_year+1)\n",
    "    update_tree_with_query(cursor, tree, grad_in_5years_query, \"5 year graduation\")\n",
    "    #print(grad_in_5years_query)\n",
    "    \n",
    "    # students with graduation in more than 5 years\n",
    "    grad_in_gt5years_query = \"\"\"{parent_query} where graduation_date > '{year_late}-09-01')\n",
    "    \"\"\".format(parent_query=truncated_graduates_query, year_late=expected_grad_year+1)\n",
    "    update_tree_with_query(cursor, tree, grad_in_gt5years_query, \"more than 5 years\")\n",
    "    #print(grad_in_gt5years_query)\n",
    "    \n",
    "    # students without a withdrawal reason or withdrawal date in tracking table\n",
    "    no_withdrawal_date_query = \"\"\"{parent_query} and district_withdraw_date is null\n",
    "    \"\"\".format(parent_query=no_withdrawal_reason_query)\n",
    "    update_tree_with_query(cursor, tree, no_withdrawal_date_query, \"no withdrawal date\")\n",
    "    #print(no_withdrawal_date_query)\n",
    "    \n",
    "    # students without a withdrawal reason but have a withdrawal date in tracking table\n",
    "    has_withdrawal_date_query = \"\"\"{parent_query} and district_withdraw_date is not null\n",
    "    \"\"\".format(parent_query=no_withdrawal_reason_query)\n",
    "    update_tree_with_query(cursor, tree, has_withdrawal_date_query, \"district withdrawal date\")\n",
    "    #print(has_withdrawal_date_query)\n",
    "    \n",
    "    # students whose withdrawal reason is not dropout or transferred (starts with withdrew or expelled)\n",
    "    withdrawal_misc_reasons = \"\"\"{parent_query} and withdraw_reason not like 'transfer%'\n",
    "        and withdraw_reason not like 'dropout%' and withdraw_reason not like 'graduate%'\n",
    "    \"\"\".format(parent_query=withdrawal_reason_query)\n",
    "    update_tree_with_query(cursor, tree, withdrawal_misc_reasons, \"misc withdrawal\")\n",
    "    #print(withdrawal_misc_reasons)\n",
    "    \n",
    "    # students who transferred with or without IRN\n",
    "    transfer_any_query = \"\"\"{parent_query} and withdraw_reason like 'transfer%'\n",
    "    \"\"\".format(parent_query=withdrawal_reason_query)\n",
    "    update_tree_with_query(cursor, tree, transfer_any_query, \"transferred\")\n",
    "    #print(transfer_any_query)\n",
    "    \n",
    "    # students who dropped out\n",
    "    dropout_withdrawal_reason = \"\"\"{parent_query} and withdraw_reason like 'dropout%'\n",
    "    \"\"\".format(parent_query=withdrawal_reason_query)\n",
    "    update_tree_with_query(cursor, tree, dropout_withdrawal_reason, \"dropout\")\n",
    "    #print(dropout_withdrawal_reason)\n",
    "    \n",
    "    # students who transferred with withdrawn to IRN provided\n",
    "    transfer_hasIRN_query = \"\"\"{parent_query} and withdrawn_to_irn is not null\n",
    "    \"\"\".format(parent_query=transfer_any_query)\n",
    "    update_tree_with_query(cursor, tree, transfer_hasIRN_query, \"withdrawn to IRN\")\n",
    "    #print(transfer_hasIRN_query)\n",
    "    \n",
    "    # students who transferred with no withdrawn to IRN\n",
    "    # check that student doesn't have a withdrawn to IRN in any record of the tracking table\n",
    "    transfer_noIRN_query = \"\"\"{parent_query} and student_lookup not in \n",
    "        ({alternate_query})\n",
    "    \"\"\".format(parent_query=transfer_any_query, alternate_query=transfer_hasIRN_query)\n",
    "    update_tree_with_query(cursor, tree, transfer_noIRN_query, \"no withdraw to IRN\")\n",
    "    #print(transfer_noIRN_query)\n",
    "    \n",
    "    # students who transferred to a dropout recovery program\n",
    "    transfer_dropout_recovery = \"\"\"{parent_query} and withdrawn_to_irn::int in\n",
    "        (select distinct(district_irn) from public.\"{dropout_recovery}\")\n",
    "    \"\"\".format(parent_query=transfer_hasIRN_query, dropout_recovery=dropout_recovery_irns)\n",
    "    update_tree_with_query(cursor, tree, transfer_dropout_recovery, \"dropout recovery program\")\n",
    "    #print(transfer_dropout_recovery)\n",
    "    \n",
    "    # students who transferred to a JVSD\n",
    "    transfer_JVSD_query = \"\"\"{parent_query} and withdrawn_to_irn::int in\n",
    "        (select distinct(irn) from public.\"{jvsd}\")\n",
    "    \"\"\".format(parent_query=transfer_hasIRN_query, jvsd=jvsd_irns)\n",
    "    update_tree_with_query(cursor, tree, transfer_JVSD_query, \"JVSD/career tech\")\n",
    "    #print(transfer_JVSD_query)\n",
    "    \n",
    "    # students who transferred to any other IRN\n",
    "    transfer_hasIRN_other = \"\"\"{parent_query} and student_lookup not in\n",
    "        ({jvsd_query}) and student_lookup not in ({dropout_recovery_query})\n",
    "    \"\"\".format(parent_query=transfer_hasIRN_query, jvsd_query=transfer_JVSD_query, \n",
    "               dropout_recovery_query=transfer_dropout_recovery)\n",
    "    update_tree_with_query(cursor, tree, transfer_hasIRN_other, \"other Ohio IRN\")\n",
    "    #print(transfer_hasIRN_other)\n",
    "    \n",
    "    print(tree.vs[\"description\"])\n",
    "    print(tree.vs[\"count\"])\n",
    "    return tree"
   ]
  },
  {
   "cell_type": "code",
   "execution_count": 11,
   "metadata": {
    "collapsed": true
   },
   "outputs": [],
   "source": [
    "def update_tree_with_query(cursor, tree, query, desc_label):\n",
    "    \"\"\"\n",
    "    \"\"\"\n",
    "    cursor.execute(query)\n",
    "    student_list_results = cursor.fetchall() # a list of tuples of ints\n",
    "    student_list = [student[0] for student in student_list_results] # a list of ints\n",
    "    vertex_list = tree.vs.select(description=desc_label) # returns a vertex sequence\n",
    "    assert(len(vertex_list) == 1) # descriptions should be unique, outcomes are not\n",
    "    vertex_index = [v.index for v in vertex_list][0] # returns an int index of the vertex\n",
    "    tree.vs[vertex_index][\"students\"] = student_list\n",
    "    tree.vs[vertex_index][\"count\"] = len(student_list)\n",
    "    \n",
    "    # check that tree is updated, does not need to be returned (pass by reference)\n",
    "    assert([v[\"count\"] for v in vertex_list][0] == len(student_list_results))\n",
    "    assert([v[\"students\"] for v in vertex_list][0] == student_list)"
   ]
  },
  {
   "cell_type": "code",
   "execution_count": 12,
   "metadata": {
    "collapsed": true
   },
   "outputs": [],
   "source": [
    "def draw_tree_to_file(tree, filename=\"test_tree_plot.png\"):\n",
    "    \"\"\"\n",
    "    Draws a tree object to file in given filename.\n",
    "    Visual attributes and mappings of the tree are defined in this function.\n",
    "    Tree attributes should be fully defined before calling this function.\n",
    "    \"\"\"\n",
    "\n",
    "    tree_layout = tree.layout(\"tree\")\n",
    "    # set color mappings for each node in visualized tree graph\n",
    "    color_dict = {\"non-terminal\":\"black\", \"exclude\":\"yellow\", \"dropout\":\"red\",\n",
    "        \"uncertain\":\"green\", \"late\":\"blue\", \"on-time\":\"magenta\"}\n",
    "    visual_style = {}\n",
    "    visual_style[\"vertex_size\"] = 30\n",
    "    visual_style[\"vertex_color\"] = [color_dict[category]\n",
    "        for category in tree.vs[\"outcomes\"]]\n",
    "    visual_style[\"vertex_label\"] = [\"{desc}\\n{count}\".format(\n",
    "        desc=desc, count=count)\n",
    "        for desc,count in zip(tree.vs[\"description\"], tree.vs[\"count\"])]\n",
    "    visual_style[\"layout\"] = tree_layout\n",
    "    visual_style[\"vertex_label_dist\"] = 2\n",
    "    visual_style[\"bbox\"] = (800, 800) # size of plot in pixels\n",
    "    # margin needs to be big enough so text on the edges doesn't get cut off\n",
    "    visual_style[\"margin\"] = 60\n",
    "    visual_style[\"vertex_label_size\"] = 10 # font size\n",
    "    try:\n",
    "        plot(tree, filename, **visual_style)\n",
    "    except TypeError:\n",
    "        print(\"ignore TypeError - look for output file {name}\".format(filename))"
   ]
  },
  {
   "cell_type": "code",
   "execution_count": 29,
   "metadata": {
    "collapsed": true
   },
   "outputs": [],
   "source": [
    "def write_outcomes_to_database(cursor, tree, schema='clean', table='wrk_tracking_students'):\n",
    "    \"\"\"\n",
    "    \"\"\"\n",
    "    for vertex_index in range(len(tree.vs)):\n",
    "        outcome = tree.vs[vertex_index][\"outcomes\"]\n",
    "        if (outcome != \"non-terminal\"):\n",
    "            student_list = tree.vs[vertex_index][\"students\"]\n",
    "            \n",
    "            if (len(student_list) > 0):\n",
    "                student_list_formatted = \", \".join([str(student) for student in student_list])\n",
    "                bucket = tree.vs[vertex_index][\"description\"]\n",
    "\n",
    "                update_bucket_query = \"\"\"update {schema}.{table}\n",
    "                    set outcome_bucket='{bucket}' where student_lookup in ({students});\n",
    "                \"\"\".format(schema=schema, table=table, bucket=bucket, students=student_list_formatted)\n",
    "\n",
    "                update_outcome_query = \"\"\"update {schema}.{table}\n",
    "                    set outcome_category='{outcome}' where student_lookup in ({students});\n",
    "                \"\"\".format(schema=schema, table=table, outcome=outcome, students=student_list_formatted)\n",
    "\n",
    "                cursor.execute(update_bucket_query)\n",
    "                cursor.execute(update_outcome_query)"
   ]
  },
  {
   "cell_type": "code",
   "execution_count": 30,
   "metadata": {
    "collapsed": false
   },
   "outputs": [
    {
     "name": "stdout",
     "output_type": "stream",
     "text": [
      "IGRAPH U--- 18 17 --\n",
      "+ attr: count (v), description (v), outcomes (v), students (v)\n",
      "+ edges:\n",
      "0--1 0--2 1--3 1--4 2--5 2--6 2--7 3--8 3--9 4--10 4--11 4--12 11--13 11--14\n",
      "14--15 14--16 14--17\n",
      "select distinct student_lookup from \n",
      "        clean.wrk_tracking_students where \"2010\" = '09'\n",
      "     and student_lookup in \n",
      "        (select student_lookup from clean.all_graduates where graduation_date <= '2014-09-01')\n",
      "    \n",
      "['cohort total', 'no graduation date', 'graduation date', 'no withdrawal reason', 'withdrawal reason', '4 year graduation', '5 year graduation', 'more than 5 years', 'no withdrawal date', 'district withdrawal date', 'misc withdrawal', 'transferred', 'dropout', 'no withdraw to IRN', 'withdrawn to IRN', 'dropout recovery program', 'JVSD/career tech', 'other Ohio IRN']\n",
      "[1397, 353, 1044, 58, 295, 1026, 11, 7, 58, 0, 3, 267, 25, 223, 44, 0, 21, 23]\n"
     ]
    }
   ],
   "source": [
    "with postgres_pgconnection_generator() as connection:\n",
    "        with connection.cursor() as cursor:\n",
    "            cohort_tree = build_empty_tree()\n",
    "            cohort_tree = get_bucket_counts(\n",
    "                cursor, cohort_tree, grade_begin = '09', year_begin = 2010)\n",
    "            draw_tree_to_file(cohort_tree)\n",
    "            write_outcomes_to_database(cursor, cohort_tree)\n",
    "            \n",
    "        connection.commit()"
   ]
  },
  {
   "cell_type": "code",
   "execution_count": null,
   "metadata": {
    "collapsed": false
   },
   "outputs": [],
   "source": [
    "with postgres_pgconnection_generator() as connection:\n",
    "        with connection.cursor() as cursor:\n",
    "            # print(track.sql_gen_tracking_students(2006, 2015))\n",
    "            # print(track.cohort_survival_analysis(2006, 2015, '04'))\n",
    "            print(track.build_wide_format(cursor, '09', 2010))\n",
    "            get_graduates_query = \"\"\"\n",
    "        select student_lookup, graduation_date from \n",
    "            (select student_lookup, max(school_year) as school_year from clean.all_snapshots \n",
    "                where student_lookup in \n",
    "                    (select distinct student_lookup from clean.all_snapshots \n",
    "                        where graduation_date is not null) \n",
    "                and graduation_date is not null\n",
    "            group by student_lookup) as latest_grade_with_graduation\n",
    "        left join \n",
    "            (select student_lookup, school_year, graduation_date from clean.all_snapshots\n",
    "                where graduation_date is not null) as graduation_dates_valid\n",
    "        using (student_lookup, school_year)\n",
    "            \"\"\"\n",
    "            #cursor.execute(get_graduates_query)\n",
    "            #graduates = cursor.fetchall()\n",
    "            #print(len(graduates))\n",
    "        connection.commit()"
   ]
  },
  {
   "cell_type": "code",
   "execution_count": null,
   "metadata": {
    "collapsed": true
   },
   "outputs": [],
   "source": []
  }
 ],
 "metadata": {
  "kernelspec": {
   "display_name": "Python 3",
   "language": "python",
   "name": "python3"
  },
  "language_info": {
   "codemirror_mode": {
    "name": "ipython",
    "version": 3
   },
   "file_extension": ".py",
   "mimetype": "text/x-python",
   "name": "python",
   "nbconvert_exporter": "python",
   "pygments_lexer": "ipython3",
   "version": "3.4.3"
  }
 },
 "nbformat": 4,
 "nbformat_minor": 0
}
