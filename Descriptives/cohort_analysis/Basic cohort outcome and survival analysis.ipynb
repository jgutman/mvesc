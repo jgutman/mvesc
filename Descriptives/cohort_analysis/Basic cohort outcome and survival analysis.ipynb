{
 "cells": [
  {
   "cell_type": "code",
   "execution_count": null,
   "metadata": {
    "collapsed": true
   },
   "outputs": [],
   "source": [
    "Where are we currently in the repository?"
   ]
  },
  {
   "cell_type": "code",
   "execution_count": 1,
   "metadata": {
    "collapsed": false
   },
   "outputs": [
    {
     "name": "stdout",
     "output_type": "stream",
     "text": [
      "/home/jgutman/mvesc/Descriptives/cohort_analysis\r\n"
     ]
    }
   ],
   "source": [
    "!pwd"
   ]
  },
  {
   "cell_type": "code",
   "execution_count": 2,
   "metadata": {
    "collapsed": false
   },
   "outputs": [
    {
     "name": "stdout",
     "output_type": "stream",
     "text": [
      "  clean_grades_and_attendance_tables\u001b[m\r\n",
      "* \u001b[32mcohort_analysis\u001b[m\r\n",
      "  consolidating_tables\u001b[m\r\n",
      "  import_text_files_issue1\u001b[m\r\n",
      "  master\u001b[m\r\n",
      "  track_students_descriptives\u001b[m\r\n"
     ]
    }
   ],
   "source": [
    "!git branch"
   ]
  },
  {
   "cell_type": "code",
   "execution_count": 3,
   "metadata": {
    "collapsed": false
   },
   "outputs": [
    {
     "name": "stdout",
     "output_type": "stream",
     "text": [
      "all_absences_generate_mm_day_wkd.sql  etl_test_write_ZZ.ipynb\r\n",
      "building_cohort_analysis.sql\t      file_to_table_name.json\r\n",
      "build_student_tracking.py\t      fill_missing_years.py\r\n",
      "clean_absences.sql\t\t      module_dev_utility_functions.ipynb\r\n",
      "clean_oaaogt_0616.sql\t\t      mvesc_utility_functions.py\r\n",
      "csv2postgres_mvesc.py\t\t      __pycache__\r\n",
      "ETL_test_and_dev_XC.ipynb\t      snapshot_column_names.json\r\n"
     ]
    }
   ],
   "source": [
    "!ls /home/jgutman/mvesc/ETL"
   ]
  },
  {
   "cell_type": "code",
   "execution_count": 4,
   "metadata": {
    "collapsed": false
   },
   "outputs": [],
   "source": [
    "import os, sys, imp\n",
    "parentdir = os.path.abspath('/home/jgutman/mvesc/ETL')\n",
    "sys.path.insert(0,parentdir) "
   ]
  },
  {
   "cell_type": "code",
   "execution_count": 5,
   "metadata": {
    "collapsed": false
   },
   "outputs": [],
   "source": [
    "import build_student_tracking as track\n",
    "from mvesc_utility_functions import postgres_pgconnection_generator"
   ]
  },
  {
   "cell_type": "code",
   "execution_count": 11,
   "metadata": {
    "collapsed": false
   },
   "outputs": [
    {
     "data": {
      "text/plain": [
       "<module 'build_student_tracking' from '/home/jgutman/mvesc/ETL/build_student_tracking.py'>"
      ]
     },
     "execution_count": 11,
     "metadata": {},
     "output_type": "execute_result"
    }
   ],
   "source": [
    "imp.reload(track)"
   ]
  },
  {
   "cell_type": "code",
   "execution_count": 12,
   "metadata": {
    "collapsed": false
   },
   "outputs": [
    {
     "name": "stdout",
     "output_type": "stream",
     "text": [
      "['grade', 'school_year', 'count']\n",
      "[(9, 2010, 1397), (10, 2011, 1034), (11, 2012, 964), (12, 2013, 923)]\n",
      "9222\n"
     ]
    }
   ],
   "source": [
    "with postgres_pgconnection_generator() as connection:\n",
    "        with connection.cursor() as cursor:\n",
    "            # print(track.sql_gen_tracking_students(2006, 2015))\n",
    "            # print(track.cohort_survival_analysis(2006, 2015, '04'))\n",
    "            print(track.build_wide_format(cursor, '09', 2010))\n",
    "            get_graduates_query = \"\"\"\n",
    "        select student_lookup, graduation_date from \n",
    "            (select student_lookup, max(school_year) as school_year from clean.all_snapshots \n",
    "                where student_lookup in \n",
    "                    (select distinct student_lookup from clean.all_snapshots \n",
    "                        where graduation_date is not null) \n",
    "                and graduation_date is not null\n",
    "            group by student_lookup) as latest_grade_with_graduation\n",
    "        left join \n",
    "            (select student_lookup, school_year, graduation_date from clean.all_snapshots\n",
    "                where graduation_date is not null) as graduation_dates_valid\n",
    "        using (student_lookup, school_year)\n",
    "            \"\"\"\n",
    "            cursor.execute(get_graduates_query)\n",
    "            graduates = cursor.fetchall()\n",
    "            print(len(graduates))\n",
    "        connection.commit()"
   ]
  },
  {
   "cell_type": "code",
   "execution_count": 18,
   "metadata": {
    "collapsed": false
   },
   "outputs": [
    {
     "data": {
      "text/plain": [
       "'0.18.1'"
      ]
     },
     "execution_count": 18,
     "metadata": {},
     "output_type": "execute_result"
    }
   ],
   "source": [
    "import pandas as pd\n",
    "pd.__version__"
   ]
  },
  {
   "cell_type": "code",
   "execution_count": null,
   "metadata": {
    "collapsed": true
   },
   "outputs": [],
   "source": []
  },
  {
   "cell_type": "code",
   "execution_count": null,
   "metadata": {
    "collapsed": true
   },
   "outputs": [],
   "source": []
  }
 ],
 "metadata": {
  "kernelspec": {
   "display_name": "Python 3",
   "language": "python",
   "name": "python3"
  },
  "language_info": {
   "codemirror_mode": {
    "name": "ipython",
    "version": 3
   },
   "file_extension": ".py",
   "mimetype": "text/x-python",
   "name": "python",
   "nbconvert_exporter": "python",
   "pygments_lexer": "ipython3",
   "version": "3.4.3"
  }
 },
 "nbformat": 4,
 "nbformat_minor": 0
}
