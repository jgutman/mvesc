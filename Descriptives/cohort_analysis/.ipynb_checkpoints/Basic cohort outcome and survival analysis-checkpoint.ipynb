{
 "cells": [
  {
   "cell_type": "markdown",
   "metadata": {
    "collapsed": true
   },
   "source": [
    "Where are we currently in the repository?"
   ]
  },
  {
   "cell_type": "code",
   "execution_count": 1,
   "metadata": {
    "collapsed": false
   },
   "outputs": [
    {
     "name": "stdout",
     "output_type": "stream",
     "text": [
      "/home/jgutman/mvesc/Descriptives/cohort_analysis\r\n"
     ]
    }
   ],
   "source": [
    "!pwd"
   ]
  },
  {
   "cell_type": "code",
   "execution_count": 2,
   "metadata": {
    "collapsed": false
   },
   "outputs": [
    {
     "name": "stdout",
     "output_type": "stream",
     "text": [
      "  clean_grades_and_attendance_tables\u001b[m\r\n",
      "  cohort_analysis\u001b[m\r\n",
      "* \u001b[32mcohort_tree_outcomes\u001b[m\r\n",
      "  consolidating_tables\u001b[m\r\n",
      "  import_text_files_issue1\u001b[m\r\n",
      "  master\u001b[m\r\n",
      "  track_students_descriptives\u001b[m\r\n"
     ]
    }
   ],
   "source": [
    "!git branch"
   ]
  },
  {
   "cell_type": "code",
   "execution_count": 3,
   "metadata": {
    "collapsed": false
   },
   "outputs": [
    {
     "name": "stdout",
     "output_type": "stream",
     "text": [
      "all_absences_generate_mm_day_wkd.sql  etl_test_write_ZZ.ipynb\r\n",
      "bucket_counts.sql\t\t      file_to_table_name.json\r\n",
      "building_cohort_analysis.sql\t      fill_missing_years.py\r\n",
      "build_student_tracking.py\t      module_dev_utility_functions.ipynb\r\n",
      "clean_absences.sql\t\t      mvesc_utility_functions.py\r\n",
      "clean_oaaogt_0616.sql\t\t      __pycache__\r\n",
      "csv2postgres_mvesc.py\t\t      snapshot_column_names.json\r\n",
      "ETL_test_and_dev_XC.ipynb\r\n"
     ]
    }
   ],
   "source": [
    "!ls /home/jgutman/mvesc/ETL"
   ]
  },
  {
   "cell_type": "code",
   "execution_count": 4,
   "metadata": {
    "collapsed": false
   },
   "outputs": [],
   "source": [
    "import os, sys, imp\n",
    "parentdir = os.path.abspath('/home/jgutman/mvesc/ETL')\n",
    "sys.path.insert(0,parentdir) "
   ]
  },
  {
   "cell_type": "code",
   "execution_count": 5,
   "metadata": {
    "collapsed": false
   },
   "outputs": [],
   "source": [
    "import build_student_tracking as track\n",
    "from mvesc_utility_functions import postgres_pgconnection_generator"
   ]
  },
  {
   "cell_type": "code",
   "execution_count": 6,
   "metadata": {
    "collapsed": false
   },
   "outputs": [
    {
     "data": {
      "text/plain": [
       "<module 'build_student_tracking' from '/home/jgutman/mvesc/ETL/build_student_tracking.py'>"
      ]
     },
     "execution_count": 6,
     "metadata": {},
     "output_type": "execute_result"
    }
   ],
   "source": [
    "imp.reload(track)"
   ]
  },
  {
   "cell_type": "code",
   "execution_count": 7,
   "metadata": {
    "collapsed": false
   },
   "outputs": [
    {
     "data": {
      "text/plain": [
       "'0.18.1'"
      ]
     },
     "execution_count": 7,
     "metadata": {},
     "output_type": "execute_result"
    }
   ],
   "source": [
    "import pandas as pd\n",
    "pd.__version__"
   ]
  },
  {
   "cell_type": "code",
   "execution_count": 8,
   "metadata": {
    "collapsed": true
   },
   "outputs": [],
   "source": [
    "import igraph\n",
    "from igraph import *\n",
    "import cairo\n",
    "from mvesc_utility_functions import postgres_pgconnection_generator"
   ]
  },
  {
   "cell_type": "code",
   "execution_count": 10,
   "metadata": {
    "collapsed": true
   },
   "outputs": [],
   "source": [
    "def build_empty_tree():\n",
    "    \"\"\"\n",
    "    Builds an empty tree obj for outcome classification. Vertices are named and\n",
    "    counts for each vertex are initialized at zero. Pass tree along with cursor\n",
    "    to get_bucket_counts method to fill in student counts at each vertex.\n",
    "\n",
    "    Tree contains 18 vertices and 17 edges\n",
    "    4 vertex attributes: description, count, outcome, and students\n",
    "    description: the fine-grained description of the bucket\n",
    "    outcome: the rough category of the bucket\n",
    "        (non-terminal, on-time, late, dropout, exclude, uncertain)\n",
    "    count: the number of students in each bucket\n",
    "    students: a list of student lookups in each bucket\n",
    "    \"\"\"\n",
    "\n",
    "    # Initialize tree structure\n",
    "    num_vertices = 18\n",
    "    tree = Graph()\n",
    "    tree.add_vertices(num_vertices)\n",
    "    tree.add_edges([(0,1), (0,2), (1,3), (1,4), (2,5), (2,6), (2,7),\n",
    "        (3,8), (3,9), (4,10), (4,11), (4,12), (11,13), (11,14),\n",
    "        (14,15), (14,16), (14,17)])\n",
    "    tree.vs[\"description\"] = [\"cohort total\", \"no graduation date\",\n",
    "        \"graduation date\", \"no withdrawal reason\", \"withdrawal reason\",\n",
    "        \"4 year graduation\", \"5 year graduation\", \"more than 5 years\",\n",
    "        \"no withdrawal date\", \"district withdrawal date\", \"misc withdrawal\",\n",
    "        \"transferred\", \"dropout\", \"no withdraw to IRN\", \"withdrawn to IRN\",\n",
    "        \"dropout recovery program\", \"JVSD/career tech\", \"other Ohio IRN\"]\n",
    "    assert(len(tree.vs[\"description\"]) == num_vertices)\n",
    "    tree.vs[\"count\"] = [0] * num_vertices\n",
    "    tree.vs[\"students\"] = [None] * num_vertices\n",
    "\n",
    "    # Map fine-grained bucket descriptions to rough outcome categories\n",
    "    outcome_buckets = {}\n",
    "    outcome_buckets[\"non-terminal\"] = [\"cohort total\", \"no graduation date\",\n",
    "        \"graduation date\", \"no withdrawal reason\", \"withdrawal reason\",\n",
    "        \"transferred\", \"withdrawn to IRN\"]\n",
    "    outcome_buckets[\"exclude\"] = [\"misc withdrawal\"]\n",
    "    outcome_buckets[\"dropout\"] = [\"dropout\", \"dropout recovery program\"]\n",
    "    outcome_buckets[\"uncertain\"] = [\"no withdrawal date\",\n",
    "        \"district withdrawal date\", \"no withdraw to IRN\", \"JVSD/career tech\",\n",
    "        \"other Ohio IRN\"]\n",
    "    outcome_buckets[\"late\"] = [\"5 year graduation\", \"more than 5 years\"]\n",
    "    outcome_buckets[\"on-time\"] = [\"4 year graduation\"]\n",
    "    # Reverse keys and values of outcome_buckets dict\n",
    "    outcome_buckets_flipped = dict((outcome,\n",
    "            [k for k,v in outcome_buckets.items() if outcome in v][0])\n",
    "            for outcome in tree.vs[\"description\"])\n",
    "    # Set tree vertex attributes for broad categories defined above\n",
    "    tree.vs[\"outcomes\"] = [outcome_buckets_flipped[bucket]\n",
    "            for bucket in tree.vs[\"description\"]]\n",
    "\n",
    "    print(tree) # 18 vertices, 17 edges, 4 vertex attributes, 0 edge attributes\n",
    "    return tree"
   ]
  },
  {
   "cell_type": "code",
   "execution_count": 15,
   "metadata": {
    "collapsed": true
   },
   "outputs": [],
   "source": [
    "def get_bucket_counts(cursor, tree, grade_begin, year_begin,\n",
    "        schema = 'clean', tracking = 'wrk_tracking_students', grads = 'all_graduates',\n",
    "        dropout_recovery_irns=\"IRN_DORP_GRAD_RATE1415\", jvsd_irns=\"JVSD_Contact\"):\n",
    "    # This function assumes wrk_tracking_students and all_graduates have been built correctly\n",
    "    # Make sure they are up to date with latest builds!\n",
    "    \n",
    "    # total students in cohort\n",
    "    cohort_total_query = \"\"\"select distinct student_lookup from \n",
    "        {schema}.{table} where \"{year_begin}\" = '{grade_begin}'\n",
    "    \"\"\".format(schema=schema, table=tracking, year_begin=year_begin, grade_begin=grade_begin)\n",
    "    update_tree_with_query(cursor, tree, cohort_total_query, \"cohort total\")\n",
    "    #print(cohort_total_query)\n",
    "    \n",
    "    # students without a graduation date in all_graduates table\n",
    "    not_graduated_total_query = \"\"\"{parent_query} and student_lookup not in \n",
    "        (select student_lookup from {schema}.{grads})\n",
    "    \"\"\".format(parent_query=cohort_total_query, schema=schema, grads=grads)\n",
    "    update_tree_with_query(cursor, tree, not_graduated_total_query, \"no graduation date\")\n",
    "    #print(not_graduated_total_query)\n",
    "    \n",
    "    # students with a graduation date in all_graduates table\n",
    "    graduated_total_query = \"\"\"{parent_query} and student_lookup in \n",
    "        (select student_lookup from {schema}.{grads})\n",
    "    \"\"\".format(parent_query=cohort_total_query, schema=schema, grads=grads)\n",
    "    update_tree_with_query(cursor, tree, graduated_total_query, \"graduation date\")\n",
    "    #print(graduated_total_query)\n",
    "    \n",
    "    # students without a withdrawal reason in tracking table\n",
    "    no_withdrawal_reason_query = \"\"\"{parent_query} and withdraw_reason is null\n",
    "    \"\"\".format(parent_query=not_graduated_total_query)\n",
    "    update_tree_with_query(cursor, tree, no_withdrawal_reason_query, \"no withdrawal reason\")\n",
    "    #print(no_withdrawal_reason_query)\n",
    "    \n",
    "    # students with withdrawal reason in tracking table\n",
    "    withdrawal_reason_query = \"\"\"{parent_query} and withdraw_reason is not null\n",
    "    \"\"\".format(parent_query=not_graduated_total_query)\n",
    "    update_tree_with_query(cursor, tree, withdrawal_reason_query, \"withdrawal reason\")\n",
    "    #print(withdrawal_reason_query)\n",
    "    \n",
    "    # get expected graduation date given current cohort grade level and year\n",
    "    try:\n",
    "        grade = int(grade_begin)\n",
    "    except ValueError:\n",
    "        print(\"Bad cohort grade level\")\n",
    "    assert(grade > 0 and grade <= 12), \"Bad cohort grade level\"\n",
    "    \n",
    "    years_to_graduate = 13-grade\n",
    "    expected_grad_year = year_begin + years_to_graduate\n",
    "    truncated_graduates_query = graduated_total_query.split(')')[0]\n",
    "    \n",
    "    # students with graduation within 4 years\n",
    "    grad_in_4years_query = \"\"\"{parent_query} where graduation_date <= '{year}-09-01')\n",
    "    \"\"\".format(parent_query=truncated_graduates_query, year=expected_grad_year)\n",
    "    update_tree_with_query(cursor, tree, grad_in_4years_query, \"4 year graduation\")\n",
    "    print(grad_in_4years_query)\n",
    "    \n",
    "    # students with graduation within 5 years\n",
    "    grad_in_5years_query = \"\"\"{parent_query} where graduation_date <= '{year_late}-09-01'\n",
    "        and graduation_date > '{year_ontime}-09-01')\n",
    "    \"\"\".format(parent_query=truncated_graduates_query, year_ontime = expected_grad_year,\n",
    "               year_late=expected_grad_year+1)\n",
    "    update_tree_with_query(cursor, tree, grad_in_5years_query, \"5 year graduation\")\n",
    "    #print(grad_in_5years_query)\n",
    "    \n",
    "    # students with graduation in more than 5 years\n",
    "    grad_in_gt5years_query = \"\"\"{parent_query} where graduation_date > '{year_late}-09-01')\n",
    "    \"\"\".format(parent_query=truncated_graduates_query, year_late=expected_grad_year+1)\n",
    "    update_tree_with_query(cursor, tree, grad_in_gt5years_query, \"more than 5 years\")\n",
    "    #print(grad_in_gt5years_query)\n",
    "    \n",
    "    # students without a withdrawal reason or withdrawal date in tracking table\n",
    "    no_withdrawal_date_query = \"\"\"{parent_query} and district_withdraw_date is null\n",
    "    \"\"\".format(parent_query=no_withdrawal_reason_query)\n",
    "    update_tree_with_query(cursor, tree, no_withdrawal_date_query, \"no withdrawal date\")\n",
    "    #print(no_withdrawal_date_query)\n",
    "    \n",
    "    # students without a withdrawal reason but have a withdrawal date in tracking table\n",
    "    has_withdrawal_date_query = \"\"\"{parent_query} and district_withdraw_date is not null\n",
    "    \"\"\".format(parent_query=no_withdrawal_reason_query)\n",
    "    update_tree_with_query(cursor, tree, has_withdrawal_date_query, \"district withdrawal date\")\n",
    "    #print(has_withdrawal_date_query)\n",
    "    \n",
    "    # students whose withdrawal reason is not dropout or transferred (starts with withdrew or expelled)\n",
    "    withdrawal_misc_reasons = \"\"\"{parent_query} and withdraw_reason not like 'transfer%'\n",
    "        and withdraw_reason not like 'dropout%' and withdraw_reason not like 'graduate%'\n",
    "    \"\"\".format(parent_query=withdrawal_reason_query)\n",
    "    update_tree_with_query(cursor, tree, withdrawal_misc_reasons, \"misc withdrawal\")\n",
    "    #print(withdrawal_misc_reasons)\n",
    "    \n",
    "    # students who transferred with or without IRN\n",
    "    transfer_any_query = \"\"\"{parent_query} and withdraw_reason like 'transfer%'\n",
    "    \"\"\".format(parent_query=withdrawal_reason_query)\n",
    "    update_tree_with_query(cursor, tree, transfer_any_query, \"transferred\")\n",
    "    #print(transfer_any_query)\n",
    "    \n",
    "    # students who dropped out\n",
    "    dropout_withdrawal_reason = \"\"\"{parent_query} and withdraw_reason like 'dropout%'\n",
    "    \"\"\".format(parent_query=withdrawal_reason_query)\n",
    "    update_tree_with_query(cursor, tree, dropout_withdrawal_reason, \"dropout\")\n",
    "    #print(dropout_withdrawal_reason)\n",
    "    \n",
    "    # students who transferred with withdrawn to IRN provided\n",
    "    transfer_hasIRN_query = \"\"\"{parent_query} and withdrawn_to_irn is not null\n",
    "    \"\"\".format(parent_query=transfer_any_query)\n",
    "    update_tree_with_query(cursor, tree, transfer_hasIRN_query, \"withdrawn to IRN\")\n",
    "    #print(transfer_hasIRN_query)\n",
    "    \n",
    "    # students who transferred with no withdrawn to IRN\n",
    "    # check that student doesn't have a withdrawn to IRN in any record of the tracking table\n",
    "    transfer_noIRN_query = \"\"\"{parent_query} and student_lookup not in \n",
    "        ({alternate_query})\n",
    "    \"\"\".format(parent_query=transfer_any_query, alternate_query=transfer_hasIRN_query)\n",
    "    update_tree_with_query(cursor, tree, transfer_noIRN_query, \"no withdraw to IRN\")\n",
    "    #print(transfer_noIRN_query)\n",
    "    \n",
    "    # students who transferred to a dropout recovery program\n",
    "    transfer_dropout_recovery = \"\"\"{parent_query} and withdrawn_to_irn::int in\n",
    "        (select distinct(district_irn) from public.\"{dropout_recovery}\")\n",
    "    \"\"\".format(parent_query=transfer_hasIRN_query, dropout_recovery=dropout_recovery_irns)\n",
    "    update_tree_with_query(cursor, tree, transfer_dropout_recovery, \"dropout recovery program\")\n",
    "    #print(transfer_dropout_recovery)\n",
    "    \n",
    "    # students who transferred to a JVSD\n",
    "    transfer_JVSD_query = \"\"\"{parent_query} and withdrawn_to_irn::int in\n",
    "        (select distinct(irn) from public.\"{jvsd}\")\n",
    "    \"\"\".format(parent_query=transfer_hasIRN_query, jvsd=jvsd_irns)\n",
    "    update_tree_with_query(cursor, tree, transfer_JVSD_query, \"JVSD/career tech\")\n",
    "    #print(transfer_JVSD_query)\n",
    "    \n",
    "    # students who transferred to any other IRN\n",
    "    transfer_hasIRN_other = \"\"\"{parent_query} and student_lookup not in\n",
    "        ({jvsd_query}) and student_lookup not in ({dropout_recovery_query})\n",
    "    \"\"\".format(parent_query=transfer_hasIRN_query, jvsd_query=transfer_JVSD_query, \n",
    "               dropout_recovery_query=transfer_dropout_recovery)\n",
    "    update_tree_with_query(cursor, tree, transfer_hasIRN_other, \"other Ohio IRN\")\n",
    "    #print(transfer_hasIRN_other)\n",
    "    \n",
    "    print(tree.vs[\"description\"])\n",
    "    print(tree.vs[\"count\"])\n",
    "    return tree"
   ]
  },
  {
   "cell_type": "code",
   "execution_count": 11,
   "metadata": {
    "collapsed": true
   },
   "outputs": [],
   "source": [
    "def update_tree_with_query(cursor, tree, query, desc_label):\n",
    "    \"\"\"\n",
    "    \"\"\"\n",
    "    cursor.execute(query)\n",
    "    student_list_results = cursor.fetchall() # a list of tuples of ints\n",
    "    student_list = [student[0] for student in student_list_results] # a list of ints\n",
    "    vertex_list = tree.vs.select(description=desc_label) # returns a vertex sequence\n",
    "    assert(len(vertex_list) == 1) # descriptions should be unique, outcomes are not\n",
    "    vertex_index = [v.index for v in vertex_list][0] # returns an int index of the vertex\n",
    "    tree.vs[vertex_index][\"students\"] = student_list\n",
    "    tree.vs[vertex_index][\"count\"] = len(student_list)\n",
    "    \n",
    "    # check that tree is updated, does not need to be returned (pass by reference)\n",
    "    assert([v[\"count\"] for v in vertex_list][0] == len(student_list_results))\n",
    "    assert([v[\"students\"] for v in vertex_list][0] == student_list)"
   ]
  },
  {
   "cell_type": "code",
   "execution_count": 12,
   "metadata": {
    "collapsed": true
   },
   "outputs": [],
   "source": [
    "def draw_tree_to_file(tree, filename=\"test_tree_plot.png\"):\n",
    "    \"\"\"\n",
    "    Draws a tree object to file in given filename.\n",
    "    Visual attributes and mappings of the tree are defined in this function.\n",
    "    Tree attributes should be fully defined before calling this function.\n",
    "    \"\"\"\n",
    "\n",
    "    tree_layout = tree.layout(\"tree\")\n",
    "    # set color mappings for each node in visualized tree graph\n",
    "    color_dict = {\"non-terminal\":\"black\", \"exclude\":\"yellow\", \"dropout\":\"red\",\n",
    "        \"uncertain\":\"green\", \"late\":\"blue\", \"on-time\":\"magenta\"}\n",
    "    visual_style = {}\n",
    "    visual_style[\"vertex_size\"] = 30\n",
    "    visual_style[\"vertex_color\"] = [color_dict[category]\n",
    "        for category in tree.vs[\"outcomes\"]]\n",
    "    visual_style[\"vertex_label\"] = [\"{desc}\\n{count}\".format(\n",
    "        desc=desc, count=count)\n",
    "        for desc,count in zip(tree.vs[\"description\"], tree.vs[\"count\"])]\n",
    "    visual_style[\"layout\"] = tree_layout\n",
    "    visual_style[\"vertex_label_dist\"] = 2\n",
    "    visual_style[\"bbox\"] = (800, 800) # size of plot in pixels\n",
    "    # margin needs to be big enough so text on the edges doesn't get cut off\n",
    "    visual_style[\"margin\"] = 60\n",
    "    visual_style[\"vertex_label_size\"] = 10 # font size\n",
    "    try:\n",
    "        plot(tree, filename, **visual_style)\n",
    "    except TypeError:\n",
    "        print(\"ignore TypeError - look for output file {name}\".format(filename))"
   ]
  },
  {
   "cell_type": "code",
   "execution_count": 25,
   "metadata": {
    "collapsed": true
   },
   "outputs": [],
   "source": [
    "def write_outcomes_to_database(cursor, tree, schema='clean', table='wrk_tracking_students'):\n",
    "    \"\"\"\n",
    "    \"\"\"\n",
    "    for vertex_index in range(len(tree.vs)):\n",
    "        outcome = tree.vs[vertex_index][\"outcomes\"]\n",
    "        if (outcome != \"non-terminal\"):\n",
    "            student_list = tree.vs[vertex_index][\"students\"]\n",
    "            student_list_formatted = \", \".join([str(student) for student in student_list])\n",
    "            bucket = tree.vs[vertex_index][\"description\"]\n",
    "        \n",
    "            update_bucket_query = \"\"\"update {schema}.{table}\n",
    "                set outcome_bucket='{bucket}' where student_lookup in ({students});\n",
    "            \"\"\".format(schema=schema, table=table, bucket=bucket, students=student_list_formatted)\n",
    "        \n",
    "            update_outcome_query = \"\"\"update {schema}.{table}\n",
    "                set outcome_category='{outcome}' where student_lookup in ({students});\n",
    "            \"\"\".format(schema=schema, table=table, outcome=outcome, students=student_list_formatted)\n",
    "        \n",
    "            cursor.execute(update_bucket_query)\n",
    "            cursor.execute(update_outcome_query)"
   ]
  },
  {
   "cell_type": "code",
   "execution_count": 18,
   "metadata": {
    "collapsed": false
   },
   "outputs": [
    {
     "name": "stdout",
     "output_type": "stream",
     "text": [
      "1 3\n"
     ]
    }
   ],
   "source": [
    "print(1, 3)"
   ]
  },
  {
   "cell_type": "code",
   "execution_count": 26,
   "metadata": {
    "collapsed": false
   },
   "outputs": [
    {
     "name": "stdout",
     "output_type": "stream",
     "text": [
      "IGRAPH U--- 18 17 --\n",
      "+ attr: count (v), description (v), outcomes (v), students (v)\n",
      "+ edges:\n",
      "0--1 0--2 1--3 1--4 2--5 2--6 2--7 3--8 3--9 4--10 4--11 4--12 11--13 11--14\n",
      "14--15 14--16 14--17\n",
      "select distinct student_lookup from \n",
      "        clean.wrk_tracking_students where \"2010\" = '09'\n",
      "     and student_lookup in \n",
      "        (select student_lookup from clean.all_graduates where graduation_date <= '2014-09-01')\n",
      "    \n",
      "['cohort total', 'no graduation date', 'graduation date', 'no withdrawal reason', 'withdrawal reason', '4 year graduation', '5 year graduation', 'more than 5 years', 'no withdrawal date', 'district withdrawal date', 'misc withdrawal', 'transferred', 'dropout', 'no withdraw to IRN', 'withdrawn to IRN', 'dropout recovery program', 'JVSD/career tech', 'other Ohio IRN']\n",
      "[1397, 353, 1044, 58, 295, 1026, 11, 7, 58, 0, 3, 267, 25, 223, 44, 0, 21, 23]\n",
      "update clean.wrk_tracking_students\n",
      "                set outcome_bucket='4 year graduation' where student_lookup in (39930, 34562, 34564, 37270, 35728, 36415, 34969, 34600, 36138, 37714, 34584, 35410, 37194, 34376, 35999, 36156, 42063, 34608, 34425, 39917, 34529, 38278, 42084, 35056, 37623, 38560, 40731, 41515, 36216, 36434, 42096, 34598, 34981, 35967, 39292, 42073, 36083, 38481, 34812, 35413, 36149, 40206, 38513, 35699, 38586, 40666, 41448, 37564, 34842, 41251, 34977, 38566, 36219, 39602, 41429, 35742, 38607, 35043, 36983, 37232, 40758, 34971, 36480, 39297, 36408, 37668, 36429, 36992, 38520, 38522, 40189, 35054, 34582, 34985, 38517, 35981, 41392, 34784, 39052, 40233, 36151, 37190, 34888, 36389, 38580, 40203, 35752, 37159, 38490, 42029, 37294, 39313, 34846, 34992, 36995, 34572, 34561, 36409, 37482, 36988, 38484, 36999, 39951, 34468, 40784, 38414, 41383, 36400, 35406, 38433, 39363, 41493, 36130, 36217, 37216, 37275, 35952, 35975, 38499, 39612, 40679, 41528, 35066, 36187, 36986, 38628, 41336, 35705, 41978, 34967, 35731, 35969, 36387, 34560, 36153, 40808, 34536, 36424, 37518, 37718, 39726, 42069, 36392, 35010, 39905, 34740, 39234, 39289, 39604, 34541, 36416, 37149, 37661, 36167, 36220, 36454, 34676, 34596, 40267, 41416, 35700, 42077, 34780, 38571, 34998, 42065, 35992, 36206, 37163, 37629, 40209, 36344, 37479, 34405, 34524, 34587, 35050, 38307, 35692, 41078, 35717, 40768, 35063, 35118, 36438, 39904, 35738, 34542, 38311, 38496, 34379, 41495, 40220, 41414, 34979, 40258, 35047, 39721, 37502, 34945, 35970, 34995, 37233, 41451, 37682, 38576, 36085, 38485, 38275, 35055, 37500, 38446, 34428, 35946, 36550, 36422, 37692, 36412, 40695, 36081, 34805, 34993, 34580, 36402, 34983, 36443, 40692, 34976, 34370, 35040, 35048, 35716, 35910, 35983, 37727, 40185, 34534, 34745, 38559, 34581, 41263, 35914, 37524, 38514, 34577, 39698, 34413, 37175, 34557, 41452, 34527, 35994, 34575, 36533, 38487, 41375, 34565, 41410, 34539, 34570, 36141, 40259, 40765, 34860, 35904, 35097, 38505, 35997, 38424, 34960, 49426, 34826, 41079, 36351, 38415, 36086, 34804, 41523, 36526, 37157, 34525, 40136, 35739, 34997, 35062, 38498, 36417, 37271, 34685, 36338, 36395, 35013, 38449, 37244, 34765, 35407, 35736, 35747, 38506, 34563, 38443, 34604, 35049, 39588, 39913, 36425, 35059, 41218, 36428, 35722, 37490, 34875, 37562, 35745, 36223, 35726, 38486, 41520, 35980, 36004, 38256, 34990, 36147, 36450, 37630, 41497, 41252, 34683, 35181, 40234, 34786, 37555, 41267, 35912, 42095, 38510, 36129, 34849, 36136, 41312, 36998, 40667, 34538, 36455, 36146, 39724, 37639, 40140, 42059, 34723, 42068, 34593, 35014, 35733, 36332, 38489, 38508, 36403, 34381, 35409, 37472, 34569, 41460, 35724, 36144, 35701, 39362, 34579, 34777, 37605, 36108, 39267, 34868, 40661, 37715, 34974, 34712, 36399, 42098, 40180, 41084, 38582, 34383, 41783, 38555, 39919, 41057, 40154, 37150, 38572, 34578, 37297, 41802, 35061, 36456, 39232, 41785, 35444, 38417, 36111, 37742, 41529, 42054, 34975, 39739, 34566, 34412, 37544, 38454, 36431, 38516, 35045, 35735, 41361, 35447, 35751, 34783, 40273, 41519, 42087, 38438, 37607, 38501, 41418, 36371, 37503, 38525, 34535, 34585, 37191, 38439, 34602, 34987, 36485, 36981, 36003, 35706, 35956, 38600, 35998, 38282, 39912, 35723, 35935, 37229, 35044, 39299, 35067, 38987, 42094, 41436, 36391, 34546, 36369, 38509, 41087, 34771, 34844, 36993, 37655, 39710, 41320, 37249, 38526, 36528, 34594, 35008, 40680, 36331, 42067, 41533, 38511, 37517, 42053, 38491, 34973, 41790, 34583, 35947, 34375, 35714, 35741, 34823, 36171, 36923, 36396, 38493, 41348, 41535, 36355, 37666, 41055, 34590, 34573, 40788, 37486, 34537, 34697, 34810, 36377, 34606, 36486, 36097, 35068, 34543, 36135, 36186, 36406, 37177, 39941, 38405, 35057, 41374, 35477, 35121, 40214, 38470, 40183, 36419, 38274, 40262, 39319, 40807, 34531, 37571, 34592, 37207, 39364, 37679, 34576, 36176, 37541, 35974, 39723, 34547, 35709, 34751, 40663, 42066, 36103, 34558, 35184, 34673, 36390, 35704, 37209, 36404, 34522, 37723, 40698, 34757, 37594, 35973, 40705, 35773, 34991, 36133, 36471, 34630, 34555, 49800, 34544, 34549, 37474, 34841, 40662, 37180, 38503, 36364, 36451, 39958, 40665, 42090, 40714, 35749, 36116, 35404, 35730, 34601, 37296, 38407, 41053, 36131, 38422, 41398, 35991, 36411, 36982, 36418, 41083, 35972, 42086, 34752, 39355, 34988, 35909, 40757, 41805, 42081, 38507, 38500, 37531, 37193, 39231, 41432, 34528, 34559, 38432, 35957, 39921, 34715, 36542, 41081, 37174, 38421, 38521, 34423, 34556, 36120, 40783, 39253, 41788, 36124, 36142, 34419, 42060, 35753, 36440, 36996, 37581, 42092, 36426, 40162, 39918, 34595, 34886, 42075, 34520, 35743, 40715, 34788, 40270, 41054, 41979, 36401, 37173, 36435, 38445, 38408, 37704, 40686, 41459, 34586, 35696, 38239, 41386, 34861, 36148, 34550, 36433, 36984, 37160, 36994, 35713, 35748, 34567, 35746, 35927, 35448, 40681, 36126, 42085, 38495, 40678, 41534, 38502, 34825, 40796, 40217, 35021, 41453, 34470, 36410, 37277, 37700, 42074, 40684, 38578, 35011, 34574, 41409, 42064, 34431, 37498, 38518, 36405, 42080, 35951, 37208, 36549, 38425, 36989, 37578, 41473, 41521, 36339, 37292, 35141, 36394, 34764, 36112, 36155, 38428, 35734, 35750, 41407, 36204, 41047, 41343, 42093, 35905, 41494, 39677, 34377, 38420, 34727, 42070, 35732, 35986, 37242, 40221, 34430, 37698, 40668, 35354, 36209, 38524, 36212, 39954, 36479, 40761, 40664, 41340, 40760, 37695, 38494, 42076, 35403, 38531, 34978, 34986, 37652, 38608, 39929, 35060, 35009, 40153, 36140, 40735, 41082, 39916, 39314, 35737, 35178, 36520, 39230, 41503, 37176, 39255, 41477, 35058, 42062, 39712, 40271, 36134, 34802, 40740, 39675, 34540, 35958, 36421, 42061, 36548, 34571, 35046, 37708, 38412, 36087, 41538, 37261, 41502, 36127, 38349, 38442, 37245, 38264, 37192, 39263, 35720, 34380, 35412, 35725, 37293, 34591, 37732, 34552, 36407, 37642, 38515, 34521, 35896, 37161, 38504, 40138, 40226, 34895, 35004, 36490, 35457, 35002, 35405, 35744, 38350, 40145, 35719, 35179, 41987, 36137, 34553, 42097, 34714, 37651, 38291, 41530, 34589, 35003, 36420, 35332, 38492, 41456, 36122, 36515, 41469, 39923, 35766, 37470, 35012, 36221, 37725, 39028, 37633, 38450, 34984, 35971, 34599, 37179, 42091, 34382, 34818, 34982, 37164, 42088, 35715, 34548, 34551, 34968, 38512, 35721, 37263, 37617, 40804, 34588, 34669, 36193, 38270, 36154, 37255, 38519, 39915, 35041, 35968, 36481, 40725, 35694, 38568, 41419, 34532, 38419, 39065, 41525, 41784, 38597, 35702, 34545, 36145, 36152, 16872, 34603, 35982, 38273, 41536, 38523, 36158, 41056, 34533, 42089, 35042, 36432, 34597, 40195, 36178, 38482, 36367, 34821, 39306, 34980, 36125, 34378, 37744, 41080, 34694, 37227, 36990, 37638, 36445, 40243, 35007, 35695, 37257, 36118, 36348, 37534, 41498, 34643, 37162, 35693, 35707, 36997, 34388, 35411, 36128, 39683, 37702, 34748, 40672, 37587, 39359, 35740, 50190, 35000, 36150, 38488, 40699, 41527, 34605, 36991, 40789, 34970, 38483, 36423, 38497, 34807, 37508, 34692, 34739, 40737, 36132, 37158, 36123, 39740, 36139, 34526, 37266, 41524, 35993, 36436, 34999, 35727, 36157, 36393, 37276, 40251, 34568, 34607, 34760, 37689, 34794, 38581, 34523, 35064, 37178, 34996, 35065, 38444, 42072, 38272, 35976, 35698, 41466, 37289, 36414, 38563, 35697, 34813, 34870, 36143, 37222, 38418, 34989, 35180, 41799, 38596, 42078, 37278, 35729, 41085, 39689, 34530, 35039, 41501, 37210, 39238, 35451, 40134, 36211, 35703);\n",
      "            \n",
      "update clean.wrk_tracking_students\n",
      "                set outcome_category='on-time' where student_lookup in (39930, 34562, 34564, 37270, 35728, 36415, 34969, 34600, 36138, 37714, 34584, 35410, 37194, 34376, 35999, 36156, 42063, 34608, 34425, 39917, 34529, 38278, 42084, 35056, 37623, 38560, 40731, 41515, 36216, 36434, 42096, 34598, 34981, 35967, 39292, 42073, 36083, 38481, 34812, 35413, 36149, 40206, 38513, 35699, 38586, 40666, 41448, 37564, 34842, 41251, 34977, 38566, 36219, 39602, 41429, 35742, 38607, 35043, 36983, 37232, 40758, 34971, 36480, 39297, 36408, 37668, 36429, 36992, 38520, 38522, 40189, 35054, 34582, 34985, 38517, 35981, 41392, 34784, 39052, 40233, 36151, 37190, 34888, 36389, 38580, 40203, 35752, 37159, 38490, 42029, 37294, 39313, 34846, 34992, 36995, 34572, 34561, 36409, 37482, 36988, 38484, 36999, 39951, 34468, 40784, 38414, 41383, 36400, 35406, 38433, 39363, 41493, 36130, 36217, 37216, 37275, 35952, 35975, 38499, 39612, 40679, 41528, 35066, 36187, 36986, 38628, 41336, 35705, 41978, 34967, 35731, 35969, 36387, 34560, 36153, 40808, 34536, 36424, 37518, 37718, 39726, 42069, 36392, 35010, 39905, 34740, 39234, 39289, 39604, 34541, 36416, 37149, 37661, 36167, 36220, 36454, 34676, 34596, 40267, 41416, 35700, 42077, 34780, 38571, 34998, 42065, 35992, 36206, 37163, 37629, 40209, 36344, 37479, 34405, 34524, 34587, 35050, 38307, 35692, 41078, 35717, 40768, 35063, 35118, 36438, 39904, 35738, 34542, 38311, 38496, 34379, 41495, 40220, 41414, 34979, 40258, 35047, 39721, 37502, 34945, 35970, 34995, 37233, 41451, 37682, 38576, 36085, 38485, 38275, 35055, 37500, 38446, 34428, 35946, 36550, 36422, 37692, 36412, 40695, 36081, 34805, 34993, 34580, 36402, 34983, 36443, 40692, 34976, 34370, 35040, 35048, 35716, 35910, 35983, 37727, 40185, 34534, 34745, 38559, 34581, 41263, 35914, 37524, 38514, 34577, 39698, 34413, 37175, 34557, 41452, 34527, 35994, 34575, 36533, 38487, 41375, 34565, 41410, 34539, 34570, 36141, 40259, 40765, 34860, 35904, 35097, 38505, 35997, 38424, 34960, 49426, 34826, 41079, 36351, 38415, 36086, 34804, 41523, 36526, 37157, 34525, 40136, 35739, 34997, 35062, 38498, 36417, 37271, 34685, 36338, 36395, 35013, 38449, 37244, 34765, 35407, 35736, 35747, 38506, 34563, 38443, 34604, 35049, 39588, 39913, 36425, 35059, 41218, 36428, 35722, 37490, 34875, 37562, 35745, 36223, 35726, 38486, 41520, 35980, 36004, 38256, 34990, 36147, 36450, 37630, 41497, 41252, 34683, 35181, 40234, 34786, 37555, 41267, 35912, 42095, 38510, 36129, 34849, 36136, 41312, 36998, 40667, 34538, 36455, 36146, 39724, 37639, 40140, 42059, 34723, 42068, 34593, 35014, 35733, 36332, 38489, 38508, 36403, 34381, 35409, 37472, 34569, 41460, 35724, 36144, 35701, 39362, 34579, 34777, 37605, 36108, 39267, 34868, 40661, 37715, 34974, 34712, 36399, 42098, 40180, 41084, 38582, 34383, 41783, 38555, 39919, 41057, 40154, 37150, 38572, 34578, 37297, 41802, 35061, 36456, 39232, 41785, 35444, 38417, 36111, 37742, 41529, 42054, 34975, 39739, 34566, 34412, 37544, 38454, 36431, 38516, 35045, 35735, 41361, 35447, 35751, 34783, 40273, 41519, 42087, 38438, 37607, 38501, 41418, 36371, 37503, 38525, 34535, 34585, 37191, 38439, 34602, 34987, 36485, 36981, 36003, 35706, 35956, 38600, 35998, 38282, 39912, 35723, 35935, 37229, 35044, 39299, 35067, 38987, 42094, 41436, 36391, 34546, 36369, 38509, 41087, 34771, 34844, 36993, 37655, 39710, 41320, 37249, 38526, 36528, 34594, 35008, 40680, 36331, 42067, 41533, 38511, 37517, 42053, 38491, 34973, 41790, 34583, 35947, 34375, 35714, 35741, 34823, 36171, 36923, 36396, 38493, 41348, 41535, 36355, 37666, 41055, 34590, 34573, 40788, 37486, 34537, 34697, 34810, 36377, 34606, 36486, 36097, 35068, 34543, 36135, 36186, 36406, 37177, 39941, 38405, 35057, 41374, 35477, 35121, 40214, 38470, 40183, 36419, 38274, 40262, 39319, 40807, 34531, 37571, 34592, 37207, 39364, 37679, 34576, 36176, 37541, 35974, 39723, 34547, 35709, 34751, 40663, 42066, 36103, 34558, 35184, 34673, 36390, 35704, 37209, 36404, 34522, 37723, 40698, 34757, 37594, 35973, 40705, 35773, 34991, 36133, 36471, 34630, 34555, 49800, 34544, 34549, 37474, 34841, 40662, 37180, 38503, 36364, 36451, 39958, 40665, 42090, 40714, 35749, 36116, 35404, 35730, 34601, 37296, 38407, 41053, 36131, 38422, 41398, 35991, 36411, 36982, 36418, 41083, 35972, 42086, 34752, 39355, 34988, 35909, 40757, 41805, 42081, 38507, 38500, 37531, 37193, 39231, 41432, 34528, 34559, 38432, 35957, 39921, 34715, 36542, 41081, 37174, 38421, 38521, 34423, 34556, 36120, 40783, 39253, 41788, 36124, 36142, 34419, 42060, 35753, 36440, 36996, 37581, 42092, 36426, 40162, 39918, 34595, 34886, 42075, 34520, 35743, 40715, 34788, 40270, 41054, 41979, 36401, 37173, 36435, 38445, 38408, 37704, 40686, 41459, 34586, 35696, 38239, 41386, 34861, 36148, 34550, 36433, 36984, 37160, 36994, 35713, 35748, 34567, 35746, 35927, 35448, 40681, 36126, 42085, 38495, 40678, 41534, 38502, 34825, 40796, 40217, 35021, 41453, 34470, 36410, 37277, 37700, 42074, 40684, 38578, 35011, 34574, 41409, 42064, 34431, 37498, 38518, 36405, 42080, 35951, 37208, 36549, 38425, 36989, 37578, 41473, 41521, 36339, 37292, 35141, 36394, 34764, 36112, 36155, 38428, 35734, 35750, 41407, 36204, 41047, 41343, 42093, 35905, 41494, 39677, 34377, 38420, 34727, 42070, 35732, 35986, 37242, 40221, 34430, 37698, 40668, 35354, 36209, 38524, 36212, 39954, 36479, 40761, 40664, 41340, 40760, 37695, 38494, 42076, 35403, 38531, 34978, 34986, 37652, 38608, 39929, 35060, 35009, 40153, 36140, 40735, 41082, 39916, 39314, 35737, 35178, 36520, 39230, 41503, 37176, 39255, 41477, 35058, 42062, 39712, 40271, 36134, 34802, 40740, 39675, 34540, 35958, 36421, 42061, 36548, 34571, 35046, 37708, 38412, 36087, 41538, 37261, 41502, 36127, 38349, 38442, 37245, 38264, 37192, 39263, 35720, 34380, 35412, 35725, 37293, 34591, 37732, 34552, 36407, 37642, 38515, 34521, 35896, 37161, 38504, 40138, 40226, 34895, 35004, 36490, 35457, 35002, 35405, 35744, 38350, 40145, 35719, 35179, 41987, 36137, 34553, 42097, 34714, 37651, 38291, 41530, 34589, 35003, 36420, 35332, 38492, 41456, 36122, 36515, 41469, 39923, 35766, 37470, 35012, 36221, 37725, 39028, 37633, 38450, 34984, 35971, 34599, 37179, 42091, 34382, 34818, 34982, 37164, 42088, 35715, 34548, 34551, 34968, 38512, 35721, 37263, 37617, 40804, 34588, 34669, 36193, 38270, 36154, 37255, 38519, 39915, 35041, 35968, 36481, 40725, 35694, 38568, 41419, 34532, 38419, 39065, 41525, 41784, 38597, 35702, 34545, 36145, 36152, 16872, 34603, 35982, 38273, 41536, 38523, 36158, 41056, 34533, 42089, 35042, 36432, 34597, 40195, 36178, 38482, 36367, 34821, 39306, 34980, 36125, 34378, 37744, 41080, 34694, 37227, 36990, 37638, 36445, 40243, 35007, 35695, 37257, 36118, 36348, 37534, 41498, 34643, 37162, 35693, 35707, 36997, 34388, 35411, 36128, 39683, 37702, 34748, 40672, 37587, 39359, 35740, 50190, 35000, 36150, 38488, 40699, 41527, 34605, 36991, 40789, 34970, 38483, 36423, 38497, 34807, 37508, 34692, 34739, 40737, 36132, 37158, 36123, 39740, 36139, 34526, 37266, 41524, 35993, 36436, 34999, 35727, 36157, 36393, 37276, 40251, 34568, 34607, 34760, 37689, 34794, 38581, 34523, 35064, 37178, 34996, 35065, 38444, 42072, 38272, 35976, 35698, 41466, 37289, 36414, 38563, 35697, 34813, 34870, 36143, 37222, 38418, 34989, 35180, 41799, 38596, 42078, 37278, 35729, 41085, 39689, 34530, 35039, 41501, 37210, 39238, 35451, 40134, 36211, 35703);\n",
      "            \n",
      "update clean.wrk_tracking_students\n",
      "                set outcome_bucket='5 year graduation' where student_lookup in (39546, 54068, 37903, 49457, 43455, 49428, 41935, 42873, 49602, 49695, 10268);\n",
      "            \n",
      "update clean.wrk_tracking_students\n",
      "                set outcome_category='late' where student_lookup in (39546, 54068, 37903, 49457, 43455, 49428, 41935, 42873, 49602, 49695, 10268);\n",
      "            \n",
      "update clean.wrk_tracking_students\n",
      "                set outcome_bucket='more than 5 years' where student_lookup in (14306, 14316, 14317, 14264, 14362, 9981, 5778);\n",
      "            \n",
      "update clean.wrk_tracking_students\n",
      "                set outcome_category='late' where student_lookup in (14306, 14316, 14317, 14264, 14362, 9981, 5778);\n",
      "            \n",
      "update clean.wrk_tracking_students\n",
      "                set outcome_bucket='no withdrawal date' where student_lookup in (54212, 1513, 55146, 14303, 54908, 54521, 54195, 55024, 54447, 54755, 54394, 2690, 55040, 54697, 54177, 54710, 54919, 55092, 54034, 54926, 54545, 54451, 54600, 54932, 10269, 54870, 54516, 54501, 54514, 54660, 54269, 54715, 54008, 40447, 5552, 55143, 54466, 54702, 54284, 54204, 54325, 54881, 55140, 51700, 14371, 54544, 54287, 54666, 55110, 54678, 55009, 54402, 54228, 54335, 16537, 42545, 54054, 54728);\n",
      "            \n",
      "update clean.wrk_tracking_students\n",
      "                set outcome_category='uncertain' where student_lookup in (54212, 1513, 55146, 14303, 54908, 54521, 54195, 55024, 54447, 54755, 54394, 2690, 55040, 54697, 54177, 54710, 54919, 55092, 54034, 54926, 54545, 54451, 54600, 54932, 10269, 54870, 54516, 54501, 54514, 54660, 54269, 54715, 54008, 40447, 5552, 55143, 54466, 54702, 54284, 54204, 54325, 54881, 55140, 51700, 14371, 54544, 54287, 54666, 55110, 54678, 55009, 54402, 54228, 54335, 16537, 42545, 54054, 54728);\n",
      "            \n",
      "update clean.wrk_tracking_students\n",
      "                set outcome_bucket='district withdrawal date' where student_lookup in ();\n",
      "            \n",
      "update clean.wrk_tracking_students\n",
      "                set outcome_category='uncertain' where student_lookup in ();\n",
      "            \n",
      "update clean.wrk_tracking_students\n",
      "                set outcome_bucket='misc withdrawal' where student_lookup in (51194, 51354, 50822);\n",
      "            \n",
      "update clean.wrk_tracking_students\n",
      "                set outcome_category='exclude' where student_lookup in (51194, 51354, 50822);\n",
      "            \n",
      "update clean.wrk_tracking_students\n",
      "                set outcome_bucket='dropout' where student_lookup in (49526, 50215, 50043, 49117, 49046, 50439, 49091, 49266, 50229, 50542, 49231, 50734, 51636, 49768, 49331, 52551, 49467, 51377, 49288, 49803, 52654, 48011, 49086, 50775, 51692);\n",
      "            \n",
      "update clean.wrk_tracking_students\n",
      "                set outcome_category='dropout' where student_lookup in (49526, 50215, 50043, 49117, 49046, 50439, 49091, 49266, 50229, 50542, 49231, 50734, 51636, 49768, 49331, 52551, 49467, 51377, 49288, 49803, 52654, 48011, 49086, 50775, 51692);\n",
      "            \n",
      "update clean.wrk_tracking_students\n",
      "                set outcome_bucket='no withdraw to IRN' where student_lookup in (52640, 51151, 54016, 42170, 51714, 50346, 14373, 49844, 52418, 43489, 52125, 54441, 54625, 54642, 35225, 50327, 52675, 52246, 50777, 52585, 51040, 52215, 52354, 54655, 50250, 54353, 52729, 54493, 54580, 52154, 36439, 36980, 50490, 54672, 52282, 54529, 52170, 52607, 50742, 54957, 54553, 54257, 54390, 54609, 51115, 51474, 55090, 51667, 50112, 52293, 52655, 52753, 50135, 51356, 52593, 54751, 42192, 50676, 54524, 54343, 54980, 52526, 50782, 51078, 52399, 54118, 42262, 50799, 54264, 52277, 54590, 54276, 54871, 55079, 51124, 52056, 39752, 52192, 52661, 20876, 52089, 54722, 52648, 54155, 52421, 52249, 52300, 52364, 54418, 54596, 52172, 52311, 50433, 51515, 52718, 50129, 50698, 52688, 52409, 52567, 51467, 16867, 50760, 54762, 54827, 55038, 50521, 54411, 51360, 52353, 51273, 52237, 50626, 52256, 51545, 51169, 54469, 54676, 51427, 54174, 54371, 50716, 49761, 51655, 52109, 52234, 52262, 54658, 54909, 55043, 42701, 51137, 54051, 50585, 51464, 54085, 54592, 42680, 51180, 54206, 51489, 54070, 54951, 50409, 51660, 50159, 51505, 52714, 54293, 54938, 54979, 35224, 50029, 54192, 31897, 54378, 54872, 51225, 55026, 51546, 50066, 54468, 52197, 52535, 54387, 52285, 54863, 54928, 50709, 51624, 55138, 54518, 50192, 42235, 52682, 51213, 54746, 51592, 42224, 52427, 52601, 50593, 49852, 52625, 20877, 52425, 52650, 50555, 52331, 39492, 51581, 52343, 52242, 52196, 54876, 54931, 54752, 52191, 54129, 52186, 51293, 51344, 52322, 52388, 50143, 51481, 55098, 55073, 51492, 546, 51324, 42255, 52162, 54727, 50758, 54134, 54617, 51264, 51269, 51509, 54165, 42286, 50167);\n",
      "            \n",
      "update clean.wrk_tracking_students\n",
      "                set outcome_category='uncertain' where student_lookup in (52640, 51151, 54016, 42170, 51714, 50346, 14373, 49844, 52418, 43489, 52125, 54441, 54625, 54642, 35225, 50327, 52675, 52246, 50777, 52585, 51040, 52215, 52354, 54655, 50250, 54353, 52729, 54493, 54580, 52154, 36439, 36980, 50490, 54672, 52282, 54529, 52170, 52607, 50742, 54957, 54553, 54257, 54390, 54609, 51115, 51474, 55090, 51667, 50112, 52293, 52655, 52753, 50135, 51356, 52593, 54751, 42192, 50676, 54524, 54343, 54980, 52526, 50782, 51078, 52399, 54118, 42262, 50799, 54264, 52277, 54590, 54276, 54871, 55079, 51124, 52056, 39752, 52192, 52661, 20876, 52089, 54722, 52648, 54155, 52421, 52249, 52300, 52364, 54418, 54596, 52172, 52311, 50433, 51515, 52718, 50129, 50698, 52688, 52409, 52567, 51467, 16867, 50760, 54762, 54827, 55038, 50521, 54411, 51360, 52353, 51273, 52237, 50626, 52256, 51545, 51169, 54469, 54676, 51427, 54174, 54371, 50716, 49761, 51655, 52109, 52234, 52262, 54658, 54909, 55043, 42701, 51137, 54051, 50585, 51464, 54085, 54592, 42680, 51180, 54206, 51489, 54070, 54951, 50409, 51660, 50159, 51505, 52714, 54293, 54938, 54979, 35224, 50029, 54192, 31897, 54378, 54872, 51225, 55026, 51546, 50066, 54468, 52197, 52535, 54387, 52285, 54863, 54928, 50709, 51624, 55138, 54518, 50192, 42235, 52682, 51213, 54746, 51592, 42224, 52427, 52601, 50593, 49852, 52625, 20877, 52425, 52650, 50555, 52331, 39492, 51581, 52343, 52242, 52196, 54876, 54931, 54752, 52191, 54129, 52186, 51293, 51344, 52322, 52388, 50143, 51481, 55098, 55073, 51492, 546, 51324, 42255, 52162, 54727, 50758, 54134, 54617, 51264, 51269, 51509, 54165, 42286, 50167);\n",
      "            \n",
      "update clean.wrk_tracking_students\n",
      "                set outcome_bucket='dropout recovery program' where student_lookup in ();\n",
      "            \n",
      "update clean.wrk_tracking_students\n",
      "                set outcome_category='dropout' where student_lookup in ();\n",
      "            \n",
      "update clean.wrk_tracking_students\n",
      "                set outcome_bucket='JVSD/career tech' where student_lookup in (51421, 51567, 51186, 52677, 50662, 51417, 50588, 50047, 42232, 51507, 16797, 50686, 51160, 50608, 50746, 51649, 50788, 51240, 51301, 14503, 50459);\n",
      "            \n",
      "update clean.wrk_tracking_students\n",
      "                set outcome_category='uncertain' where student_lookup in (51421, 51567, 51186, 52677, 50662, 51417, 50588, 50047, 42232, 51507, 16797, 50686, 51160, 50608, 50746, 51649, 50788, 51240, 51301, 14503, 50459);\n",
      "            \n",
      "update clean.wrk_tracking_students\n",
      "                set outcome_bucket='other Ohio IRN' where student_lookup in (38477, 39500, 40446, 42254, 42280, 42294, 42947, 49734, 50019, 50142, 50196, 50248, 50405, 50530, 50715, 50728, 51012, 51199, 51470, 51486, 51648, 52216, 52342);\n",
      "            \n",
      "update clean.wrk_tracking_students\n",
      "                set outcome_category='uncertain' where student_lookup in (38477, 39500, 40446, 42254, 42280, 42294, 42947, 49734, 50019, 50142, 50196, 50248, 50405, 50530, 50715, 50728, 51012, 51199, 51470, 51486, 51648, 52216, 52342);\n",
      "            \n"
     ]
    }
   ],
   "source": [
    "with postgres_pgconnection_generator() as connection:\n",
    "        with connection.cursor() as cursor:\n",
    "            cohort_tree = build_empty_tree()\n",
    "            cohort_tree = get_bucket_counts(\n",
    "                cursor, cohort_tree, grade_begin = '09', year_begin = 2010)\n",
    "            draw_tree_to_file(cohort_tree)\n",
    "            write_outcomes_to_database(cursor, cohort_tree)\n",
    "            \n",
    "        connection.commit()"
   ]
  },
  {
   "cell_type": "code",
   "execution_count": null,
   "metadata": {
    "collapsed": false
   },
   "outputs": [],
   "source": [
    "with postgres_pgconnection_generator() as connection:\n",
    "        with connection.cursor() as cursor:\n",
    "            # print(track.sql_gen_tracking_students(2006, 2015))\n",
    "            # print(track.cohort_survival_analysis(2006, 2015, '04'))\n",
    "            print(track.build_wide_format(cursor, '09', 2010))\n",
    "            get_graduates_query = \"\"\"\n",
    "        select student_lookup, graduation_date from \n",
    "            (select student_lookup, max(school_year) as school_year from clean.all_snapshots \n",
    "                where student_lookup in \n",
    "                    (select distinct student_lookup from clean.all_snapshots \n",
    "                        where graduation_date is not null) \n",
    "                and graduation_date is not null\n",
    "            group by student_lookup) as latest_grade_with_graduation\n",
    "        left join \n",
    "            (select student_lookup, school_year, graduation_date from clean.all_snapshots\n",
    "                where graduation_date is not null) as graduation_dates_valid\n",
    "        using (student_lookup, school_year)\n",
    "            \"\"\"\n",
    "            #cursor.execute(get_graduates_query)\n",
    "            #graduates = cursor.fetchall()\n",
    "            #print(len(graduates))\n",
    "        connection.commit()"
   ]
  },
  {
   "cell_type": "code",
   "execution_count": null,
   "metadata": {
    "collapsed": true
   },
   "outputs": [],
   "source": []
  }
 ],
 "metadata": {
  "kernelspec": {
   "display_name": "Python 3",
   "language": "python",
   "name": "python3"
  },
  "language_info": {
   "codemirror_mode": {
    "name": "ipython",
    "version": 3
   },
   "file_extension": ".py",
   "mimetype": "text/x-python",
   "name": "python",
   "nbconvert_exporter": "python",
   "pygments_lexer": "ipython3",
   "version": "3.4.3"
  }
 },
 "nbformat": 4,
 "nbformat_minor": 0
}
