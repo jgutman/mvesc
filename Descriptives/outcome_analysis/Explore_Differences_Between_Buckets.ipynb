{
 "cells": [
  {
   "cell_type": "code",
   "execution_count": 1,
   "metadata": {
    "collapsed": true
   },
   "outputs": [],
   "source": [
    "import os, sys\n",
    "import numpy as np\n",
    "import pandas as pd"
   ]
  },
  {
   "cell_type": "code",
   "execution_count": 28,
   "metadata": {
    "collapsed": true
   },
   "outputs": [],
   "source": [
    "import matplotlib.pyplot as plt\n",
    "%matplotlib inline"
   ]
  },
  {
   "cell_type": "code",
   "execution_count": 105,
   "metadata": {
    "collapsed": true
   },
   "outputs": [],
   "source": [
    "base_pathname = '/home/jgutman/mvesc/'\n",
    "parentdir = os.path.join(base_pathname, 'ETL')\n",
    "sys.path.insert(0, parentdir)"
   ]
  },
  {
   "cell_type": "code",
   "execution_count": 4,
   "metadata": {
    "collapsed": true
   },
   "outputs": [],
   "source": [
    "from mvesc_utility_functions import *"
   ]
  },
  {
   "cell_type": "code",
   "execution_count": 71,
   "metadata": {
    "collapsed": true
   },
   "outputs": [],
   "source": [
    "from collections import OrderedDict"
   ]
  },
  {
   "cell_type": "code",
   "execution_count": 100,
   "metadata": {
    "collapsed": true
   },
   "outputs": [],
   "source": [
    "def create_table_query(columns, grades, nickname, outcome, source_table):\n",
    "    column_list = [\"{}_gr_{}\".format(col, gr) for col in columns for gr in grades]\n",
    "    temp_table = \"_\".join(columns + [nickname])\n",
    "    column_list_formatted = \", \".join(column_list)\n",
    "\n",
    "    query_subset_feature_by_bucket = \"\"\"\n",
    "    create temporary table {temp_table} as\n",
    "    (select {column_list_formatted}\n",
    "    from model.{source_table}\n",
    "    where student_lookup in\n",
    "    (select student_lookup from clean.wrk_tracking_students\n",
    "    where outcome_bucket = '{outcome}'));\n",
    "    \"\"\".format(temp_table = temp_table, column_list_formatted = column_list_formatted,\n",
    "              source_table = source_table, outcome = outcome)\n",
    "    return query_subset_feature_by_bucket"
   ]
  },
  {
   "cell_type": "code",
   "execution_count": 101,
   "metadata": {
    "collapsed": true
   },
   "outputs": [],
   "source": [
    "def create_median_query(columns, grades, nicknames):\n",
    "    column_list = [\"{}_gr_{}\".format(col, gr) for col in columns for gr in grades]\n",
    "    temp_tables = [\"_\".join(columns + [nickname]) for nickname in nicknames]\n",
    "\n",
    "    compare_medians_across_subgroups = []\n",
    "    for nickname, table in zip(nicknames, temp_tables):\n",
    "        get_median_all_grades = [\"\"\"\n",
    "        percentile_cont(.50) within group (order by {column}) as median_{column}\"\"\".format(\n",
    "                column = column) for column in column_list]\n",
    "        get_median_formatted = \", \".join(get_median_all_grades)\n",
    "        get_median_subgroup_query = \"\"\"select '{nickname}' as label, {get_median_formatted}\n",
    "        from {table}\"\"\".format(nickname = nickname,\n",
    "                                get_median_formatted = get_median_formatted, table = table)\n",
    "        compare_medians_across_subgroups.append(get_median_subgroup_query)\n",
    "    comparison_query = \"\"\"\n",
    "    union\n",
    "    \"\"\".join(compare_medians_across_subgroups)\n",
    "    return comparison_query"
   ]
  },
  {
   "cell_type": "code",
   "execution_count": 113,
   "metadata": {
    "collapsed": true
   },
   "outputs": [],
   "source": [
    "def plot_comparisons(comparison_df, grades, filename,\n",
    "                         outcome_nicknames, outcome_labels, outcome_colors,\n",
    "                         ylabel, title):\n",
    "    N = comparison_df.shape[1]\n",
    "    ind = np.arange(N)  # the x locations for the groups\n",
    "    # width = 0.35       # the width of the bars\n",
    "    width = 0.25\n",
    "\n",
    "    fig, ax = plt.subplots()\n",
    "    plot_reference_group = ax.bar(ind, comparison_df.loc[outcome_nicknames[0]],\n",
    "                                  width, color = outcome_colors[0])\n",
    "    plot_comparison_group = ax.bar(ind + width, comparison_df.loc[outcome_nicknames[1]],\n",
    "                                   width, color = outcome_colors[1])\n",
    "    plot_comparison_2 = ax.bar(ind + width*2, comparison_df.loc[outcome_nicknames[2]],\n",
    "                                   width, color = outcome_colors[2])\n",
    "\n",
    "    # add some text for labels, title and axes ticks\n",
    "    ax.set_ylabel(ylabel)\n",
    "    ax.set_title(title)\n",
    "    ax.set_xticks(ind + width)\n",
    "    ax.set_xticklabels(['Grade '+ str(gr) for gr in grades])\n",
    "\n",
    "    ax.legend((plot_reference_group[0], plot_comparison_group[0], plot_comparison_2[0]),\n",
    "              (outcome_labels[0], outcome_labels[1], outcome_labels[2]),\n",
    "             bbox_to_anchor=(1.05, 1), loc=9, borderaxespad=0.) # positions the legend just outside the figure\n",
    "\n",
    "    plt.savefig(filename, bbox_inches='tight')\n",
    "    plt.show()"
   ]
  },
  {
   "cell_type": "code",
   "execution_count": 103,
   "metadata": {
    "collapsed": true
   },
   "outputs": [],
   "source": [
    "def run_comparisons_and_plot(outcome_nicknames, descriptives,\n",
    "    columns = ['gpa'], grades = range(9, 13), source_table = 'grades'):\n",
    "    with postgres_pgconnection_generator() as connection:\n",
    "        with connection.cursor() as cursor:\n",
    "            # create temporary tables to compare features for the two buckets of interest\n",
    "            for nickname, outcome in outcome_nicknames.items():\n",
    "                create_gpa_bucket = create_table_query(columns, grades, nickname, outcome, source_table)\n",
    "                cursor.execute(create_gpa_bucket)\n",
    "\n",
    "            # now run query to get the median value of each feature by bucket\n",
    "            median_comparison_query = create_median_query(columns, grades, outcome_nicknames.keys())\n",
    "            cursor.execute(median_comparison_query)\n",
    "\n",
    "            # store the results in a pandas dataframe\n",
    "            comparison = cursor.fetchall()\n",
    "            colnames = [i[0] for i in cursor.description]\n",
    "            median_gpa_comparison = pd.DataFrame.from_records(comparison, index = 'label', columns = colnames)\n",
    "\n",
    "            # plot the results in side by side bar chart\n",
    "            filename = ('compare_' + columns[0] + '_' + '_'.join(outcome_nicknames.keys()))\n",
    "            plot_comparisons(median_gpa_comparison, grades, os.path.join(descriptives, filename),\n",
    "                             [k for k in outcome_nicknames.keys()], [v for v in outcome_nicknames.values()],\n",
    "                             outcome_colors = ['g', 'y', 'r',], ylabel = 'Median GPA',\n",
    "                             title = 'GPA by grade and outcome category')\n",
    "            return os.path.join(descriptives, filename)"
   ]
  },
  {
   "cell_type": "code",
   "execution_count": 107,
   "metadata": {
    "collapsed": true
   },
   "outputs": [],
   "source": [
    "def main():\n",
    "    outcome_nicknames = OrderedDict([('graduates', '4 year graduation'),\n",
    "                        ('noIRN', 'no withdraw to IRN'),\n",
    "                        ('dropout', 'dropout')])\n",
    "    descriptives = os.path.join(base_pathname, \"Descriptives\")\n",
    "    fn = run_comparisons_and_plot(outcome_nicknames, descriptives)\n",
    "    print('Plot created in {}.png'.format(fn))"
   ]
  },
  {
   "cell_type": "code",
   "execution_count": 114,
   "metadata": {
    "collapsed": false
   },
   "outputs": [
    {
     "data": {
      "image/png": "[encoded data removed]",
      "text/plain": [
       "<matplotlib.figure.Figure at 0x7f0e32959198>"
      ]
     },
     "metadata": {},
     "output_type": "display_data"
    },
    {
     "name": "stdout",
     "output_type": "stream",
     "text": [
      "Plot created in /home/jgutman/mvesc/Descriptives/compare_gpa_graduates_noIRN_dropout.png\n"
     ]
    }
   ],
   "source": [
    "main()"
   ]
  },
  {
   "cell_type": "code",
   "execution_count": null,
   "metadata": {
    "collapsed": true
   },
   "outputs": [],
   "source": []
  }
 ],
 "metadata": {
  "kernelspec": {
   "display_name": "Python 3",
   "language": "python",
   "name": "python3"
  },
  "language_info": {
   "codemirror_mode": {
    "name": "ipython",
    "version": 3
   },
   "file_extension": ".py",
   "mimetype": "text/x-python",
   "name": "python",
   "nbconvert_exporter": "python",
   "pygments_lexer": "ipython3",
   "version": "3.4.3"
  }
 },
 "nbformat": 4,
 "nbformat_minor": 0
}
