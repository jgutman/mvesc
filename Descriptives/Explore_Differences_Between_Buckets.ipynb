{
 "cells": [
  {
   "cell_type": "code",
   "execution_count": 1,
   "metadata": {
    "collapsed": true
   },
   "outputs": [],
   "source": [
    "import os, sys\n",
    "import numpy as np\n",
    "import pandas as pd"
   ]
  },
  {
   "cell_type": "code",
   "execution_count": 2,
   "metadata": {
    "collapsed": true
   },
   "outputs": [],
   "source": [
    "sys.path.insert(0, '/home/jgutman/mvesc/ETL')"
   ]
  },
  {
   "cell_type": "code",
   "execution_count": 28,
   "metadata": {
    "collapsed": true
   },
   "outputs": [],
   "source": [
    "import matplotlib.pyplot as plt\n",
    "%matplotlib inline"
   ]
  },
  {
   "cell_type": "code",
   "execution_count": 4,
   "metadata": {
    "collapsed": true
   },
   "outputs": [],
   "source": [
    "from mvesc_utility_functions import *"
   ]
  },
  {
   "cell_type": "code",
   "execution_count": 71,
   "metadata": {
    "collapsed": true
   },
   "outputs": [],
   "source": [
    "from collections import OrderedDict"
   ]
  },
  {
   "cell_type": "code",
   "execution_count": 84,
   "metadata": {
    "collapsed": true
   },
   "outputs": [],
   "source": [
    "descriptives = '/home/jgutman/mvesc/Descriptives'"
   ]
  },
  {
   "cell_type": "code",
   "execution_count": 99,
   "metadata": {
    "collapsed": false
   },
   "outputs": [
    {
     "data": {
      "image/png": "[encoded data removed]",
      "text/plain": [
       "<matplotlib.figure.Figure at 0x7f0e328fa4a8>"
      ]
     },
     "metadata": {},
     "output_type": "display_data"
    }
   ],
   "source": [
    "with postgres_pgconnection_generator() as connection:\n",
    "    with connection.cursor() as cursor:\n",
    "        columns = ['gpa']\n",
    "        grades = range(9, 13)\n",
    "        source_table = 'grades'\n",
    "        outcome_nicknames = OrderedDict([('graduates', '4 year graduation'),\n",
    "                            ('hasIRN', 'dropout')])\n",
    "        \n",
    "        # create temporary tables to compare features for the two buckets of interest\n",
    "        for nickname, outcome in outcome_nicknames.items():\n",
    "            create_gpa_bucket = create_table_query(columns, grades, nickname, outcome, source_table)\n",
    "            cursor.execute(create_gpa_bucket)\n",
    "        \n",
    "        # now run query to get the median value of each feature by bucket\n",
    "        median_comparison_query = create_median_query(columns, grades, outcome_nicknames.keys())\n",
    "        cursor.execute(median_comparison_query)\n",
    "        \n",
    "        # store the results in a pandas dataframe\n",
    "        comparison = cursor.fetchall()\n",
    "        colnames = [i[0] for i in cursor.description]\n",
    "        median_gpa_comparison = pd.DataFrame.from_records(comparison, index = 'label', columns = colnames)\n",
    "        \n",
    "        # plot the results in side by side bar chart\n",
    "        filename = ('compare_' + columns[0] + '_' + '_'.join(outcome_nicknames.keys()))\n",
    "        plot_comparisons(median_gpa_comparison, grades, os.path.join(descriptives, filename), \n",
    "                         [k for k in outcome_nicknames.keys()], [v for v in outcome_nicknames.values()], \n",
    "                         outcome_colors = ['g', 'r'], ylabel = 'Median GPA', \n",
    "                         title = 'GPA by grade and outcome category')"
   ]
  },
  {
   "cell_type": "code",
   "execution_count": 15,
   "metadata": {
    "collapsed": true
   },
   "outputs": [],
   "source": [
    "def create_table_query(columns, grades, nickname, outcome, source_table):\n",
    "    column_list = [\"{}_gr_{}\".format(col, gr) for col in columns for gr in grades]\n",
    "    temp_table = \"_\".join(columns + [nickname])\n",
    "    column_list_formatted = \", \".join(column_list)\n",
    "    \n",
    "    query_subset_feature_by_bucket = \"\"\"\n",
    "    create temporary table {temp_table} as\n",
    "    (select {column_list_formatted}\n",
    "    from model.{source_table}\n",
    "    where student_lookup in\n",
    "    (select student_lookup from clean.wrk_tracking_students\n",
    "    where outcome_bucket = '{outcome}'));\n",
    "    \"\"\".format(temp_table = temp_table, column_list_formatted = column_list_formatted, \n",
    "              source_table = source_table, outcome = outcome)\n",
    "    return query_subset_feature_by_bucket"
   ]
  },
  {
   "cell_type": "code",
   "execution_count": 17,
   "metadata": {
    "collapsed": true
   },
   "outputs": [],
   "source": [
    "def create_median_query(columns, grades, nicknames):\n",
    "    column_list = [\"{}_gr_{}\".format(col, gr) for col in columns for gr in grades]\n",
    "    temp_tables = [\"_\".join(columns + [nickname]) for nickname in nicknames]\n",
    "    \n",
    "    compare_medians_across_subgroups = []\n",
    "    for nickname, table in zip(nicknames, temp_tables):\n",
    "        get_median_all_grades = [\"\"\"\n",
    "        percentile_cont(.50) within group (order by {column}) as median_{column}\"\"\".format(\n",
    "                column = column) for column in column_list]\n",
    "        get_median_formatted = \", \".join(get_median_all_grades)\n",
    "        get_median_subgroup_query = \"\"\"select '{nickname}' as label, {get_median_formatted}\n",
    "        from {table}\"\"\".format(nickname = nickname, \n",
    "                                get_median_formatted = get_median_formatted, table = table)\n",
    "        compare_medians_across_subgroups.append(get_median_subgroup_query)\n",
    "    comparison_query = \"\"\"\n",
    "    union\n",
    "    \"\"\".join(compare_medians_across_subgroups)\n",
    "    return comparison_query"
   ]
  },
  {
   "cell_type": "code",
   "execution_count": 27,
   "metadata": {
    "collapsed": false
   },
   "outputs": [
    {
     "data": {
      "text/html": [
       "<div>\n",
       "<table border=\"1\" class=\"dataframe\">\n",
       "  <thead>\n",
       "    <tr style=\"text-align: right;\">\n",
       "      <th></th>\n",
       "      <th>median_gpa_gr_9</th>\n",
       "      <th>median_gpa_gr_10</th>\n",
       "      <th>median_gpa_gr_11</th>\n",
       "      <th>median_gpa_gr_12</th>\n",
       "    </tr>\n",
       "    <tr>\n",
       "      <th>label</th>\n",
       "      <th></th>\n",
       "      <th></th>\n",
       "      <th></th>\n",
       "      <th></th>\n",
       "    </tr>\n",
       "  </thead>\n",
       "  <tbody>\n",
       "    <tr>\n",
       "      <th>graduates</th>\n",
       "      <td>2.843125</td>\n",
       "      <td>2.880682</td>\n",
       "      <td>2.951667</td>\n",
       "      <td>3.100000</td>\n",
       "    </tr>\n",
       "    <tr>\n",
       "      <th>noIRN</th>\n",
       "      <td>1.958974</td>\n",
       "      <td>2.022424</td>\n",
       "      <td>1.853333</td>\n",
       "      <td>1.678545</td>\n",
       "    </tr>\n",
       "  </tbody>\n",
       "</table>\n",
       "</div>"
      ],
      "text/plain": [
       "           median_gpa_gr_9  median_gpa_gr_10  median_gpa_gr_11  \\\n",
       "label                                                            \n",
       "graduates         2.843125          2.880682          2.951667   \n",
       "noIRN             1.958974          2.022424          1.853333   \n",
       "\n",
       "           median_gpa_gr_12  \n",
       "label                        \n",
       "graduates          3.100000  \n",
       "noIRN              1.678545  "
      ]
     },
     "execution_count": 27,
     "metadata": {},
     "output_type": "execute_result"
    }
   ],
   "source": [
    "median_comparison"
   ]
  },
  {
   "cell_type": "code",
   "execution_count": 56,
   "metadata": {
    "collapsed": false
   },
   "outputs": [
    {
     "data": {
      "image/png": "[encoded data removed]",
      "text/plain": [
       "<matplotlib.figure.Figure at 0x7f0e326c6278>"
      ]
     },
     "metadata": {},
     "output_type": "display_data"
    }
   ],
   "source": [
    "N = median_comparison.shape[1]\n",
    "ind = np.arange(N)  # the x locations for the groups\n",
    "width = 0.35       # the width of the bars\n",
    "\n",
    "fig, ax = plt.subplots()\n",
    "plot_graduates = ax.bar(ind, median_comparison.loc['graduates'], width, color='g')\n",
    "plot_noIRN = ax.bar(ind+width, median_comparison.loc['noIRN'], width, color='r')\n",
    "\n",
    "# add some text for labels, title and axes ticks\n",
    "ax.set_ylabel('Median GPA')\n",
    "ax.set_title('GPA by grade and outcome category')\n",
    "ax.set_xticks(ind + width)\n",
    "ax.set_xticklabels(['Grade '+ str(gr) for gr in grades])\n",
    "ax.legend((plot_graduates[0], plot_noIRN[0]), \n",
    "          (outcome_nicknames['graduates'], outcome_nicknames['noIRN']), \n",
    "         bbox_to_anchor=(1.05, 1), loc=9, borderaxespad=0.) # positions the legend just outside the figure\n",
    "\n",
    "plt.show()"
   ]
  },
  {
   "cell_type": "code",
   "execution_count": 82,
   "metadata": {
    "collapsed": true
   },
   "outputs": [],
   "source": [
    "def plot_comparisons(comparison_df, grades, filename,\n",
    "                         outcome_nicknames, outcome_labels, outcome_colors, \n",
    "                         ylabel, title):\n",
    "    N = comparison_df.shape[1]\n",
    "    ind = np.arange(N)  # the x locations for the groups\n",
    "    width = 0.35       # the width of the bars\n",
    "\n",
    "    fig, ax = plt.subplots()\n",
    "    plot_reference_group = ax.bar(ind, comparison_df.loc[outcome_nicknames[0]], \n",
    "                                  width, color = outcome_colors[0])\n",
    "    plot_comparison_group = ax.bar(ind + width, comparison_df.loc[outcome_nicknames[1]], \n",
    "                                   width, color = outcome_colors[1])\n",
    "\n",
    "    # add some text for labels, title and axes ticks\n",
    "    ax.set_ylabel(ylabel)\n",
    "    ax.set_title(title)\n",
    "    ax.set_xticks(ind + width)\n",
    "    ax.set_xticklabels(['Grade '+ str(gr) for gr in grades])\n",
    "    \n",
    "    ax.legend((plot_reference_group[0], plot_comparison_group[0]), \n",
    "              (outcome_labels[0], outcome_labels[1]), \n",
    "             bbox_to_anchor=(1.05, 1), loc=9, borderaxespad=0.) # positions the legend just outside the figure\n",
    "\n",
    "    plt.savefig(filename, bbox_inches='tight')\n",
    "    plt.show()"
   ]
  },
  {
   "cell_type": "code",
   "execution_count": 83,
   "metadata": {
    "collapsed": false
   },
   "outputs": [
    {
     "data": {
      "image/png": "[encoded data removed]",
      "text/plain": [
       "<matplotlib.figure.Figure at 0x7f0e32907588>"
      ]
     },
     "metadata": {},
     "output_type": "display_data"
    }
   ],
   "source": [
    "plot_comparisons(median_gpa_comparison, grades, '/home/jgutman/mvesc/Descriptives/test_barplot.png',\n",
    "                         [k for k in outcome_nicknames.keys()], [v for v in outcome_nicknames.values()], \n",
    "                         outcome_colors = ['g', 'r'], ylabel = 'Median GPA', \n",
    "                         title = 'GPA by grade and outcome category')"
   ]
  },
  {
   "cell_type": "code",
   "execution_count": 85,
   "metadata": {
    "collapsed": false
   },
   "outputs": [
    {
     "data": {
      "text/plain": [
       "'graduates_noIRN'"
      ]
     },
     "execution_count": 85,
     "metadata": {},
     "output_type": "execute_result"
    }
   ],
   "source": [
    "'_'.join(outcome_nicknames.keys())"
   ]
  },
  {
   "cell_type": "code",
   "execution_count": 87,
   "metadata": {
    "collapsed": false
   },
   "outputs": [
    {
     "ename": "SyntaxError",
     "evalue": "unexpected EOF while parsing (<ipython-input-87-d425aa431a13>, line 1)",
     "output_type": "error",
     "traceback": [
      "\u001b[1;36m  File \u001b[1;32m\"<ipython-input-87-d425aa431a13>\"\u001b[1;36m, line \u001b[1;32m1\u001b[0m\n\u001b[1;33m    filename = os.path.join(descriptives, ('compare_' + columns[0] + '_' + '_'.join(outcome_nicknames.keys()))\u001b[0m\n\u001b[1;37m                                                                                                              ^\u001b[0m\n\u001b[1;31mSyntaxError\u001b[0m\u001b[1;31m:\u001b[0m unexpected EOF while parsing\n"
     ]
    }
   ],
   "source": [
    "filename = os.path.join(descriptives, )"
   ]
  },
  {
   "cell_type": "code",
   "execution_count": 92,
   "metadata": {
    "collapsed": false
   },
   "outputs": [
    {
     "data": {
      "text/plain": [
       "'compare_gpa_graduates_noIRN'"
      ]
     },
     "execution_count": 92,
     "metadata": {},
     "output_type": "execute_result"
    }
   ],
   "source": [
    "('compare_' + columns[0] + '_' + '_'.join(outcome_nicknames.keys()))"
   ]
  },
  {
   "cell_type": "code",
   "execution_count": 89,
   "metadata": {
    "collapsed": false
   },
   "outputs": [
    {
     "data": {
      "text/plain": [
       "'gpa'"
      ]
     },
     "execution_count": 89,
     "metadata": {},
     "output_type": "execute_result"
    }
   ],
   "source": [
    "columns[0]"
   ]
  },
  {
   "cell_type": "code",
   "execution_count": 91,
   "metadata": {
    "collapsed": false
   },
   "outputs": [
    {
     "data": {
      "text/plain": [
       "'graduates_noIRN'"
      ]
     },
     "execution_count": 91,
     "metadata": {},
     "output_type": "execute_result"
    }
   ],
   "source": [
    "'_'.join(outcome_nicknames.keys())"
   ]
  },
  {
   "cell_type": "code",
   "execution_count": 97,
   "metadata": {
    "collapsed": false
   },
   "outputs": [
    {
     "data": {
      "text/html": [
       "<div>\n",
       "<table border=\"1\" class=\"dataframe\">\n",
       "  <thead>\n",
       "    <tr style=\"text-align: right;\">\n",
       "      <th></th>\n",
       "      <th>median_n_addresses_to_gr_8</th>\n",
       "      <th>median_n_addresses_to_gr_9</th>\n",
       "      <th>median_n_addresses_to_gr_10</th>\n",
       "      <th>median_n_addresses_to_gr_11</th>\n",
       "      <th>median_n_addresses_to_gr_12</th>\n",
       "      <th>median_n_districts_to_gr_8</th>\n",
       "      <th>median_n_districts_to_gr_9</th>\n",
       "      <th>median_n_districts_to_gr_10</th>\n",
       "      <th>median_n_districts_to_gr_11</th>\n",
       "      <th>median_n_districts_to_gr_12</th>\n",
       "    </tr>\n",
       "    <tr>\n",
       "      <th>label</th>\n",
       "      <th></th>\n",
       "      <th></th>\n",
       "      <th></th>\n",
       "      <th></th>\n",
       "      <th></th>\n",
       "      <th></th>\n",
       "      <th></th>\n",
       "      <th></th>\n",
       "      <th></th>\n",
       "      <th></th>\n",
       "    </tr>\n",
       "  </thead>\n",
       "  <tbody>\n",
       "    <tr>\n",
       "      <th>graduates</th>\n",
       "      <td>1.0</td>\n",
       "      <td>1.0</td>\n",
       "      <td>1.0</td>\n",
       "      <td>1.0</td>\n",
       "      <td>1.0</td>\n",
       "      <td>1.0</td>\n",
       "      <td>1.0</td>\n",
       "      <td>1.0</td>\n",
       "      <td>1.0</td>\n",
       "      <td>1.0</td>\n",
       "    </tr>\n",
       "    <tr>\n",
       "      <th>noIRN</th>\n",
       "      <td>1.0</td>\n",
       "      <td>1.0</td>\n",
       "      <td>1.0</td>\n",
       "      <td>1.0</td>\n",
       "      <td>1.0</td>\n",
       "      <td>1.0</td>\n",
       "      <td>1.0</td>\n",
       "      <td>1.0</td>\n",
       "      <td>1.0</td>\n",
       "      <td>1.0</td>\n",
       "    </tr>\n",
       "  </tbody>\n",
       "</table>\n",
       "</div>"
      ],
      "text/plain": [
       "           median_n_addresses_to_gr_8  median_n_addresses_to_gr_9  \\\n",
       "label                                                               \n",
       "graduates                         1.0                         1.0   \n",
       "noIRN                             1.0                         1.0   \n",
       "\n",
       "           median_n_addresses_to_gr_10  median_n_addresses_to_gr_11  \\\n",
       "label                                                                 \n",
       "graduates                          1.0                          1.0   \n",
       "noIRN                              1.0                          1.0   \n",
       "\n",
       "           median_n_addresses_to_gr_12  median_n_districts_to_gr_8  \\\n",
       "label                                                                \n",
       "graduates                          1.0                         1.0   \n",
       "noIRN                              1.0                         1.0   \n",
       "\n",
       "           median_n_districts_to_gr_9  median_n_districts_to_gr_10  \\\n",
       "label                                                                \n",
       "graduates                         1.0                          1.0   \n",
       "noIRN                             1.0                          1.0   \n",
       "\n",
       "           median_n_districts_to_gr_11  median_n_districts_to_gr_12  \n",
       "label                                                                \n",
       "graduates                          1.0                          1.0  \n",
       "noIRN                              1.0                          1.0  "
      ]
     },
     "execution_count": 97,
     "metadata": {},
     "output_type": "execute_result"
    }
   ],
   "source": [
    "median_mobility_comparison"
   ]
  },
  {
   "cell_type": "code",
   "execution_count": null,
   "metadata": {
    "collapsed": true
   },
   "outputs": [],
   "source": []
  }
 ],
 "metadata": {
  "kernelspec": {
   "display_name": "Python 3",
   "language": "python",
   "name": "python3"
  },
  "language_info": {
   "codemirror_mode": {
    "name": "ipython",
    "version": 3
   },
   "file_extension": ".py",
   "mimetype": "text/x-python",
   "name": "python",
   "nbconvert_exporter": "python",
   "pygments_lexer": "ipython3",
   "version": "3.4.3"
  }
 },
 "nbformat": 4,
 "nbformat_minor": 0
}
