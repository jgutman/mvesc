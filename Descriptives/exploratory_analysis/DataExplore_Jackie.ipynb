{
 "cells": [
  {
   "cell_type": "code",
   "execution_count": 177,
   "metadata": {
    "collapsed": false
   },
   "outputs": [],
   "source": [
    "import matplotlib\n",
    "import numpy as np\n",
    "%matplotlib inline"
   ]
  },
  {
   "cell_type": "code",
   "execution_count": 2,
   "metadata": {
    "collapsed": true
   },
   "outputs": [],
   "source": [
    "# If you want Jupyter to print all returned output for a cell, and not just the last returned output\n",
    "from IPython.core.interactiveshell import InteractiveShell\n",
    "InteractiveShell.ast_node_interactivity = \"all\""
   ]
  },
  {
   "cell_type": "code",
   "execution_count": 4,
   "metadata": {
    "collapsed": true
   },
   "outputs": [],
   "source": [
    "import pandas as pd\n",
    "import psycopg2 as pg\n",
    "pass_file = \"/mnt/data/mvesc/PartnerData/default_profile\"\n",
    "f = open(pass_file, 'r')\n",
    "with open(pass_file, 'r') as f:\n",
    "   passinfo = f.readlines()\n",
    "f.close()"
   ]
  },
  {
   "cell_type": "code",
   "execution_count": 5,
   "metadata": {
    "collapsed": false
   },
   "outputs": [],
   "source": [
    "database_credentials = [line.strip().split(\"=\")[1] for line in passinfo]\n",
    "#database_credentials # don't print this out in Jupyter notebook for world to see!"
   ]
  },
  {
   "cell_type": "code",
   "execution_count": 9,
   "metadata": {
    "collapsed": false
   },
   "outputs": [
    {
     "name": "stdout",
     "output_type": "stream",
     "text": [
      "[('DistrictSchoolIDs',), ('all_lookup',), ('CurrentMobility',), ('CurrentStudents',), ('ASQ_Preschool',), ('ActScores',), ('AllDistricts1112',), ('HSGrades',), ('AllDistricts1213',), ('AIRScores',), ('AllDistricts1314',), ('CurrentAbsenceDiscipline',), ('DIBELSv2',), ('AllDistricts1415',), ('AllGradsTotal',), ('OAAOGT',), ('PARCC',), ('StarRead',), ('StarEL',), ('StarMath',), ('TerraNova',)]\n"
     ]
    }
   ],
   "source": [
    "host_address = database_credentials[0]\n",
    "user_name = database_credentials[1]\n",
    "name_of_database = database_credentials[2]\n",
    "user_password = database_credentials[3]\n",
    "conn = pg.connect(host=host_address, database=name_of_database, user=user_name, password=user_password)\n",
    "cursor = conn.cursor()\n",
    "sqlcmd_table_names = \"SELECT table_name FROM information_schema.tables WHERE table_schema = 'public'\"\n",
    "cursor.execute(sqlcmd_table_names)\n",
    "table_names = cursor.fetchall()\n",
    "print(table_names)"
   ]
  },
  {
   "cell_type": "code",
   "execution_count": 12,
   "metadata": {
    "collapsed": false
   },
   "outputs": [],
   "source": [
    "def read_table_to_df(table_name, connection):\n",
    "    \"\"\" Takes a table name as input and returns postgres table as pandas data frame.\n",
    "    \n",
    "    :param string table_name: Name of table to read in\n",
    "    :param psycopg2.connection connection: POSTGRESQL connection object for Python\n",
    "    :return: a Pandas dataframe object containing the desired table\n",
    "    :rtype: Pandas.dataframe\n",
    "    \"\"\"\n",
    "    sql_query = \"SELECT * FROM \\\"\" + table_name + \"\\\";\"\n",
    "    data = pd.read_sql(sql_query, connection)\n",
    "    return data"
   ]
  },
  {
   "cell_type": "code",
   "execution_count": 10,
   "metadata": {
    "collapsed": false
   },
   "outputs": [
    {
     "data": {
      "text/plain": [
       "['AllDistricts1112',\n",
       " 'AllDistricts1213',\n",
       " 'AllDistricts1314',\n",
       " 'AllDistricts1415',\n",
       " 'CurrentStudents']"
      ]
     },
     "execution_count": 10,
     "metadata": {},
     "output_type": "execute_result"
    }
   ],
   "source": [
    "ALL_DISTRICTS_TABLES = [\"AllDistricts\" + str(num) + str(num+1) for num in range(11,15)]\n",
    "ALL_DISTRICTS_TABLES.append(\"CurrentStudents\")\n",
    "ALL_DISTRICTS_TABLES"
   ]
  },
  {
   "cell_type": "code",
   "execution_count": 13,
   "metadata": {
    "collapsed": false
   },
   "outputs": [],
   "source": [
    "all_districts_data = [read_table_to_df(table_name, conn) for table_name in ALL_DISTRICTS_TABLES]"
   ]
  },
  {
   "cell_type": "code",
   "execution_count": 126,
   "metadata": {
    "collapsed": false
   },
   "outputs": [],
   "source": [
    "# However, for the all_districts_data, how are we going to handle the null lookup numbers? \n",
    "# Let's duplicate the dataframes and drop the null lookups for now, hopefully they won't be null for long\n",
    "all_districts_copied = [None] * len(all_districts_data)\n",
    "for i, df in enumerate(all_districts_data):\n",
    "    df2 = df[pd.notnull(df.StudentLookup)]\n",
    "    all_districts_copied[i] = df2.set_index(\"StudentLookup\")"
   ]
  },
  {
   "cell_type": "code",
   "execution_count": 212,
   "metadata": {
    "collapsed": false
   },
   "outputs": [
    {
     "data": {
      "text/plain": [
       "dict_keys(['AllDistricts1213', 'AllDistricts1314', 'AllDistricts1415', 'CurrentStudents', 'AllDistricts1112'])"
      ]
     },
     "execution_count": 212,
     "metadata": {},
     "output_type": "execute_result"
    }
   ],
   "source": [
    "dict_all_districts = {k:v for (k,v) in zip(ALL_DISTRICTS_TABLES, all_districts_copied)}\n",
    "dict_all_districts.keys()"
   ]
  },
  {
   "cell_type": "code",
   "execution_count": 15,
   "metadata": {
    "collapsed": false
   },
   "outputs": [],
   "source": [
    "all_grads = read_table_to_df(\"AllGradsTotal\", conn)\n",
    "current_mobility = read_table_to_df(\"CurrentMobility\", conn)\n",
    "current_absence_discipline = read_table_to_df(\"CurrentAbsenceDiscipline\", conn)"
   ]
  },
  {
   "cell_type": "code",
   "execution_count": 19,
   "metadata": {
    "collapsed": false
   },
   "outputs": [
    {
     "name": "stdout",
     "output_type": "stream",
     "text": [
      "['D13', 'D15', 'D5', 'D7', 'D8']\n",
      "['D1', 'D10', 'D12', 'D13', 'D14', 'D15', 'D16', 'D17', 'D3', 'D4', 'D5', 'D6', 'D7', 'D8']\n",
      "20110114 to 20150630\n",
      "20110516 to 20150701\n"
     ]
    }
   ],
   "source": [
    "# There are two very similar looking codes for economic/academic disadvantage: \n",
    "# \"1 - Economic disadvantagement\" and \"Economic Disadvantagement\"\n",
    "# Let's just check if the coding scheme has changed over time or varies district to district\n",
    "\n",
    "def get_unique_stripped_sorted_values(sort_column, coding, \n",
    "                                      code_column = \"Disadvantaged\", data = all_grads):\n",
    "    \"\"\"Subsets a dataframe by rows containing particular value in the code column, and then strips and \n",
    "       sorts all unique values in sort column of the matching rows. Returns these unique sorted values \n",
    "       in a list.\n",
    "       \n",
    "    :param string sort_column: Name of the column to find unique values of (for matching rows)\n",
    "    :param string coding: Value of the code to subset the data by\n",
    "    :param string code_column: Column to find the code to subset the data by\n",
    "    :param Pandas.dataframe data: input dataframe\n",
    "    :return: a list containing unique values in specified column for the matching rows\n",
    "    :rtype: list[dtype of sort_column] \n",
    "    \"\"\"\n",
    "    unique_values_for_code = data[sort_column][data[code_column] == coding].unique()\n",
    "    unique_values_for_code_stripped = [d.strip() for d in unique_values_for_code]\n",
    "    unique_values_for_code_stripped.sort()\n",
    "    return(unique_values_for_code_stripped)\n",
    "\n",
    "districts_codetype1 = get_unique_stripped_sorted_values(sort_column = \"DistrictCode\", \n",
    "                                                        coding = \"1 - Economic disadvantagement\")\n",
    "districts_codetype2 = get_unique_stripped_sorted_values(sort_column = \"DistrictCode\", \n",
    "                                                        coding = \"Economic Disadvantagement\")\n",
    "print(districts_codetype1)\n",
    "print(districts_codetype2)\n",
    "\n",
    "grad_date_codetype1 = get_unique_stripped_sorted_values(sort_column = \"HIGH_SCHOOL_GRAD_DATE\",\n",
    "                                                        coding = \"1 - Economic disadvantagement\")\n",
    "grad_date_codetype2 = get_unique_stripped_sorted_values(sort_column = \"HIGH_SCHOOL_GRAD_DATE\",\n",
    "                                                        coding = \"Economic Disadvantagement\")\n",
    "\n",
    "print(\"%s to %s\" % (grad_date_codetype1[0], grad_date_codetype1[-1]))\n",
    "print(\"%s to %s\" % (grad_date_codetype2[0], grad_date_codetype2[-1]))"
   ]
  },
  {
   "cell_type": "code",
   "execution_count": 15,
   "metadata": {
    "collapsed": true
   },
   "outputs": [],
   "source": [
    "# all_grads.Disadvantaged.replace(to_replace=\"1 - Economic disadvantagement\", \n",
    "#                                value=\"Economic Disadvantagement\", inplace=True)\n",
    "# all_grads.Disadvantaged.replace(to_replace=\"2 - Academic disadvantagement\", \n",
    "#                                value=\"Academic Disadvantagement\", inplace=True)"
   ]
  },
  {
   "cell_type": "code",
   "execution_count": 20,
   "metadata": {
    "collapsed": false
   },
   "outputs": [],
   "source": [
    "all_grads_valuecounts = {colname: all_grads[colname].value_counts(dropna=False) for colname in all_grads.columns}"
   ]
  },
  {
   "cell_type": "markdown",
   "metadata": {},
   "source": [
    "How many students are not disadvantaged? Economic ? Academic ? It isn't clear why there are two coding types for each, or why there are so few academic disadvantaged students in the data -- but this is grads only."
   ]
  },
  {
   "cell_type": "code",
   "execution_count": 21,
   "metadata": {
    "collapsed": false
   },
   "outputs": [
    {
     "data": {
      "text/plain": [
       "                                          5488\n",
       "Economic Disadvantagement                 3208\n",
       "1 - Economic disadvantagement              475\n",
       "Academic Disadvantagement                   19\n",
       "Economic and Academic Disadvantagement       7\n",
       "2 - Academic disadvantagement                1\n",
       "Name: Disadvantaged, dtype: int64"
      ]
     },
     "execution_count": 21,
     "metadata": {},
     "output_type": "execute_result"
    }
   ],
   "source": [
    "all_grads_valuecounts[\"Disadvantaged\"]"
   ]
  },
  {
   "cell_type": "code",
   "execution_count": 186,
   "metadata": {
    "collapsed": false
   },
   "outputs": [
    {
     "data": {
      "text/html": [
       "<div>\n",
       "<table border=\"1\" class=\"dataframe\">\n",
       "  <thead>\n",
       "    <tr style=\"text-align: right;\">\n",
       "      <th></th>\n",
       "      <th></th>\n",
       "      <th>Disadvantaged</th>\n",
       "    </tr>\n",
       "    <tr>\n",
       "      <th>DistrictCode</th>\n",
       "      <th>Disadvantaged</th>\n",
       "      <th></th>\n",
       "    </tr>\n",
       "  </thead>\n",
       "  <tbody>\n",
       "    <tr>\n",
       "      <th rowspan=\"3\" valign=\"top\">D1</th>\n",
       "      <th>Economic Disadvantagement</th>\n",
       "      <td>138</td>\n",
       "    </tr>\n",
       "    <tr>\n",
       "      <th></th>\n",
       "      <td>127</td>\n",
       "    </tr>\n",
       "    <tr>\n",
       "      <th>Academic Disadvantagement</th>\n",
       "      <td>5</td>\n",
       "    </tr>\n",
       "    <tr>\n",
       "      <th rowspan=\"2\" valign=\"top\">D10</th>\n",
       "      <th>Economic Disadvantagement</th>\n",
       "      <td>189</td>\n",
       "    </tr>\n",
       "    <tr>\n",
       "      <th></th>\n",
       "      <td>132</td>\n",
       "    </tr>\n",
       "  </tbody>\n",
       "</table>\n",
       "</div>"
      ],
      "text/plain": [
       "                                        Disadvantaged\n",
       "DistrictCode Disadvantaged                           \n",
       "D1           Economic Disadvantagement            138\n",
       "                                                  127\n",
       "             Academic Disadvantagement              5\n",
       "D10          Economic Disadvantagement            189\n",
       "                                                  132"
      ]
     },
     "execution_count": 186,
     "metadata": {},
     "output_type": "execute_result"
    }
   ],
   "source": [
    "district_by_district = all_grads.groupby(\"DistrictCode\")\n",
    "district_disadvantaged_counts = district_by_district.Disadvantaged.value_counts(dropna=False)\n",
    "district_disadvantaged_counts.to_frame().head()"
   ]
  },
  {
   "cell_type": "code",
   "execution_count": 194,
   "metadata": {
    "collapsed": false
   },
   "outputs": [
    {
     "data": {
      "text/plain": [
       "2015    2055\n",
       "2013    1898\n",
       "2011    1762\n",
       "2012    1742\n",
       "2014    1741\n",
       "dtype: int64"
      ]
     },
     "execution_count": 194,
     "metadata": {},
     "output_type": "execute_result"
    },
    {
     "data": {
      "text/plain": [
       "array([2011, 2014, 2013, 2012, 2015])"
      ]
     },
     "execution_count": 194,
     "metadata": {},
     "output_type": "execute_result"
    }
   ],
   "source": [
    "all_grads['grad_date_formatted'] = pd.to_datetime(all_grads.HIGH_SCHOOL_GRAD_DATE, format = \"%Y%m%d\")\n",
    "all_grads['grad_year'] = pd.Series(grad_date.year for grad_date in all_grads.grad_date_formatted)\n",
    "all_grads.grad_year.value_counts(dropna=False)\n",
    "all_grads.grad_year.unique()"
   ]
  },
  {
   "cell_type": "code",
   "execution_count": 495,
   "metadata": {
    "collapsed": false
   },
   "outputs": [],
   "source": [
    "#all_districts_copied[0].CURRENT_GRADE.value_counts(dropna=False)\n",
    "#all_districts_copied[1].CURRENT_GRADE.value_counts(dropna=False)\n",
    "#all_districts_copied[2].CURRENT_GRADE.value_counts(dropna=False)\n",
    "#all_districts_copied[3].CURRENT_GRADE.value_counts(dropna=False)\n",
    "#all_districts_copied[4].CURRENT_GRADE.value_counts(dropna=False)"
   ]
  },
  {
   "cell_type": "code",
   "execution_count": 53,
   "metadata": {
    "collapsed": false
   },
   "outputs": [
    {
     "data": {
      "text/plain": [
       "dict_keys([2011, 2012, 2013, 2014, 2015])"
      ]
     },
     "execution_count": 53,
     "metadata": {},
     "output_type": "execute_result"
    }
   ],
   "source": [
    "# Get the student lookup numbers grouped by year of high school graduation\n",
    "# students_by_grad_year is now a groupby object, keys are graduation years\n",
    "# values are student lookups of all students who graduated in that year (calendar year, not academic year currently)\n",
    "students_by_grad_year = all_grads[\"StudentLookup\"].groupby(all_grads[\"grad_year\"])\n",
    "students_by_grad_year.groups.keys()"
   ]
  },
  {
   "cell_type": "code",
   "execution_count": null,
   "metadata": {
    "collapsed": true
   },
   "outputs": [],
   "source": [
    "# This will be a whole lot easier if we set Student Lookup column as the pandas row index\n",
    "all_grads.set_index(\"StudentLookup\", inplace = True)"
   ]
  },
  {
   "cell_type": "code",
   "execution_count": 254,
   "metadata": {
    "collapsed": true
   },
   "outputs": [],
   "source": [
    "def get_graduates_in_snapshots(grad_year, table_names, \n",
    "                               graduate_data = all_grads, district_tables = dict_all_districts):\n",
    "    \"\"\"Search for all high school graduates within a given calendar year. Returns list of student lookup numbers\n",
    "       whose records can be found within a particular academic year snapshot table (or list of tables).\n",
    "       \n",
    "    :param int grad_year: Year to subset high school graduation date by \n",
    "    :param list[string] table_names: list of table names (see ALL_DISTRICTS_TABLES) in which to search for student \n",
    "                        yearly academic records\n",
    "    :param Pandas.dataframe all_grads: dataframe containing all high school graduates including graduation date\n",
    "    :param dict(list[string]: list[Pandas.dataframe]) district_tables: dict of dataframes containing yearly academic \n",
    "                        snapshots for all students in a particular academic year, referenced by table name\n",
    "    :return: list of student lookup numbers that graduated in specified year and whose records found in specified table\n",
    "    :rtype: Int64Index\n",
    "    \"\"\"\n",
    "    district_tables_to_search = [district_tables[table] for table in table_names]\n",
    "    grads_for_spec_year = graduate_data.index[graduate_data.grad_year == grad_year]\n",
    "    \n",
    "    # union the student lookups covered in all district tables given to get all students covered\n",
    "    all_students = set()\n",
    "    for student_year in district_tables_to_search:\n",
    "        z = set(student_year.index)\n",
    "        all_students = all_students.union(z)\n",
    "    grads_in_district_tables = grads_for_spec_year[[graduate in all_students for graduate in grads_for_spec_year]]\n",
    "    return(grads_in_district_tables)"
   ]
  },
  {
   "cell_type": "code",
   "execution_count": 262,
   "metadata": {
    "collapsed": false
   },
   "outputs": [
    {
     "name": "stdout",
     "output_type": "stream",
     "text": [
      "total graduates in 2011: 1762\t num grads in district tables: 18\n",
      "total graduates in 2012: 1742\t num grads in district tables: 1726\n",
      "total graduates in 2013: 1898\t num grads in district tables: 1883\n",
      "total graduates in 2014: 1741\t num grads in district tables: 1722\n",
      "total graduates in 2015: 2055\t num grads in district tables: 2041\n"
     ]
    }
   ],
   "source": [
    "# How many graduates do we have in our records for each year and how many of those can be found in the \n",
    "# year by year district lookup tables for at least one year?\n",
    "# Also build a dictionary with student lookup of valid grads by graduation year key\n",
    "\n",
    "all_grads_in_tables = {}\n",
    "for grad_year in range(2011, 2016):\n",
    "    total_grads = sum(all_grads.grad_year == grad_year)\n",
    "    grads_in_tables = get_graduates_in_snapshots(grad_year, list(dict_all_districts.keys()))\n",
    "    all_grads_in_tables[grad_year] = grads_in_tables\n",
    "    \n",
    "    print(\"total graduates in %d: %d\\t num grads in district tables: %d\" % \n",
    "          (grad_year, total_grads, len(grads_in_tables)))"
   ]
  },
  {
   "cell_type": "code",
   "execution_count": 360,
   "metadata": {
    "collapsed": false
   },
   "outputs": [],
   "source": [
    "def get_student_field_from_districts(student_num, field_name, district_tables = all_districts_copied, \n",
    "                                     flag_if_diff = True):\n",
    "    \"\"\"Search for a value for a particular field (i.e. DOB) for a particular student. If field is missing, go to next \n",
    "       district table in list of tables until some value of field is found. Check that all tables contain the same\n",
    "       value of the given field (where student lookup number is found)\n",
    "       \n",
    "    :param int student_num: student lookup number to search for\n",
    "    :param string field_name: name of a column in which to search for the student's value \n",
    "                              (should not change from year to year)\n",
    "    :param list[Pandas.dataframe] district_tables:  \n",
    "    :return: single value for a given student for the specified field name\n",
    "    :rtype: list[dtype of district_tables.field_name] (should usually be a list of length 1)\n",
    "    \"\"\"\n",
    "    # print(student_num)\n",
    "    student_value = set()\n",
    "    for table in district_tables:\n",
    "        if student_num in table.index: # check if the student exists in the current table\n",
    "            get_student_row = table.loc[student_num][field_name] # get student's full record(s) from table\n",
    "            try: \n",
    "                student_value.add(get_student_row) \n",
    "            except TypeError:\n",
    "                for row in get_student_row: # add each of student's duplicated records separately\n",
    "                    student_value.add(row)\n",
    "    if flag_if_diff:\n",
    "        if (len(student_value) > 1): # check if all existing non-null fields for a particular student match\n",
    "            print(\"Conflicting values for student %d in %s\" % (student_num, field_name))\n",
    "    if len(student_value) == 0:\n",
    "        student_value.add(None)\n",
    "    return(student_value)"
   ]
  },
  {
   "cell_type": "code",
   "execution_count": 361,
   "metadata": {
    "collapsed": false
   },
   "outputs": [
    {
     "name": "stdout",
     "output_type": "stream",
     "text": [
      "Conflicting values for student 38390 in DATE_OF_BIRTH\n",
      "Conflicting values for student 42458 in DATE_OF_BIRTH\n",
      "Conflicting values for student 43056 in DATE_OF_BIRTH\n",
      "Conflicting values for student 43074 in DATE_OF_BIRTH\n",
      "Conflicting values for student 43305 in DATE_OF_BIRTH\n",
      "Conflicting values for student 43498 in DATE_OF_BIRTH\n",
      "CPU times: user 18min 21s, sys: 298 ms, total: 18min 22s\n",
      "Wall time: 18min 57s\n"
     ]
    }
   ],
   "source": [
    "%%time\n",
    "\n",
    "student_num_list = all_grads_in_tables[2015]\n",
    "# table = all_districts_copied[0]\n",
    "field_name = \"DATE_OF_BIRTH\"\n",
    "\n",
    "grads_2015_date_of_birth = {student_num: get_student_field_from_districts(student_num, field_name).pop()\n",
    "                                    for student_num in student_num_list}\n"
   ]
  },
  {
   "cell_type": "code",
   "execution_count": 364,
   "metadata": {
    "collapsed": false
   },
   "outputs": [
    {
     "name": "stdout",
     "output_type": "stream",
     "text": [
      "Conflicting values for student 38390 in DATE_OF_BIRTH\n"
     ]
    },
    {
     "data": {
      "text/plain": [
       "{Timestamp('1995-12-10 00:00:00'), Timestamp('1996-12-10 00:00:00')}"
      ]
     },
     "execution_count": 364,
     "metadata": {},
     "output_type": "execute_result"
    },
    {
     "name": "stdout",
     "output_type": "stream",
     "text": [
      "Conflicting values for student 42458 in DATE_OF_BIRTH\n"
     ]
    },
    {
     "data": {
      "text/plain": [
       "{Timestamp('1997-07-21 00:00:00'), Timestamp('1997-07-27 00:00:00')}"
      ]
     },
     "execution_count": 364,
     "metadata": {},
     "output_type": "execute_result"
    },
    {
     "name": "stdout",
     "output_type": "stream",
     "text": [
      "Conflicting values for student 43056 in DATE_OF_BIRTH\n"
     ]
    },
    {
     "data": {
      "text/plain": [
       "{Timestamp('1996-11-10 00:00:00'), Timestamp('1997-11-10 00:00:00')}"
      ]
     },
     "execution_count": 364,
     "metadata": {},
     "output_type": "execute_result"
    },
    {
     "name": "stdout",
     "output_type": "stream",
     "text": [
      "Conflicting values for student 43074 in DATE_OF_BIRTH\n"
     ]
    },
    {
     "data": {
      "text/plain": [
       "{Timestamp('1996-08-08 00:00:00'), Timestamp('1997-02-05 00:00:00')}"
      ]
     },
     "execution_count": 364,
     "metadata": {},
     "output_type": "execute_result"
    },
    {
     "name": "stdout",
     "output_type": "stream",
     "text": [
      "Conflicting values for student 43305 in DATE_OF_BIRTH\n"
     ]
    },
    {
     "data": {
      "text/plain": [
       "{Timestamp('1996-07-01 00:00:00'), Timestamp('1996-07-11 00:00:00')}"
      ]
     },
     "execution_count": 364,
     "metadata": {},
     "output_type": "execute_result"
    },
    {
     "name": "stdout",
     "output_type": "stream",
     "text": [
      "Conflicting values for student 43498 in DATE_OF_BIRTH\n"
     ]
    },
    {
     "data": {
      "text/plain": [
       "{Timestamp('1997-05-05 00:00:00'), Timestamp('1997-05-22 00:00:00')}"
      ]
     },
     "execution_count": 364,
     "metadata": {},
     "output_type": "execute_result"
    }
   ],
   "source": [
    "get_student_field_from_districts(38390, field_name)\n",
    "get_student_field_from_districts(42458, field_name)\n",
    "get_student_field_from_districts(43056, field_name)\n",
    "get_student_field_from_districts(43074, field_name)\n",
    "get_student_field_from_districts(43305, field_name)\n",
    "get_student_field_from_districts(43498, field_name)"
   ]
  },
  {
   "cell_type": "code",
   "execution_count": 367,
   "metadata": {
    "collapsed": false
   },
   "outputs": [
    {
     "data": {
      "text/plain": [
       "2041"
      ]
     },
     "execution_count": 367,
     "metadata": {},
     "output_type": "execute_result"
    },
    {
     "data": {
      "text/plain": [
       "2041"
      ]
     },
     "execution_count": 367,
     "metadata": {},
     "output_type": "execute_result"
    }
   ],
   "source": [
    "len(student_num_list)\n",
    "len(grads_2015_date_of_birth)"
   ]
  },
  {
   "cell_type": "code",
   "execution_count": 372,
   "metadata": {
    "collapsed": false
   },
   "outputs": [
    {
     "name": "stdout",
     "output_type": "stream",
     "text": [
      "Conflicting values for student 36427 in DATE_OF_BIRTH\n",
      "Conflicting values for student 37174 in DATE_OF_BIRTH\n",
      "Conflicting values for student 41453 in DATE_OF_BIRTH\n",
      "Conflicting values for student 40269 in DATE_OF_BIRTH\n",
      "Conflicting values for student 41793 in DATE_OF_BIRTH\n",
      "CPU times: user 23min 38s, sys: 254 ms, total: 23min 38s\n",
      "Wall time: 24min 20s\n"
     ]
    }
   ],
   "source": [
    "%%time\n",
    "\n",
    "student_num_list = all_grads_in_tables[2014]\n",
    "grads_2014_date_of_birth = {student_num: get_student_field_from_districts(student_num, field_name).pop()\n",
    "                                    for student_num in student_num_list}\n",
    "student_num_list = all_grads_in_tables[2013]\n",
    "grads_2013_date_of_birth = {student_num: get_student_field_from_districts(student_num, field_name).pop()\n",
    "                                    for student_num in student_num_list}\n",
    "student_num_list = all_grads_in_tables[2012]\n",
    "grads_2012_date_of_birth = {student_num: get_student_field_from_districts(student_num, field_name).pop()\n",
    "                                    for student_num in student_num_list}\n",
    "student_num_list = all_grads_in_tables[2011]\n",
    "grads_2011_date_of_birth = {student_num: get_student_field_from_districts(student_num, field_name).pop()\n",
    "                                    for student_num in student_num_list}"
   ]
  },
  {
   "cell_type": "code",
   "execution_count": 433,
   "metadata": {
    "collapsed": false
   },
   "outputs": [
    {
     "name": "stdout",
     "output_type": "stream",
     "text": [
      "CPU times: user 4.42 s, sys: 76.9 ms, total: 4.5 s\n",
      "Wall time: 4.54 s\n"
     ]
    }
   ],
   "source": [
    "%%time\n",
    "\n",
    "years = range(2011, 2016)\n",
    "grads_dateofgraduation = [None] * len(years)\n",
    "for i, gradyear in enumerate(years):\n",
    "    student_num_list = all_grads_in_tables[gradyear]\n",
    "    graduation_dates = {student_num: pd.to_datetime(all_grads.HIGH_SCHOOL_GRAD_DATE.loc[student_num], \n",
    "                                    format = \"%Y%m%d\") for student_num in student_num_list}\n",
    "    grads_dateofgraduation[i] = graduation_dates\n",
    "    \n"
   ]
  },
  {
   "cell_type": "code",
   "execution_count": 397,
   "metadata": {
    "collapsed": false
   },
   "outputs": [],
   "source": [
    "from collections import Counter\n",
    "import matplotlib.pyplot as plt\n",
    "matplotlib.style.use(\"ggplot\")"
   ]
  },
  {
   "cell_type": "code",
   "execution_count": 381,
   "metadata": {
    "collapsed": false
   },
   "outputs": [],
   "source": [
    "grads_2011_birthyear = Counter()\n",
    "for student, dob in grads_2011_date_of_birth.items():\n",
    "    birthyear = dob.year\n",
    "    grads_2011_birthyear[birthyear] += 1\n",
    "grads_2011_birthyear"
   ]
  },
  {
   "cell_type": "code",
   "execution_count": 383,
   "metadata": {
    "collapsed": false
   },
   "outputs": [
    {
     "data": {
      "text/plain": [
       "Counter({1990: 3, 1991: 3, 1992: 33, 1993: 761, 1994: 918, 1995: 8})"
      ]
     },
     "execution_count": 383,
     "metadata": {},
     "output_type": "execute_result"
    }
   ],
   "source": [
    "grads_2012_birthyear = Counter()\n",
    "for student, dob in grads_2012_date_of_birth.items():\n",
    "    birthyear = dob.year\n",
    "    grads_2012_birthyear[birthyear] += 1\n",
    "grads_2012_birthyear"
   ]
  },
  {
   "cell_type": "code",
   "execution_count": 384,
   "metadata": {
    "collapsed": false
   },
   "outputs": [
    {
     "data": {
      "text/plain": [
       "Counter({1991: 4, 1992: 9, 1993: 58, 1994: 855, 1995: 949, 1996: 8})"
      ]
     },
     "execution_count": 384,
     "metadata": {},
     "output_type": "execute_result"
    }
   ],
   "source": [
    "grads_2013_birthyear = Counter()\n",
    "for student, dob in grads_2013_date_of_birth.items():\n",
    "    birthyear = dob.year\n",
    "    grads_2013_birthyear[birthyear] += 1\n",
    "grads_2013_birthyear"
   ]
  },
  {
   "cell_type": "code",
   "execution_count": 385,
   "metadata": {
    "collapsed": false
   },
   "outputs": [
    {
     "data": {
      "text/plain": [
       "Counter({1992: 7, 1993: 10, 1994: 62, 1995: 785, 1996: 849, 1997: 8, 1999: 1})"
      ]
     },
     "execution_count": 385,
     "metadata": {},
     "output_type": "execute_result"
    }
   ],
   "source": [
    "grads_2014_birthyear = Counter()\n",
    "for student, dob in grads_2014_date_of_birth.items():\n",
    "    birthyear = dob.year\n",
    "    grads_2014_birthyear[birthyear] += 1\n",
    "grads_2014_birthyear"
   ]
  },
  {
   "cell_type": "code",
   "execution_count": 386,
   "metadata": {
    "collapsed": false
   },
   "outputs": [
    {
     "data": {
      "text/plain": [
       "Counter({1993: 3, 1994: 5, 1995: 58, 1996: 1007, 1997: 955, 1998: 13})"
      ]
     },
     "execution_count": 386,
     "metadata": {},
     "output_type": "execute_result"
    }
   ],
   "source": [
    "grads_2015_birthyear = Counter()\n",
    "for student, dob in grads_2015_date_of_birth.items():\n",
    "    birthyear = dob.year\n",
    "    grads_2015_birthyear[birthyear] += 1\n",
    "grads_2015_birthyear"
   ]
  },
  {
   "cell_type": "code",
   "execution_count": 440,
   "metadata": {
    "collapsed": false
   },
   "outputs": [
    {
     "data": {
      "text/plain": [
       "[True, True, True, True, True]"
      ]
     },
     "execution_count": 440,
     "metadata": {},
     "output_type": "execute_result"
    }
   ],
   "source": [
    "grads_dateofbirth = [grads_2011_date_of_birth, grads_2012_date_of_birth, grads_2013_date_of_birth,\n",
    "                     grads_2014_date_of_birth, grads_2015_date_of_birth]\n",
    "[a.keys() == b.keys() for a, b in zip(grads_dateofbirth, grads_dateofgraduation)]"
   ]
  },
  {
   "cell_type": "code",
   "execution_count": 493,
   "metadata": {
    "collapsed": true
   },
   "outputs": [],
   "source": [
    "#from dateutil.relativedelta import relativedelta\n",
    "\n",
    "def get_student_age_from_graduation_dates(dateofbirth, dateofgraduation):\n",
    "    \"\"\"Take a list of student lookup numbers mapped to date of birth, join with a list of student lookup numbers\n",
    "       mapped to date of graduation for each student. Build a counter and histogram of age at graduation across \n",
    "       all students.\n",
    "       \n",
    "    :param list[dict{int: Timestamp}] dateofbirth: a list of dicts mapping student lookup numbers \n",
    "                                       to their date of birth\n",
    "    :param list[dict{int: Timestamp}] dateofgraduation: a list of dicts mapping student lookup numbers\n",
    "                                       to their date of HS graduation\n",
    "    :return: counter of students who graduated by each age, and plots a histogram to the screen\n",
    "    :rtype: Counter(int: int)\n",
    "    \"\"\"\n",
    "    \n",
    "    # lists should be in same order (year-to-year) and should have same keys, i.e. same student lookup numbers\n",
    "    assert(len(dateofbirth) == len(dateofgraduation))\n",
    "    assert([a.keys() == b.keys() for a, b in zip(dateofbirth, dateofgraduation)])\n",
    "    \n",
    "    grads_age_at_graduation = Counter()\n",
    "    for dob_list, grad_list in zip(dateofbirth, dateofgraduation):\n",
    "\n",
    "        for student, dob in dob_list.items():\n",
    "            grad_date = grad_list[student]\n",
    "            difference_in_years = relativedelta(grad_date, dob).years # how many years old is student at graduation\n",
    "            grads_age_at_graduation[difference_in_years] += 1\n",
    "    \n",
    "    # plot the histogram of age at graduation distribution\n",
    "    labels, values = zip(*grads_age_at_graduation.items())\n",
    "    values = [x for y, x in sorted(zip(labels, values))]\n",
    "    labels = sorted(labels)\n",
    "    indexes = np.arange(len(labels))\n",
    "    width = 1\n",
    "    plt.bar(indexes, values, width)\n",
    "    plt.xticks(indexes + width * 0.5, labels)\n",
    "    plt.xlabel(\"Age at High School Graduation\")\n",
    "    plt.ylabel(\"Number of Students\")\n",
    "    plt.show()\n",
    "    \n",
    "    return(grads_age_at_graduation)"
   ]
  },
  {
   "cell_type": "code",
   "execution_count": 494,
   "metadata": {
    "collapsed": false
   },
   "outputs": [
    {
     "data": {
      "image/png": "[encoded data removed]",
      "text/plain": [
       "<matplotlib.figure.Figure at 0x7ff2c3e67a58>"
      ]
     },
     "metadata": {},
     "output_type": "display_data"
    }
   ],
   "source": [
    "grads_age_at_graduation = get_student_age_from_graduation_dates(grads_dateofbirth, grads_dateofgraduation)"
   ]
  },
  {
   "cell_type": "code",
   "execution_count": 490,
   "metadata": {
    "collapsed": false
   },
   "outputs": [
    {
     "data": {
      "text/plain": [
       "Counter({15: 1, 16: 10, 17: 1324, 18: 5342, 19: 645, 20: 43, 21: 16, 22: 9})"
      ]
     },
     "execution_count": 490,
     "metadata": {},
     "output_type": "execute_result"
    },
    {
     "data": {
      "text/plain": [
       "[15, 16, 17, 18, 19, 20, 21, 22]"
      ]
     },
     "execution_count": 490,
     "metadata": {},
     "output_type": "execute_result"
    },
    {
     "data": {
      "text/plain": [
       "[1, 10, 1324, 5342, 645, 43, 16, 9]"
      ]
     },
     "execution_count": 490,
     "metadata": {},
     "output_type": "execute_result"
    }
   ],
   "source": [
    "grads_age_at_graduation\n",
    "labels, values = zip(*grads_age_at_graduation.items())\n",
    "values = [x for y, x in sorted(zip(labels, values))]\n",
    "labels = sorted(labels)\n",
    "labels\n",
    "values"
   ]
  },
  {
   "cell_type": "code",
   "execution_count": 486,
   "metadata": {
    "collapsed": false
   },
   "outputs": [
    {
     "name": "stdout",
     "output_type": "stream",
     "text": [
      "[5, 7, 9]\n"
     ]
    }
   ],
   "source": [
    "zipped = zip([1, 2, 3], [4, 5, 6, 7]) # no error thrown when zipped objects are of different lengths\n",
    "print([a+b for a,b in zipped])"
   ]
  },
  {
   "cell_type": "code",
   "execution_count": 453,
   "metadata": {
    "collapsed": false
   },
   "outputs": [
    {
     "data": {
      "text/plain": [
       "Timestamp('2014-05-18 00:00:00')"
      ]
     },
     "execution_count": 453,
     "metadata": {},
     "output_type": "execute_result"
    },
    {
     "data": {
      "text/plain": [
       "Timestamp('1999-05-02 00:00:00')"
      ]
     },
     "execution_count": 453,
     "metadata": {},
     "output_type": "execute_result"
    },
    {
     "data": {
      "text/plain": [
       "15"
      ]
     },
     "execution_count": 453,
     "metadata": {},
     "output_type": "execute_result"
    },
    {
     "name": "stdout",
     "output_type": "stream",
     "text": [
      "Conflicting values for student 36427 in DATE_OF_BIRTH\n"
     ]
    },
    {
     "data": {
      "text/plain": [
       "{Timestamp('1996-05-02 00:00:00'), Timestamp('1999-05-02 00:00:00')}"
      ]
     },
     "execution_count": 453,
     "metadata": {},
     "output_type": "execute_result"
    }
   ],
   "source": [
    "student_num = 36427\n",
    "grad_date = grads_dateofgraduation[3][student_num]\n",
    "grad_date\n",
    "dob = grads_dateofbirth[3][student_num]\n",
    "dob\n",
    "difference_in_years = relativedelta(grad_date, dob).years # how many years old is student at graduation\n",
    "difference_in_years # this student is apparently 15 when graduated? \n",
    "# but this student had conflicting values in the data for their date of birth\n",
    "get_student_field_from_districts(student_num, field_name)\n",
    "# so from these conflicting values, 1996 seems a lot more likely than 1999, given that they graduated in 2014"
   ]
  },
  {
   "cell_type": "code",
   "execution_count": 429,
   "metadata": {
    "collapsed": false
   },
   "outputs": [
    {
     "data": {
      "text/plain": [
       "<Container object of 14 artists>"
      ]
     },
     "execution_count": 429,
     "metadata": {},
     "output_type": "execute_result"
    },
    {
     "data": {
      "text/plain": [
       "<Container object of 14 artists>"
      ]
     },
     "execution_count": 429,
     "metadata": {},
     "output_type": "execute_result"
    },
    {
     "data": {
      "text/plain": [
       "(80, 100)"
      ]
     },
     "execution_count": 429,
     "metadata": {},
     "output_type": "execute_result"
    },
    {
     "data": {
      "text/plain": [
       "([<matplotlib.axis.XTick at 0x7ff2c828bf28>,\n",
       "  <matplotlib.axis.XTick at 0x7ff2c83fbac8>,\n",
       "  <matplotlib.axis.XTick at 0x7ff2c82547f0>,\n",
       "  <matplotlib.axis.XTick at 0x7ff2c82b5b00>,\n",
       "  <matplotlib.axis.XTick at 0x7ff2c82a05f8>,\n",
       "  <matplotlib.axis.XTick at 0x7ff2c8233048>,\n",
       "  <matplotlib.axis.XTick at 0x7ff2c8233f28>,\n",
       "  <matplotlib.axis.XTick at 0x7ff2c823b9b0>,\n",
       "  <matplotlib.axis.XTick at 0x7ff2c8239438>,\n",
       "  <matplotlib.axis.XTick at 0x7ff2c8239e80>,\n",
       "  <matplotlib.axis.XTick at 0x7ff2c823e898>,\n",
       "  <matplotlib.axis.XTick at 0x7ff2c81c1320>,\n",
       "  <matplotlib.axis.XTick at 0x7ff2c81c1d68>,\n",
       "  <matplotlib.axis.XTick at 0x7ff2c81c77f0>],\n",
       " <a list of 14 Text xticklabel objects>)"
      ]
     },
     "execution_count": 429,
     "metadata": {},
     "output_type": "execute_result"
    },
    {
     "data": {
      "text/plain": [
       "<matplotlib.text.Text at 0x7ff2c8288438>"
      ]
     },
     "execution_count": 429,
     "metadata": {},
     "output_type": "execute_result"
    },
    {
     "data": {
      "text/plain": [
       "<matplotlib.text.Text at 0x7ff2c82a0c50>"
      ]
     },
     "execution_count": 429,
     "metadata": {},
     "output_type": "execute_result"
    },
    {
     "data": {
      "text/plain": [
       "<matplotlib.legend.Legend at 0x7ff2c8254860>"
      ]
     },
     "execution_count": 429,
     "metadata": {},
     "output_type": "execute_result"
    },
    {
     "data": {
      "text/plain": [
       "<matplotlib.lines.Line2D at 0x7ff2c8239978>"
      ]
     },
     "execution_count": 429,
     "metadata": {},
     "output_type": "execute_result"
    },
    {
     "data": {
      "image/png": "[encoded data removed]",
      "text/plain": [
       "<matplotlib.figure.Figure at 0x7ff2c82e05f8>"
      ]
     },
     "metadata": {},
     "output_type": "display_data"
    }
   ],
   "source": [
    "grad_4_year_rates = [94.9, 88.9, 89.5, 97.9, 95.3, 92.8, 87.2, 89.4, 90.9, 93.8, 94.5, 90.7, 93.6, 90.4]\n",
    "grad_5_year_rates = [94.1, 97.7, 96.8, 98.0, 95.9, 99.0, 86.7, 85.0, 91.8, 96.7, 93.6, 93.0, 97.6, 92.9]\n",
    "grad_5_year_rates = [x for y, x in sorted(zip(grad_4_year_rates, grad_5_year_rates))]\n",
    "grad_4_year_rates.sort()\n",
    "\n",
    "# arbitrary district codes, these don't match the ones in the data!\n",
    "# fix district codes if reusing plot after deep dive presentation\n",
    "\n",
    "ind = list(range(1,15))\n",
    "shifted_ind = [i + width/2. for i in ind]\n",
    "width = 1.0\n",
    "district_codes = [\"D\" + str(i) for i in ind] \n",
    "plt.bar(ind, grad_4_year_rates, label = \"4 year graduation\", color = \"blue\", align = \"center\", width = width/2.)\n",
    "plt.bar(shifted_ind, grad_5_year_rates, label = \"5 year graduation\", color = \"orange\", align = \"center\", width = width/2.)\n",
    "plt.ylim(80, 100)\n",
    "plt.xticks(shifted_ind, district_codes)\n",
    "plt.xlabel(\"School Districts in MVESC\")\n",
    "plt.ylabel(\"High School Graduation Rate\")\n",
    "plt.legend(loc=5)\n",
    "plt.axhline(y=98, hold=None, color=\"red\")\n",
    "plt.show()"
   ]
  },
  {
   "cell_type": "code",
   "execution_count": 420,
   "metadata": {
    "collapsed": false
   },
   "outputs": [
    {
     "data": {
      "text/plain": [
       "[86.7,\n",
       " 97.7,\n",
       " 85.0,\n",
       " 96.8,\n",
       " 92.9,\n",
       " 93.0,\n",
       " 91.8,\n",
       " 99.0,\n",
       " 97.6,\n",
       " 96.7,\n",
       " 93.6,\n",
       " 94.1,\n",
       " 95.9,\n",
       " 98.0]"
      ]
     },
     "execution_count": 420,
     "metadata": {},
     "output_type": "execute_result"
    }
   ],
   "source": [
    "[x for y, x in sorted(zip(grad_4_year_rates, grad_5_year_rates))]"
   ]
  },
  {
   "cell_type": "code",
   "execution_count": null,
   "metadata": {
    "collapsed": true
   },
   "outputs": [],
   "source": []
  }
 ],
 "metadata": {
  "kernelspec": {
   "display_name": "Python 3",
   "language": "python",
   "name": "python3"
  },
  "language_info": {
   "codemirror_mode": {
    "name": "ipython",
    "version": 3
   },
   "file_extension": ".py",
   "mimetype": "text/x-python",
   "name": "python",
   "nbconvert_exporter": "python",
   "pygments_lexer": "ipython3",
   "version": "3.4.3"
  }
 },
 "nbformat": 4,
 "nbformat_minor": 0
}
