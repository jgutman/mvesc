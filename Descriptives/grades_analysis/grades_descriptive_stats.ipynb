{
 "cells": [
  {
   "cell_type": "code",
   "execution_count": 3,
   "metadata": {
    "collapsed": false
   },
   "outputs": [
    {
     "name": "stdout",
     "output_type": "stream",
     "text": [
      "Using matplotlib backend: agg\n"
     ]
    },
    {
     "name": "stderr",
     "output_type": "stream",
     "text": [
      "/home/jgutman/env/lib/python3.4/site-packages/IPython/core/magics/extension.py:47: UserWarning: %install_ext` is deprecated, please distribute your extension as a python package.\n",
      "  \"as a python package.\", UserWarning)\n"
     ]
    },
    {
     "name": "stdout",
     "output_type": "stream",
     "text": [
      "Installed autotime.py. To use it, type:\n",
      "  %load_ext autotime\n",
      "The autotime extension is already loaded. To reload it, use:\n",
      "  %reload_ext autotime\n",
      "time: 663 ms\n"
     ]
    }
   ],
   "source": [
    "import sys\n",
    "sys.path.append('../ETL')\n",
    "import inspect\n",
    "import numpy as np\n",
    "import pandas as pd\n",
    "import datetime\n",
    "from itertools import chain, groupby\n",
    "import matplotlib.pyplot as plt\n",
    "import matplotlib\n",
    "from pandas.tools.plotting import table\n",
    "matplotlib.style.use('ggplot')\n",
    "get_ipython().magic('matplotlib')\n",
    "from mvesc_utility_functions import *\n",
    "%install_ext https://raw.github.com/cpcloud/ipython-autotime/master/autotime.py\n",
    "%load_ext autotime\n",
    "%matplotlib inline\n",
    "\n",
    "def get_column(connection, column_list, table, schema='clean'):\n",
    "    \"\"\"\n",
    "    Returns a pandas dataframe with student lookup and the given list of columns\n",
    "\n",
    "    :param list column_list: desired list of columns (student lookup automatically included)\n",
    "    :rtype: pandas dataframe\n",
    "    \"\"\" \n",
    "    sqlcmd = (\"\"\"select student_lookup, {cols} from {schema}.\"{table}\";\"\"\"\n",
    "        .format_map({'schema':schema,'table': table, 'cols': ', '.join(column_list)}))\n",
    "    df = pd.read_sql(sqlcmd, connection)\n",
    "    return df\n"
   ]
  },
  {
   "cell_type": "code",
   "execution_count": 14,
   "metadata": {
    "collapsed": false
   },
   "outputs": [
    {
     "name": "stdout",
     "output_type": "stream",
     "text": [
      "time: 13.2 s\n"
     ]
    }
   ],
   "source": [
    "seven_districts = ['Maysville', 'West Muskingum', 'Coshocton', 'Riverview', 'TriValley', 'Franklin', 'Ridgewood']\n",
    "with postgres_pgconnection_generator() as connection:\n",
    "    column_list = [\"course_code\",\"grade\",\"mark\",\"year\"]\n",
    "    grades_query = (\"\"\"select \"StudentLookup\", {cols} from clean.all_grades where district in ('{districts}');\"\"\"\n",
    "        .format_map({'cols': ', '.join(column_list), 'districts': \"', '\".join(seven_districts)}))\n",
    "    grades = pd.read_sql(grades_query, connection)\n"
   ]
  },
  {
   "cell_type": "code",
   "execution_count": 15,
   "metadata": {
    "collapsed": false
   },
   "outputs": [
    {
     "data": {
      "text/plain": [
       "3109620"
      ]
     },
     "execution_count": 15,
     "metadata": {},
     "output_type": "execute_result"
    },
    {
     "name": "stdout",
     "output_type": "stream",
     "text": [
      "time: 5.08 ms\n"
     ]
    }
   ],
   "source": [
    "len(grades)"
   ]
  }
 ],
 "metadata": {
  "kernelspec": {
   "display_name": "Python 3",
   "language": "python",
   "name": "python3"
  },
  "language_info": {
   "codemirror_mode": {
    "name": "ipython",
    "version": 3
   },
   "file_extension": ".py",
   "mimetype": "text/x-python",
   "name": "python",
   "nbconvert_exporter": "python",
   "pygments_lexer": "ipython3",
   "version": "3.4.3"
  }
 },
 "nbformat": 4,
 "nbformat_minor": 0
}
