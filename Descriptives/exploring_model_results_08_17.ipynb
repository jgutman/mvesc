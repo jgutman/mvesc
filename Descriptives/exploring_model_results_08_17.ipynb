{
 "cells": [
  {
   "cell_type": "code",
   "execution_count": 1,
   "metadata": {
    "collapsed": true
   },
   "outputs": [],
   "source": [
    "import os, sys, re, pickle\n",
    "import numpy as np\n",
    "import pandas as pd"
   ]
  },
  {
   "cell_type": "code",
   "execution_count": 2,
   "metadata": {
    "collapsed": true
   },
   "outputs": [],
   "source": [
    "sys.path.insert(0, '/home/jgutman/mvesc/ETL')\n",
    "sys.path.insert(0, '/home/jgutman/mvesc/Models_Results')"
   ]
  },
  {
   "cell_type": "code",
   "execution_count": 3,
   "metadata": {
    "collapsed": true
   },
   "outputs": [],
   "source": [
    "from mvesc_utility_functions import *"
   ]
  },
  {
   "cell_type": "code",
   "execution_count": 4,
   "metadata": {
    "collapsed": true
   },
   "outputs": [],
   "source": [
    "import itertools\n",
    "from my_timer import Timer"
   ]
  },
  {
   "cell_type": "code",
   "execution_count": 5,
   "metadata": {
    "collapsed": true
   },
   "outputs": [],
   "source": [
    "from sklearn.metrics import precision_score, recall_score\n",
    "import matplotlib.pyplot as plt\n",
    "%matplotlib inline"
   ]
  },
  {
   "cell_type": "code",
   "execution_count": 6,
   "metadata": {
    "collapsed": false
   },
   "outputs": [],
   "source": [
    "model_list = [\"'RF'\", \"'logit'\"]\n",
    "batch_date = '08_17_2016'\n",
    "table_name = '_'.join(['best_models', batch_date])\n",
    "outcome = 'definite_plus_ogt'\n",
    "\n",
    "with postgres_pgconnection_generator() as connection:\n",
    "    with connection.cursor() as cursor:\n",
    "        temp_explore_results = \"\"\"\n",
    "        drop table if exists {table};\n",
    "        create temporary table {table} as\n",
    "            select model_name, filename, prediction_grade, label, \n",
    "            val_set, val_recall_5_15, test_set, test_recall_5_15 \n",
    "            from model.reports\n",
    "            where filename in \n",
    "                (select distinct on (prediction_grade, model_name)\n",
    "                filename from model.reports\n",
    "                where filename like '{batch_date}%'\n",
    "                and cv_criterion like 'custom_recall%'\n",
    "                and model_name in ({model_list})\n",
    "                and label like '{outcome}'\n",
    "                order by prediction_grade, model_name, cv_score desc)\n",
    "            and cv_criterion like 'custom_recall%'\n",
    "            order by model_name, prediction_grade;\n",
    "        \"\"\".format(table = table_name, batch_date=batch_date,\n",
    "                      model_list = ', '.join(model_list), outcome = outcome)\n",
    "        cursor.execute(temp_explore_results)\n",
    "        \n",
    "        get_val_test_years = \"\"\"\n",
    "        select prediction_grade, val_set, test_set\n",
    "            from {table} where model_name = {first_model}\n",
    "        \"\"\".format(table = table_name, first_model = model_list[0])\n",
    "        cursor.execute(get_val_test_years)\n",
    "        val_test_years = cursor.fetchall()\n",
    "        \n",
    "        store_outcome_counts = pd.DataFrame(index = [year[0] for year in val_test_years], \n",
    "                columns = ['val_set', 'val_neg', 'val_pos', 'val_pct_pos',\n",
    "                           'test_set', 'test_neg', 'test_pos', 'test_pct_pos'])\n",
    "        for grade, val, test in val_test_years:\n",
    "            get_counts = \"\"\" select count({outcome})\n",
    "                from model.outcome where cohort_{grade}th in ({val}, {test})\n",
    "                and {outcome} is not null\n",
    "                group by (cohort_{grade}th, {outcome})\n",
    "                order by (cohort_{grade}th, {outcome});\n",
    "            \"\"\".format(outcome = outcome, grade = grade, val = val, test = test)\n",
    "            cursor.execute(get_counts)\n",
    "            results = [i[0] for i in cursor.fetchall()]\n",
    "            store_outcome_counts.loc[grade] = [val, results[0], results[1], \n",
    "                results[1]/(results[0]+results[1]), test, results[2], results[3],\n",
    "                results[3]/(results[2]+results[3])]"
   ]
  },
  {
   "cell_type": "code",
   "execution_count": 7,
   "metadata": {
    "collapsed": false
   },
   "outputs": [
    {
     "data": {
      "text/html": [
       "<div>\n",
       "<table border=\"1\" class=\"dataframe\">\n",
       "  <thead>\n",
       "    <tr style=\"text-align: right;\">\n",
       "      <th></th>\n",
       "      <th>val_set</th>\n",
       "      <th>val_neg</th>\n",
       "      <th>val_pos</th>\n",
       "      <th>val_pct_pos</th>\n",
       "      <th>test_set</th>\n",
       "      <th>test_neg</th>\n",
       "      <th>test_pos</th>\n",
       "      <th>test_pct_pos</th>\n",
       "    </tr>\n",
       "  </thead>\n",
       "  <tbody>\n",
       "    <tr>\n",
       "      <th>6</th>\n",
       "      <td>2008</td>\n",
       "      <td>875</td>\n",
       "      <td>107</td>\n",
       "      <td>0.108961</td>\n",
       "      <td>2009</td>\n",
       "      <td>930</td>\n",
       "      <td>88</td>\n",
       "      <td>0.086444</td>\n",
       "    </tr>\n",
       "    <tr>\n",
       "      <th>7</th>\n",
       "      <td>2009</td>\n",
       "      <td>891</td>\n",
       "      <td>110</td>\n",
       "      <td>0.10989</td>\n",
       "      <td>2010</td>\n",
       "      <td>1036</td>\n",
       "      <td>117</td>\n",
       "      <td>0.101474</td>\n",
       "    </tr>\n",
       "    <tr>\n",
       "      <th>8</th>\n",
       "      <td>2010</td>\n",
       "      <td>1113</td>\n",
       "      <td>141</td>\n",
       "      <td>0.11244</td>\n",
       "      <td>2011</td>\n",
       "      <td>1801</td>\n",
       "      <td>226</td>\n",
       "      <td>0.111495</td>\n",
       "    </tr>\n",
       "    <tr>\n",
       "      <th>9</th>\n",
       "      <td>2011</td>\n",
       "      <td>1881</td>\n",
       "      <td>276</td>\n",
       "      <td>0.127955</td>\n",
       "      <td>2012</td>\n",
       "      <td>2037</td>\n",
       "      <td>281</td>\n",
       "      <td>0.121225</td>\n",
       "    </tr>\n",
       "    <tr>\n",
       "      <th>10</th>\n",
       "      <td>2012</td>\n",
       "      <td>1838</td>\n",
       "      <td>252</td>\n",
       "      <td>0.120574</td>\n",
       "      <td>2013</td>\n",
       "      <td>2034</td>\n",
       "      <td>252</td>\n",
       "      <td>0.110236</td>\n",
       "    </tr>\n",
       "  </tbody>\n",
       "</table>\n",
       "</div>"
      ],
      "text/plain": [
       "   val_set val_neg val_pos val_pct_pos test_set test_neg test_pos test_pct_pos\n",
       "6     2008     875     107    0.108961     2009      930       88     0.086444\n",
       "7     2009     891     110     0.10989     2010     1036      117     0.101474\n",
       "8     2010    1113     141     0.11244     2011     1801      226     0.111495\n",
       "9     2011    1881     276    0.127955     2012     2037      281     0.121225\n",
       "10    2012    1838     252    0.120574     2013     2034      252     0.110236"
      ]
     },
     "execution_count": 7,
     "metadata": {},
     "output_type": "execute_result"
    }
   ],
   "source": [
    "store_outcome_counts"
   ]
  },
  {
   "cell_type": "code",
   "execution_count": 8,
   "metadata": {
    "collapsed": true
   },
   "outputs": [],
   "source": [
    "def color_gt(val,x=.5,c='blue',neg=True):\n",
    "    \"\"\"\n",
    "    Colors values greater than x blue (or other provided color)\n",
    "    \n",
    "    :param float x: lower bound on colored values\n",
    "    :param str c: color\n",
    "    :param bool neg: if true, color negative values red\n",
    "    :returns: css string to color values in dataframe\n",
    "    :rtype: str\n",
    "    \"\"\"\n",
    "    \n",
    "    if val > x:\n",
    "        color = c \n",
    "    elif val < 0:\n",
    "        color = 'red' \n",
    "    else: color = 'black'\n",
    "    return 'color: %s' % color\n",
    "\n",
    "def table_exists(cursor, table, schema='clean'):\n",
    "    \"\"\"\n",
    "    Checks to see if a table exists in the database\n",
    "    \n",
    "    :param pg.cursor cursor: \n",
    "    :param str table:\n",
    "    :param str schema:\n",
    "    :rtype: bool\n",
    "    \"\"\"\n",
    "    cursor.execute(\"\"\"                                                   \n",
    "            select count(*) from information_schema.tables                       \n",
    "            where table_schema = %s and table_name = %s\n",
    "            \"\"\", [schema, table])\n",
    "    return cursor.fetchall()[0][0]"
   ]
  },
  {
   "cell_type": "code",
   "execution_count": 9,
   "metadata": {
    "collapsed": true
   },
   "outputs": [],
   "source": [
    "def plot_metric(y_scores, y_true, ax, gr, max_k, metric='recall'):\n",
    "    if type(y_scores) != pd.core.series.Series:\n",
    "        try:\n",
    "            y_scores = pd.Series(y_scores)\n",
    "        except:\n",
    "            print('y_scores must be a Series or a DataFrame')\n",
    "            sys.exit(1)\n",
    "            \n",
    "    n = int(len(y_scores)*(max_k))\n",
    "    curve = np.zeros([n,1])\n",
    "    ranks = y_scores.rank(method='first', ascending=False)\n",
    "    if metric=='recall':\n",
    "        scorer = recall_score\n",
    "    elif metric=='precision':\n",
    "        scorer = precision_score\n",
    "    else:\n",
    "        print('metric not found')\n",
    "    for i in range(n):\n",
    "        pred = pd.Series([1 if r <= i+1 else 0 for r in ranks])\n",
    "        curve[i] = scorer(y_true, pred)\n",
    "    \n",
    "    percents = (np.arange(n)+1)/len(y_scores)\n",
    "    ax.plot(percents, curve, label = str(gr))"
   ]
  },
  {
   "cell_type": "code",
   "execution_count": 10,
   "metadata": {
    "collapsed": false
   },
   "outputs": [
    {
     "name": "stdout",
     "output_type": "stream",
     "text": [
      "0       08_17_2016_grade_6_param_set_8_logit_jg_97\n",
      "1     08_17_2016_grade_7_param_set_17_logit_jg_100\n",
      "2     08_17_2016_grade_8_param_set_16_logit_jg_111\n",
      "3     08_17_2016_grade_9_param_set_22_logit_jg_127\n",
      "4    08_17_2016_grade_10_param_set_22_logit_jg_123\n",
      "5         08_17_2016_grade_6_param_set_8_RF_jg_136\n",
      "6        08_17_2016_grade_7_param_set_17_RF_jg_138\n",
      "7        08_17_2016_grade_8_param_set_16_RF_jg_161\n",
      "8        08_17_2016_grade_9_param_set_22_RF_jg_171\n",
      "9       08_17_2016_grade_10_param_set_16_RF_jg_139\n",
      "Name: filename, dtype: object\n"
     ]
    }
   ],
   "source": [
    "with postgres_pgconnection_generator() as connection:\n",
    "    with connection.cursor() as cursor:\n",
    "        select_models = \"\"\"\n",
    "        select * from model.reports where filename in \n",
    "        (select distinct on (prediction_grade, model_name) \n",
    "            filename from model.reports\n",
    "            where filename like '08_17_2016%'\n",
    "            and cv_criterion like 'custom_recall%'\n",
    "            order by prediction_grade, model_name, cv_score desc)\n",
    "        and cv_criterion like 'custom_recall%'\n",
    "        order by model_name, prediction_grade;\n",
    "        \"\"\"\n",
    "        cursor.execute(select_models)\n",
    "        results_raw = cursor.fetchall()\n",
    "        cols = [desc[0] for desc in cursor.description]\n",
    "results = pd.DataFrame(results_raw, columns=cols)\n",
    "print(results.filename)"
   ]
  },
  {
   "cell_type": "code",
   "execution_count": 23,
   "metadata": {
    "collapsed": false
   },
   "outputs": [
    {
     "name": "stdout",
     "output_type": "stream",
     "text": [
      "model logit grade 6: time 22.76857280731201\n",
      "model logit grade 7: time 23.334986448287964\n",
      "model logit grade 8: time 23.913077354431152\n",
      "model logit grade 9: time 24.46123218536377\n",
      "model logit grade 10: time 25.019453048706055\n",
      "model RF grade 6: time 25.533109426498413\n",
      "model RF grade 7: time 26.064043283462524\n",
      "model RF grade 8: time 26.614065647125244\n",
      "model RF grade 9: time 27.190630197525024\n",
      "model RF grade 10: time 27.752886533737183\n",
      "reading_in_predictions: 2.8e+01 seconds elapsed\n"
     ]
    }
   ],
   "source": [
    "scores_list = dict()\n",
    "scores = dict()\n",
    "y_list = dict()\n",
    "y = dict()\n",
    "grade_range = pd.unique(results.prediction_grade)\n",
    "\n",
    "with Timer('reading_in_predictions') as t:\n",
    "    with postgres_pgconnection_generator() as connection:\n",
    "        with connection.cursor() as cursor:\n",
    "            for (filename, model, gr) in \\\n",
    "                    zip(results.filename, results.model_name, results.prediction_grade):\n",
    "                cursor.execute(\"\"\"\n",
    "                select student_lookup, true_label, predicted_score, split \n",
    "                from model.predictions_new\n",
    "                where filename = '{}' \n",
    "                and split != 'train';\"\"\".format(filename))\n",
    "                temp = pd.DataFrame.from_records(cursor.fetchall(), \n",
    "                    columns = [i[0] for i in cursor.description],\n",
    "                    index = 'student_lookup')\n",
    "                if model not in scores_list:\n",
    "                    scores_list[model] = list()\n",
    "                    y_list[model] = list()\n",
    "                scores_list[model].append(pd.DataFrame(temp.predicted_score))\n",
    "                y_list[model].append(pd.DataFrame(temp.true_label))\n",
    "                run_time = t.time_check()\n",
    "                print('model {0} grade {1}: time {2}'.format(model, gr, run_time))"
   ]
  },
  {
   "cell_type": "code",
   "execution_count": 24,
   "metadata": {
    "collapsed": false
   },
   "outputs": [],
   "source": [
    "for model in pd.unique(results.model_name):\n",
    "    for i, gr in enumerate(grade_range):\n",
    "        scores_list[model][i].rename(columns = {\n",
    "            'predicted_score': 'predicted_score_{0}'.format(gr)}, inplace=True)\n",
    "        y_list[model][i].rename(columns = {\n",
    "            'true_label': 'true_label_{0}'.format(gr)}, inplace=True)\n",
    "\n",
    "    scores[model] = scores_list[model][0]\n",
    "    y[model] = y_list[model][0]\n",
    "    for df in scores_list[model][1:]:\n",
    "        scores[model] = scores[model].join(df, how='inner')        \n",
    "    for df in y_list[model][1:]:\n",
    "        y[model] = y[model].join(df, how='inner')"
   ]
  },
  {
   "cell_type": "code",
   "execution_count": 32,
   "metadata": {
    "collapsed": false
   },
   "outputs": [
    {
     "data": {
      "text/html": [
       "<div>\n",
       "<table border=\"1\" class=\"dataframe\">\n",
       "  <thead>\n",
       "    <tr style=\"text-align: right;\">\n",
       "      <th></th>\n",
       "      <th>predicted_score_6</th>\n",
       "      <th>predicted_score_7</th>\n",
       "      <th>predicted_score_8</th>\n",
       "      <th>predicted_score_9</th>\n",
       "      <th>predicted_score_10</th>\n",
       "    </tr>\n",
       "    <tr>\n",
       "      <th>student_lookup</th>\n",
       "      <th></th>\n",
       "      <th></th>\n",
       "      <th></th>\n",
       "      <th></th>\n",
       "      <th></th>\n",
       "    </tr>\n",
       "  </thead>\n",
       "  <tbody>\n",
       "    <tr>\n",
       "      <th>12524.0</th>\n",
       "      <td>0.607354</td>\n",
       "      <td>0.522992</td>\n",
       "      <td>0.607711</td>\n",
       "      <td>0.562833</td>\n",
       "      <td>0.684964</td>\n",
       "    </tr>\n",
       "    <tr>\n",
       "      <th>269.0</th>\n",
       "      <td>0.025179</td>\n",
       "      <td>0.041288</td>\n",
       "      <td>0.007333</td>\n",
       "      <td>0.000667</td>\n",
       "      <td>0.020828</td>\n",
       "    </tr>\n",
       "    <tr>\n",
       "      <th>286.0</th>\n",
       "      <td>0.100005</td>\n",
       "      <td>0.103867</td>\n",
       "      <td>0.002750</td>\n",
       "      <td>0.004667</td>\n",
       "      <td>0.061586</td>\n",
       "    </tr>\n",
       "    <tr>\n",
       "      <th>596.0</th>\n",
       "      <td>0.034607</td>\n",
       "      <td>0.052583</td>\n",
       "      <td>0.123260</td>\n",
       "      <td>0.019786</td>\n",
       "      <td>0.193518</td>\n",
       "    </tr>\n",
       "    <tr>\n",
       "      <th>624.0</th>\n",
       "      <td>0.681687</td>\n",
       "      <td>0.608800</td>\n",
       "      <td>0.575310</td>\n",
       "      <td>0.446617</td>\n",
       "      <td>0.562096</td>\n",
       "    </tr>\n",
       "  </tbody>\n",
       "</table>\n",
       "</div>"
      ],
      "text/plain": [
       "                predicted_score_6  predicted_score_7  predicted_score_8  \\\n",
       "student_lookup                                                            \n",
       "12524.0                  0.607354           0.522992           0.607711   \n",
       "269.0                    0.025179           0.041288           0.007333   \n",
       "286.0                    0.100005           0.103867           0.002750   \n",
       "596.0                    0.034607           0.052583           0.123260   \n",
       "624.0                    0.681687           0.608800           0.575310   \n",
       "\n",
       "                predicted_score_9  predicted_score_10  \n",
       "student_lookup                                         \n",
       "12524.0                  0.562833            0.684964  \n",
       "269.0                    0.000667            0.020828  \n",
       "286.0                    0.004667            0.061586  \n",
       "596.0                    0.019786            0.193518  \n",
       "624.0                    0.446617            0.562096  "
      ]
     },
     "execution_count": 32,
     "metadata": {},
     "output_type": "execute_result"
    }
   ],
   "source": [
    "scores['RF'].head()"
   ]
  },
  {
   "cell_type": "code",
   "execution_count": 33,
   "metadata": {
    "collapsed": false
   },
   "outputs": [
    {
     "data": {
      "text/html": [
       "<div>\n",
       "<table border=\"1\" class=\"dataframe\">\n",
       "  <thead>\n",
       "    <tr style=\"text-align: right;\">\n",
       "      <th></th>\n",
       "      <th>predicted_score_6</th>\n",
       "      <th>predicted_score_7</th>\n",
       "      <th>predicted_score_8</th>\n",
       "      <th>predicted_score_9</th>\n",
       "      <th>predicted_score_10</th>\n",
       "    </tr>\n",
       "    <tr>\n",
       "      <th>student_lookup</th>\n",
       "      <th></th>\n",
       "      <th></th>\n",
       "      <th></th>\n",
       "      <th></th>\n",
       "      <th></th>\n",
       "    </tr>\n",
       "  </thead>\n",
       "  <tbody>\n",
       "    <tr>\n",
       "      <th>12524.0</th>\n",
       "      <td>0.517524</td>\n",
       "      <td>0.405282</td>\n",
       "      <td>0.667096</td>\n",
       "      <td>0.467770</td>\n",
       "      <td>0.521509</td>\n",
       "    </tr>\n",
       "    <tr>\n",
       "      <th>269.0</th>\n",
       "      <td>0.025756</td>\n",
       "      <td>0.023818</td>\n",
       "      <td>0.003944</td>\n",
       "      <td>0.003294</td>\n",
       "      <td>0.002252</td>\n",
       "    </tr>\n",
       "    <tr>\n",
       "      <th>286.0</th>\n",
       "      <td>0.127087</td>\n",
       "      <td>0.025698</td>\n",
       "      <td>0.013667</td>\n",
       "      <td>0.004812</td>\n",
       "      <td>0.009442</td>\n",
       "    </tr>\n",
       "    <tr>\n",
       "      <th>596.0</th>\n",
       "      <td>0.011886</td>\n",
       "      <td>0.011378</td>\n",
       "      <td>0.048726</td>\n",
       "      <td>0.022327</td>\n",
       "      <td>0.062994</td>\n",
       "    </tr>\n",
       "    <tr>\n",
       "      <th>624.0</th>\n",
       "      <td>0.548608</td>\n",
       "      <td>0.428403</td>\n",
       "      <td>0.644857</td>\n",
       "      <td>0.417857</td>\n",
       "      <td>0.531235</td>\n",
       "    </tr>\n",
       "  </tbody>\n",
       "</table>\n",
       "</div>"
      ],
      "text/plain": [
       "                predicted_score_6  predicted_score_7  predicted_score_8  \\\n",
       "student_lookup                                                            \n",
       "12524.0                  0.517524           0.405282           0.667096   \n",
       "269.0                    0.025756           0.023818           0.003944   \n",
       "286.0                    0.127087           0.025698           0.013667   \n",
       "596.0                    0.011886           0.011378           0.048726   \n",
       "624.0                    0.548608           0.428403           0.644857   \n",
       "\n",
       "                predicted_score_9  predicted_score_10  \n",
       "student_lookup                                         \n",
       "12524.0                  0.467770            0.521509  \n",
       "269.0                    0.003294            0.002252  \n",
       "286.0                    0.004812            0.009442  \n",
       "596.0                    0.022327            0.062994  \n",
       "624.0                    0.417857            0.531235  "
      ]
     },
     "execution_count": 33,
     "metadata": {},
     "output_type": "execute_result"
    }
   ],
   "source": [
    "scores['logit'].head()"
   ]
  },
  {
   "cell_type": "code",
   "execution_count": null,
   "metadata": {
    "collapsed": true
   },
   "outputs": [],
   "source": []
  }
 ],
 "metadata": {
  "kernelspec": {
   "display_name": "Python 3",
   "language": "python",
   "name": "python3"
  },
  "language_info": {
   "codemirror_mode": {
    "name": "ipython",
    "version": 3
   },
   "file_extension": ".py",
   "mimetype": "text/x-python",
   "name": "python",
   "nbconvert_exporter": "python",
   "pygments_lexer": "ipython3",
   "version": "3.4.3"
  }
 },
 "nbformat": 4,
 "nbformat_minor": 0
}
