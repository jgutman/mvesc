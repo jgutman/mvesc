{
 "cells": [
  {
   "cell_type": "code",
   "execution_count": 1,
   "metadata": {
    "collapsed": true
   },
   "outputs": [],
   "source": [
    "import os, sys, re, pickle\n",
    "import numpy as np\n",
    "import pandas as pd"
   ]
  },
  {
   "cell_type": "code",
   "execution_count": 2,
   "metadata": {
    "collapsed": true
   },
   "outputs": [],
   "source": [
    "sys.path.insert(0, '/home/jgutman/mvesc/ETL')\n",
    "sys.path.insert(0, '/home/jgutman/mvesc/Models_Results')"
   ]
  },
  {
   "cell_type": "code",
   "execution_count": 3,
   "metadata": {
    "collapsed": true
   },
   "outputs": [],
   "source": [
    "from mvesc_utility_functions import *"
   ]
  },
  {
   "cell_type": "code",
   "execution_count": 7,
   "metadata": {
    "collapsed": false
   },
   "outputs": [],
   "source": [
    "model_list = [\"'RF'\", \"'logit'\"]\n",
    "batch_date = '08_17_2016'\n",
    "table_name = '_'.join(['best_models', batch_date])\n",
    "outcome = 'definite_plus_ogt'\n",
    "\n",
    "with postgres_pgconnection_generator() as connection:\n",
    "    with connection.cursor() as cursor:\n",
    "        temp_explore_results = \"\"\"\n",
    "        drop table if exists {table};\n",
    "        create temporary table {table} as\n",
    "            select model_name, filename, prediction_grade, label, \n",
    "            val_set, val_recall_5_15, test_set, test_recall_5_15 \n",
    "            from model.reports\n",
    "            where filename in \n",
    "                (select distinct on (prediction_grade, model_name)\n",
    "                filename from model.reports\n",
    "                where filename like '{batch_date}%'\n",
    "                and cv_criterion like 'custom_recall%'\n",
    "                and model_name in ({model_list})\n",
    "                and label like '{outcome}'\n",
    "                order by prediction_grade, model_name, cv_score desc)\n",
    "            and cv_criterion like 'custom_recall%'\n",
    "            order by model_name, prediction_grade;\n",
    "        \"\"\".format(table = table_name, batch_date=batch_date,\n",
    "                      model_list = ', '.join(model_list), outcome = outcome)\n",
    "        cursor.execute(temp_explore_results)\n",
    "        \n",
    "        get_val_test_years = \"\"\"\n",
    "        select prediction_grade, val_set, test_set\n",
    "            from {table} where model_name = {first_model}\n",
    "        \"\"\".format(table = table_name, first_model = model_list[0])\n",
    "        cursor.execute(get_val_test_years)\n",
    "        val_test_years = cursor.fetchall()\n",
    "        \n",
    "        store_outcome_counts = pd.DataFrame(index = [year[0] for year in val_test_years], \n",
    "                columns = ['val_set', 'val_neg', 'val_pos', 'val_pct_pos',\n",
    "                           'test_set', 'test_neg', 'test_pos', 'test_pct_pos'])\n",
    "        for grade, val, test in val_test_years:\n",
    "            get_counts = \"\"\" select count({outcome})\n",
    "                from model.outcome where cohort_{grade}th in ({val}, {test})\n",
    "                and {outcome} is not null\n",
    "                group by (cohort_{grade}th, {outcome})\n",
    "                order by (cohort_{grade}th, {outcome});\n",
    "            \"\"\".format(outcome = outcome, grade = grade, val = val, test = test)\n",
    "            cursor.execute(get_counts)\n",
    "            results = [i[0] for i in cursor.fetchall()]\n",
    "            store_outcome_counts.loc[grade] = [val, results[0], results[1], \n",
    "                results[1]/(results[0]+results[1]), test, results[2], results[3],\n",
    "                results[3]/(results[2]+results[3])]"
   ]
  },
  {
   "cell_type": "code",
   "execution_count": 8,
   "metadata": {
    "collapsed": false
   },
   "outputs": [
    {
     "data": {
      "text/html": [
       "<div>\n",
       "<table border=\"1\" class=\"dataframe\">\n",
       "  <thead>\n",
       "    <tr style=\"text-align: right;\">\n",
       "      <th></th>\n",
       "      <th>val_set</th>\n",
       "      <th>val_neg</th>\n",
       "      <th>val_pos</th>\n",
       "      <th>val_pct_pos</th>\n",
       "      <th>test_set</th>\n",
       "      <th>test_neg</th>\n",
       "      <th>test_pos</th>\n",
       "      <th>test_pct_pos</th>\n",
       "    </tr>\n",
       "  </thead>\n",
       "  <tbody>\n",
       "    <tr>\n",
       "      <th>6</th>\n",
       "      <td>2008</td>\n",
       "      <td>875</td>\n",
       "      <td>107</td>\n",
       "      <td>0.108961</td>\n",
       "      <td>2009</td>\n",
       "      <td>930</td>\n",
       "      <td>88</td>\n",
       "      <td>0.086444</td>\n",
       "    </tr>\n",
       "    <tr>\n",
       "      <th>7</th>\n",
       "      <td>2009</td>\n",
       "      <td>891</td>\n",
       "      <td>110</td>\n",
       "      <td>0.10989</td>\n",
       "      <td>2010</td>\n",
       "      <td>1036</td>\n",
       "      <td>117</td>\n",
       "      <td>0.101474</td>\n",
       "    </tr>\n",
       "    <tr>\n",
       "      <th>8</th>\n",
       "      <td>2010</td>\n",
       "      <td>1113</td>\n",
       "      <td>141</td>\n",
       "      <td>0.11244</td>\n",
       "      <td>2011</td>\n",
       "      <td>1801</td>\n",
       "      <td>226</td>\n",
       "      <td>0.111495</td>\n",
       "    </tr>\n",
       "    <tr>\n",
       "      <th>9</th>\n",
       "      <td>2011</td>\n",
       "      <td>1881</td>\n",
       "      <td>276</td>\n",
       "      <td>0.127955</td>\n",
       "      <td>2012</td>\n",
       "      <td>2037</td>\n",
       "      <td>281</td>\n",
       "      <td>0.121225</td>\n",
       "    </tr>\n",
       "    <tr>\n",
       "      <th>10</th>\n",
       "      <td>2012</td>\n",
       "      <td>1838</td>\n",
       "      <td>252</td>\n",
       "      <td>0.120574</td>\n",
       "      <td>2013</td>\n",
       "      <td>2034</td>\n",
       "      <td>252</td>\n",
       "      <td>0.110236</td>\n",
       "    </tr>\n",
       "  </tbody>\n",
       "</table>\n",
       "</div>"
      ],
      "text/plain": [
       "   val_set val_neg val_pos val_pct_pos test_set test_neg test_pos test_pct_pos\n",
       "6     2008     875     107    0.108961     2009      930       88     0.086444\n",
       "7     2009     891     110     0.10989     2010     1036      117     0.101474\n",
       "8     2010    1113     141     0.11244     2011     1801      226     0.111495\n",
       "9     2011    1881     276    0.127955     2012     2037      281     0.121225\n",
       "10    2012    1838     252    0.120574     2013     2034      252     0.110236"
      ]
     },
     "execution_count": 8,
     "metadata": {},
     "output_type": "execute_result"
    }
   ],
   "source": [
    "store_outcome_counts"
   ]
  },
  {
   "cell_type": "code",
   "execution_count": null,
   "metadata": {
    "collapsed": true
   },
   "outputs": [],
   "source": []
  }
 ],
 "metadata": {
  "kernelspec": {
   "display_name": "Python 3",
   "language": "python",
   "name": "python3"
  },
  "language_info": {
   "codemirror_mode": {
    "name": "ipython",
    "version": 3
   },
   "file_extension": ".py",
   "mimetype": "text/x-python",
   "name": "python",
   "nbconvert_exporter": "python",
   "pygments_lexer": "ipython3",
   "version": "3.4.3"
  }
 },
 "nbformat": 4,
 "nbformat_minor": 0
}
