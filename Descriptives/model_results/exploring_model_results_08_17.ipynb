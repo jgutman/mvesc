{
 "cells": [
  {
   "cell_type": "code",
   "execution_count": 1,
   "metadata": {
    "collapsed": true
   },
   "outputs": [],
   "source": [
    "import os, sys, re, pickle\n",
    "import numpy as np\n",
    "import pandas as pd"
   ]
  },
  {
   "cell_type": "code",
   "execution_count": 2,
   "metadata": {
    "collapsed": true
   },
   "outputs": [],
   "source": [
    "sys.path.insert(0, '/home/jgutman/mvesc/ETL')\n",
    "sys.path.insert(0, '/home/jgutman/mvesc/Models_Results')"
   ]
  },
  {
   "cell_type": "code",
   "execution_count": 3,
   "metadata": {
    "collapsed": true
   },
   "outputs": [],
   "source": [
    "from mvesc_utility_functions import *"
   ]
  },
  {
   "cell_type": "code",
   "execution_count": 4,
   "metadata": {
    "collapsed": true
   },
   "outputs": [],
   "source": [
    "import itertools\n",
    "from my_timer import Timer"
   ]
  },
  {
   "cell_type": "code",
   "execution_count": 5,
   "metadata": {
    "collapsed": true
   },
   "outputs": [],
   "source": [
    "from save_reports import *"
   ]
  },
  {
   "cell_type": "code",
   "execution_count": 6,
   "metadata": {
    "collapsed": true
   },
   "outputs": [],
   "source": [
    "#from IPython.core.interactiveshell import InteractiveShell\n",
    "#InteractiveShell.ast_node_interactivity = \"all\""
   ]
  },
  {
   "cell_type": "code",
   "execution_count": 7,
   "metadata": {
    "collapsed": true
   },
   "outputs": [],
   "source": [
    "from sklearn.metrics import precision_score, recall_score\n",
    "import matplotlib.pyplot as plt\n",
    "%matplotlib inline"
   ]
  },
  {
   "cell_type": "code",
   "execution_count": 8,
   "metadata": {
    "collapsed": false
   },
   "outputs": [],
   "source": [
    "model_list = [\"'RF'\", \"'logit'\"]\n",
    "batch_date = '08_17_2016'\n",
    "table_name = '_'.join(['best_models', batch_date])\n",
    "outcome = 'definite_plus_ogt'\n",
    "\n",
    "with postgres_pgconnection_generator() as connection:\n",
    "    with connection.cursor() as cursor:\n",
    "        temp_explore_results = \"\"\"\n",
    "        drop table if exists {table};\n",
    "        create temporary table {table} as\n",
    "            select model_name, filename, prediction_grade, label, \n",
    "            val_set, val_recall_5_15, test_set, test_recall_5_15 \n",
    "            from model.reports\n",
    "            where filename in \n",
    "                (select distinct on (prediction_grade, model_name)\n",
    "                filename from model.reports\n",
    "                where filename like '{batch_date}%'\n",
    "                and cv_criterion like 'custom_recall%'\n",
    "                and model_name in ({model_list})\n",
    "                and label like '{outcome}'\n",
    "                order by prediction_grade, model_name, cv_score desc)\n",
    "            and cv_criterion like 'custom_recall%'\n",
    "            order by model_name, prediction_grade;\n",
    "        \"\"\".format(table = table_name, batch_date=batch_date,\n",
    "                      model_list = ', '.join(model_list), outcome = outcome)\n",
    "        cursor.execute(temp_explore_results)\n",
    "        \n",
    "        get_val_test_years = \"\"\"\n",
    "        select prediction_grade, val_set, test_set\n",
    "            from {table} where model_name = {first_model}\n",
    "        \"\"\".format(table = table_name, first_model = model_list[0])\n",
    "        cursor.execute(get_val_test_years)\n",
    "        val_test_years = cursor.fetchall()\n",
    "        \n",
    "        store_outcome_counts = pd.DataFrame(index = [year[0] for year in val_test_years], \n",
    "                columns = ['val_set', 'val_neg', 'val_pos', 'val_pct_pos',\n",
    "                           'test_set', 'test_neg', 'test_pos', 'test_pct_pos'])\n",
    "        for grade, val, test in val_test_years:\n",
    "            get_counts = \"\"\" select count({outcome})\n",
    "                from model.outcome where cohort_{grade}th in ({val}, {test})\n",
    "                and {outcome} is not null\n",
    "                group by (cohort_{grade}th, {outcome})\n",
    "                order by (cohort_{grade}th, {outcome});\n",
    "            \"\"\".format(outcome = outcome, grade = grade, val = val, test = test)\n",
    "            cursor.execute(get_counts)\n",
    "            results = [i[0] for i in cursor.fetchall()]\n",
    "            store_outcome_counts.loc[grade] = [val, results[0], results[1], \n",
    "                results[1]/(results[0]+results[1]), test, results[2], results[3],\n",
    "                results[3]/(results[2]+results[3])]"
   ]
  },
  {
   "cell_type": "code",
   "execution_count": 9,
   "metadata": {
    "collapsed": false
   },
   "outputs": [
    {
     "data": {
      "text/html": [
       "<div>\n",
       "<table border=\"1\" class=\"dataframe\">\n",
       "  <thead>\n",
       "    <tr style=\"text-align: right;\">\n",
       "      <th></th>\n",
       "      <th>val_set</th>\n",
       "      <th>val_neg</th>\n",
       "      <th>val_pos</th>\n",
       "      <th>val_pct_pos</th>\n",
       "      <th>test_set</th>\n",
       "      <th>test_neg</th>\n",
       "      <th>test_pos</th>\n",
       "      <th>test_pct_pos</th>\n",
       "    </tr>\n",
       "  </thead>\n",
       "  <tbody>\n",
       "    <tr>\n",
       "      <th>6</th>\n",
       "      <td>2008</td>\n",
       "      <td>875</td>\n",
       "      <td>107</td>\n",
       "      <td>0.108961</td>\n",
       "      <td>2009</td>\n",
       "      <td>930</td>\n",
       "      <td>88</td>\n",
       "      <td>0.086444</td>\n",
       "    </tr>\n",
       "    <tr>\n",
       "      <th>7</th>\n",
       "      <td>2009</td>\n",
       "      <td>891</td>\n",
       "      <td>110</td>\n",
       "      <td>0.10989</td>\n",
       "      <td>2010</td>\n",
       "      <td>1036</td>\n",
       "      <td>117</td>\n",
       "      <td>0.101474</td>\n",
       "    </tr>\n",
       "    <tr>\n",
       "      <th>8</th>\n",
       "      <td>2010</td>\n",
       "      <td>1113</td>\n",
       "      <td>141</td>\n",
       "      <td>0.11244</td>\n",
       "      <td>2011</td>\n",
       "      <td>1801</td>\n",
       "      <td>226</td>\n",
       "      <td>0.111495</td>\n",
       "    </tr>\n",
       "    <tr>\n",
       "      <th>9</th>\n",
       "      <td>2011</td>\n",
       "      <td>1881</td>\n",
       "      <td>276</td>\n",
       "      <td>0.127955</td>\n",
       "      <td>2012</td>\n",
       "      <td>2037</td>\n",
       "      <td>281</td>\n",
       "      <td>0.121225</td>\n",
       "    </tr>\n",
       "    <tr>\n",
       "      <th>10</th>\n",
       "      <td>2012</td>\n",
       "      <td>1838</td>\n",
       "      <td>252</td>\n",
       "      <td>0.120574</td>\n",
       "      <td>2013</td>\n",
       "      <td>2034</td>\n",
       "      <td>252</td>\n",
       "      <td>0.110236</td>\n",
       "    </tr>\n",
       "  </tbody>\n",
       "</table>\n",
       "</div>"
      ],
      "text/plain": [
       "   val_set val_neg val_pos val_pct_pos test_set test_neg test_pos test_pct_pos\n",
       "6     2008     875     107    0.108961     2009      930       88     0.086444\n",
       "7     2009     891     110     0.10989     2010     1036      117     0.101474\n",
       "8     2010    1113     141     0.11244     2011     1801      226     0.111495\n",
       "9     2011    1881     276    0.127955     2012     2037      281     0.121225\n",
       "10    2012    1838     252    0.120574     2013     2034      252     0.110236"
      ]
     },
     "execution_count": 9,
     "metadata": {},
     "output_type": "execute_result"
    }
   ],
   "source": [
    "store_outcome_counts"
   ]
  },
  {
   "cell_type": "code",
   "execution_count": 10,
   "metadata": {
    "collapsed": true
   },
   "outputs": [],
   "source": [
    "def color_gt(val,x=.5,c='blue',neg=True):\n",
    "    \"\"\"\n",
    "    Colors values greater than x blue (or other provided color)\n",
    "    \n",
    "    :param float x: lower bound on colored values\n",
    "    :param str c: color\n",
    "    :param bool neg: if true, color negative values red\n",
    "    :returns: css string to color values in dataframe\n",
    "    :rtype: str\n",
    "    \"\"\"\n",
    "    \n",
    "    if val > x:\n",
    "        color = c \n",
    "    elif val < 0:\n",
    "        color = 'red' \n",
    "    else: color = 'black'\n",
    "    return 'color: %s' % color\n",
    "\n",
    "def table_exists(cursor, table, schema='clean'):\n",
    "    \"\"\"\n",
    "    Checks to see if a table exists in the database\n",
    "    \n",
    "    :param pg.cursor cursor: \n",
    "    :param str table:\n",
    "    :param str schema:\n",
    "    :rtype: bool\n",
    "    \"\"\"\n",
    "    cursor.execute(\"\"\"                                                   \n",
    "            select count(*) from information_schema.tables                       \n",
    "            where table_schema = %s and table_name = %s\n",
    "            \"\"\", [schema, table])\n",
    "    return cursor.fetchall()[0][0]"
   ]
  },
  {
   "cell_type": "code",
   "execution_count": 148,
   "metadata": {
    "collapsed": true
   },
   "outputs": [],
   "source": [
    "def plot_metric(y_scores, y_true, ax, gr, max_k, metric='recall'):\n",
    "    if type(y_scores) != pd.core.series.Series:\n",
    "        try:\n",
    "            y_scores = pd.Series(y_scores)\n",
    "        except:\n",
    "            print('y_scores must be a Series or a DataFrame')\n",
    "            sys.exit(1)\n",
    "            \n",
    "    n = int(len(y_scores)*(max_k))\n",
    "    curve = np.zeros([n,1])\n",
    "    ranks = y_scores.rank(method='first', ascending=False)\n",
    "    if metric=='recall':\n",
    "        scorer = recall_score\n",
    "    elif metric=='precision':\n",
    "        scorer = precision_score\n",
    "    else:\n",
    "        print('metric not found')\n",
    "    for i in range(n):\n",
    "        pred = pd.Series([1 if r <= i+1 else 0 for r in ranks])\n",
    "        curve[i] = scorer(y_true, pred)\n",
    "    \n",
    "    percents = (np.arange(n)+1)/len(y_scores)\n",
    "    ax.plot(percents, curve, label = 'at grade {}'.format(gr))"
   ]
  },
  {
   "cell_type": "code",
   "execution_count": 12,
   "metadata": {
    "collapsed": false
   },
   "outputs": [
    {
     "name": "stdout",
     "output_type": "stream",
     "text": [
      "0       08_17_2016_grade_6_param_set_8_logit_jg_97\n",
      "1     08_17_2016_grade_7_param_set_17_logit_jg_100\n",
      "2     08_17_2016_grade_8_param_set_16_logit_jg_111\n",
      "3     08_17_2016_grade_9_param_set_22_logit_jg_127\n",
      "4    08_17_2016_grade_10_param_set_22_logit_jg_123\n",
      "5         08_17_2016_grade_6_param_set_8_RF_jg_136\n",
      "6        08_17_2016_grade_7_param_set_17_RF_jg_138\n",
      "7        08_17_2016_grade_8_param_set_16_RF_jg_161\n",
      "8        08_17_2016_grade_9_param_set_22_RF_jg_171\n",
      "9       08_17_2016_grade_10_param_set_16_RF_jg_139\n",
      "Name: filename, dtype: object\n"
     ]
    }
   ],
   "source": [
    "with postgres_pgconnection_generator() as connection:\n",
    "    with connection.cursor() as cursor:\n",
    "        select_models = \"\"\"\n",
    "        select * from model.reports where filename in \n",
    "        (select distinct on (prediction_grade, model_name) \n",
    "            filename from model.reports\n",
    "            where filename like '08_17_2016%'\n",
    "            and cv_criterion like 'custom_recall%'\n",
    "            order by prediction_grade, model_name, cv_score desc)\n",
    "        and cv_criterion like 'custom_recall%'\n",
    "        order by model_name, prediction_grade;\n",
    "        \"\"\"\n",
    "        cursor.execute(select_models)\n",
    "        results_raw = cursor.fetchall()\n",
    "        cols = [desc[0] for desc in cursor.description]\n",
    "results = pd.DataFrame(results_raw, columns=cols)\n",
    "print(results.filename)"
   ]
  },
  {
   "cell_type": "code",
   "execution_count": 13,
   "metadata": {
    "collapsed": false
   },
   "outputs": [
    {
     "name": "stdout",
     "output_type": "stream",
     "text": [
      "model logit grade 6: time 0.7296080589294434\n",
      "model logit grade 7: time 1.2330594062805176\n",
      "model logit grade 8: time 1.9130806922912598\n",
      "model logit grade 9: time 3.479058265686035\n",
      "model logit grade 10: time 4.493685245513916\n",
      "model RF grade 6: time 4.808889627456665\n",
      "model RF grade 7: time 5.434998273849487\n",
      "model RF grade 8: time 5.968596458435059\n",
      "model RF grade 9: time 7.849332094192505\n",
      "model RF grade 10: time 9.999812841415405\n",
      "reading_in_predictions: 1e+01 seconds elapsed\n"
     ]
    }
   ],
   "source": [
    "scores_list = dict()\n",
    "scores = dict()\n",
    "y_list = dict()\n",
    "y = dict()\n",
    "grade_range = pd.unique(results.prediction_grade)\n",
    "\n",
    "with Timer('reading_in_predictions') as t:\n",
    "    with postgres_pgconnection_generator() as connection:\n",
    "        with connection.cursor() as cursor:\n",
    "            for (filename, model, gr) in \\\n",
    "                    zip(results.filename, results.model_name, results.prediction_grade):\n",
    "                cursor.execute(\"\"\"\n",
    "                select student_lookup, true_label, predicted_score, split \n",
    "                from model.predictions_new\n",
    "                where filename = '{}' \n",
    "                and split != 'train';\"\"\".format(filename))\n",
    "                temp = pd.DataFrame.from_records(cursor.fetchall(), \n",
    "                    columns = [i[0] for i in cursor.description],\n",
    "                    index = 'student_lookup')\n",
    "                if model not in scores_list:\n",
    "                    scores_list[model] = list()\n",
    "                    y_list[model] = list()\n",
    "                scores_list[model].append(pd.DataFrame(temp.predicted_score))\n",
    "                y_list[model].append(pd.DataFrame(temp.true_label))\n",
    "                run_time = t.time_check()\n",
    "                print('model {0} grade {1}: time {2}'.format(model, gr, run_time))"
   ]
  },
  {
   "cell_type": "code",
   "execution_count": 14,
   "metadata": {
    "collapsed": false
   },
   "outputs": [],
   "source": [
    "for model in pd.unique(results.model_name):\n",
    "    for i, gr in enumerate(grade_range):\n",
    "        scores_list[model][i].rename(columns = {\n",
    "            'predicted_score': 'predicted_score_{0}'.format(gr)}, inplace=True)\n",
    "        y_list[model][i].rename(columns = {\n",
    "            'true_label': 'true_label_{0}'.format(gr)}, inplace=True)\n",
    "\n",
    "    scores[model] = scores_list[model][0]\n",
    "    y[model] = y_list[model][0]\n",
    "    for df in scores_list[model][1:]:\n",
    "        scores[model] = scores[model].join(df, how='inner')        \n",
    "    for df in y_list[model][1:]:\n",
    "        y[model] = y[model].join(df, how='inner')"
   ]
  },
  {
   "cell_type": "code",
   "execution_count": 36,
   "metadata": {
    "collapsed": false
   },
   "outputs": [],
   "source": [
    "scores_ranked = list()\n",
    "for grade_model in zip(scores_list['RF'], y_list['RF']):\n",
    "    scores_plus = grade_model[0].merge(grade_model[1], left_index=True, right_index=True)\n",
    "    scores_ranked.append(scores_plus.sort_values(scores_plus.columns[0], ascending = False))"
   ]
  },
  {
   "cell_type": "code",
   "execution_count": 62,
   "metadata": {
    "collapsed": false
   },
   "outputs": [
    {
     "data": {
      "text/plain": [
       "Index(['model_name', 'filename', 'random_seed', 'label', 'cv_scheme',\n",
       "       'cv_criterion', 'cv_score', 'imputation', 'scaling',\n",
       "       'feature_categories', 'feature_grades', 'train_set', 'test_set',\n",
       "       'parameters', 'train_acc', 'val_acc', 'test_acc', 'train_precision_3',\n",
       "       'train_precision_5', 'train_precision_10', 'train_recall_3',\n",
       "       'train_recall_5', 'train_recall_10', 'val_precision_3',\n",
       "       'val_precision_5', 'val_precision_10', 'val_recall_3', 'val_recall_5',\n",
       "       'val_recall_10', 'test_precision_3', 'test_precision_5',\n",
       "       'test_precision_10', 'test_recall_3', 'test_recall_5', 'test_recall_10',\n",
       "       'feature_1', 'feature_1_weight', 'feature_2', 'feature_2_weight',\n",
       "       'feature_3', 'feature_3_weight', 'time', 'debug', 'timestamp',\n",
       "       'prediction_grade', 'val_set', 'train_recall_5_15', 'val_recall_5_15',\n",
       "       'test_recall_5_15', 'train_precision_5_15', 'val_precision_5_15',\n",
       "       'test_precision_5_15', 'batch_name', 'downsample'],\n",
       "      dtype='object')"
      ]
     },
     "execution_count": 62,
     "metadata": {},
     "output_type": "execute_result"
    }
   ],
   "source": [
    "results.columns"
   ]
  },
  {
   "cell_type": "code",
   "execution_count": 86,
   "metadata": {
    "collapsed": true
   },
   "outputs": [],
   "source": [
    "from make_predictions_for_unlabeled_students import read_in_model\n",
    "from estimate_prediction_model import build_outcomes_plus_features"
   ]
  },
  {
   "cell_type": "code",
   "execution_count": 88,
   "metadata": {
    "collapsed": false
   },
   "outputs": [],
   "source": [
    "feature_misclassified_risk = dict()\n",
    "for model, name in zip(scores_ranked, results.filename[results.model_name == 'RF']):\n",
    "    score, label = model.columns\n",
    "    students = model.loc[model[label] == 0].iloc[0:100].index\n",
    "    top_features = results.loc[results.filename == name][[\n",
    "            'feature_1', 'feature_2', 'feature_3']]\n",
    "    top_features = top_features.iloc[0].tolist()\n",
    "    clf, options = read_in_model(name, 'RF')\n",
    "    features = build_outcomes_plus_features(options)\n",
    "    feature_misclassified_risk[name] = features.ix[students][top_features]"
   ]
  },
  {
   "cell_type": "code",
   "execution_count": 89,
   "metadata": {
    "collapsed": false
   },
   "outputs": [
    {
     "data": {
      "text/html": [
       "<div>\n",
       "<table border=\"1\" class=\"dataframe\">\n",
       "  <thead>\n",
       "    <tr style=\"text-align: right;\">\n",
       "      <th></th>\n",
       "      <th>socstudies_normalized_gr_5</th>\n",
       "      <th>read_normalized_gr_5</th>\n",
       "      <th>science_normalized_gr_5</th>\n",
       "    </tr>\n",
       "    <tr>\n",
       "      <th>student_lookup</th>\n",
       "      <th></th>\n",
       "      <th></th>\n",
       "      <th></th>\n",
       "    </tr>\n",
       "  </thead>\n",
       "  <tbody>\n",
       "    <tr>\n",
       "      <th>8800.0</th>\n",
       "      <td>-1.353400</td>\n",
       "      <td>-1.692590</td>\n",
       "      <td>-1.914977</td>\n",
       "    </tr>\n",
       "    <tr>\n",
       "      <th>543.0</th>\n",
       "      <td>-1.232067</td>\n",
       "      <td>-1.933754</td>\n",
       "      <td>-2.205447</td>\n",
       "    </tr>\n",
       "    <tr>\n",
       "      <th>48129.0</th>\n",
       "      <td>-2.722872</td>\n",
       "      <td>-2.985004</td>\n",
       "      <td>-1.527361</td>\n",
       "    </tr>\n",
       "    <tr>\n",
       "      <th>13388.0</th>\n",
       "      <td>-2.445405</td>\n",
       "      <td>-2.450536</td>\n",
       "      <td>-2.713770</td>\n",
       "    </tr>\n",
       "    <tr>\n",
       "      <th>12300.0</th>\n",
       "      <td>-1.691427</td>\n",
       "      <td>-1.449459</td>\n",
       "      <td>-2.232550</td>\n",
       "    </tr>\n",
       "    <tr>\n",
       "      <th>13706.0</th>\n",
       "      <td>-1.019732</td>\n",
       "      <td>-1.589233</td>\n",
       "      <td>-1.515581</td>\n",
       "    </tr>\n",
       "    <tr>\n",
       "      <th>624.0</th>\n",
       "      <td>-1.535401</td>\n",
       "      <td>-1.485877</td>\n",
       "      <td>-0.716789</td>\n",
       "    </tr>\n",
       "    <tr>\n",
       "      <th>43087.0</th>\n",
       "      <td>-1.691427</td>\n",
       "      <td>-2.507279</td>\n",
       "      <td>-1.774177</td>\n",
       "    </tr>\n",
       "    <tr>\n",
       "      <th>13391.0</th>\n",
       "      <td>-0.837731</td>\n",
       "      <td>-1.589233</td>\n",
       "      <td>-1.769742</td>\n",
       "    </tr>\n",
       "    <tr>\n",
       "      <th>13398.0</th>\n",
       "      <td>-1.960070</td>\n",
       "      <td>-2.037111</td>\n",
       "      <td>-1.769742</td>\n",
       "    </tr>\n",
       "    <tr>\n",
       "      <th>8750.0</th>\n",
       "      <td>-1.232067</td>\n",
       "      <td>-1.485877</td>\n",
       "      <td>-1.152494</td>\n",
       "    </tr>\n",
       "    <tr>\n",
       "      <th>42846.0</th>\n",
       "      <td>-1.122354</td>\n",
       "      <td>-1.449459</td>\n",
       "      <td>-1.774177</td>\n",
       "    </tr>\n",
       "    <tr>\n",
       "      <th>9447.0</th>\n",
       "      <td>-1.960070</td>\n",
       "      <td>-2.312727</td>\n",
       "      <td>-1.769742</td>\n",
       "    </tr>\n",
       "    <tr>\n",
       "      <th>38164.0</th>\n",
       "      <td>-0.873385</td>\n",
       "      <td>-1.449459</td>\n",
       "      <td>-0.822173</td>\n",
       "    </tr>\n",
       "    <tr>\n",
       "      <th>43500.0</th>\n",
       "      <td>-1.549159</td>\n",
       "      <td>-0.937611</td>\n",
       "      <td>-1.774177</td>\n",
       "    </tr>\n",
       "    <tr>\n",
       "      <th>38187.0</th>\n",
       "      <td>-1.326344</td>\n",
       "      <td>-1.426959</td>\n",
       "      <td>-1.074153</td>\n",
       "    </tr>\n",
       "    <tr>\n",
       "      <th>43369.0</th>\n",
       "      <td>-1.762561</td>\n",
       "      <td>-1.142350</td>\n",
       "      <td>-1.033729</td>\n",
       "    </tr>\n",
       "    <tr>\n",
       "      <th>2022.0</th>\n",
       "      <td>-2.111737</td>\n",
       "      <td>-0.865739</td>\n",
       "      <td>-1.406655</td>\n",
       "    </tr>\n",
       "    <tr>\n",
       "      <th>10006.0</th>\n",
       "      <td>-1.141066</td>\n",
       "      <td>-1.485877</td>\n",
       "      <td>-2.205447</td>\n",
       "    </tr>\n",
       "    <tr>\n",
       "      <th>2882.0</th>\n",
       "      <td>-1.960070</td>\n",
       "      <td>-1.830398</td>\n",
       "      <td>-1.624507</td>\n",
       "    </tr>\n",
       "    <tr>\n",
       "      <th>9994.0</th>\n",
       "      <td>-0.716398</td>\n",
       "      <td>-1.485877</td>\n",
       "      <td>-1.624507</td>\n",
       "    </tr>\n",
       "    <tr>\n",
       "      <th>41924.0</th>\n",
       "      <td>-2.509470</td>\n",
       "      <td>-1.654199</td>\n",
       "      <td>-2.232550</td>\n",
       "    </tr>\n",
       "    <tr>\n",
       "      <th>39518.0</th>\n",
       "      <td>-1.762561</td>\n",
       "      <td>-2.507279</td>\n",
       "      <td>-1.633139</td>\n",
       "    </tr>\n",
       "    <tr>\n",
       "      <th>1670.0</th>\n",
       "      <td>-1.960070</td>\n",
       "      <td>-2.037111</td>\n",
       "      <td>-1.043567</td>\n",
       "    </tr>\n",
       "    <tr>\n",
       "      <th>10670.0</th>\n",
       "      <td>-1.353400</td>\n",
       "      <td>-2.312727</td>\n",
       "      <td>-1.515581</td>\n",
       "    </tr>\n",
       "    <tr>\n",
       "      <th>37952.0</th>\n",
       "      <td>-1.762561</td>\n",
       "      <td>-1.449459</td>\n",
       "      <td>-1.033729</td>\n",
       "    </tr>\n",
       "    <tr>\n",
       "      <th>9452.0</th>\n",
       "      <td>-1.535401</td>\n",
       "      <td>-1.485877</td>\n",
       "      <td>-1.152494</td>\n",
       "    </tr>\n",
       "    <tr>\n",
       "      <th>13422.0</th>\n",
       "      <td>-1.019732</td>\n",
       "      <td>-1.279165</td>\n",
       "      <td>-1.914977</td>\n",
       "    </tr>\n",
       "    <tr>\n",
       "      <th>43180.0</th>\n",
       "      <td>-1.762561</td>\n",
       "      <td>-2.370786</td>\n",
       "      <td>-1.386324</td>\n",
       "    </tr>\n",
       "    <tr>\n",
       "      <th>38116.0</th>\n",
       "      <td>-2.331634</td>\n",
       "      <td>-1.551829</td>\n",
       "      <td>-1.774177</td>\n",
       "    </tr>\n",
       "    <tr>\n",
       "      <th>...</th>\n",
       "      <td>...</td>\n",
       "      <td>...</td>\n",
       "      <td>...</td>\n",
       "    </tr>\n",
       "    <tr>\n",
       "      <th>38219.0</th>\n",
       "      <td>-1.264622</td>\n",
       "      <td>-1.142350</td>\n",
       "      <td>-1.527361</td>\n",
       "    </tr>\n",
       "    <tr>\n",
       "      <th>2482.0</th>\n",
       "      <td>-1.353400</td>\n",
       "      <td>-1.382521</td>\n",
       "      <td>-2.895313</td>\n",
       "    </tr>\n",
       "    <tr>\n",
       "      <th>40111.0</th>\n",
       "      <td>-1.264622</td>\n",
       "      <td>-1.347090</td>\n",
       "      <td>-1.174767</td>\n",
       "    </tr>\n",
       "    <tr>\n",
       "      <th>40856.0</th>\n",
       "      <td>-1.549159</td>\n",
       "      <td>-2.097800</td>\n",
       "      <td>-1.527361</td>\n",
       "    </tr>\n",
       "    <tr>\n",
       "      <th>16760.0</th>\n",
       "      <td>-2.445405</td>\n",
       "      <td>-3.277386</td>\n",
       "      <td>-2.205447</td>\n",
       "    </tr>\n",
       "    <tr>\n",
       "      <th>43363.0</th>\n",
       "      <td>-1.549159</td>\n",
       "      <td>-1.449459</td>\n",
       "      <td>-1.280545</td>\n",
       "    </tr>\n",
       "    <tr>\n",
       "      <th>4482.0</th>\n",
       "      <td>NaN</td>\n",
       "      <td>NaN</td>\n",
       "      <td>NaN</td>\n",
       "    </tr>\n",
       "    <tr>\n",
       "      <th>37896.0</th>\n",
       "      <td>-1.975964</td>\n",
       "      <td>-2.097800</td>\n",
       "      <td>-1.633139</td>\n",
       "    </tr>\n",
       "    <tr>\n",
       "      <th>43420.0</th>\n",
       "      <td>-0.339879</td>\n",
       "      <td>-0.016285</td>\n",
       "      <td>-0.434319</td>\n",
       "    </tr>\n",
       "    <tr>\n",
       "      <th>2878.0</th>\n",
       "      <td>-1.687069</td>\n",
       "      <td>-1.382521</td>\n",
       "      <td>-1.769742</td>\n",
       "    </tr>\n",
       "    <tr>\n",
       "      <th>9324.0</th>\n",
       "      <td>-0.928732</td>\n",
       "      <td>-1.830398</td>\n",
       "      <td>-1.515581</td>\n",
       "    </tr>\n",
       "    <tr>\n",
       "      <th>37932.0</th>\n",
       "      <td>-1.264622</td>\n",
       "      <td>-1.756568</td>\n",
       "      <td>-0.610616</td>\n",
       "    </tr>\n",
       "    <tr>\n",
       "      <th>37894.0</th>\n",
       "      <td>-1.762561</td>\n",
       "      <td>-0.835242</td>\n",
       "      <td>-0.328541</td>\n",
       "    </tr>\n",
       "    <tr>\n",
       "      <th>43328.0</th>\n",
       "      <td>-1.264622</td>\n",
       "      <td>-1.039981</td>\n",
       "      <td>-1.915215</td>\n",
       "    </tr>\n",
       "    <tr>\n",
       "      <th>38168.0</th>\n",
       "      <td>-0.731116</td>\n",
       "      <td>-0.118654</td>\n",
       "      <td>-0.504838</td>\n",
       "    </tr>\n",
       "    <tr>\n",
       "      <th>42119.0</th>\n",
       "      <td>-0.624415</td>\n",
       "      <td>-1.858938</td>\n",
       "      <td>-1.633139</td>\n",
       "    </tr>\n",
       "    <tr>\n",
       "      <th>42441.0</th>\n",
       "      <td>NaN</td>\n",
       "      <td>NaN</td>\n",
       "      <td>NaN</td>\n",
       "    </tr>\n",
       "    <tr>\n",
       "      <th>1572.0</th>\n",
       "      <td>-0.837731</td>\n",
       "      <td>-1.141356</td>\n",
       "      <td>-1.043567</td>\n",
       "    </tr>\n",
       "    <tr>\n",
       "      <th>4990.0</th>\n",
       "      <td>-0.928732</td>\n",
       "      <td>-1.072452</td>\n",
       "      <td>-0.317392</td>\n",
       "    </tr>\n",
       "    <tr>\n",
       "      <th>1569.0</th>\n",
       "      <td>-0.049061</td>\n",
       "      <td>-0.555671</td>\n",
       "      <td>-0.498936</td>\n",
       "    </tr>\n",
       "    <tr>\n",
       "      <th>12358.0</th>\n",
       "      <td>-0.231062</td>\n",
       "      <td>-1.589233</td>\n",
       "      <td>-0.716789</td>\n",
       "    </tr>\n",
       "    <tr>\n",
       "      <th>788.0</th>\n",
       "      <td>NaN</td>\n",
       "      <td>NaN</td>\n",
       "      <td>NaN</td>\n",
       "    </tr>\n",
       "    <tr>\n",
       "      <th>38119.0</th>\n",
       "      <td>-1.122354</td>\n",
       "      <td>-1.654199</td>\n",
       "      <td>-2.056253</td>\n",
       "    </tr>\n",
       "    <tr>\n",
       "      <th>5789.0</th>\n",
       "      <td>-1.838736</td>\n",
       "      <td>-0.659027</td>\n",
       "      <td>-2.350682</td>\n",
       "    </tr>\n",
       "    <tr>\n",
       "      <th>42807.0</th>\n",
       "      <td>-1.015653</td>\n",
       "      <td>-0.835242</td>\n",
       "      <td>-0.822173</td>\n",
       "    </tr>\n",
       "    <tr>\n",
       "      <th>6009.0</th>\n",
       "      <td>-1.838736</td>\n",
       "      <td>-2.037111</td>\n",
       "      <td>-2.060212</td>\n",
       "    </tr>\n",
       "    <tr>\n",
       "      <th>9718.0</th>\n",
       "      <td>-2.445405</td>\n",
       "      <td>-0.555671</td>\n",
       "      <td>-0.716789</td>\n",
       "    </tr>\n",
       "    <tr>\n",
       "      <th>1847.0</th>\n",
       "      <td>NaN</td>\n",
       "      <td>NaN</td>\n",
       "      <td>NaN</td>\n",
       "    </tr>\n",
       "    <tr>\n",
       "      <th>4676.0</th>\n",
       "      <td>-0.837731</td>\n",
       "      <td>0.064467</td>\n",
       "      <td>-1.152494</td>\n",
       "    </tr>\n",
       "    <tr>\n",
       "      <th>38190.0</th>\n",
       "      <td>-1.691427</td>\n",
       "      <td>-0.630502</td>\n",
       "      <td>-0.504838</td>\n",
       "    </tr>\n",
       "  </tbody>\n",
       "</table>\n",
       "<p>100 rows × 3 columns</p>\n",
       "</div>"
      ],
      "text/plain": [
       "                socstudies_normalized_gr_5  read_normalized_gr_5  \\\n",
       "student_lookup                                                     \n",
       "8800.0                           -1.353400             -1.692590   \n",
       "543.0                            -1.232067             -1.933754   \n",
       "48129.0                          -2.722872             -2.985004   \n",
       "13388.0                          -2.445405             -2.450536   \n",
       "12300.0                          -1.691427             -1.449459   \n",
       "13706.0                          -1.019732             -1.589233   \n",
       "624.0                            -1.535401             -1.485877   \n",
       "43087.0                          -1.691427             -2.507279   \n",
       "13391.0                          -0.837731             -1.589233   \n",
       "13398.0                          -1.960070             -2.037111   \n",
       "8750.0                           -1.232067             -1.485877   \n",
       "42846.0                          -1.122354             -1.449459   \n",
       "9447.0                           -1.960070             -2.312727   \n",
       "38164.0                          -0.873385             -1.449459   \n",
       "43500.0                          -1.549159             -0.937611   \n",
       "38187.0                          -1.326344             -1.426959   \n",
       "43369.0                          -1.762561             -1.142350   \n",
       "2022.0                           -2.111737             -0.865739   \n",
       "10006.0                          -1.141066             -1.485877   \n",
       "2882.0                           -1.960070             -1.830398   \n",
       "9994.0                           -0.716398             -1.485877   \n",
       "41924.0                          -2.509470             -1.654199   \n",
       "39518.0                          -1.762561             -2.507279   \n",
       "1670.0                           -1.960070             -2.037111   \n",
       "10670.0                          -1.353400             -2.312727   \n",
       "37952.0                          -1.762561             -1.449459   \n",
       "9452.0                           -1.535401             -1.485877   \n",
       "13422.0                          -1.019732             -1.279165   \n",
       "43180.0                          -1.762561             -2.370786   \n",
       "38116.0                          -2.331634             -1.551829   \n",
       "...                                    ...                   ...   \n",
       "38219.0                          -1.264622             -1.142350   \n",
       "2482.0                           -1.353400             -1.382521   \n",
       "40111.0                          -1.264622             -1.347090   \n",
       "40856.0                          -1.549159             -2.097800   \n",
       "16760.0                          -2.445405             -3.277386   \n",
       "43363.0                          -1.549159             -1.449459   \n",
       "4482.0                                 NaN                   NaN   \n",
       "37896.0                          -1.975964             -2.097800   \n",
       "43420.0                          -0.339879             -0.016285   \n",
       "2878.0                           -1.687069             -1.382521   \n",
       "9324.0                           -0.928732             -1.830398   \n",
       "37932.0                          -1.264622             -1.756568   \n",
       "37894.0                          -1.762561             -0.835242   \n",
       "43328.0                          -1.264622             -1.039981   \n",
       "38168.0                          -0.731116             -0.118654   \n",
       "42119.0                          -0.624415             -1.858938   \n",
       "42441.0                                NaN                   NaN   \n",
       "1572.0                           -0.837731             -1.141356   \n",
       "4990.0                           -0.928732             -1.072452   \n",
       "1569.0                           -0.049061             -0.555671   \n",
       "12358.0                          -0.231062             -1.589233   \n",
       "788.0                                  NaN                   NaN   \n",
       "38119.0                          -1.122354             -1.654199   \n",
       "5789.0                           -1.838736             -0.659027   \n",
       "42807.0                          -1.015653             -0.835242   \n",
       "6009.0                           -1.838736             -2.037111   \n",
       "9718.0                           -2.445405             -0.555671   \n",
       "1847.0                                 NaN                   NaN   \n",
       "4676.0                           -0.837731              0.064467   \n",
       "38190.0                          -1.691427             -0.630502   \n",
       "\n",
       "                science_normalized_gr_5  \n",
       "student_lookup                           \n",
       "8800.0                        -1.914977  \n",
       "543.0                         -2.205447  \n",
       "48129.0                       -1.527361  \n",
       "13388.0                       -2.713770  \n",
       "12300.0                       -2.232550  \n",
       "13706.0                       -1.515581  \n",
       "624.0                         -0.716789  \n",
       "43087.0                       -1.774177  \n",
       "13391.0                       -1.769742  \n",
       "13398.0                       -1.769742  \n",
       "8750.0                        -1.152494  \n",
       "42846.0                       -1.774177  \n",
       "9447.0                        -1.769742  \n",
       "38164.0                       -0.822173  \n",
       "43500.0                       -1.774177  \n",
       "38187.0                       -1.074153  \n",
       "43369.0                       -1.033729  \n",
       "2022.0                        -1.406655  \n",
       "10006.0                       -2.205447  \n",
       "2882.0                        -1.624507  \n",
       "9994.0                        -1.624507  \n",
       "41924.0                       -2.232550  \n",
       "39518.0                       -1.633139  \n",
       "1670.0                        -1.043567  \n",
       "10670.0                       -1.515581  \n",
       "37952.0                       -1.033729  \n",
       "9452.0                        -1.152494  \n",
       "13422.0                       -1.914977  \n",
       "43180.0                       -1.386324  \n",
       "38116.0                       -1.774177  \n",
       "...                                 ...  \n",
       "38219.0                       -1.527361  \n",
       "2482.0                        -2.895313  \n",
       "40111.0                       -1.174767  \n",
       "40856.0                       -1.527361  \n",
       "16760.0                       -2.205447  \n",
       "43363.0                       -1.280545  \n",
       "4482.0                              NaN  \n",
       "37896.0                       -1.633139  \n",
       "43420.0                       -0.434319  \n",
       "2878.0                        -1.769742  \n",
       "9324.0                        -1.515581  \n",
       "37932.0                       -0.610616  \n",
       "37894.0                       -0.328541  \n",
       "43328.0                       -1.915215  \n",
       "38168.0                       -0.504838  \n",
       "42119.0                       -1.633139  \n",
       "42441.0                             NaN  \n",
       "1572.0                        -1.043567  \n",
       "4990.0                        -0.317392  \n",
       "1569.0                        -0.498936  \n",
       "12358.0                       -0.716789  \n",
       "788.0                               NaN  \n",
       "38119.0                       -2.056253  \n",
       "5789.0                        -2.350682  \n",
       "42807.0                       -0.822173  \n",
       "6009.0                        -2.060212  \n",
       "9718.0                        -0.716789  \n",
       "1847.0                              NaN  \n",
       "4676.0                        -1.152494  \n",
       "38190.0                       -0.504838  \n",
       "\n",
       "[100 rows x 3 columns]"
      ]
     },
     "execution_count": 89,
     "metadata": {},
     "output_type": "execute_result"
    }
   ],
   "source": [
    "feature_misclassified_risk['08_17_2016_grade_6_param_set_8_RF_jg_136']"
   ]
  },
  {
   "cell_type": "code",
   "execution_count": 16,
   "metadata": {
    "collapsed": false
   },
   "outputs": [
    {
     "data": {
      "text/html": [
       "<div>\n",
       "<table border=\"1\" class=\"dataframe\">\n",
       "  <thead>\n",
       "    <tr style=\"text-align: right;\">\n",
       "      <th></th>\n",
       "      <th>predicted_score_6</th>\n",
       "      <th>predicted_score_7</th>\n",
       "      <th>predicted_score_8</th>\n",
       "      <th>predicted_score_9</th>\n",
       "      <th>predicted_score_10</th>\n",
       "    </tr>\n",
       "    <tr>\n",
       "      <th>student_lookup</th>\n",
       "      <th></th>\n",
       "      <th></th>\n",
       "      <th></th>\n",
       "      <th></th>\n",
       "      <th></th>\n",
       "    </tr>\n",
       "  </thead>\n",
       "  <tbody>\n",
       "    <tr>\n",
       "      <th>12524.0</th>\n",
       "      <td>0.517524</td>\n",
       "      <td>0.405282</td>\n",
       "      <td>0.667096</td>\n",
       "      <td>0.467770</td>\n",
       "      <td>0.521509</td>\n",
       "    </tr>\n",
       "    <tr>\n",
       "      <th>269.0</th>\n",
       "      <td>0.025756</td>\n",
       "      <td>0.023818</td>\n",
       "      <td>0.003944</td>\n",
       "      <td>0.003294</td>\n",
       "      <td>0.002252</td>\n",
       "    </tr>\n",
       "    <tr>\n",
       "      <th>286.0</th>\n",
       "      <td>0.127087</td>\n",
       "      <td>0.025698</td>\n",
       "      <td>0.013667</td>\n",
       "      <td>0.004812</td>\n",
       "      <td>0.009442</td>\n",
       "    </tr>\n",
       "    <tr>\n",
       "      <th>596.0</th>\n",
       "      <td>0.011886</td>\n",
       "      <td>0.011378</td>\n",
       "      <td>0.048726</td>\n",
       "      <td>0.022327</td>\n",
       "      <td>0.062994</td>\n",
       "    </tr>\n",
       "    <tr>\n",
       "      <th>624.0</th>\n",
       "      <td>0.548608</td>\n",
       "      <td>0.428403</td>\n",
       "      <td>0.644857</td>\n",
       "      <td>0.417857</td>\n",
       "      <td>0.531235</td>\n",
       "    </tr>\n",
       "  </tbody>\n",
       "</table>\n",
       "</div>"
      ],
      "text/plain": [
       "                predicted_score_6  predicted_score_7  predicted_score_8  \\\n",
       "student_lookup                                                            \n",
       "12524.0                  0.517524           0.405282           0.667096   \n",
       "269.0                    0.025756           0.023818           0.003944   \n",
       "286.0                    0.127087           0.025698           0.013667   \n",
       "596.0                    0.011886           0.011378           0.048726   \n",
       "624.0                    0.548608           0.428403           0.644857   \n",
       "\n",
       "                predicted_score_9  predicted_score_10  \n",
       "student_lookup                                         \n",
       "12524.0                  0.467770            0.521509  \n",
       "269.0                    0.003294            0.002252  \n",
       "286.0                    0.004812            0.009442  \n",
       "596.0                    0.022327            0.062994  \n",
       "624.0                    0.417857            0.531235  "
      ]
     },
     "execution_count": 16,
     "metadata": {},
     "output_type": "execute_result"
    }
   ],
   "source": [
    "scores['logit'].head()"
   ]
  },
  {
   "cell_type": "code",
   "execution_count": 17,
   "metadata": {
    "collapsed": false
   },
   "outputs": [
    {
     "name": "stdout",
     "output_type": "stream",
     "text": [
      "precision_recall for RF at 6\n"
     ]
    },
    {
     "data": {
      "text/plain": [
       "<matplotlib.figure.Figure at 0x7f607e6ea400>"
      ]
     },
     "metadata": {},
     "output_type": "display_data"
    },
    {
     "data": {
      "image/png": "[encoded data removed]",
      "text/plain": [
       "<matplotlib.figure.Figure at 0x7f607e6e8dd8>"
      ]
     },
     "metadata": {},
     "output_type": "display_data"
    },
    {
     "name": "stdout",
     "output_type": "stream",
     "text": [
      "precision_recall for RF at 7\n"
     ]
    },
    {
     "data": {
      "text/plain": [
       "<matplotlib.figure.Figure at 0x7f607e62ea90>"
      ]
     },
     "metadata": {},
     "output_type": "display_data"
    },
    {
     "data": {
      "image/png": "[encoded data removed]",
      "text/plain": [
       "<matplotlib.figure.Figure at 0x7f607e680320>"
      ]
     },
     "metadata": {},
     "output_type": "display_data"
    },
    {
     "name": "stdout",
     "output_type": "stream",
     "text": [
      "precision_recall for RF at 8\n"
     ]
    },
    {
     "data": {
      "text/plain": [
       "<matplotlib.figure.Figure at 0x7f607e6f0d68>"
      ]
     },
     "metadata": {},
     "output_type": "display_data"
    },
    {
     "data": {
      "image/png": "[encoded data removed]",
      "text/plain": [
       "<matplotlib.figure.Figure at 0x7f607e62eac8>"
      ]
     },
     "metadata": {},
     "output_type": "display_data"
    },
    {
     "name": "stdout",
     "output_type": "stream",
     "text": [
      "precision_recall for RF at 9\n"
     ]
    },
    {
     "data": {
      "text/plain": [
       "<matplotlib.figure.Figure at 0x7f607e619b00>"
      ]
     },
     "metadata": {},
     "output_type": "display_data"
    },
    {
     "data": {
      "image/png": "[encoded data removed]",
      "text/plain": [
       "<matplotlib.figure.Figure at 0x7f607c5a55c0>"
      ]
     },
     "metadata": {},
     "output_type": "display_data"
    },
    {
     "name": "stdout",
     "output_type": "stream",
     "text": [
      "precision_recall for RF at 10\n"
     ]
    },
    {
     "data": {
      "text/plain": [
       "<matplotlib.figure.Figure at 0x7f607e623f60>"
      ]
     },
     "metadata": {},
     "output_type": "display_data"
    },
    {
     "data": {
      "image/png": "[encoded data removed]",
      "text/plain": [
       "<matplotlib.figure.Figure at 0x7f607c4ef5c0>"
      ]
     },
     "metadata": {},
     "output_type": "display_data"
    },
    {
     "name": "stdout",
     "output_type": "stream",
     "text": [
      "precision_recall for logit at 6\n"
     ]
    },
    {
     "data": {
      "text/plain": [
       "<matplotlib.figure.Figure at 0x7f607c4566a0>"
      ]
     },
     "metadata": {},
     "output_type": "display_data"
    },
    {
     "data": {
      "image/png": "[encoded data removed]",
      "text/plain": [
       "<matplotlib.figure.Figure at 0x7f607c451198>"
      ]
     },
     "metadata": {},
     "output_type": "display_data"
    },
    {
     "name": "stdout",
     "output_type": "stream",
     "text": [
      "precision_recall for logit at 7\n"
     ]
    },
    {
     "data": {
      "text/plain": [
       "<matplotlib.figure.Figure at 0x7f607c41fb38>"
      ]
     },
     "metadata": {},
     "output_type": "display_data"
    },
    {
     "data": {
      "image/png": "[encoded data removed]",
      "text/plain": [
       "<matplotlib.figure.Figure at 0x7f607c412240>"
      ]
     },
     "metadata": {},
     "output_type": "display_data"
    },
    {
     "name": "stdout",
     "output_type": "stream",
     "text": [
      "precision_recall for logit at 8\n"
     ]
    },
    {
     "data": {
      "text/plain": [
       "<matplotlib.figure.Figure at 0x7f607e7199e8>"
      ]
     },
     "metadata": {},
     "output_type": "display_data"
    },
    {
     "data": {
      "image/png": "[encoded data removed]",
      "text/plain": [
       "<matplotlib.figure.Figure at 0x7f607e63a748>"
      ]
     },
     "metadata": {},
     "output_type": "display_data"
    },
    {
     "name": "stdout",
     "output_type": "stream",
     "text": [
      "precision_recall for logit at 9\n"
     ]
    },
    {
     "data": {
      "text/plain": [
       "<matplotlib.figure.Figure at 0x7f607c473e10>"
      ]
     },
     "metadata": {},
     "output_type": "display_data"
    },
    {
     "data": {
      "image/png": "[encoded data removed]",
      "text/plain": [
       "<matplotlib.figure.Figure at 0x7f607c4dddd8>"
      ]
     },
     "metadata": {},
     "output_type": "display_data"
    },
    {
     "name": "stdout",
     "output_type": "stream",
     "text": [
      "precision_recall for logit at 10\n"
     ]
    },
    {
     "data": {
      "text/plain": [
       "<matplotlib.figure.Figure at 0x7f607c473358>"
      ]
     },
     "metadata": {},
     "output_type": "display_data"
    },
    {
     "data": {
      "image/png": "[encoded data removed]",
      "text/plain": [
       "<matplotlib.figure.Figure at 0x7f607c45a588>"
      ]
     },
     "metadata": {},
     "output_type": "display_data"
    }
   ],
   "source": [
    "for model in ['RF', 'logit']:\n",
    "    for grade in range(6,11):\n",
    "        print('precision_recall for {model} at {grade}'.format(model=model, grade=grade))\n",
    "        plot_precision_recall_n(y[model]['true_label_{}'.format(grade)], \n",
    "            scores[model]['predicted_score_{}'.format(grade)], \n",
    "            '/home/jgutman/mvesc/Reports', 'grade_{}'.format(grade), model);\n",
    "        plt.show()"
   ]
  },
  {
   "cell_type": "code",
   "execution_count": 25,
   "metadata": {
    "collapsed": false,
    "scrolled": true
   },
   "outputs": [
    {
     "data": {
      "text/html": [
       "<div>\n",
       "<table border=\"1\" class=\"dataframe\">\n",
       "  <thead>\n",
       "    <tr style=\"text-align: right;\">\n",
       "      <th></th>\n",
       "      <th>true_label_6</th>\n",
       "      <th>true_label_7</th>\n",
       "      <th>true_label_8</th>\n",
       "      <th>true_label_9</th>\n",
       "      <th>true_label_10</th>\n",
       "    </tr>\n",
       "    <tr>\n",
       "      <th>student_lookup</th>\n",
       "      <th></th>\n",
       "      <th></th>\n",
       "      <th></th>\n",
       "      <th></th>\n",
       "      <th></th>\n",
       "    </tr>\n",
       "  </thead>\n",
       "  <tbody>\n",
       "    <tr>\n",
       "      <th>12524.0</th>\n",
       "      <td>0.0</td>\n",
       "      <td>0.0</td>\n",
       "      <td>0.0</td>\n",
       "      <td>0.0</td>\n",
       "      <td>0.0</td>\n",
       "    </tr>\n",
       "    <tr>\n",
       "      <th>269.0</th>\n",
       "      <td>0.0</td>\n",
       "      <td>0.0</td>\n",
       "      <td>0.0</td>\n",
       "      <td>0.0</td>\n",
       "      <td>0.0</td>\n",
       "    </tr>\n",
       "    <tr>\n",
       "      <th>286.0</th>\n",
       "      <td>0.0</td>\n",
       "      <td>0.0</td>\n",
       "      <td>0.0</td>\n",
       "      <td>0.0</td>\n",
       "      <td>0.0</td>\n",
       "    </tr>\n",
       "    <tr>\n",
       "      <th>596.0</th>\n",
       "      <td>0.0</td>\n",
       "      <td>0.0</td>\n",
       "      <td>0.0</td>\n",
       "      <td>0.0</td>\n",
       "      <td>0.0</td>\n",
       "    </tr>\n",
       "    <tr>\n",
       "      <th>624.0</th>\n",
       "      <td>0.0</td>\n",
       "      <td>0.0</td>\n",
       "      <td>0.0</td>\n",
       "      <td>0.0</td>\n",
       "      <td>0.0</td>\n",
       "    </tr>\n",
       "    <tr>\n",
       "      <th>781.0</th>\n",
       "      <td>0.0</td>\n",
       "      <td>0.0</td>\n",
       "      <td>0.0</td>\n",
       "      <td>0.0</td>\n",
       "      <td>0.0</td>\n",
       "    </tr>\n",
       "    <tr>\n",
       "      <th>785.0</th>\n",
       "      <td>0.0</td>\n",
       "      <td>0.0</td>\n",
       "      <td>0.0</td>\n",
       "      <td>0.0</td>\n",
       "      <td>0.0</td>\n",
       "    </tr>\n",
       "    <tr>\n",
       "      <th>798.0</th>\n",
       "      <td>0.0</td>\n",
       "      <td>0.0</td>\n",
       "      <td>0.0</td>\n",
       "      <td>0.0</td>\n",
       "      <td>0.0</td>\n",
       "    </tr>\n",
       "    <tr>\n",
       "      <th>809.0</th>\n",
       "      <td>0.0</td>\n",
       "      <td>0.0</td>\n",
       "      <td>0.0</td>\n",
       "      <td>0.0</td>\n",
       "      <td>0.0</td>\n",
       "    </tr>\n",
       "    <tr>\n",
       "      <th>811.0</th>\n",
       "      <td>0.0</td>\n",
       "      <td>0.0</td>\n",
       "      <td>0.0</td>\n",
       "      <td>0.0</td>\n",
       "      <td>0.0</td>\n",
       "    </tr>\n",
       "    <tr>\n",
       "      <th>812.0</th>\n",
       "      <td>0.0</td>\n",
       "      <td>0.0</td>\n",
       "      <td>0.0</td>\n",
       "      <td>0.0</td>\n",
       "      <td>0.0</td>\n",
       "    </tr>\n",
       "    <tr>\n",
       "      <th>814.0</th>\n",
       "      <td>0.0</td>\n",
       "      <td>0.0</td>\n",
       "      <td>0.0</td>\n",
       "      <td>0.0</td>\n",
       "      <td>0.0</td>\n",
       "    </tr>\n",
       "    <tr>\n",
       "      <th>815.0</th>\n",
       "      <td>0.0</td>\n",
       "      <td>0.0</td>\n",
       "      <td>0.0</td>\n",
       "      <td>0.0</td>\n",
       "      <td>0.0</td>\n",
       "    </tr>\n",
       "    <tr>\n",
       "      <th>816.0</th>\n",
       "      <td>0.0</td>\n",
       "      <td>0.0</td>\n",
       "      <td>0.0</td>\n",
       "      <td>0.0</td>\n",
       "      <td>0.0</td>\n",
       "    </tr>\n",
       "    <tr>\n",
       "      <th>817.0</th>\n",
       "      <td>0.0</td>\n",
       "      <td>0.0</td>\n",
       "      <td>0.0</td>\n",
       "      <td>0.0</td>\n",
       "      <td>0.0</td>\n",
       "    </tr>\n",
       "    <tr>\n",
       "      <th>819.0</th>\n",
       "      <td>0.0</td>\n",
       "      <td>0.0</td>\n",
       "      <td>0.0</td>\n",
       "      <td>0.0</td>\n",
       "      <td>0.0</td>\n",
       "    </tr>\n",
       "    <tr>\n",
       "      <th>820.0</th>\n",
       "      <td>0.0</td>\n",
       "      <td>0.0</td>\n",
       "      <td>0.0</td>\n",
       "      <td>0.0</td>\n",
       "      <td>0.0</td>\n",
       "    </tr>\n",
       "    <tr>\n",
       "      <th>821.0</th>\n",
       "      <td>0.0</td>\n",
       "      <td>0.0</td>\n",
       "      <td>0.0</td>\n",
       "      <td>0.0</td>\n",
       "      <td>0.0</td>\n",
       "    </tr>\n",
       "    <tr>\n",
       "      <th>823.0</th>\n",
       "      <td>0.0</td>\n",
       "      <td>0.0</td>\n",
       "      <td>0.0</td>\n",
       "      <td>0.0</td>\n",
       "      <td>0.0</td>\n",
       "    </tr>\n",
       "    <tr>\n",
       "      <th>825.0</th>\n",
       "      <td>0.0</td>\n",
       "      <td>0.0</td>\n",
       "      <td>0.0</td>\n",
       "      <td>0.0</td>\n",
       "      <td>0.0</td>\n",
       "    </tr>\n",
       "    <tr>\n",
       "      <th>828.0</th>\n",
       "      <td>0.0</td>\n",
       "      <td>0.0</td>\n",
       "      <td>0.0</td>\n",
       "      <td>0.0</td>\n",
       "      <td>0.0</td>\n",
       "    </tr>\n",
       "    <tr>\n",
       "      <th>834.0</th>\n",
       "      <td>0.0</td>\n",
       "      <td>0.0</td>\n",
       "      <td>0.0</td>\n",
       "      <td>0.0</td>\n",
       "      <td>0.0</td>\n",
       "    </tr>\n",
       "    <tr>\n",
       "      <th>836.0</th>\n",
       "      <td>0.0</td>\n",
       "      <td>0.0</td>\n",
       "      <td>0.0</td>\n",
       "      <td>0.0</td>\n",
       "      <td>0.0</td>\n",
       "    </tr>\n",
       "    <tr>\n",
       "      <th>847.0</th>\n",
       "      <td>0.0</td>\n",
       "      <td>0.0</td>\n",
       "      <td>0.0</td>\n",
       "      <td>0.0</td>\n",
       "      <td>0.0</td>\n",
       "    </tr>\n",
       "    <tr>\n",
       "      <th>861.0</th>\n",
       "      <td>0.0</td>\n",
       "      <td>0.0</td>\n",
       "      <td>0.0</td>\n",
       "      <td>0.0</td>\n",
       "      <td>0.0</td>\n",
       "    </tr>\n",
       "    <tr>\n",
       "      <th>862.0</th>\n",
       "      <td>0.0</td>\n",
       "      <td>0.0</td>\n",
       "      <td>0.0</td>\n",
       "      <td>0.0</td>\n",
       "      <td>0.0</td>\n",
       "    </tr>\n",
       "    <tr>\n",
       "      <th>863.0</th>\n",
       "      <td>0.0</td>\n",
       "      <td>0.0</td>\n",
       "      <td>0.0</td>\n",
       "      <td>0.0</td>\n",
       "      <td>0.0</td>\n",
       "    </tr>\n",
       "    <tr>\n",
       "      <th>864.0</th>\n",
       "      <td>0.0</td>\n",
       "      <td>0.0</td>\n",
       "      <td>0.0</td>\n",
       "      <td>0.0</td>\n",
       "      <td>0.0</td>\n",
       "    </tr>\n",
       "    <tr>\n",
       "      <th>866.0</th>\n",
       "      <td>0.0</td>\n",
       "      <td>0.0</td>\n",
       "      <td>0.0</td>\n",
       "      <td>0.0</td>\n",
       "      <td>0.0</td>\n",
       "    </tr>\n",
       "    <tr>\n",
       "      <th>867.0</th>\n",
       "      <td>0.0</td>\n",
       "      <td>0.0</td>\n",
       "      <td>0.0</td>\n",
       "      <td>0.0</td>\n",
       "      <td>0.0</td>\n",
       "    </tr>\n",
       "    <tr>\n",
       "      <th>...</th>\n",
       "      <td>...</td>\n",
       "      <td>...</td>\n",
       "      <td>...</td>\n",
       "      <td>...</td>\n",
       "      <td>...</td>\n",
       "    </tr>\n",
       "    <tr>\n",
       "      <th>50146.0</th>\n",
       "      <td>1.0</td>\n",
       "      <td>1.0</td>\n",
       "      <td>1.0</td>\n",
       "      <td>1.0</td>\n",
       "      <td>1.0</td>\n",
       "    </tr>\n",
       "    <tr>\n",
       "      <th>50165.0</th>\n",
       "      <td>1.0</td>\n",
       "      <td>1.0</td>\n",
       "      <td>1.0</td>\n",
       "      <td>1.0</td>\n",
       "      <td>1.0</td>\n",
       "    </tr>\n",
       "    <tr>\n",
       "      <th>50206.0</th>\n",
       "      <td>1.0</td>\n",
       "      <td>1.0</td>\n",
       "      <td>1.0</td>\n",
       "      <td>1.0</td>\n",
       "      <td>1.0</td>\n",
       "    </tr>\n",
       "    <tr>\n",
       "      <th>50234.0</th>\n",
       "      <td>1.0</td>\n",
       "      <td>1.0</td>\n",
       "      <td>1.0</td>\n",
       "      <td>1.0</td>\n",
       "      <td>1.0</td>\n",
       "    </tr>\n",
       "    <tr>\n",
       "      <th>50242.0</th>\n",
       "      <td>1.0</td>\n",
       "      <td>1.0</td>\n",
       "      <td>1.0</td>\n",
       "      <td>1.0</td>\n",
       "      <td>1.0</td>\n",
       "    </tr>\n",
       "    <tr>\n",
       "      <th>50251.0</th>\n",
       "      <td>1.0</td>\n",
       "      <td>1.0</td>\n",
       "      <td>1.0</td>\n",
       "      <td>1.0</td>\n",
       "      <td>1.0</td>\n",
       "    </tr>\n",
       "    <tr>\n",
       "      <th>50276.0</th>\n",
       "      <td>1.0</td>\n",
       "      <td>1.0</td>\n",
       "      <td>1.0</td>\n",
       "      <td>1.0</td>\n",
       "      <td>1.0</td>\n",
       "    </tr>\n",
       "    <tr>\n",
       "      <th>50292.0</th>\n",
       "      <td>1.0</td>\n",
       "      <td>1.0</td>\n",
       "      <td>1.0</td>\n",
       "      <td>1.0</td>\n",
       "      <td>1.0</td>\n",
       "    </tr>\n",
       "    <tr>\n",
       "      <th>50307.0</th>\n",
       "      <td>1.0</td>\n",
       "      <td>1.0</td>\n",
       "      <td>1.0</td>\n",
       "      <td>1.0</td>\n",
       "      <td>1.0</td>\n",
       "    </tr>\n",
       "    <tr>\n",
       "      <th>50309.0</th>\n",
       "      <td>1.0</td>\n",
       "      <td>1.0</td>\n",
       "      <td>1.0</td>\n",
       "      <td>1.0</td>\n",
       "      <td>1.0</td>\n",
       "    </tr>\n",
       "    <tr>\n",
       "      <th>50342.0</th>\n",
       "      <td>1.0</td>\n",
       "      <td>1.0</td>\n",
       "      <td>1.0</td>\n",
       "      <td>1.0</td>\n",
       "      <td>1.0</td>\n",
       "    </tr>\n",
       "    <tr>\n",
       "      <th>50415.0</th>\n",
       "      <td>1.0</td>\n",
       "      <td>1.0</td>\n",
       "      <td>1.0</td>\n",
       "      <td>1.0</td>\n",
       "      <td>1.0</td>\n",
       "    </tr>\n",
       "    <tr>\n",
       "      <th>50449.0</th>\n",
       "      <td>1.0</td>\n",
       "      <td>1.0</td>\n",
       "      <td>1.0</td>\n",
       "      <td>1.0</td>\n",
       "      <td>1.0</td>\n",
       "    </tr>\n",
       "    <tr>\n",
       "      <th>50454.0</th>\n",
       "      <td>1.0</td>\n",
       "      <td>1.0</td>\n",
       "      <td>1.0</td>\n",
       "      <td>1.0</td>\n",
       "      <td>1.0</td>\n",
       "    </tr>\n",
       "    <tr>\n",
       "      <th>50455.0</th>\n",
       "      <td>1.0</td>\n",
       "      <td>1.0</td>\n",
       "      <td>1.0</td>\n",
       "      <td>1.0</td>\n",
       "      <td>1.0</td>\n",
       "    </tr>\n",
       "    <tr>\n",
       "      <th>50477.0</th>\n",
       "      <td>1.0</td>\n",
       "      <td>1.0</td>\n",
       "      <td>1.0</td>\n",
       "      <td>1.0</td>\n",
       "      <td>1.0</td>\n",
       "    </tr>\n",
       "    <tr>\n",
       "      <th>50510.0</th>\n",
       "      <td>1.0</td>\n",
       "      <td>1.0</td>\n",
       "      <td>1.0</td>\n",
       "      <td>1.0</td>\n",
       "      <td>1.0</td>\n",
       "    </tr>\n",
       "    <tr>\n",
       "      <th>50514.0</th>\n",
       "      <td>1.0</td>\n",
       "      <td>1.0</td>\n",
       "      <td>1.0</td>\n",
       "      <td>1.0</td>\n",
       "      <td>1.0</td>\n",
       "    </tr>\n",
       "    <tr>\n",
       "      <th>50581.0</th>\n",
       "      <td>1.0</td>\n",
       "      <td>1.0</td>\n",
       "      <td>1.0</td>\n",
       "      <td>1.0</td>\n",
       "      <td>1.0</td>\n",
       "    </tr>\n",
       "    <tr>\n",
       "      <th>50600.0</th>\n",
       "      <td>1.0</td>\n",
       "      <td>1.0</td>\n",
       "      <td>1.0</td>\n",
       "      <td>1.0</td>\n",
       "      <td>1.0</td>\n",
       "    </tr>\n",
       "    <tr>\n",
       "      <th>50624.0</th>\n",
       "      <td>1.0</td>\n",
       "      <td>1.0</td>\n",
       "      <td>1.0</td>\n",
       "      <td>1.0</td>\n",
       "      <td>1.0</td>\n",
       "    </tr>\n",
       "    <tr>\n",
       "      <th>50706.0</th>\n",
       "      <td>1.0</td>\n",
       "      <td>1.0</td>\n",
       "      <td>1.0</td>\n",
       "      <td>1.0</td>\n",
       "      <td>1.0</td>\n",
       "    </tr>\n",
       "    <tr>\n",
       "      <th>51047.0</th>\n",
       "      <td>1.0</td>\n",
       "      <td>1.0</td>\n",
       "      <td>1.0</td>\n",
       "      <td>1.0</td>\n",
       "      <td>1.0</td>\n",
       "    </tr>\n",
       "    <tr>\n",
       "      <th>51284.0</th>\n",
       "      <td>1.0</td>\n",
       "      <td>1.0</td>\n",
       "      <td>1.0</td>\n",
       "      <td>1.0</td>\n",
       "      <td>1.0</td>\n",
       "    </tr>\n",
       "    <tr>\n",
       "      <th>51569.0</th>\n",
       "      <td>1.0</td>\n",
       "      <td>1.0</td>\n",
       "      <td>1.0</td>\n",
       "      <td>1.0</td>\n",
       "      <td>1.0</td>\n",
       "    </tr>\n",
       "    <tr>\n",
       "      <th>51671.0</th>\n",
       "      <td>1.0</td>\n",
       "      <td>1.0</td>\n",
       "      <td>1.0</td>\n",
       "      <td>1.0</td>\n",
       "      <td>1.0</td>\n",
       "    </tr>\n",
       "    <tr>\n",
       "      <th>52556.0</th>\n",
       "      <td>1.0</td>\n",
       "      <td>1.0</td>\n",
       "      <td>1.0</td>\n",
       "      <td>1.0</td>\n",
       "      <td>1.0</td>\n",
       "    </tr>\n",
       "    <tr>\n",
       "      <th>54164.0</th>\n",
       "      <td>1.0</td>\n",
       "      <td>1.0</td>\n",
       "      <td>1.0</td>\n",
       "      <td>1.0</td>\n",
       "      <td>1.0</td>\n",
       "    </tr>\n",
       "    <tr>\n",
       "      <th>46.0</th>\n",
       "      <td>1.0</td>\n",
       "      <td>1.0</td>\n",
       "      <td>1.0</td>\n",
       "      <td>1.0</td>\n",
       "      <td>1.0</td>\n",
       "    </tr>\n",
       "    <tr>\n",
       "      <th>48.0</th>\n",
       "      <td>1.0</td>\n",
       "      <td>1.0</td>\n",
       "      <td>1.0</td>\n",
       "      <td>1.0</td>\n",
       "      <td>1.0</td>\n",
       "    </tr>\n",
       "  </tbody>\n",
       "</table>\n",
       "<p>1793 rows × 5 columns</p>\n",
       "</div>"
      ],
      "text/plain": [
       "                true_label_6  true_label_7  true_label_8  true_label_9  \\\n",
       "student_lookup                                                           \n",
       "12524.0                  0.0           0.0           0.0           0.0   \n",
       "269.0                    0.0           0.0           0.0           0.0   \n",
       "286.0                    0.0           0.0           0.0           0.0   \n",
       "596.0                    0.0           0.0           0.0           0.0   \n",
       "624.0                    0.0           0.0           0.0           0.0   \n",
       "781.0                    0.0           0.0           0.0           0.0   \n",
       "785.0                    0.0           0.0           0.0           0.0   \n",
       "798.0                    0.0           0.0           0.0           0.0   \n",
       "809.0                    0.0           0.0           0.0           0.0   \n",
       "811.0                    0.0           0.0           0.0           0.0   \n",
       "812.0                    0.0           0.0           0.0           0.0   \n",
       "814.0                    0.0           0.0           0.0           0.0   \n",
       "815.0                    0.0           0.0           0.0           0.0   \n",
       "816.0                    0.0           0.0           0.0           0.0   \n",
       "817.0                    0.0           0.0           0.0           0.0   \n",
       "819.0                    0.0           0.0           0.0           0.0   \n",
       "820.0                    0.0           0.0           0.0           0.0   \n",
       "821.0                    0.0           0.0           0.0           0.0   \n",
       "823.0                    0.0           0.0           0.0           0.0   \n",
       "825.0                    0.0           0.0           0.0           0.0   \n",
       "828.0                    0.0           0.0           0.0           0.0   \n",
       "834.0                    0.0           0.0           0.0           0.0   \n",
       "836.0                    0.0           0.0           0.0           0.0   \n",
       "847.0                    0.0           0.0           0.0           0.0   \n",
       "861.0                    0.0           0.0           0.0           0.0   \n",
       "862.0                    0.0           0.0           0.0           0.0   \n",
       "863.0                    0.0           0.0           0.0           0.0   \n",
       "864.0                    0.0           0.0           0.0           0.0   \n",
       "866.0                    0.0           0.0           0.0           0.0   \n",
       "867.0                    0.0           0.0           0.0           0.0   \n",
       "...                      ...           ...           ...           ...   \n",
       "50146.0                  1.0           1.0           1.0           1.0   \n",
       "50165.0                  1.0           1.0           1.0           1.0   \n",
       "50206.0                  1.0           1.0           1.0           1.0   \n",
       "50234.0                  1.0           1.0           1.0           1.0   \n",
       "50242.0                  1.0           1.0           1.0           1.0   \n",
       "50251.0                  1.0           1.0           1.0           1.0   \n",
       "50276.0                  1.0           1.0           1.0           1.0   \n",
       "50292.0                  1.0           1.0           1.0           1.0   \n",
       "50307.0                  1.0           1.0           1.0           1.0   \n",
       "50309.0                  1.0           1.0           1.0           1.0   \n",
       "50342.0                  1.0           1.0           1.0           1.0   \n",
       "50415.0                  1.0           1.0           1.0           1.0   \n",
       "50449.0                  1.0           1.0           1.0           1.0   \n",
       "50454.0                  1.0           1.0           1.0           1.0   \n",
       "50455.0                  1.0           1.0           1.0           1.0   \n",
       "50477.0                  1.0           1.0           1.0           1.0   \n",
       "50510.0                  1.0           1.0           1.0           1.0   \n",
       "50514.0                  1.0           1.0           1.0           1.0   \n",
       "50581.0                  1.0           1.0           1.0           1.0   \n",
       "50600.0                  1.0           1.0           1.0           1.0   \n",
       "50624.0                  1.0           1.0           1.0           1.0   \n",
       "50706.0                  1.0           1.0           1.0           1.0   \n",
       "51047.0                  1.0           1.0           1.0           1.0   \n",
       "51284.0                  1.0           1.0           1.0           1.0   \n",
       "51569.0                  1.0           1.0           1.0           1.0   \n",
       "51671.0                  1.0           1.0           1.0           1.0   \n",
       "52556.0                  1.0           1.0           1.0           1.0   \n",
       "54164.0                  1.0           1.0           1.0           1.0   \n",
       "46.0                     1.0           1.0           1.0           1.0   \n",
       "48.0                     1.0           1.0           1.0           1.0   \n",
       "\n",
       "                true_label_10  \n",
       "student_lookup                 \n",
       "12524.0                   0.0  \n",
       "269.0                     0.0  \n",
       "286.0                     0.0  \n",
       "596.0                     0.0  \n",
       "624.0                     0.0  \n",
       "781.0                     0.0  \n",
       "785.0                     0.0  \n",
       "798.0                     0.0  \n",
       "809.0                     0.0  \n",
       "811.0                     0.0  \n",
       "812.0                     0.0  \n",
       "814.0                     0.0  \n",
       "815.0                     0.0  \n",
       "816.0                     0.0  \n",
       "817.0                     0.0  \n",
       "819.0                     0.0  \n",
       "820.0                     0.0  \n",
       "821.0                     0.0  \n",
       "823.0                     0.0  \n",
       "825.0                     0.0  \n",
       "828.0                     0.0  \n",
       "834.0                     0.0  \n",
       "836.0                     0.0  \n",
       "847.0                     0.0  \n",
       "861.0                     0.0  \n",
       "862.0                     0.0  \n",
       "863.0                     0.0  \n",
       "864.0                     0.0  \n",
       "866.0                     0.0  \n",
       "867.0                     0.0  \n",
       "...                       ...  \n",
       "50146.0                   1.0  \n",
       "50165.0                   1.0  \n",
       "50206.0                   1.0  \n",
       "50234.0                   1.0  \n",
       "50242.0                   1.0  \n",
       "50251.0                   1.0  \n",
       "50276.0                   1.0  \n",
       "50292.0                   1.0  \n",
       "50307.0                   1.0  \n",
       "50309.0                   1.0  \n",
       "50342.0                   1.0  \n",
       "50415.0                   1.0  \n",
       "50449.0                   1.0  \n",
       "50454.0                   1.0  \n",
       "50455.0                   1.0  \n",
       "50477.0                   1.0  \n",
       "50510.0                   1.0  \n",
       "50514.0                   1.0  \n",
       "50581.0                   1.0  \n",
       "50600.0                   1.0  \n",
       "50624.0                   1.0  \n",
       "50706.0                   1.0  \n",
       "51047.0                   1.0  \n",
       "51284.0                   1.0  \n",
       "51569.0                   1.0  \n",
       "51671.0                   1.0  \n",
       "52556.0                   1.0  \n",
       "54164.0                   1.0  \n",
       "46.0                      1.0  \n",
       "48.0                      1.0  \n",
       "\n",
       "[1793 rows x 5 columns]"
      ]
     },
     "execution_count": 25,
     "metadata": {},
     "output_type": "execute_result"
    }
   ],
   "source": [
    "y['RF']"
   ]
  },
  {
   "cell_type": "code",
   "execution_count": 151,
   "metadata": {
    "collapsed": false
   },
   "outputs": [
    {
     "data": {
      "text/plain": [
       "<matplotlib.figure.Figure at 0x7f6070a5b390>"
      ]
     },
     "metadata": {},
     "output_type": "display_data"
    },
    {
     "data": {
      "image/png": "[encoded data removed]",
      "text/plain": [
       "<matplotlib.figure.Figure at 0x7f60709a0a90>"
      ]
     },
     "metadata": {},
     "output_type": "display_data"
    },
    {
     "data": {
      "image/png": "[encoded data removed]",
      "text/plain": [
       "<matplotlib.figure.Figure at 0x7f6071c9ba58>"
      ]
     },
     "metadata": {},
     "output_type": "display_data"
    },
    {
     "data": {
      "text/plain": [
       "<matplotlib.figure.Figure at 0x7f607f22e0b8>"
      ]
     },
     "metadata": {},
     "output_type": "display_data"
    },
    {
     "data": {
      "image/png": "[encoded data removed]",
      "text/plain": [
       "<matplotlib.figure.Figure at 0x7f607e70f400>"
      ]
     },
     "metadata": {},
     "output_type": "display_data"
    },
    {
     "data": {
      "image/png": "[encoded data removed]",
      "text/plain": [
       "<matplotlib.figure.Figure at 0x7f6071975e48>"
      ]
     },
     "metadata": {},
     "output_type": "display_data"
    }
   ],
   "source": [
    "max_k = .25\n",
    "for model in ['RF', 'logit']:\n",
    "    plt.clf()\n",
    "    fig1, ax1 = plt.subplots()\n",
    "    fig2, ax2 = plt.subplots()\n",
    "\n",
    "    for gr in np.arange(10,5,-1):\n",
    "        plot_metric(scores[model]['predicted_score_{}'.format(gr)], \n",
    "                    y[model]['true_label_{}'.format(gr)], ax1, gr, max_k, 'recall');\n",
    "        plot_metric(scores[model]['predicted_score_{}'.format(gr)], \n",
    "                    y[model]['true_label_{}'.format(gr)], ax2, gr, max_k, 'precision');\n",
    "\n",
    "    plt.figure(fig1.number);\n",
    "    ax1.legend(loc=\"lower right\")\n",
    "    ax1.set_xlabel(\"% of Students Targeted\", fontsize=18)\n",
    "    ax1.set_ylabel('Recall', fontsize=18)\n",
    "    ax1.set_ylim([0,1])\n",
    "    ax1.set_xlim([0,max_k])\n",
    "    ax1.set_yticklabels(['0%', '20%', '40%', '60%', '80%', '100%'])\n",
    "    ax1.set_xticklabels(['0', '5', '10', '15', '20', '25'])\n",
    "    plt.savefig('recall_comparison_{}_08_17_2016.png'.format(model), dpi=500)\n",
    "\n",
    "    plt.figure(fig2.number);\n",
    "    ax2.legend(loc=\"upper right\", ncol=2)\n",
    "    ax2.set_xlabel(\"% of Students Targeted\", fontsize=18)\n",
    "    ax2.set_ylabel('Precision', fontsize=18)\n",
    "    ax2.set_ylim([0,1])\n",
    "    ax2.set_xlim([0,max_k])\n",
    "    ax2.set_yticklabels(['0%', '20%', '40%', '60%', '80%', '100%'])\n",
    "    ax2.set_xticklabels(['0', '5', '10', '15', '20', '25'])\n",
    "    plt.savefig('precision_comparison_{}_08_17_2016.png'.format(model), dpi=500)\n",
    "    plt.show()"
   ]
  },
  {
   "cell_type": "code",
   "execution_count": 20,
   "metadata": {
    "collapsed": false
   },
   "outputs": [
    {
     "data": {
      "text/plain": [
       "<matplotlib.figure.Figure at 0x7f607aec70b8>"
      ]
     },
     "metadata": {},
     "output_type": "display_data"
    },
    {
     "data": {
      "image/png": "[encoded data removed]",
      "text/plain": [
       "<matplotlib.figure.Figure at 0x7f607aec7278>"
      ]
     },
     "metadata": {},
     "output_type": "display_data"
    }
   ],
   "source": [
    "# risk scores over time all students\n",
    "plt.clf()\n",
    "fig1, ax1 = plt.subplots();\n",
    "ax1.plot(range(6,11), scores['RF'].as_matrix().transpose(), alpha=0.015, color = 'b');\n",
    "plt.show()"
   ]
  },
  {
   "cell_type": "code",
   "execution_count": 23,
   "metadata": {
    "collapsed": false
   },
   "outputs": [
    {
     "data": {
      "text/html": [
       "<div>\n",
       "<table border=\"1\" class=\"dataframe\">\n",
       "  <thead>\n",
       "    <tr style=\"text-align: right;\">\n",
       "      <th></th>\n",
       "      <th>predicted_score_6</th>\n",
       "      <th>predicted_score_7</th>\n",
       "      <th>predicted_score_8</th>\n",
       "      <th>predicted_score_9</th>\n",
       "      <th>predicted_score_10</th>\n",
       "    </tr>\n",
       "    <tr>\n",
       "      <th>student_lookup</th>\n",
       "      <th></th>\n",
       "      <th></th>\n",
       "      <th></th>\n",
       "      <th></th>\n",
       "      <th></th>\n",
       "    </tr>\n",
       "  </thead>\n",
       "  <tbody>\n",
       "    <tr>\n",
       "      <th>12524.0</th>\n",
       "      <td>1759.0</td>\n",
       "      <td>1691.0</td>\n",
       "      <td>1774.0</td>\n",
       "      <td>1749.0</td>\n",
       "      <td>1776.0</td>\n",
       "    </tr>\n",
       "    <tr>\n",
       "      <th>269.0</th>\n",
       "      <td>215.0</td>\n",
       "      <td>245.0</td>\n",
       "      <td>216.5</td>\n",
       "      <td>22.5</td>\n",
       "      <td>266.0</td>\n",
       "    </tr>\n",
       "    <tr>\n",
       "      <th>286.0</th>\n",
       "      <td>749.0</td>\n",
       "      <td>698.0</td>\n",
       "      <td>89.5</td>\n",
       "      <td>141.0</td>\n",
       "      <td>685.0</td>\n",
       "    </tr>\n",
       "    <tr>\n",
       "      <th>596.0</th>\n",
       "      <td>320.0</td>\n",
       "      <td>350.0</td>\n",
       "      <td>1031.0</td>\n",
       "      <td>456.0</td>\n",
       "      <td>1233.0</td>\n",
       "    </tr>\n",
       "    <tr>\n",
       "      <th>624.0</th>\n",
       "      <td>1786.0</td>\n",
       "      <td>1758.0</td>\n",
       "      <td>1763.0</td>\n",
       "      <td>1631.0</td>\n",
       "      <td>1720.0</td>\n",
       "    </tr>\n",
       "  </tbody>\n",
       "</table>\n",
       "</div>"
      ],
      "text/plain": [
       "                predicted_score_6  predicted_score_7  predicted_score_8  \\\n",
       "student_lookup                                                            \n",
       "12524.0                    1759.0             1691.0             1774.0   \n",
       "269.0                       215.0              245.0              216.5   \n",
       "286.0                       749.0              698.0               89.5   \n",
       "596.0                       320.0              350.0             1031.0   \n",
       "624.0                      1786.0             1758.0             1763.0   \n",
       "\n",
       "                predicted_score_9  predicted_score_10  \n",
       "student_lookup                                         \n",
       "12524.0                    1749.0              1776.0  \n",
       "269.0                        22.5               266.0  \n",
       "286.0                       141.0               685.0  \n",
       "596.0                       456.0              1233.0  \n",
       "624.0                      1631.0              1720.0  "
      ]
     },
     "execution_count": 23,
     "metadata": {},
     "output_type": "execute_result"
    }
   ],
   "source": [
    "scores['logit'].rank().head()"
   ]
  },
  {
   "cell_type": "code",
   "execution_count": 145,
   "metadata": {
    "collapsed": false
   },
   "outputs": [],
   "source": [
    "pred = scores['RF'].rank(ascending=False) <= round(len(scores['RF'])*.15)"
   ]
  },
  {
   "cell_type": "code",
   "execution_count": 134,
   "metadata": {
    "collapsed": false
   },
   "outputs": [
    {
     "data": {
      "text/plain": [
       "269"
      ]
     },
     "execution_count": 134,
     "metadata": {},
     "output_type": "execute_result"
    }
   ],
   "source": [
    "round(len(scores['RF'])*.85)"
   ]
  },
  {
   "cell_type": "code",
   "execution_count": 146,
   "metadata": {
    "collapsed": false
   },
   "outputs": [],
   "source": [
    "labels_pred = pred.merge(y['RF'] == 1, left_index=True, right_index = True)"
   ]
  },
  {
   "cell_type": "code",
   "execution_count": 137,
   "metadata": {
    "collapsed": false
   },
   "outputs": [
    {
     "data": {
      "text/html": [
       "<div>\n",
       "<table border=\"1\" class=\"dataframe\">\n",
       "  <thead>\n",
       "    <tr style=\"text-align: right;\">\n",
       "      <th></th>\n",
       "      <th>predicted_score_6</th>\n",
       "      <th>predicted_score_7</th>\n",
       "      <th>predicted_score_8</th>\n",
       "      <th>predicted_score_9</th>\n",
       "      <th>predicted_score_10</th>\n",
       "      <th>true_label_6</th>\n",
       "      <th>true_label_7</th>\n",
       "      <th>true_label_8</th>\n",
       "      <th>true_label_9</th>\n",
       "      <th>true_label_10</th>\n",
       "    </tr>\n",
       "    <tr>\n",
       "      <th>student_lookup</th>\n",
       "      <th></th>\n",
       "      <th></th>\n",
       "      <th></th>\n",
       "      <th></th>\n",
       "      <th></th>\n",
       "      <th></th>\n",
       "      <th></th>\n",
       "      <th></th>\n",
       "      <th></th>\n",
       "      <th></th>\n",
       "    </tr>\n",
       "  </thead>\n",
       "  <tbody>\n",
       "    <tr>\n",
       "      <th>12524.0</th>\n",
       "      <td>True</td>\n",
       "      <td>True</td>\n",
       "      <td>True</td>\n",
       "      <td>True</td>\n",
       "      <td>True</td>\n",
       "      <td>False</td>\n",
       "      <td>False</td>\n",
       "      <td>False</td>\n",
       "      <td>False</td>\n",
       "      <td>False</td>\n",
       "    </tr>\n",
       "    <tr>\n",
       "      <th>269.0</th>\n",
       "      <td>False</td>\n",
       "      <td>False</td>\n",
       "      <td>False</td>\n",
       "      <td>False</td>\n",
       "      <td>False</td>\n",
       "      <td>False</td>\n",
       "      <td>False</td>\n",
       "      <td>False</td>\n",
       "      <td>False</td>\n",
       "      <td>False</td>\n",
       "    </tr>\n",
       "    <tr>\n",
       "      <th>286.0</th>\n",
       "      <td>False</td>\n",
       "      <td>False</td>\n",
       "      <td>False</td>\n",
       "      <td>False</td>\n",
       "      <td>False</td>\n",
       "      <td>False</td>\n",
       "      <td>False</td>\n",
       "      <td>False</td>\n",
       "      <td>False</td>\n",
       "      <td>False</td>\n",
       "    </tr>\n",
       "    <tr>\n",
       "      <th>596.0</th>\n",
       "      <td>False</td>\n",
       "      <td>False</td>\n",
       "      <td>False</td>\n",
       "      <td>False</td>\n",
       "      <td>False</td>\n",
       "      <td>False</td>\n",
       "      <td>False</td>\n",
       "      <td>False</td>\n",
       "      <td>False</td>\n",
       "      <td>False</td>\n",
       "    </tr>\n",
       "    <tr>\n",
       "      <th>624.0</th>\n",
       "      <td>True</td>\n",
       "      <td>True</td>\n",
       "      <td>True</td>\n",
       "      <td>True</td>\n",
       "      <td>True</td>\n",
       "      <td>False</td>\n",
       "      <td>False</td>\n",
       "      <td>False</td>\n",
       "      <td>False</td>\n",
       "      <td>False</td>\n",
       "    </tr>\n",
       "  </tbody>\n",
       "</table>\n",
       "</div>"
      ],
      "text/plain": [
       "               predicted_score_6 predicted_score_7 predicted_score_8  \\\n",
       "student_lookup                                                         \n",
       "12524.0                     True              True              True   \n",
       "269.0                      False             False             False   \n",
       "286.0                      False             False             False   \n",
       "596.0                      False             False             False   \n",
       "624.0                       True              True              True   \n",
       "\n",
       "               predicted_score_9 predicted_score_10 true_label_6 true_label_7  \\\n",
       "student_lookup                                                                  \n",
       "12524.0                     True               True        False        False   \n",
       "269.0                      False              False        False        False   \n",
       "286.0                      False              False        False        False   \n",
       "596.0                      False              False        False        False   \n",
       "624.0                       True               True        False        False   \n",
       "\n",
       "               true_label_8 true_label_9 true_label_10  \n",
       "student_lookup                                          \n",
       "12524.0               False        False         False  \n",
       "269.0                 False        False         False  \n",
       "286.0                 False        False         False  \n",
       "596.0                 False        False         False  \n",
       "624.0                 False        False         False  "
      ]
     },
     "execution_count": 137,
     "metadata": {},
     "output_type": "execute_result"
    }
   ],
   "source": [
    "labels_pred.head()"
   ]
  },
  {
   "cell_type": "code",
   "execution_count": 152,
   "metadata": {
    "collapsed": false
   },
   "outputs": [
    {
     "name": "stdout",
     "output_type": "stream",
     "text": [
      "grade 6: 0.524 num: 88\n",
      "grade 7: 0.530 num: 89\n",
      "grade 8: 0.601 num: 101\n",
      "grade 9: 0.583 num: 98\n",
      "grade 10: 0.601 num: 101\n"
     ]
    }
   ],
   "source": [
    "for gr in range(6, 11):\n",
    "    pred = labels_pred['predicted_score_{}'.format(gr)]\n",
    "    true = labels_pred['true_label_{}'.format(gr)]\n",
    "    tp = (pred & true).sum()\n",
    "    pos = true.sum()\n",
    "    recall = tp/pos\n",
    "    print('grade {0}: {1:.3f} num: {2}'.format(gr, recall, tp))"
   ]
  },
  {
   "cell_type": "code",
   "execution_count": 153,
   "metadata": {
    "collapsed": false
   },
   "outputs": [],
   "source": [
    "number_caught = [88, 89, 101, 101, 168]"
   ]
  },
  {
   "cell_type": "code",
   "execution_count": 156,
   "metadata": {
    "collapsed": false
   },
   "outputs": [
    {
     "ename": "AttributeError",
     "evalue": "'module' object has no attribute 'set_title'",
     "output_type": "error",
     "traceback": [
      "\u001b[1;31m---------------------------------------------------------------------------\u001b[0m",
      "\u001b[1;31mAttributeError\u001b[0m                            Traceback (most recent call last)",
      "\u001b[1;32m<ipython-input-156-8059c63f31ab>\u001b[0m in \u001b[0;36m<module>\u001b[1;34m()\u001b[0m\n\u001b[0;32m      1\u001b[0m \u001b[0mplt\u001b[0m\u001b[1;33m.\u001b[0m\u001b[0mhist\u001b[0m\u001b[1;33m(\u001b[0m\u001b[0mnumber_caught\u001b[0m\u001b[1;33m,\u001b[0m \u001b[1;36m5\u001b[0m\u001b[1;33m,\u001b[0m \u001b[0mhisttype\u001b[0m\u001b[1;33m=\u001b[0m\u001b[1;34m'bar'\u001b[0m\u001b[1;33m,\u001b[0m \u001b[0mstacked\u001b[0m\u001b[1;33m=\u001b[0m\u001b[1;32mTrue\u001b[0m\u001b[1;33m)\u001b[0m\u001b[1;33m\u001b[0m\u001b[0m\n\u001b[1;32m----> 2\u001b[1;33m \u001b[0mplt\u001b[0m\u001b[1;33m.\u001b[0m\u001b[0mset_title\u001b[0m\u001b[1;33m(\u001b[0m\u001b[1;34m'stacked bar'\u001b[0m\u001b[1;33m)\u001b[0m\u001b[1;33m\u001b[0m\u001b[0m\n\u001b[0m\u001b[0;32m      3\u001b[0m \u001b[0mplt\u001b[0m\u001b[1;33m.\u001b[0m\u001b[0mtight_layout\u001b[0m\u001b[1;33m(\u001b[0m\u001b[1;33m)\u001b[0m\u001b[1;33m\u001b[0m\u001b[0m\n\u001b[0;32m      4\u001b[0m \u001b[0mplt\u001b[0m\u001b[1;33m.\u001b[0m\u001b[0mshow\u001b[0m\u001b[1;33m(\u001b[0m\u001b[1;33m)\u001b[0m\u001b[1;33m\u001b[0m\u001b[0m\n",
      "\u001b[1;31mAttributeError\u001b[0m: 'module' object has no attribute 'set_title'"
     ]
    },
    {
     "data": {
      "image/png": "[encoded data removed]",
      "text/plain": [
       "<matplotlib.figure.Figure at 0x7f607b57b7b8>"
      ]
     },
     "metadata": {},
     "output_type": "display_data"
    }
   ],
   "source": [
    "plt.hist(number_caught, 5, histtype='bar', stacked=True)\n",
    "plt.set_title('stacked bar')\n",
    "plt.tight_layout()\n",
    "plt.show()"
   ]
  },
  {
   "cell_type": "code",
   "execution_count": 124,
   "metadata": {
    "collapsed": true
   },
   "outputs": [
    {
     "data": {
      "text/plain": [
       "student_lookup\n",
       "12524.0    False\n",
       "269.0      False\n",
       "286.0      False\n",
       "596.0      False\n",
       "624.0      False\n",
       "781.0      False\n",
       "785.0      False\n",
       "798.0      False\n",
       "809.0      False\n",
       "811.0      False\n",
       "812.0      False\n",
       "814.0      False\n",
       "815.0      False\n",
       "816.0      False\n",
       "817.0      False\n",
       "819.0      False\n",
       "820.0      False\n",
       "821.0      False\n",
       "823.0      False\n",
       "825.0      False\n",
       "828.0      False\n",
       "834.0      False\n",
       "836.0      False\n",
       "847.0      False\n",
       "861.0      False\n",
       "862.0      False\n",
       "863.0      False\n",
       "864.0      False\n",
       "866.0      False\n",
       "867.0      False\n",
       "           ...  \n",
       "50146.0    False\n",
       "50165.0    False\n",
       "50206.0    False\n",
       "50234.0    False\n",
       "50242.0    False\n",
       "50251.0    False\n",
       "50276.0    False\n",
       "50292.0    False\n",
       "50307.0    False\n",
       "50309.0    False\n",
       "50342.0    False\n",
       "50415.0    False\n",
       "50449.0    False\n",
       "50454.0    False\n",
       "50455.0    False\n",
       "50477.0    False\n",
       "50510.0    False\n",
       "50514.0    False\n",
       "50581.0    False\n",
       "50600.0    False\n",
       "50624.0    False\n",
       "50706.0    False\n",
       "51047.0    False\n",
       "51284.0    False\n",
       "51569.0    False\n",
       "51671.0    False\n",
       "52556.0    False\n",
       "54164.0    False\n",
       "46.0       False\n",
       "48.0       False\n",
       "dtype: bool"
      ]
     },
     "execution_count": 124,
     "metadata": {},
     "output_type": "execute_result"
    }
   ],
   "source": [
    "labels_pred.predicted_score_6 & labels_pred.true_label_6"
   ]
  },
  {
   "cell_type": "code",
   "execution_count": 143,
   "metadata": {
    "collapsed": false
   },
   "outputs": [
    {
     "data": {
      "text/plain": [
       "0.09369771332961517"
      ]
     },
     "execution_count": 143,
     "metadata": {},
     "output_type": "execute_result"
    }
   ],
   "source": [
    "168/len(labels_pred)"
   ]
  },
  {
   "cell_type": "code",
   "execution_count": 144,
   "metadata": {
    "collapsed": false
   },
   "outputs": [
    {
     "data": {
      "text/plain": [
       "0       08_17_2016_grade_6_param_set_8_logit_jg_97\n",
       "1     08_17_2016_grade_7_param_set_17_logit_jg_100\n",
       "2     08_17_2016_grade_8_param_set_16_logit_jg_111\n",
       "3     08_17_2016_grade_9_param_set_22_logit_jg_127\n",
       "4    08_17_2016_grade_10_param_set_22_logit_jg_123\n",
       "5         08_17_2016_grade_6_param_set_8_RF_jg_136\n",
       "6        08_17_2016_grade_7_param_set_17_RF_jg_138\n",
       "7        08_17_2016_grade_8_param_set_16_RF_jg_161\n",
       "8        08_17_2016_grade_9_param_set_22_RF_jg_171\n",
       "9       08_17_2016_grade_10_param_set_16_RF_jg_139\n",
       "Name: filename, dtype: object"
      ]
     },
     "execution_count": 144,
     "metadata": {},
     "output_type": "execute_result"
    }
   ],
   "source": [
    "results.filename"
   ]
  },
  {
   "cell_type": "code",
   "execution_count": null,
   "metadata": {
    "collapsed": true
   },
   "outputs": [],
   "source": []
  }
 ],
 "metadata": {
  "kernelspec": {
   "display_name": "Python 3",
   "language": "python",
   "name": "python3"
  },
  "language_info": {
   "codemirror_mode": {
    "name": "ipython",
    "version": 3
   },
   "file_extension": ".py",
   "mimetype": "text/x-python",
   "name": "python",
   "nbconvert_exporter": "python",
   "pygments_lexer": "ipython3",
   "version": "3.4.3"
  }
 },
 "nbformat": 4,
 "nbformat_minor": 0
}
