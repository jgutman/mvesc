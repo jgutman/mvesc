{
 "cells": [
  {
   "cell_type": "code",
   "execution_count": 4,
   "metadata": {
    "collapsed": false
   },
   "outputs": [
    {
     "name": "stdout",
     "output_type": "stream",
     "text": [
      "Using matplotlib backend: agg\n",
      "The autotime extension is already loaded. To reload it, use:\n",
      "  %reload_ext autotime\n",
      "time: 20.8 ms\n"
     ]
    }
   ],
   "source": [
    "import os\n",
    "from os.path import isfile, join, abspath, basename\n",
    "from optparse import OptionParser\n",
    "import numpy as np\n",
    "import pandas as pd\n",
    "from sqlalchemy import create_engine\n",
    "import sqlalchemy\n",
    "import json\n",
    "\n",
    "import sys\n",
    "parentdir = os.path.abspath('/home/xcheng/mvesc/ETL')\n",
    "sys.path.insert(0,parentdir)\n",
    "from mvesc_utility_functions import *\n",
    "\n",
    "import inspect\n",
    "import datetime\n",
    "from itertools import chain, groupby\n",
    "import matplotlib.pyplot as plt\n",
    "import matplotlib\n",
    "from pandas.tools.plotting import table\n",
    "\n",
    "matplotlib.style.use('ggplot')\n",
    "get_ipython().magic('matplotlib')\n",
    "from mvesc_utility_functions import *\n",
    "%load_ext autotime\n",
    "%matplotlib inline"
   ]
  },
  {
   "cell_type": "markdown",
   "metadata": {},
   "source": [
    "# Planning: what features to include\n",
    "\n",
    "1. Aggregate absence rate days;\n",
    "2. "
   ]
  },
  {
   "cell_type": "code",
   "execution_count": 55,
   "metadata": {
    "collapsed": false
   },
   "outputs": [
    {
     "name": "stdout",
     "output_type": "stream",
     "text": [
      " - Table model.absence created!\n",
      " - updated model.absence.days_absent_gr_04 from clean.all_snapshots.days_absent for grade 4; \n",
      " - updated model.absence.days_absent_gr_05 from clean.all_snapshots.days_absent for grade 5; \n",
      " - updated model.absence.days_absent_gr_06 from clean.all_snapshots.days_absent for grade 6; \n",
      " - updated model.absence.days_absent_gr_07 from clean.all_snapshots.days_absent for grade 7; \n",
      " - updated model.absence.days_absent_gr_08 from clean.all_snapshots.days_absent for grade 8; \n",
      " - updated model.absence.days_absent_gr_09 from clean.all_snapshots.days_absent for grade 9; \n",
      " - updated model.absence.days_absent_gr_10 from clean.all_snapshots.days_absent for grade 10; \n",
      " - updated model.absence.days_absent_gr_11 from clean.all_snapshots.days_absent for grade 11; \n",
      " - updated model.absence.days_absent_unexcused_gr_04 from clean.all_snapshots.days_absent_unexcused for grade 4; \n",
      " - updated model.absence.days_absent_unexcused_gr_05 from clean.all_snapshots.days_absent_unexcused for grade 5; \n",
      " - updated model.absence.days_absent_unexcused_gr_06 from clean.all_snapshots.days_absent_unexcused for grade 6; \n",
      " - updated model.absence.days_absent_unexcused_gr_07 from clean.all_snapshots.days_absent_unexcused for grade 7; \n",
      " - updated model.absence.days_absent_unexcused_gr_08 from clean.all_snapshots.days_absent_unexcused for grade 8; \n",
      " - updated model.absence.days_absent_unexcused_gr_09 from clean.all_snapshots.days_absent_unexcused for grade 9; \n",
      " - updated model.absence.days_absent_unexcused_gr_10 from clean.all_snapshots.days_absent_unexcused for grade 10; \n",
      " - updated model.absence.days_absent_unexcused_gr_11 from clean.all_snapshots.days_absent_unexcused for grade 11; \n",
      " - updated model.absence.discipline_incidents_gr_04 from clean.all_snapshots.discipline_incidents for grade 4; \n",
      " - updated model.absence.discipline_incidents_gr_05 from clean.all_snapshots.discipline_incidents for grade 5; \n",
      " - updated model.absence.discipline_incidents_gr_06 from clean.all_snapshots.discipline_incidents for grade 6; \n",
      " - updated model.absence.discipline_incidents_gr_07 from clean.all_snapshots.discipline_incidents for grade 7; \n",
      " - updated model.absence.discipline_incidents_gr_08 from clean.all_snapshots.discipline_incidents for grade 8; \n",
      " - updated model.absence.discipline_incidents_gr_09 from clean.all_snapshots.discipline_incidents for grade 9; \n",
      " - updated model.absence.discipline_incidents_gr_10 from clean.all_snapshots.discipline_incidents for grade 10; \n",
      " - updated model.absence.discipline_incidents_gr_11 from clean.all_snapshots.discipline_incidents for grade 11; \n",
      "time: 8.68 s\n"
     ]
    }
   ],
   "source": [
    "import os, sys\n",
    "pathname = os.path.dirname(sys.argv[0])\n",
    "full_pathname = os.path.abspath(pathname)\n",
    "split_pathname = full_pathname.split(sep=\"mvesc\")\n",
    "base_pathname = os.path.join(split_pathname[0], \"mvesc\")\n",
    "parentdir = os.path.join(base_pathname, \"ETL\")\n",
    "sys.path.insert(0,parentdir)\n",
    "from mvesc_utility_functions import *\n",
    "import numpy as np\n",
    "import pandas as pd\n",
    "\n",
    "\n",
    "# functions\n",
    "def create_feature_table(cursor, table, schema = 'model', replace = False):\n",
    "    \"\"\"\n",
    "    The current feature table is dropped and re-created with a single column\n",
    "    containing unique student lookups numbers, set as an index\n",
    "    :param pg_cursor cursor:\n",
    "    :param str table: feature table name \n",
    "    :param str schema: schema name for feature table\n",
    "    :param bool replace: if true the table will be replaced, \n",
    "        if false an existing table will not be altered\n",
    "    \"\"\"\n",
    "    cursor.execute(\"\"\"\n",
    "    select count(*) from information_schema.tables\n",
    "    where table_schema = '{schema}' and table_name = '{table}'\n",
    "    \"\"\".format_map({'schema':schema,'table':table}))\n",
    "    table_exists = cursor.fetchall()[0][0]\n",
    "    if (not table_exists) or replace:\n",
    "        sql_drop = \"drop table if exists {schema}.{table};\"\\\n",
    "            .format(schema=schema, table=table)\n",
    "        sql_create = \"\"\"                                                     \n",
    "        create table {schema}.{table} as                                     \n",
    "        ( select distinct student_lookup                                     \n",
    "        from clean.wrk_tracking_students                                   \n",
    "        where outcome_category is not null                                 \n",
    "        );\"\"\".format(schema=schema, table=table)\n",
    "        cursor.execute(sql_drop);\n",
    "        cursor.execute(sql_create);\n",
    "        sql_create_index = \"\"\"                                               \n",
    "        create index {schema}_{table}_lookup_index on {schema}.{table}(student_lookup)\n",
    "        \"\"\".format(schema=schema, table=table)\n",
    "        cursor.execute(sql_create_index)\n",
    "        print(\"\"\" - Table {schema}.{table} created!\"\"\"\\\n",
    "        .format(schema=schema, table=table))\n",
    "\n",
    "def update_column_with_join(cursor, table, column, source_table, \n",
    "                            source_column = None, source_schema = 'clean',\n",
    "                            schema='model', dtype='varchar(64)', grade=9):\n",
    "    \"\"\" \n",
    "    Update column using join to match another table                 \n",
    "    :param pg.cursor cursor: pg cursor\n",
    "    :param str source_schema: schema of source - None default for temp tables\n",
    "    :param str source_table: table of source\n",
    "    :param str source_column: column of source - defaults to column\n",
    "    :param str schema: schema to update\n",
    "    :param str table: table to update\n",
    "    :param str column: column to update\n",
    "    :param int grade: grade level to subset to\n",
    "    :return None:                      \n",
    "    \"\"\"\n",
    "    if not source_column:\n",
    "        source_column = column\n",
    "    if not source_schema:\n",
    "        source_schema_and_table = source_table\n",
    "    else:\n",
    "        source_schema_and_table = source_schema+'.'+source_table\n",
    "    dtype = get_column_type(cursor, source_table, source_column)\n",
    "    sql_add_column = \"\"\"\n",
    "    alter table {schema}.{table} add column {column} {dtype} default null;\n",
    "    \"\"\".format( schema=schema, table=table, column=column, dtype=dtype )\n",
    "    cursor.execute(sql_add_column);\n",
    "    sql_join_cmd = \"\"\"\n",
    "    update {schema}.{table} t1\n",
    "    set {column}=\n",
    "    (select {source_column} from {source_schema_and_table} t2\n",
    "    where t2.student_lookup=t1.student_lookup and t2.{source_column} is not null\n",
    "    and t2.grade={grade}\n",
    "    order by {source_column} desc limit 1);\n",
    "    \"\"\".format(schema=schema, table=table, column=column,\n",
    "               source_schema_and_table=source_schema_and_table, \n",
    "               source_column=source_column, grade=grade)\n",
    "    cursor.execute(sql_join_cmd)\n",
    "    print(\"\"\" - updated {schema}.{table}.{col} from {s_schema_and_table}.{s_col} for grade {grade}; \"\"\".format(\n",
    "            col=column, schema=schema, table=table, \n",
    "            s_schema_and_table=source_schema_and_table, \n",
    "            s_col=source_column, grade=grade))\n",
    "    \n",
    "def append_grade(col='col', grade=9):\n",
    "    \"\"\" Append grade level to column name\n",
    "        eg. 'absence' for grade 9: 'absence_gr_09'\n",
    "    :param str col: column name\n",
    "    :param int grade: grade level in integer\n",
    "    :return str newname: the colname in the feature table; if error, return None\n",
    "    :rtype str or None\n",
    "    \"\"\"\n",
    "    grd = str(grade)\n",
    "    lenGrade = len(grd)\n",
    "    if len(grd)==1:\n",
    "        return col+'_gr_'+'0'+grd\n",
    "    elif len(grd)==2:\n",
    "        return col+'_gr_'+grd\n",
    "    else:\n",
    "        return None\n",
    "\n",
    "def main():\n",
    "    schema, table = \"model\" ,\"absence\"\n",
    "    source_schema = \"clean\"\n",
    "    tab_snapshots, tab_absence = \"all_snapshots\", \"all_absences\"\n",
    "    gr_min, gr_max = 4, 11\n",
    "    with postgres_pgconnection_generator() as connection:\n",
    "        connection.autocommit = True\n",
    "        with connection.cursor() as cursor:\n",
    "            create_feature_table(cursor, table, schema = 'model', replace = True)\n",
    "            \n",
    "            # days_absent columns\n",
    "            source_table, source_column = tab_snapshots, 'days_absent'\n",
    "            for grd in range(gr_min, gr_max+1):\n",
    "                column = append_grade(source_column, grd)\n",
    "                update_column_with_join(cursor, table, column=column, source_table=source_table, \n",
    "                                source_column = source_column, source_schema = 'clean',\n",
    "                                schema='model', grade=grd)\n",
    "           \n",
    "            # days_absent_unexecused\n",
    "            source_table, source_column = tab_snapshots, 'days_absent_unexcused'\n",
    "            for grd in range(gr_min, gr_max+1):\n",
    "                column = append_grade(source_column, grd)\n",
    "                update_column_with_join(cursor, table, column=column, source_table=source_table, \n",
    "                                source_column = source_column, source_schema = 'clean',\n",
    "                                schema='model', grade=grd)\n",
    "                \n",
    "            # discipline_incidents\n",
    "            source_table, source_column = tab_snapshots, 'discipline_incidents'\n",
    "            for grd in range(gr_min, gr_max+1):\n",
    "                column = append_grade(source_column, grd)\n",
    "                update_column_with_join(cursor, table, column=column, source_table=source_table, \n",
    "                                source_column = source_column, source_schema = 'clean',\n",
    "                                schema='model', grade=grd)\n",
    "                \n",
    "            # tardy_unexecused will be added later; need to find grade levels  \n",
    "            \n",
    "            connection.commit()\n",
    "        \n",
    "if __name__ =='__main__':\n",
    "        main()\n"
   ]
  },
  {
   "cell_type": "code",
   "execution_count": 44,
   "metadata": {
    "collapsed": false
   },
   "outputs": [
    {
     "data": {
      "text/plain": [
       "[4, 5, 6, 7, 8, 9, 10, 11]"
      ]
     },
     "execution_count": 44,
     "metadata": {},
     "output_type": "execute_result"
    },
    {
     "name": "stdout",
     "output_type": "stream",
     "text": [
      "time: 2.72 ms\n"
     ]
    }
   ],
   "source": [
    "list(range(4, 12))"
   ]
  },
  {
   "cell_type": "code",
   "execution_count": 10,
   "metadata": {
    "collapsed": false
   },
   "outputs": [
    {
     "name": "stdout",
     "output_type": "stream",
     "text": [
      "time: 13.2 s\n"
     ]
    }
   ],
   "source": [
    "with postgres_pgconnection_generator() as connection:\n",
    "    with connection.cursor() as cursor:\n",
    "        absences = read_table_to_df(connection,table_name=\"all_absences\",schema=\"clean\",nrows=-1)\n",
    "        withdraw_reason = get_column(connection,['withdraw_reason'],'wrk_tracking_students')\n",
    "        get_column_type()"
   ]
  },
  {
   "cell_type": "code",
   "execution_count": 12,
   "metadata": {
    "collapsed": false
   },
   "outputs": [
    {
     "name": "stdout",
     "output_type": "stream",
     "text": [
      "11863 grads, 595 dropouts, 14969 transfers\n"
     ]
    },
    {
     "data": {
      "image/png": "[encoded data removed]",
      "text/plain": [
       "<matplotlib.figure.Figure at 0x7f1f7904ec50>"
      ]
     },
     "metadata": {},
     "output_type": "display_data"
    },
    {
     "name": "stdout",
     "output_type": "stream",
     "text": [
      "time: 1.42 s\n"
     ]
    }
   ],
   "source": [
    "absences['absence_desc'].value_counts().plot(kind='bar')\n",
    "\n",
    "withdraws = withdraw_reason[pd.notnull(withdraw_reason['withdraw_reason'])]\n",
    "dropouts = withdraws[withdraws['withdraw_reason'].str.contains('dropout')]\n",
    "transfers = withdraws[withdraws['withdraw_reason'].str.contains('transfer')]\n",
    "graduates = withdraws[withdraws['withdraw_reason'].str.contains('grad')]\n",
    "print(\"{0} grads, {1} dropouts, {2} transfers\".format(len(graduates.index), len(dropouts.index),len(transfers.index)))"
   ]
  },
  {
   "cell_type": "code",
   "execution_count": null,
   "metadata": {
    "collapsed": true
   },
   "outputs": [],
   "source": []
  }
 ],
 "metadata": {
  "kernelspec": {
   "display_name": "Python 3",
   "language": "python",
   "name": "python3"
  },
  "language_info": {
   "codemirror_mode": {
    "name": "ipython",
    "version": 3
   },
   "file_extension": ".py",
   "mimetype": "text/x-python",
   "name": "python",
   "nbconvert_exporter": "python",
   "pygments_lexer": "ipython3",
   "version": "3.4.3"
  }
 },
 "nbformat": 4,
 "nbformat_minor": 0
}
