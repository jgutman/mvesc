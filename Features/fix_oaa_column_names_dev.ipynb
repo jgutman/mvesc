{
 "cells": [
  {
   "cell_type": "code",
   "execution_count": 96,
   "metadata": {
    "collapsed": false
   },
   "outputs": [],
   "source": [
    "import os, sys\n",
    "pathname = os.path.dirname(sys.argv[0])\n",
    "full_pathname = os.path.abspath(pathname)\n",
    "split_pathname = full_pathname.split(sep=\"mvesc\")\n",
    "base_pathname = os.path.join(split_pathname[0], \"mvesc\")\n",
    "parentdir = os.path.join(base_pathname, \"ETL\")\n",
    "sys.path.insert(0,parentdir)\n",
    "from mvesc_utility_functions import *\n",
    "import numpy as np\n",
    "import pandas as pd\n",
    "from mvesc_utility_functions import *\n",
    "import operator"
   ]
  },
  {
   "cell_type": "code",
   "execution_count": 107,
   "metadata": {
    "collapsed": false
   },
   "outputs": [
    {
     "name": "stdout",
     "output_type": "stream",
     "text": [
      "ALTER TABLE model.oaa_normalized_test RENAME COLUMN read_percentile_gr_5 TO ;\n",
      "            \n"
     ]
    },
    {
     "ename": "ProgrammingError",
     "evalue": "syntax error at or near \";\"\nLINE 1: ....oaa_normalized_test RENAME COLUMN read_percentile_gr_5 TO ;\n                                                                      ^\n",
     "output_type": "error",
     "traceback": [
      "\u001b[1;31m---------------------------------------------------------------------------\u001b[0m",
      "\u001b[1;31mProgrammingError\u001b[0m                          Traceback (most recent call last)",
      "\u001b[1;32m<ipython-input-107-c3575198acda>\u001b[0m in \u001b[0;36m<module>\u001b[1;34m()\u001b[0m\n\u001b[0;32m     20\u001b[0m             \"\"\".format(s=schema, t=table, c=c, nc=dict_newcolumns[c])\n\u001b[0;32m     21\u001b[0m             \u001b[0mprint\u001b[0m\u001b[1;33m(\u001b[0m\u001b[0msqlcmd\u001b[0m\u001b[1;33m)\u001b[0m\u001b[1;33m\u001b[0m\u001b[0m\n\u001b[1;32m---> 22\u001b[1;33m             \u001b[0mcursor\u001b[0m\u001b[1;33m.\u001b[0m\u001b[0mexecute\u001b[0m\u001b[1;33m(\u001b[0m\u001b[0msqlcmd\u001b[0m\u001b[1;33m)\u001b[0m\u001b[1;33m\u001b[0m\u001b[0m\n\u001b[0m\u001b[0;32m     23\u001b[0m         \u001b[0mconn\u001b[0m\u001b[1;33m.\u001b[0m\u001b[0mcommit\u001b[0m\u001b[1;33m(\u001b[0m\u001b[1;33m)\u001b[0m\u001b[1;33m\u001b[0m\u001b[0m\n",
      "\u001b[1;31mProgrammingError\u001b[0m: syntax error at or near \";\"\nLINE 1: ....oaa_normalized_test RENAME COLUMN read_percentile_gr_5 TO ;\n                                                                      ^\n"
     ]
    }
   ],
   "source": [
    "table = 'oaa_normalized_test'\n",
    "schema = 'model'\n",
    "def wordGrade_to_numGrade(col):\n",
    "    grade = col.split('_')[0]\n",
    "    word2num = {'eighth':8, 'fifth':5, 'fourth':4, 'seventh':7, 'sixth':6, 'third':3}\n",
    "    if grade in word2num:\n",
    "        subject = col.split('_')[1:]\n",
    "        new_column = '_'.join(subject)+'_gr_'+str(word2num[grade])\n",
    "        return(new_column)\n",
    "    else:\n",
    "        return('')\n",
    "with postgres_pgconnection_generator() as conn:\n",
    "    conn.autocommit = True\n",
    "    with conn.cursor() as cursor:\n",
    "        oaa  = read_table_to_df(conn, table_name=table, schema=schema)\n",
    "        columns = oaa.columns[1:]\n",
    "        dict_newcolumns = {c:wordGrade_to_numGrade(c) for c in columns}\n",
    "        for c in dict_newcolumns:\n",
    "            sqlcmd = \"\"\"ALTER TABLE {s}.{t} RENAME COLUMN {c} TO {nc};\n",
    "            \"\"\".format(s=schema, t=table, c=c, nc=dict_newcolumns[c])\n",
    "            print(sqlcmd)\n",
    "            cursor.execute(sqlcmd)\n",
    "        conn.commit()"
   ]
  },
  {
   "cell_type": "code",
   "execution_count": 103,
   "metadata": {
    "collapsed": false
   },
   "outputs": [],
   "source": [
    "with postgres_pgconnection_generator() as conn:\n",
    "    conn.autocommit = True\n",
    "    with conn.cursor() as cursor:\n",
    "        oaa  = read_table_to_df(conn, table_name=table, schema=schema)"
   ]
  },
  {
   "cell_type": "code",
   "execution_count": 104,
   "metadata": {
    "collapsed": false
   },
   "outputs": [
    {
     "data": {
      "text/plain": [
       "{'math_normalized_gr_3': None,\n",
       " 'math_normalized_gr_4': None,\n",
       " 'math_normalized_gr_5': None,\n",
       " 'math_normalized_gr_6': None,\n",
       " 'math_normalized_gr_7': None,\n",
       " 'math_normalized_gr_8': None,\n",
       " 'math_percentile_gr_3': None,\n",
       " 'math_percentile_gr_4': None,\n",
       " 'math_percentile_gr_5': None,\n",
       " 'math_percentile_gr_6': None,\n",
       " 'math_percentile_gr_7': None,\n",
       " 'math_percentile_gr_8': None,\n",
       " 'math_pl_gr_3': None,\n",
       " 'math_pl_gr_4': None,\n",
       " 'math_pl_gr_5': None,\n",
       " 'math_pl_gr_6': None,\n",
       " 'math_pl_gr_7': None,\n",
       " 'math_pl_gr_8': None,\n",
       " 'none': None,\n",
       " 'read_normalized_gr_3': None,\n",
       " 'read_normalized_gr_4': None,\n",
       " 'read_normalized_gr_5': None,\n",
       " 'read_normalized_gr_6': None,\n",
       " 'read_normalized_gr_7': None,\n",
       " 'read_normalized_gr_8': None,\n",
       " 'read_percentile_gr_3': None,\n",
       " 'read_percentile_gr_4': None,\n",
       " 'read_percentile_gr_6': None,\n",
       " 'read_percentile_gr_7': None,\n",
       " 'read_percentile_gr_8': None,\n",
       " 'read_pl_gr_3': None,\n",
       " 'read_pl_gr_4': None,\n",
       " 'read_pl_gr_5': None,\n",
       " 'read_pl_gr_6': None,\n",
       " 'read_pl_gr_7': None,\n",
       " 'read_pl_gr_8': None,\n",
       " 'science_normalized_gr_5': None,\n",
       " 'science_normalized_gr_8': None,\n",
       " 'science_percentile_gr_5': None,\n",
       " 'science_percentile_gr_8': None,\n",
       " 'science_pl_gr_5': None,\n",
       " 'science_pl_gr_8': None,\n",
       " 'socstudies_normalized_gr_5': None,\n",
       " 'socstudies_percentile_gr_5': None,\n",
       " 'socstudies_pl_gr_5': None}"
      ]
     },
     "execution_count": 104,
     "metadata": {},
     "output_type": "execute_result"
    }
   ],
   "source": [
    "dict_newcolumns"
   ]
  },
  {
   "cell_type": "code",
   "execution_count": 105,
   "metadata": {
    "collapsed": false
   },
   "outputs": [
    {
     "data": {
      "text/plain": [
       "array([False, False, False, False, False, False, False, False, False,\n",
       "       False, False, False, False, False, False, False, False, False,\n",
       "       False, False, False, False, False, False, False, False, False,\n",
       "       False, False, False, False, False, False, False, False, False,\n",
       "       False, False, False, False, False, False, False, False, False, False], dtype=bool)"
      ]
     },
     "execution_count": 105,
     "metadata": {},
     "output_type": "execute_result"
    }
   ],
   "source": [
    "oaa.columns=='none'"
   ]
  },
  {
   "cell_type": "code",
   "execution_count": null,
   "metadata": {
    "collapsed": true
   },
   "outputs": [],
   "source": []
  }
 ],
 "metadata": {
  "kernelspec": {
   "display_name": "Python 3",
   "language": "python",
   "name": "python3"
  },
  "language_info": {
   "codemirror_mode": {
    "name": "ipython",
    "version": 3
   },
   "file_extension": ".py",
   "mimetype": "text/x-python",
   "name": "python",
   "nbconvert_exporter": "python",
   "pygments_lexer": "ipython3",
   "version": "3.4.3"
  }
 },
 "nbformat": 4,
 "nbformat_minor": 0
}
