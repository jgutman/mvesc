{
 "cells": [
  {
   "cell_type": "code",
   "execution_count": 7,
   "metadata": {
    "collapsed": false
   },
   "outputs": [],
   "source": [
    "import os, sys\n",
    "pathname = os.path.dirname(sys.argv[0])\n",
    "full_pathname = os.path.abspath(pathname)\n",
    "split_pathname = full_pathname.split(sep=\"mvesc\")\n",
    "base_pathname = os.path.join(split_pathname[0], \"mvesc\")\n",
    "parentdir = os.path.join(base_pathname, \"ETL\")\n",
    "sys.path.insert(0,parentdir)\n",
    "from mvesc_utility_functions import *\n",
    "import numpy as np\n",
    "import pandas as pd\n",
    "import operator"
   ]
  },
  {
   "cell_type": "code",
   "execution_count": 6,
   "metadata": {
    "collapsed": false
   },
   "outputs": [],
   "source": [
    "sys.path.insert(0,'/home/xcheng/mvesc/ETL/')\n",
    "from mvesc_utility_functions import *"
   ]
  },
  {
   "cell_type": "code",
   "execution_count": 8,
   "metadata": {
    "collapsed": false
   },
   "outputs": [
    {
     "name": "stdout",
     "output_type": "stream",
     "text": [
      "ALTER TABLE model.oaa_normalized_test2 RENAME COLUMN third_math_percentile TO math_percentile_gr_3;\n",
      "            \n",
      "ALTER TABLE model.oaa_normalized_test2 RENAME COLUMN fifth_socstudies_percentile TO socstudies_percentile_gr_5;\n",
      "            \n",
      "ALTER TABLE model.oaa_normalized_test2 RENAME COLUMN seventh_math_percentile TO math_percentile_gr_7;\n",
      "            \n",
      "ALTER TABLE model.oaa_normalized_test2 RENAME COLUMN sixth_math_pl TO math_pl_gr_6;\n",
      "            \n",
      "ALTER TABLE model.oaa_normalized_test2 RENAME COLUMN eighth_science_normalized TO science_normalized_gr_8;\n",
      "            \n",
      "ALTER TABLE model.oaa_normalized_test2 RENAME COLUMN eighth_read_percentile TO read_percentile_gr_8;\n",
      "            \n",
      "ALTER TABLE model.oaa_normalized_test2 RENAME COLUMN fourth_math_normalized TO math_normalized_gr_4;\n",
      "            \n",
      "ALTER TABLE model.oaa_normalized_test2 RENAME COLUMN fifth_read_percentile TO read_percentile_gr_5;\n",
      "            \n",
      "ALTER TABLE model.oaa_normalized_test2 RENAME COLUMN eighth_read_pl TO read_pl_gr_8;\n",
      "            \n",
      "ALTER TABLE model.oaa_normalized_test2 RENAME COLUMN sixth_math_normalized TO math_normalized_gr_6;\n",
      "            \n",
      "ALTER TABLE model.oaa_normalized_test2 RENAME COLUMN fourth_read_percentile TO read_percentile_gr_4;\n",
      "            \n",
      "ALTER TABLE model.oaa_normalized_test2 RENAME COLUMN fifth_socstudies_pl TO socstudies_pl_gr_5;\n",
      "            \n",
      "ALTER TABLE model.oaa_normalized_test2 RENAME COLUMN eighth_math_normalized TO math_normalized_gr_8;\n",
      "            \n",
      "ALTER TABLE model.oaa_normalized_test2 RENAME COLUMN seventh_read_normalized TO read_normalized_gr_7;\n",
      "            \n",
      "ALTER TABLE model.oaa_normalized_test2 RENAME COLUMN fourth_read_normalized TO read_normalized_gr_4;\n",
      "            \n",
      "ALTER TABLE model.oaa_normalized_test2 RENAME COLUMN eighth_math_pl TO math_pl_gr_8;\n",
      "            \n",
      "ALTER TABLE model.oaa_normalized_test2 RENAME COLUMN eighth_science_percentile TO science_percentile_gr_8;\n",
      "            \n",
      "ALTER TABLE model.oaa_normalized_test2 RENAME COLUMN third_read_normalized TO read_normalized_gr_3;\n",
      "            \n",
      "ALTER TABLE model.oaa_normalized_test2 RENAME COLUMN fifth_science_pl TO science_pl_gr_5;\n",
      "            \n",
      "ALTER TABLE model.oaa_normalized_test2 RENAME COLUMN fourth_math_pl TO math_pl_gr_4;\n",
      "            \n",
      "ALTER TABLE model.oaa_normalized_test2 RENAME COLUMN sixth_read_normalized TO read_normalized_gr_6;\n",
      "            \n",
      "ALTER TABLE model.oaa_normalized_test2 RENAME COLUMN seventh_math_normalized TO math_normalized_gr_7;\n",
      "            \n",
      "ALTER TABLE model.oaa_normalized_test2 RENAME COLUMN third_math_pl TO math_pl_gr_3;\n",
      "            \n",
      "ALTER TABLE model.oaa_normalized_test2 RENAME COLUMN fourth_read_pl TO read_pl_gr_4;\n",
      "            \n",
      "ALTER TABLE model.oaa_normalized_test2 RENAME COLUMN third_math_normalized TO math_normalized_gr_3;\n",
      "            \n",
      "ALTER TABLE model.oaa_normalized_test2 RENAME COLUMN sixth_read_pl TO read_pl_gr_6;\n",
      "            \n",
      "ALTER TABLE model.oaa_normalized_test2 RENAME COLUMN eighth_science_pl TO science_pl_gr_8;\n",
      "            \n",
      "ALTER TABLE model.oaa_normalized_test2 RENAME COLUMN third_read_pl TO read_pl_gr_3;\n",
      "            \n",
      "ALTER TABLE model.oaa_normalized_test2 RENAME COLUMN sixth_math_percentile TO math_percentile_gr_6;\n",
      "            \n",
      "ALTER TABLE model.oaa_normalized_test2 RENAME COLUMN seventh_read_pl TO read_pl_gr_7;\n",
      "            \n",
      "ALTER TABLE model.oaa_normalized_test2 RENAME COLUMN fifth_science_percentile TO science_percentile_gr_5;\n",
      "            \n",
      "ALTER TABLE model.oaa_normalized_test2 RENAME COLUMN fifth_read_normalized TO read_normalized_gr_5;\n",
      "            \n",
      "ALTER TABLE model.oaa_normalized_test2 RENAME COLUMN seventh_math_pl TO math_pl_gr_7;\n",
      "            \n",
      "ALTER TABLE model.oaa_normalized_test2 RENAME COLUMN seventh_read_percentile TO read_percentile_gr_7;\n",
      "            \n",
      "ALTER TABLE model.oaa_normalized_test2 RENAME COLUMN eighth_math_percentile TO math_percentile_gr_8;\n",
      "            \n",
      "ALTER TABLE model.oaa_normalized_test2 RENAME COLUMN eighth_read_normalized TO read_normalized_gr_8;\n",
      "            \n",
      "ALTER TABLE model.oaa_normalized_test2 RENAME COLUMN fifth_math_pl TO math_pl_gr_5;\n",
      "            \n",
      "ALTER TABLE model.oaa_normalized_test2 RENAME COLUMN fifth_socstudies_normalized TO socstudies_normalized_gr_5;\n",
      "            \n",
      "ALTER TABLE model.oaa_normalized_test2 RENAME COLUMN third_read_percentile TO read_percentile_gr_3;\n",
      "            \n",
      "ALTER TABLE model.oaa_normalized_test2 RENAME COLUMN fifth_read_pl TO read_pl_gr_5;\n",
      "            \n",
      "ALTER TABLE model.oaa_normalized_test2 RENAME COLUMN fifth_science_normalized TO science_normalized_gr_5;\n",
      "            \n",
      "ALTER TABLE model.oaa_normalized_test2 RENAME COLUMN fifth_math_normalized TO math_normalized_gr_5;\n",
      "            \n",
      "ALTER TABLE model.oaa_normalized_test2 RENAME COLUMN sixth_read_percentile TO read_percentile_gr_6;\n",
      "            \n",
      "ALTER TABLE model.oaa_normalized_test2 RENAME COLUMN fourth_math_percentile TO math_percentile_gr_4;\n",
      "            \n",
      "ALTER TABLE model.oaa_normalized_test2 RENAME COLUMN fifth_math_percentile TO math_percentile_gr_5;\n",
      "            \n"
     ]
    }
   ],
   "source": [
    "table = 'oaa_normalized_test2'\n",
    "schema = 'model'\n",
    "def wordGrade_to_numGrade(column):\n",
    "    \"\"\" mapping from clumn name with word-number to numeric number, \n",
    "    e.g. third_read_ss->read_ss_gr_3\n",
    "    \n",
    "    :param str column: column name\n",
    "    :return str new_column: new column name\n",
    "    :rtype str\n",
    "    \"\"\"\n",
    "    grade = column.split('_')[0]\n",
    "    word2num = {'eighth':8, 'fifth':5, 'fourth':4, 'seventh':7, 'sixth':6, 'third':3}\n",
    "    if grade in word2num:\n",
    "        subject = column.split('_')[1:]\n",
    "        new_column = '_'.join(subject)+'_gr_'+str(word2num[grade])\n",
    "        return(new_column)\n",
    "    else:\n",
    "        return('')\n",
    "    \n",
    "with postgres_pgconnection_generator() as conn:\n",
    "    conn.autocommit = True\n",
    "    with conn.cursor() as cursor:\n",
    "        oaa  = read_table_to_df(conn, table_name=table, schema=schema)\n",
    "        columns = oaa.columns[1:]\n",
    "        dict_newcolumns = {c:wordGrade_to_numGrade(c) for c in columns}\n",
    "        for c in dict_newcolumns:\n",
    "            sqlcmd = \"\"\"ALTER TABLE {s}.{t} RENAME COLUMN {c} TO {nc};\n",
    "            \"\"\".format(s=schema, t=table, c=c, nc=dict_newcolumns[c])\n",
    "            #print(sqlcmd)\n",
    "            cursor.execute(sqlcmd)\n",
    "        conn.commit()"
   ]
  },
  {
   "cell_type": "code",
   "execution_count": 103,
   "metadata": {
    "collapsed": false
   },
   "outputs": [],
   "source": [
    "with postgres_pgconnection_generator() as conn:\n",
    "    conn.autocommit = True\n",
    "    with conn.cursor() as cursor:\n",
    "        oaa  = read_table_to_df(conn, table_name=table, schema=schema)"
   ]
  },
  {
   "cell_type": "code",
   "execution_count": 104,
   "metadata": {
    "collapsed": false
   },
   "outputs": [
    {
     "data": {
      "text/plain": [
       "{'math_normalized_gr_3': None,\n",
       " 'math_normalized_gr_4': None,\n",
       " 'math_normalized_gr_5': None,\n",
       " 'math_normalized_gr_6': None,\n",
       " 'math_normalized_gr_7': None,\n",
       " 'math_normalized_gr_8': None,\n",
       " 'math_percentile_gr_3': None,\n",
       " 'math_percentile_gr_4': None,\n",
       " 'math_percentile_gr_5': None,\n",
       " 'math_percentile_gr_6': None,\n",
       " 'math_percentile_gr_7': None,\n",
       " 'math_percentile_gr_8': None,\n",
       " 'math_pl_gr_3': None,\n",
       " 'math_pl_gr_4': None,\n",
       " 'math_pl_gr_5': None,\n",
       " 'math_pl_gr_6': None,\n",
       " 'math_pl_gr_7': None,\n",
       " 'math_pl_gr_8': None,\n",
       " 'none': None,\n",
       " 'read_normalized_gr_3': None,\n",
       " 'read_normalized_gr_4': None,\n",
       " 'read_normalized_gr_5': None,\n",
       " 'read_normalized_gr_6': None,\n",
       " 'read_normalized_gr_7': None,\n",
       " 'read_normalized_gr_8': None,\n",
       " 'read_percentile_gr_3': None,\n",
       " 'read_percentile_gr_4': None,\n",
       " 'read_percentile_gr_6': None,\n",
       " 'read_percentile_gr_7': None,\n",
       " 'read_percentile_gr_8': None,\n",
       " 'read_pl_gr_3': None,\n",
       " 'read_pl_gr_4': None,\n",
       " 'read_pl_gr_5': None,\n",
       " 'read_pl_gr_6': None,\n",
       " 'read_pl_gr_7': None,\n",
       " 'read_pl_gr_8': None,\n",
       " 'science_normalized_gr_5': None,\n",
       " 'science_normalized_gr_8': None,\n",
       " 'science_percentile_gr_5': None,\n",
       " 'science_percentile_gr_8': None,\n",
       " 'science_pl_gr_5': None,\n",
       " 'science_pl_gr_8': None,\n",
       " 'socstudies_normalized_gr_5': None,\n",
       " 'socstudies_percentile_gr_5': None,\n",
       " 'socstudies_pl_gr_5': None}"
      ]
     },
     "execution_count": 104,
     "metadata": {},
     "output_type": "execute_result"
    }
   ],
   "source": [
    "dict_newcolumns"
   ]
  },
  {
   "cell_type": "code",
   "execution_count": 105,
   "metadata": {
    "collapsed": false
   },
   "outputs": [
    {
     "data": {
      "text/plain": [
       "array([False, False, False, False, False, False, False, False, False,\n",
       "       False, False, False, False, False, False, False, False, False,\n",
       "       False, False, False, False, False, False, False, False, False,\n",
       "       False, False, False, False, False, False, False, False, False,\n",
       "       False, False, False, False, False, False, False, False, False, False], dtype=bool)"
      ]
     },
     "execution_count": 105,
     "metadata": {},
     "output_type": "execute_result"
    }
   ],
   "source": [
    "oaa.columns=='none'"
   ]
  },
  {
   "cell_type": "code",
   "execution_count": null,
   "metadata": {
    "collapsed": true
   },
   "outputs": [],
   "source": []
  }
 ],
 "metadata": {
  "kernelspec": {
   "display_name": "Python 3",
   "language": "python",
   "name": "python3"
  },
  "language_info": {
   "codemirror_mode": {
    "name": "ipython",
    "version": 3
   },
   "file_extension": ".py",
   "mimetype": "text/x-python",
   "name": "python",
   "nbconvert_exporter": "python",
   "pygments_lexer": "ipython3",
   "version": "3.4.3"
  }
 },
 "nbformat": 4,
 "nbformat_minor": 0
}
